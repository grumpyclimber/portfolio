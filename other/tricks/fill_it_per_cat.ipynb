{
 "cells": [
  {
   "cell_type": "code",
   "execution_count": 33,
   "id": "29327438",
   "metadata": {},
   "outputs": [],
   "source": [
    "import pandas as pd\n",
    "import numpy as np"
   ]
  },
  {
   "cell_type": "markdown",
   "id": "ae8cd07b",
   "metadata": {},
   "source": [
    "# Say we have a dataframe with lots of cars:\n",
    "(or other values you want) The data we have about each entry is the brand, price and power. Though we're missing some entries about power."
   ]
  },
  {
   "cell_type": "code",
   "execution_count": 34,
   "id": "9fae0da2",
   "metadata": {
    "scrolled": true
   },
   "outputs": [
    {
     "data": {
      "text/html": [
       "<div>\n",
       "<style scoped>\n",
       "    .dataframe tbody tr th:only-of-type {\n",
       "        vertical-align: middle;\n",
       "    }\n",
       "\n",
       "    .dataframe tbody tr th {\n",
       "        vertical-align: top;\n",
       "    }\n",
       "\n",
       "    .dataframe thead th {\n",
       "        text-align: right;\n",
       "    }\n",
       "</style>\n",
       "<table border=\"1\" class=\"dataframe\">\n",
       "  <thead>\n",
       "    <tr style=\"text-align: right;\">\n",
       "      <th></th>\n",
       "      <th>brand</th>\n",
       "      <th>price</th>\n",
       "      <th>power</th>\n",
       "    </tr>\n",
       "  </thead>\n",
       "  <tbody>\n",
       "    <tr>\n",
       "      <th>0</th>\n",
       "      <td>peugeot</td>\n",
       "      <td>5000.0</td>\n",
       "      <td>158</td>\n",
       "    </tr>\n",
       "    <tr>\n",
       "      <th>1</th>\n",
       "      <td>bmw</td>\n",
       "      <td>8500.0</td>\n",
       "      <td>286</td>\n",
       "    </tr>\n",
       "    <tr>\n",
       "      <th>2</th>\n",
       "      <td>volkswagen</td>\n",
       "      <td>8990.0</td>\n",
       "      <td>102</td>\n",
       "    </tr>\n",
       "    <tr>\n",
       "      <th>3</th>\n",
       "      <td>smart</td>\n",
       "      <td>4350.0</td>\n",
       "      <td>71</td>\n",
       "    </tr>\n",
       "    <tr>\n",
       "      <th>4</th>\n",
       "      <td>ford</td>\n",
       "      <td>1350.0</td>\n",
       "      <td>0</td>\n",
       "    </tr>\n",
       "    <tr>\n",
       "      <th>...</th>\n",
       "      <td>...</td>\n",
       "      <td>...</td>\n",
       "      <td>...</td>\n",
       "    </tr>\n",
       "    <tr>\n",
       "      <th>49995</th>\n",
       "      <td>audi</td>\n",
       "      <td>24900.0</td>\n",
       "      <td>239</td>\n",
       "    </tr>\n",
       "    <tr>\n",
       "      <th>49996</th>\n",
       "      <td>opel</td>\n",
       "      <td>1980.0</td>\n",
       "      <td>75</td>\n",
       "    </tr>\n",
       "    <tr>\n",
       "      <th>49997</th>\n",
       "      <td>fiat</td>\n",
       "      <td>13200.0</td>\n",
       "      <td>69</td>\n",
       "    </tr>\n",
       "    <tr>\n",
       "      <th>49998</th>\n",
       "      <td>audi</td>\n",
       "      <td>22900.0</td>\n",
       "      <td>150</td>\n",
       "    </tr>\n",
       "    <tr>\n",
       "      <th>49999</th>\n",
       "      <td>opel</td>\n",
       "      <td>1250.0</td>\n",
       "      <td>101</td>\n",
       "    </tr>\n",
       "  </tbody>\n",
       "</table>\n",
       "<p>43626 rows × 3 columns</p>\n",
       "</div>"
      ],
      "text/plain": [
       "            brand    price  power\n",
       "0         peugeot   5000.0    158\n",
       "1             bmw   8500.0    286\n",
       "2      volkswagen   8990.0    102\n",
       "3           smart   4350.0     71\n",
       "4            ford   1350.0      0\n",
       "...           ...      ...    ...\n",
       "49995        audi  24900.0    239\n",
       "49996        opel   1980.0     75\n",
       "49997        fiat  13200.0     69\n",
       "49998        audi  22900.0    150\n",
       "49999        opel   1250.0    101\n",
       "\n",
       "[43626 rows x 3 columns]"
      ]
     },
     "execution_count": 34,
     "metadata": {},
     "output_type": "execute_result"
    }
   ],
   "source": [
    "autos = pd.read_csv('ebay_cars_power.csv',index_col=0)\n",
    "autos"
   ]
  },
  {
   "cell_type": "code",
   "execution_count": 35,
   "id": "924ac459",
   "metadata": {},
   "outputs": [
    {
     "data": {
      "text/plain": [
       "3623"
      ]
     },
     "execution_count": 35,
     "metadata": {},
     "output_type": "execute_result"
    }
   ],
   "source": [
    "len(autos[autos['power']==0])"
   ]
  },
  {
   "cell_type": "markdown",
   "id": "7f59633d",
   "metadata": {},
   "source": [
    "The dataset has 43626 rows and 3623 rows are missing the power value. We can fill the missing entries using the average power value for the whole dataset... But we know that an average Fiat or Smart won't have the same amount of power as the average Porsche or Mercedes. It's better to fill in the missing values with average power values for their brand."
   ]
  },
  {
   "cell_type": "markdown",
   "id": "266830f5",
   "metadata": {},
   "source": [
    "# Sidenote: average power, before we mingle with power"
   ]
  },
  {
   "cell_type": "code",
   "execution_count": 36,
   "id": "11ae4d18",
   "metadata": {},
   "outputs": [
    {
     "data": {
      "text/plain": [
       "118.82900105441709"
      ]
     },
     "execution_count": 36,
     "metadata": {},
     "output_type": "execute_result"
    }
   ],
   "source": [
    "autos['power'].mean()"
   ]
  },
  {
   "cell_type": "markdown",
   "id": "59b6b748",
   "metadata": {},
   "source": [
    "# Solution\n",
    "Lets create a list of all the brands, then loop over it."
   ]
  },
  {
   "cell_type": "code",
   "execution_count": 37,
   "id": "41dc08eb",
   "metadata": {},
   "outputs": [],
   "source": [
    "# Create a list of all the brands:\n",
    "brand_names =  autos[\"brand\"].unique()\n",
    "# Loop over every brand in the list:\n",
    "for car in brand_names:\n",
    "    # For every unique brand: create a mask  & calculate an average power\n",
    "    mask_car = (autos['power'] == 0) & (autos['brand'] == car)\n",
    "    mean_power = autos[(autos['brand'] == car) & (autos['power'] != 0)]['power'].mean()\n",
    "    # Apply the mask:\n",
    "    autos['power'] = autos['power'].mask(mask_car, mean_power)"
   ]
  },
  {
   "cell_type": "code",
   "execution_count": 38,
   "id": "7a40d4ba",
   "metadata": {},
   "outputs": [
    {
     "data": {
      "text/plain": [
       "0"
      ]
     },
     "execution_count": 38,
     "metadata": {},
     "output_type": "execute_result"
    }
   ],
   "source": [
    "len(autos[autos['power']==0])"
   ]
  },
  {
   "cell_type": "markdown",
   "id": "d9e4e0fd",
   "metadata": {},
   "source": [
    "# Obviously the power average for the whole dataset went up:"
   ]
  },
  {
   "cell_type": "code",
   "execution_count": 39,
   "id": "4b9fa601",
   "metadata": {},
   "outputs": [
    {
     "data": {
      "text/plain": [
       "129.15194458438143"
      ]
     },
     "execution_count": 39,
     "metadata": {},
     "output_type": "execute_result"
    }
   ],
   "source": [
    "autos['power'].mean()"
   ]
  },
  {
   "cell_type": "markdown",
   "id": "735b7254",
   "metadata": {},
   "source": [
    "# Voila\n",
    "Now you can do the same with any categories and values to fill."
   ]
  }
 ],
 "metadata": {
  "kernelspec": {
   "display_name": "Python 3 (ipykernel)",
   "language": "python",
   "name": "python3"
  },
  "language_info": {
   "codemirror_mode": {
    "name": "ipython",
    "version": 3
   },
   "file_extension": ".py",
   "mimetype": "text/x-python",
   "name": "python",
   "nbconvert_exporter": "python",
   "pygments_lexer": "ipython3",
   "version": "3.8.2"
  }
 },
 "nbformat": 4,
 "nbformat_minor": 5
}
