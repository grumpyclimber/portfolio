{
 "cells": [
  {
   "cell_type": "markdown",
   "id": "996a644c",
   "metadata": {
    "papermill": {
     "duration": 0.040746,
     "end_time": "2021-12-20T04:36:32.271447",
     "exception": false,
     "start_time": "2021-12-20T04:36:32.230701",
     "status": "completed"
    },
    "tags": []
   },
   "source": [
    "AICD provides membership lounges across the capitals in Australia. Members of AICD can visit these for meetings or for work. In the below presentation we'll analyze how members from different cities and industries visit AICD lounges. We'll also look for patterns based on members occupation and check if their companies office location and its distance to the local lounge has any influence on their behavior. \n",
    "\n",
    "<a id='index'></a>\n",
    "\n",
    "# Inital analysis"
   ]
  },
  {
   "cell_type": "code",
   "execution_count": 1,
   "id": "0ef60b2e",
   "metadata": {
    "_cell_guid": "b1076dfc-b9ad-4769-8c92-a6c4dae69d19",
    "_uuid": "8f2839f25d086af736a60e9eeb907d3b93b6e0e5",
    "execution": {
     "iopub.execute_input": "2021-12-20T04:36:32.352580Z",
     "iopub.status.busy": "2021-12-20T04:36:32.351336Z",
     "iopub.status.idle": "2021-12-20T04:36:34.782293Z",
     "shell.execute_reply": "2021-12-20T04:36:34.781561Z",
     "shell.execute_reply.started": "2021-12-20T04:33:40.609781Z"
    },
    "jupyter": {
     "source_hidden": true
    },
    "papermill": {
     "duration": 2.47232,
     "end_time": "2021-12-20T04:36:34.782475",
     "exception": false,
     "start_time": "2021-12-20T04:36:32.310155",
     "status": "completed"
    }
   },
   "outputs": [
    {
     "data": {
      "text/html": [
       "        <script type=\"text/javascript\">\n",
       "        window.PlotlyConfig = {MathJaxConfig: 'local'};\n",
       "        if (window.MathJax) {MathJax.Hub.Config({SVG: {font: \"STIX-Web\"}});}\n",
       "        if (typeof require !== 'undefined') {\n",
       "        require.undef(\"plotly\");\n",
       "        requirejs.config({\n",
       "            paths: {\n",
       "                'plotly': ['https://cdn.plot.ly/plotly-2.4.2.min']\n",
       "            }\n",
       "        });\n",
       "        require(['plotly'], function(Plotly) {\n",
       "            window._Plotly = Plotly;\n",
       "        });\n",
       "        }\n",
       "        </script>\n",
       "        "
      ]
     },
     "metadata": {},
     "output_type": "display_data"
    }
   ],
   "source": [
    "import numpy as np \n",
    "import pandas as pd \n",
    "import geopy.distance\n",
    "import matplotlib.pyplot as plt\n",
    "# import plotly\n",
    "import seaborn as sns\n",
    "import plotly.express as px\n",
    "from plotly.subplots import make_subplots\n",
    "from plotly.offline import plot, iplot, init_notebook_mode\n",
    "import plotly.graph_objs as go\n",
    "init_notebook_mode(connected=True)\n",
    "\n",
    "df = pd.read_csv('members.csv')\n",
    "\n",
    "# remove nulls and change negative avg_time to 'abs' int\n",
    "df = df[~df['avg_dwell_time_in_min'].isnull()]\n",
    "df['avg_dwell_time_in_min'] = abs(df['avg_dwell_time_in_min'])\n",
    "\n",
    "# create a column with combined coordinates, and total_visits column: \n",
    "df['cords'] = tuple(zip(df['longitude'], df['latitude']))\n",
    "df['total_visits'] = df['visits_sydney'] + df['visits_melbourne'] + df['visits_perth']\n",
    "\n",
    "# remove total_visits nulls:\n",
    "df = df[~(df['total_visits'] == 0) & ~(df['avg_dwell_time_in_min'] == 0)]"
   ]
  },
  {
   "cell_type": "code",
   "execution_count": 2,
   "id": "e622335b",
   "metadata": {
    "execution": {
     "iopub.execute_input": "2021-12-20T04:36:36.313315Z",
     "iopub.status.busy": "2021-12-20T04:36:36.312599Z",
     "iopub.status.idle": "2021-12-20T04:36:36.374022Z",
     "shell.execute_reply": "2021-12-20T04:36:36.374533Z",
     "shell.execute_reply.started": "2021-12-20T04:33:44.708234Z"
    },
    "jupyter": {
     "source_hidden": true
    },
    "papermill": {
     "duration": 0.141239,
     "end_time": "2021-12-20T04:36:36.374702",
     "exception": false,
     "start_time": "2021-12-20T04:36:36.233463",
     "status": "completed"
    },
    "tags": []
   },
   "outputs": [
    {
     "data": {
      "application/vnd.plotly.v1+json": {
       "config": {
        "plotlyServerURL": "https://plot.ly"
       },
       "data": [
        {
         "domain": {
          "x": [
           0,
           0.45
          ],
          "y": [
           0,
           1
          ]
         },
         "labels": [
          "CEO",
          "Chair",
          "Exec Director",
          "Non-Exec Director"
         ],
         "legendgroup": "1",
         "marker": {
          "colors": [
           "#AB63FA",
           "#FFA15A",
           "#19D3F3",
           "#FF6692"
          ]
         },
         "textinfo": "label+percent",
         "type": "pie",
         "values": [
          1556,
          786,
          906,
          1036
         ]
        },
        {
         "domain": {
          "x": [
           0.55,
           1
          ],
          "y": [
           0,
           1
          ]
         },
         "labels": [
          "Melbourne",
          "Perth",
          "Sydney"
         ],
         "legendgroup": "2",
         "textinfo": "label+percent",
         "type": "pie",
         "values": [
          1354,
          1034,
          1896
         ]
        }
       ],
       "layout": {
        "annotations": [
         {
          "font": {
           "size": 16
          },
          "showarrow": false,
          "text": "Members job roles",
          "x": 0.225,
          "xanchor": "center",
          "xref": "paper",
          "y": 1,
          "yanchor": "bottom",
          "yref": "paper"
         },
         {
          "font": {
           "size": 16
          },
          "showarrow": false,
          "text": "Members HQ locations",
          "x": 0.775,
          "xanchor": "center",
          "xref": "paper",
          "y": 1,
          "yanchor": "bottom",
          "yref": "paper"
         }
        ],
        "legend": {
         "tracegroupgap": 80
        },
        "template": {
         "data": {
          "bar": [
           {
            "error_x": {
             "color": "#2a3f5f"
            },
            "error_y": {
             "color": "#2a3f5f"
            },
            "marker": {
             "line": {
              "color": "#E5ECF6",
              "width": 0.5
             },
             "pattern": {
              "fillmode": "overlay",
              "size": 10,
              "solidity": 0.2
             }
            },
            "type": "bar"
           }
          ],
          "barpolar": [
           {
            "marker": {
             "line": {
              "color": "#E5ECF6",
              "width": 0.5
             },
             "pattern": {
              "fillmode": "overlay",
              "size": 10,
              "solidity": 0.2
             }
            },
            "type": "barpolar"
           }
          ],
          "carpet": [
           {
            "aaxis": {
             "endlinecolor": "#2a3f5f",
             "gridcolor": "white",
             "linecolor": "white",
             "minorgridcolor": "white",
             "startlinecolor": "#2a3f5f"
            },
            "baxis": {
             "endlinecolor": "#2a3f5f",
             "gridcolor": "white",
             "linecolor": "white",
             "minorgridcolor": "white",
             "startlinecolor": "#2a3f5f"
            },
            "type": "carpet"
           }
          ],
          "choropleth": [
           {
            "colorbar": {
             "outlinewidth": 0,
             "ticks": ""
            },
            "type": "choropleth"
           }
          ],
          "contour": [
           {
            "colorbar": {
             "outlinewidth": 0,
             "ticks": ""
            },
            "colorscale": [
             [
              0,
              "#0d0887"
             ],
             [
              0.1111111111111111,
              "#46039f"
             ],
             [
              0.2222222222222222,
              "#7201a8"
             ],
             [
              0.3333333333333333,
              "#9c179e"
             ],
             [
              0.4444444444444444,
              "#bd3786"
             ],
             [
              0.5555555555555556,
              "#d8576b"
             ],
             [
              0.6666666666666666,
              "#ed7953"
             ],
             [
              0.7777777777777778,
              "#fb9f3a"
             ],
             [
              0.8888888888888888,
              "#fdca26"
             ],
             [
              1,
              "#f0f921"
             ]
            ],
            "type": "contour"
           }
          ],
          "contourcarpet": [
           {
            "colorbar": {
             "outlinewidth": 0,
             "ticks": ""
            },
            "type": "contourcarpet"
           }
          ],
          "heatmap": [
           {
            "colorbar": {
             "outlinewidth": 0,
             "ticks": ""
            },
            "colorscale": [
             [
              0,
              "#0d0887"
             ],
             [
              0.1111111111111111,
              "#46039f"
             ],
             [
              0.2222222222222222,
              "#7201a8"
             ],
             [
              0.3333333333333333,
              "#9c179e"
             ],
             [
              0.4444444444444444,
              "#bd3786"
             ],
             [
              0.5555555555555556,
              "#d8576b"
             ],
             [
              0.6666666666666666,
              "#ed7953"
             ],
             [
              0.7777777777777778,
              "#fb9f3a"
             ],
             [
              0.8888888888888888,
              "#fdca26"
             ],
             [
              1,
              "#f0f921"
             ]
            ],
            "type": "heatmap"
           }
          ],
          "heatmapgl": [
           {
            "colorbar": {
             "outlinewidth": 0,
             "ticks": ""
            },
            "colorscale": [
             [
              0,
              "#0d0887"
             ],
             [
              0.1111111111111111,
              "#46039f"
             ],
             [
              0.2222222222222222,
              "#7201a8"
             ],
             [
              0.3333333333333333,
              "#9c179e"
             ],
             [
              0.4444444444444444,
              "#bd3786"
             ],
             [
              0.5555555555555556,
              "#d8576b"
             ],
             [
              0.6666666666666666,
              "#ed7953"
             ],
             [
              0.7777777777777778,
              "#fb9f3a"
             ],
             [
              0.8888888888888888,
              "#fdca26"
             ],
             [
              1,
              "#f0f921"
             ]
            ],
            "type": "heatmapgl"
           }
          ],
          "histogram": [
           {
            "marker": {
             "pattern": {
              "fillmode": "overlay",
              "size": 10,
              "solidity": 0.2
             }
            },
            "type": "histogram"
           }
          ],
          "histogram2d": [
           {
            "colorbar": {
             "outlinewidth": 0,
             "ticks": ""
            },
            "colorscale": [
             [
              0,
              "#0d0887"
             ],
             [
              0.1111111111111111,
              "#46039f"
             ],
             [
              0.2222222222222222,
              "#7201a8"
             ],
             [
              0.3333333333333333,
              "#9c179e"
             ],
             [
              0.4444444444444444,
              "#bd3786"
             ],
             [
              0.5555555555555556,
              "#d8576b"
             ],
             [
              0.6666666666666666,
              "#ed7953"
             ],
             [
              0.7777777777777778,
              "#fb9f3a"
             ],
             [
              0.8888888888888888,
              "#fdca26"
             ],
             [
              1,
              "#f0f921"
             ]
            ],
            "type": "histogram2d"
           }
          ],
          "histogram2dcontour": [
           {
            "colorbar": {
             "outlinewidth": 0,
             "ticks": ""
            },
            "colorscale": [
             [
              0,
              "#0d0887"
             ],
             [
              0.1111111111111111,
              "#46039f"
             ],
             [
              0.2222222222222222,
              "#7201a8"
             ],
             [
              0.3333333333333333,
              "#9c179e"
             ],
             [
              0.4444444444444444,
              "#bd3786"
             ],
             [
              0.5555555555555556,
              "#d8576b"
             ],
             [
              0.6666666666666666,
              "#ed7953"
             ],
             [
              0.7777777777777778,
              "#fb9f3a"
             ],
             [
              0.8888888888888888,
              "#fdca26"
             ],
             [
              1,
              "#f0f921"
             ]
            ],
            "type": "histogram2dcontour"
           }
          ],
          "mesh3d": [
           {
            "colorbar": {
             "outlinewidth": 0,
             "ticks": ""
            },
            "type": "mesh3d"
           }
          ],
          "parcoords": [
           {
            "line": {
             "colorbar": {
              "outlinewidth": 0,
              "ticks": ""
             }
            },
            "type": "parcoords"
           }
          ],
          "pie": [
           {
            "automargin": true,
            "type": "pie"
           }
          ],
          "scatter": [
           {
            "marker": {
             "colorbar": {
              "outlinewidth": 0,
              "ticks": ""
             }
            },
            "type": "scatter"
           }
          ],
          "scatter3d": [
           {
            "line": {
             "colorbar": {
              "outlinewidth": 0,
              "ticks": ""
             }
            },
            "marker": {
             "colorbar": {
              "outlinewidth": 0,
              "ticks": ""
             }
            },
            "type": "scatter3d"
           }
          ],
          "scattercarpet": [
           {
            "marker": {
             "colorbar": {
              "outlinewidth": 0,
              "ticks": ""
             }
            },
            "type": "scattercarpet"
           }
          ],
          "scattergeo": [
           {
            "marker": {
             "colorbar": {
              "outlinewidth": 0,
              "ticks": ""
             }
            },
            "type": "scattergeo"
           }
          ],
          "scattergl": [
           {
            "marker": {
             "colorbar": {
              "outlinewidth": 0,
              "ticks": ""
             }
            },
            "type": "scattergl"
           }
          ],
          "scattermapbox": [
           {
            "marker": {
             "colorbar": {
              "outlinewidth": 0,
              "ticks": ""
             }
            },
            "type": "scattermapbox"
           }
          ],
          "scatterpolar": [
           {
            "marker": {
             "colorbar": {
              "outlinewidth": 0,
              "ticks": ""
             }
            },
            "type": "scatterpolar"
           }
          ],
          "scatterpolargl": [
           {
            "marker": {
             "colorbar": {
              "outlinewidth": 0,
              "ticks": ""
             }
            },
            "type": "scatterpolargl"
           }
          ],
          "scatterternary": [
           {
            "marker": {
             "colorbar": {
              "outlinewidth": 0,
              "ticks": ""
             }
            },
            "type": "scatterternary"
           }
          ],
          "surface": [
           {
            "colorbar": {
             "outlinewidth": 0,
             "ticks": ""
            },
            "colorscale": [
             [
              0,
              "#0d0887"
             ],
             [
              0.1111111111111111,
              "#46039f"
             ],
             [
              0.2222222222222222,
              "#7201a8"
             ],
             [
              0.3333333333333333,
              "#9c179e"
             ],
             [
              0.4444444444444444,
              "#bd3786"
             ],
             [
              0.5555555555555556,
              "#d8576b"
             ],
             [
              0.6666666666666666,
              "#ed7953"
             ],
             [
              0.7777777777777778,
              "#fb9f3a"
             ],
             [
              0.8888888888888888,
              "#fdca26"
             ],
             [
              1,
              "#f0f921"
             ]
            ],
            "type": "surface"
           }
          ],
          "table": [
           {
            "cells": {
             "fill": {
              "color": "#EBF0F8"
             },
             "line": {
              "color": "white"
             }
            },
            "header": {
             "fill": {
              "color": "#C8D4E3"
             },
             "line": {
              "color": "white"
             }
            },
            "type": "table"
           }
          ]
         },
         "layout": {
          "annotationdefaults": {
           "arrowcolor": "#2a3f5f",
           "arrowhead": 0,
           "arrowwidth": 1
          },
          "autotypenumbers": "strict",
          "coloraxis": {
           "colorbar": {
            "outlinewidth": 0,
            "ticks": ""
           }
          },
          "colorscale": {
           "diverging": [
            [
             0,
             "#8e0152"
            ],
            [
             0.1,
             "#c51b7d"
            ],
            [
             0.2,
             "#de77ae"
            ],
            [
             0.3,
             "#f1b6da"
            ],
            [
             0.4,
             "#fde0ef"
            ],
            [
             0.5,
             "#f7f7f7"
            ],
            [
             0.6,
             "#e6f5d0"
            ],
            [
             0.7,
             "#b8e186"
            ],
            [
             0.8,
             "#7fbc41"
            ],
            [
             0.9,
             "#4d9221"
            ],
            [
             1,
             "#276419"
            ]
           ],
           "sequential": [
            [
             0,
             "#0d0887"
            ],
            [
             0.1111111111111111,
             "#46039f"
            ],
            [
             0.2222222222222222,
             "#7201a8"
            ],
            [
             0.3333333333333333,
             "#9c179e"
            ],
            [
             0.4444444444444444,
             "#bd3786"
            ],
            [
             0.5555555555555556,
             "#d8576b"
            ],
            [
             0.6666666666666666,
             "#ed7953"
            ],
            [
             0.7777777777777778,
             "#fb9f3a"
            ],
            [
             0.8888888888888888,
             "#fdca26"
            ],
            [
             1,
             "#f0f921"
            ]
           ],
           "sequentialminus": [
            [
             0,
             "#0d0887"
            ],
            [
             0.1111111111111111,
             "#46039f"
            ],
            [
             0.2222222222222222,
             "#7201a8"
            ],
            [
             0.3333333333333333,
             "#9c179e"
            ],
            [
             0.4444444444444444,
             "#bd3786"
            ],
            [
             0.5555555555555556,
             "#d8576b"
            ],
            [
             0.6666666666666666,
             "#ed7953"
            ],
            [
             0.7777777777777778,
             "#fb9f3a"
            ],
            [
             0.8888888888888888,
             "#fdca26"
            ],
            [
             1,
             "#f0f921"
            ]
           ]
          },
          "colorway": [
           "#636efa",
           "#EF553B",
           "#00cc96",
           "#ab63fa",
           "#FFA15A",
           "#19d3f3",
           "#FF6692",
           "#B6E880",
           "#FF97FF",
           "#FECB52"
          ],
          "font": {
           "color": "#2a3f5f"
          },
          "geo": {
           "bgcolor": "white",
           "lakecolor": "white",
           "landcolor": "#E5ECF6",
           "showlakes": true,
           "showland": true,
           "subunitcolor": "white"
          },
          "hoverlabel": {
           "align": "left"
          },
          "hovermode": "closest",
          "mapbox": {
           "style": "light"
          },
          "paper_bgcolor": "white",
          "plot_bgcolor": "#E5ECF6",
          "polar": {
           "angularaxis": {
            "gridcolor": "white",
            "linecolor": "white",
            "ticks": ""
           },
           "bgcolor": "#E5ECF6",
           "radialaxis": {
            "gridcolor": "white",
            "linecolor": "white",
            "ticks": ""
           }
          },
          "scene": {
           "xaxis": {
            "backgroundcolor": "#E5ECF6",
            "gridcolor": "white",
            "gridwidth": 2,
            "linecolor": "white",
            "showbackground": true,
            "ticks": "",
            "zerolinecolor": "white"
           },
           "yaxis": {
            "backgroundcolor": "#E5ECF6",
            "gridcolor": "white",
            "gridwidth": 2,
            "linecolor": "white",
            "showbackground": true,
            "ticks": "",
            "zerolinecolor": "white"
           },
           "zaxis": {
            "backgroundcolor": "#E5ECF6",
            "gridcolor": "white",
            "gridwidth": 2,
            "linecolor": "white",
            "showbackground": true,
            "ticks": "",
            "zerolinecolor": "white"
           }
          },
          "shapedefaults": {
           "line": {
            "color": "#2a3f5f"
           }
          },
          "ternary": {
           "aaxis": {
            "gridcolor": "white",
            "linecolor": "white",
            "ticks": ""
           },
           "baxis": {
            "gridcolor": "white",
            "linecolor": "white",
            "ticks": ""
           },
           "bgcolor": "#E5ECF6",
           "caxis": {
            "gridcolor": "white",
            "linecolor": "white",
            "ticks": ""
           }
          },
          "title": {
           "x": 0.05
          },
          "xaxis": {
           "automargin": true,
           "gridcolor": "white",
           "linecolor": "white",
           "ticks": "",
           "title": {
            "standoff": 15
           },
           "zerolinecolor": "white",
           "zerolinewidth": 2
          },
          "yaxis": {
           "automargin": true,
           "gridcolor": "white",
           "linecolor": "white",
           "ticks": "",
           "title": {
            "standoff": 15
           },
           "zerolinecolor": "white",
           "zerolinewidth": 2
          }
         }
        },
        "title": {
         "text": "Plot 3: Member numbers by role and their headquarters location"
        }
       }
      },
      "text/html": [
       "<div>                            <div id=\"0d5fe286-fa67-40fe-8d97-1bfeadebd058\" class=\"plotly-graph-div\" style=\"height:525px; width:100%;\"></div>            <script type=\"text/javascript\">                require([\"plotly\"], function(Plotly) {                    window.PLOTLYENV=window.PLOTLYENV || {};                                    if (document.getElementById(\"0d5fe286-fa67-40fe-8d97-1bfeadebd058\")) {                    Plotly.newPlot(                        \"0d5fe286-fa67-40fe-8d97-1bfeadebd058\",                        [{\"domain\":{\"x\":[0.0,0.45],\"y\":[0.0,1.0]},\"labels\":[\"CEO\",\"Chair\",\"Exec Director\",\"Non-Exec Director\"],\"legendgroup\":\"1\",\"marker\":{\"colors\":[\"#AB63FA\",\"#FFA15A\",\"#19D3F3\",\"#FF6692\"]},\"textinfo\":\"label+percent\",\"type\":\"pie\",\"values\":[1556,786,906,1036]},{\"domain\":{\"x\":[0.55,1.0],\"y\":[0.0,1.0]},\"labels\":[\"Melbourne\",\"Perth\",\"Sydney\"],\"legendgroup\":\"2\",\"textinfo\":\"label+percent\",\"type\":\"pie\",\"values\":[1354,1034,1896]}],                        {\"annotations\":[{\"font\":{\"size\":16},\"showarrow\":false,\"text\":\"Members job roles\",\"x\":0.225,\"xanchor\":\"center\",\"xref\":\"paper\",\"y\":1.0,\"yanchor\":\"bottom\",\"yref\":\"paper\"},{\"font\":{\"size\":16},\"showarrow\":false,\"text\":\"Members HQ locations\",\"x\":0.775,\"xanchor\":\"center\",\"xref\":\"paper\",\"y\":1.0,\"yanchor\":\"bottom\",\"yref\":\"paper\"}],\"legend\":{\"tracegroupgap\":80},\"template\":{\"data\":{\"bar\":[{\"error_x\":{\"color\":\"#2a3f5f\"},\"error_y\":{\"color\":\"#2a3f5f\"},\"marker\":{\"line\":{\"color\":\"#E5ECF6\",\"width\":0.5},\"pattern\":{\"fillmode\":\"overlay\",\"size\":10,\"solidity\":0.2}},\"type\":\"bar\"}],\"barpolar\":[{\"marker\":{\"line\":{\"color\":\"#E5ECF6\",\"width\":0.5},\"pattern\":{\"fillmode\":\"overlay\",\"size\":10,\"solidity\":0.2}},\"type\":\"barpolar\"}],\"carpet\":[{\"aaxis\":{\"endlinecolor\":\"#2a3f5f\",\"gridcolor\":\"white\",\"linecolor\":\"white\",\"minorgridcolor\":\"white\",\"startlinecolor\":\"#2a3f5f\"},\"baxis\":{\"endlinecolor\":\"#2a3f5f\",\"gridcolor\":\"white\",\"linecolor\":\"white\",\"minorgridcolor\":\"white\",\"startlinecolor\":\"#2a3f5f\"},\"type\":\"carpet\"}],\"choropleth\":[{\"colorbar\":{\"outlinewidth\":0,\"ticks\":\"\"},\"type\":\"choropleth\"}],\"contour\":[{\"colorbar\":{\"outlinewidth\":0,\"ticks\":\"\"},\"colorscale\":[[0.0,\"#0d0887\"],[0.1111111111111111,\"#46039f\"],[0.2222222222222222,\"#7201a8\"],[0.3333333333333333,\"#9c179e\"],[0.4444444444444444,\"#bd3786\"],[0.5555555555555556,\"#d8576b\"],[0.6666666666666666,\"#ed7953\"],[0.7777777777777778,\"#fb9f3a\"],[0.8888888888888888,\"#fdca26\"],[1.0,\"#f0f921\"]],\"type\":\"contour\"}],\"contourcarpet\":[{\"colorbar\":{\"outlinewidth\":0,\"ticks\":\"\"},\"type\":\"contourcarpet\"}],\"heatmap\":[{\"colorbar\":{\"outlinewidth\":0,\"ticks\":\"\"},\"colorscale\":[[0.0,\"#0d0887\"],[0.1111111111111111,\"#46039f\"],[0.2222222222222222,\"#7201a8\"],[0.3333333333333333,\"#9c179e\"],[0.4444444444444444,\"#bd3786\"],[0.5555555555555556,\"#d8576b\"],[0.6666666666666666,\"#ed7953\"],[0.7777777777777778,\"#fb9f3a\"],[0.8888888888888888,\"#fdca26\"],[1.0,\"#f0f921\"]],\"type\":\"heatmap\"}],\"heatmapgl\":[{\"colorbar\":{\"outlinewidth\":0,\"ticks\":\"\"},\"colorscale\":[[0.0,\"#0d0887\"],[0.1111111111111111,\"#46039f\"],[0.2222222222222222,\"#7201a8\"],[0.3333333333333333,\"#9c179e\"],[0.4444444444444444,\"#bd3786\"],[0.5555555555555556,\"#d8576b\"],[0.6666666666666666,\"#ed7953\"],[0.7777777777777778,\"#fb9f3a\"],[0.8888888888888888,\"#fdca26\"],[1.0,\"#f0f921\"]],\"type\":\"heatmapgl\"}],\"histogram\":[{\"marker\":{\"pattern\":{\"fillmode\":\"overlay\",\"size\":10,\"solidity\":0.2}},\"type\":\"histogram\"}],\"histogram2d\":[{\"colorbar\":{\"outlinewidth\":0,\"ticks\":\"\"},\"colorscale\":[[0.0,\"#0d0887\"],[0.1111111111111111,\"#46039f\"],[0.2222222222222222,\"#7201a8\"],[0.3333333333333333,\"#9c179e\"],[0.4444444444444444,\"#bd3786\"],[0.5555555555555556,\"#d8576b\"],[0.6666666666666666,\"#ed7953\"],[0.7777777777777778,\"#fb9f3a\"],[0.8888888888888888,\"#fdca26\"],[1.0,\"#f0f921\"]],\"type\":\"histogram2d\"}],\"histogram2dcontour\":[{\"colorbar\":{\"outlinewidth\":0,\"ticks\":\"\"},\"colorscale\":[[0.0,\"#0d0887\"],[0.1111111111111111,\"#46039f\"],[0.2222222222222222,\"#7201a8\"],[0.3333333333333333,\"#9c179e\"],[0.4444444444444444,\"#bd3786\"],[0.5555555555555556,\"#d8576b\"],[0.6666666666666666,\"#ed7953\"],[0.7777777777777778,\"#fb9f3a\"],[0.8888888888888888,\"#fdca26\"],[1.0,\"#f0f921\"]],\"type\":\"histogram2dcontour\"}],\"mesh3d\":[{\"colorbar\":{\"outlinewidth\":0,\"ticks\":\"\"},\"type\":\"mesh3d\"}],\"parcoords\":[{\"line\":{\"colorbar\":{\"outlinewidth\":0,\"ticks\":\"\"}},\"type\":\"parcoords\"}],\"pie\":[{\"automargin\":true,\"type\":\"pie\"}],\"scatter\":[{\"marker\":{\"colorbar\":{\"outlinewidth\":0,\"ticks\":\"\"}},\"type\":\"scatter\"}],\"scatter3d\":[{\"line\":{\"colorbar\":{\"outlinewidth\":0,\"ticks\":\"\"}},\"marker\":{\"colorbar\":{\"outlinewidth\":0,\"ticks\":\"\"}},\"type\":\"scatter3d\"}],\"scattercarpet\":[{\"marker\":{\"colorbar\":{\"outlinewidth\":0,\"ticks\":\"\"}},\"type\":\"scattercarpet\"}],\"scattergeo\":[{\"marker\":{\"colorbar\":{\"outlinewidth\":0,\"ticks\":\"\"}},\"type\":\"scattergeo\"}],\"scattergl\":[{\"marker\":{\"colorbar\":{\"outlinewidth\":0,\"ticks\":\"\"}},\"type\":\"scattergl\"}],\"scattermapbox\":[{\"marker\":{\"colorbar\":{\"outlinewidth\":0,\"ticks\":\"\"}},\"type\":\"scattermapbox\"}],\"scatterpolar\":[{\"marker\":{\"colorbar\":{\"outlinewidth\":0,\"ticks\":\"\"}},\"type\":\"scatterpolar\"}],\"scatterpolargl\":[{\"marker\":{\"colorbar\":{\"outlinewidth\":0,\"ticks\":\"\"}},\"type\":\"scatterpolargl\"}],\"scatterternary\":[{\"marker\":{\"colorbar\":{\"outlinewidth\":0,\"ticks\":\"\"}},\"type\":\"scatterternary\"}],\"surface\":[{\"colorbar\":{\"outlinewidth\":0,\"ticks\":\"\"},\"colorscale\":[[0.0,\"#0d0887\"],[0.1111111111111111,\"#46039f\"],[0.2222222222222222,\"#7201a8\"],[0.3333333333333333,\"#9c179e\"],[0.4444444444444444,\"#bd3786\"],[0.5555555555555556,\"#d8576b\"],[0.6666666666666666,\"#ed7953\"],[0.7777777777777778,\"#fb9f3a\"],[0.8888888888888888,\"#fdca26\"],[1.0,\"#f0f921\"]],\"type\":\"surface\"}],\"table\":[{\"cells\":{\"fill\":{\"color\":\"#EBF0F8\"},\"line\":{\"color\":\"white\"}},\"header\":{\"fill\":{\"color\":\"#C8D4E3\"},\"line\":{\"color\":\"white\"}},\"type\":\"table\"}]},\"layout\":{\"annotationdefaults\":{\"arrowcolor\":\"#2a3f5f\",\"arrowhead\":0,\"arrowwidth\":1},\"autotypenumbers\":\"strict\",\"coloraxis\":{\"colorbar\":{\"outlinewidth\":0,\"ticks\":\"\"}},\"colorscale\":{\"diverging\":[[0,\"#8e0152\"],[0.1,\"#c51b7d\"],[0.2,\"#de77ae\"],[0.3,\"#f1b6da\"],[0.4,\"#fde0ef\"],[0.5,\"#f7f7f7\"],[0.6,\"#e6f5d0\"],[0.7,\"#b8e186\"],[0.8,\"#7fbc41\"],[0.9,\"#4d9221\"],[1,\"#276419\"]],\"sequential\":[[0.0,\"#0d0887\"],[0.1111111111111111,\"#46039f\"],[0.2222222222222222,\"#7201a8\"],[0.3333333333333333,\"#9c179e\"],[0.4444444444444444,\"#bd3786\"],[0.5555555555555556,\"#d8576b\"],[0.6666666666666666,\"#ed7953\"],[0.7777777777777778,\"#fb9f3a\"],[0.8888888888888888,\"#fdca26\"],[1.0,\"#f0f921\"]],\"sequentialminus\":[[0.0,\"#0d0887\"],[0.1111111111111111,\"#46039f\"],[0.2222222222222222,\"#7201a8\"],[0.3333333333333333,\"#9c179e\"],[0.4444444444444444,\"#bd3786\"],[0.5555555555555556,\"#d8576b\"],[0.6666666666666666,\"#ed7953\"],[0.7777777777777778,\"#fb9f3a\"],[0.8888888888888888,\"#fdca26\"],[1.0,\"#f0f921\"]]},\"colorway\":[\"#636efa\",\"#EF553B\",\"#00cc96\",\"#ab63fa\",\"#FFA15A\",\"#19d3f3\",\"#FF6692\",\"#B6E880\",\"#FF97FF\",\"#FECB52\"],\"font\":{\"color\":\"#2a3f5f\"},\"geo\":{\"bgcolor\":\"white\",\"lakecolor\":\"white\",\"landcolor\":\"#E5ECF6\",\"showlakes\":true,\"showland\":true,\"subunitcolor\":\"white\"},\"hoverlabel\":{\"align\":\"left\"},\"hovermode\":\"closest\",\"mapbox\":{\"style\":\"light\"},\"paper_bgcolor\":\"white\",\"plot_bgcolor\":\"#E5ECF6\",\"polar\":{\"angularaxis\":{\"gridcolor\":\"white\",\"linecolor\":\"white\",\"ticks\":\"\"},\"bgcolor\":\"#E5ECF6\",\"radialaxis\":{\"gridcolor\":\"white\",\"linecolor\":\"white\",\"ticks\":\"\"}},\"scene\":{\"xaxis\":{\"backgroundcolor\":\"#E5ECF6\",\"gridcolor\":\"white\",\"gridwidth\":2,\"linecolor\":\"white\",\"showbackground\":true,\"ticks\":\"\",\"zerolinecolor\":\"white\"},\"yaxis\":{\"backgroundcolor\":\"#E5ECF6\",\"gridcolor\":\"white\",\"gridwidth\":2,\"linecolor\":\"white\",\"showbackground\":true,\"ticks\":\"\",\"zerolinecolor\":\"white\"},\"zaxis\":{\"backgroundcolor\":\"#E5ECF6\",\"gridcolor\":\"white\",\"gridwidth\":2,\"linecolor\":\"white\",\"showbackground\":true,\"ticks\":\"\",\"zerolinecolor\":\"white\"}},\"shapedefaults\":{\"line\":{\"color\":\"#2a3f5f\"}},\"ternary\":{\"aaxis\":{\"gridcolor\":\"white\",\"linecolor\":\"white\",\"ticks\":\"\"},\"baxis\":{\"gridcolor\":\"white\",\"linecolor\":\"white\",\"ticks\":\"\"},\"bgcolor\":\"#E5ECF6\",\"caxis\":{\"gridcolor\":\"white\",\"linecolor\":\"white\",\"ticks\":\"\"}},\"title\":{\"x\":0.05},\"xaxis\":{\"automargin\":true,\"gridcolor\":\"white\",\"linecolor\":\"white\",\"ticks\":\"\",\"title\":{\"standoff\":15},\"zerolinecolor\":\"white\",\"zerolinewidth\":2},\"yaxis\":{\"automargin\":true,\"gridcolor\":\"white\",\"linecolor\":\"white\",\"ticks\":\"\",\"title\":{\"standoff\":15},\"zerolinecolor\":\"white\",\"zerolinewidth\":2}}},\"title\":{\"text\":\"Plot 3: Member numbers by role and their headquarters location\"}},                        {\"responsive\": true}                    ).then(function(){\n",
       "                            \n",
       "var gd = document.getElementById('0d5fe286-fa67-40fe-8d97-1bfeadebd058');\n",
       "var x = new MutationObserver(function (mutations, observer) {{\n",
       "        var display = window.getComputedStyle(gd).display;\n",
       "        if (!display || display === 'none') {{\n",
       "            console.log([gd, 'removed!']);\n",
       "            Plotly.purge(gd);\n",
       "            observer.disconnect();\n",
       "        }}\n",
       "}});\n",
       "\n",
       "// Listen for the removal of the full notebook cells\n",
       "var notebookContainer = gd.closest('#notebook-container');\n",
       "if (notebookContainer) {{\n",
       "    x.observe(notebookContainer, {childList: true});\n",
       "}}\n",
       "\n",
       "// Listen for the clearing of the current output cell\n",
       "var outputEl = gd.closest('.output');\n",
       "if (outputEl) {{\n",
       "    x.observe(outputEl, {childList: true});\n",
       "}}\n",
       "\n",
       "                        })                };                });            </script>        </div>"
      ]
     },
     "metadata": {},
     "output_type": "display_data"
    }
   ],
   "source": [
    "role_colors = ['#AB63FA', '#FFA15A', '#19D3F3','#FF6692']\n",
    "\n",
    "fig = make_subplots(1, 2, specs=[[{'type':'domain'},{'type':'domain'}]],\n",
    "                    subplot_titles=['Members job roles', 'Members HQ locations'])\n",
    "\n",
    "fig.add_trace(go.Pie( values=df.groupby('role')['role'].count(), \n",
    "                     labels=['CEO','Chair','Exec Director','Non-Exec Director'] ,textinfo='label+percent', legendgroup = '1'), 1, 1)\n",
    "fig.update_traces(marker=dict(colors=role_colors))\n",
    "\n",
    "fig.add_trace(go.Pie(labels=df.groupby('headquarter_location')['role'].count().index, values=df.groupby('headquarter_location')['role'].count(),\n",
    "                    textinfo='label+percent', legendgroup = '2'), 1, 2)\n",
    "fig.update_layout(title_text='Plot 3: Member numbers by role and their headquarters location',legend_tracegroupgap = 80)\n",
    "fig.show()"
   ]
  },
  {
   "cell_type": "code",
   "execution_count": 3,
   "id": "7024a2f5",
   "metadata": {
    "execution": {
     "iopub.execute_input": "2021-12-20T04:36:36.695300Z",
     "iopub.status.busy": "2021-12-20T04:36:36.693450Z",
     "iopub.status.idle": "2021-12-20T04:36:37.838081Z",
     "shell.execute_reply": "2021-12-20T04:36:37.837505Z",
     "shell.execute_reply.started": "2021-12-20T04:33:44.783940Z"
    },
    "jupyter": {
     "source_hidden": true
    },
    "papermill": {
     "duration": 1.232517,
     "end_time": "2021-12-20T04:36:37.838246",
     "exception": false,
     "start_time": "2021-12-20T04:36:36.605729",
     "status": "completed"
    },
    "tags": []
   },
   "outputs": [],
   "source": [
    "# AICD lounge locations:\n",
    "coords_syd = (-33.86336382479448, 151.20641568508086)\n",
    "coords_melb = (-37.81651586387018, 144.96262374491673)\n",
    "coords_perth = (-31.955428859202144, 115.85814550988445)\n",
    "\n",
    "# divide the dataset based on hq location:\n",
    "hq_syd = df[df['headquarter_location'] == 'Sydney'].copy()\n",
    "hq_melb = df[df['headquarter_location'] == 'Melbourne'].copy()\n",
    "hq_perth = df[df['headquarter_location'] == 'Perth'].copy()\n",
    "\n",
    "# calculate distances members hq to aicd lounge:\n",
    "hq_syd['sydney_distance'] = hq_syd['cords'].apply(lambda x: geopy.distance.distance(x, coords_syd).km)\n",
    "hq_melb['melb_distance'] = hq_melb['cords'].apply(lambda x: geopy.distance.distance(x, coords_melb).km)\n",
    "hq_perth['perth_distance'] = hq_perth['cords'].apply(lambda x: geopy.distance.distance(x, coords_perth).km)"
   ]
  },
  {
   "cell_type": "markdown",
   "id": "3c434432",
   "metadata": {
    "papermill": {
     "duration": 0.077025,
     "end_time": "2021-12-20T04:36:37.993400",
     "exception": false,
     "start_time": "2021-12-20T04:36:37.916375",
     "status": "completed"
    },
    "tags": []
   },
   "source": [
    "<a id='byhq'></a>\n",
    "# Members visits by headquarters location\n",
    "[back to top](#index)"
   ]
  },
  {
   "cell_type": "code",
   "execution_count": 4,
   "id": "9b671b95",
   "metadata": {},
   "outputs": [
    {
     "data": {
      "application/vnd.plotly.v1+json": {
       "config": {
        "plotlyServerURL": "https://plot.ly"
       },
       "data": [
        {
         "name": "to Sydney",
         "type": "bar",
         "x": [
          "HQ in Sydney",
          "HQ in Melbourne",
          "HQ in Perth"
         ],
         "y": [
          29014,
          15801,
          11836
         ]
        },
        {
         "name": "to Melbourne",
         "type": "bar",
         "x": [
          "HQ in Sydney",
          "HQ in Melbourne",
          "HQ in Perth"
         ],
         "y": [
          11638,
          11724,
          11787
         ]
        },
        {
         "name": "to Perth",
         "type": "bar",
         "x": [
          "HQ in Sydney",
          "HQ in Melbourne",
          "HQ in Perth"
         ],
         "y": [
          11637,
          15931,
          13773
         ]
        }
       ],
       "layout": {
        "barmode": "group",
        "template": {
         "data": {
          "bar": [
           {
            "error_x": {
             "color": "#2a3f5f"
            },
            "error_y": {
             "color": "#2a3f5f"
            },
            "marker": {
             "line": {
              "color": "#E5ECF6",
              "width": 0.5
             },
             "pattern": {
              "fillmode": "overlay",
              "size": 10,
              "solidity": 0.2
             }
            },
            "type": "bar"
           }
          ],
          "barpolar": [
           {
            "marker": {
             "line": {
              "color": "#E5ECF6",
              "width": 0.5
             },
             "pattern": {
              "fillmode": "overlay",
              "size": 10,
              "solidity": 0.2
             }
            },
            "type": "barpolar"
           }
          ],
          "carpet": [
           {
            "aaxis": {
             "endlinecolor": "#2a3f5f",
             "gridcolor": "white",
             "linecolor": "white",
             "minorgridcolor": "white",
             "startlinecolor": "#2a3f5f"
            },
            "baxis": {
             "endlinecolor": "#2a3f5f",
             "gridcolor": "white",
             "linecolor": "white",
             "minorgridcolor": "white",
             "startlinecolor": "#2a3f5f"
            },
            "type": "carpet"
           }
          ],
          "choropleth": [
           {
            "colorbar": {
             "outlinewidth": 0,
             "ticks": ""
            },
            "type": "choropleth"
           }
          ],
          "contour": [
           {
            "colorbar": {
             "outlinewidth": 0,
             "ticks": ""
            },
            "colorscale": [
             [
              0,
              "#0d0887"
             ],
             [
              0.1111111111111111,
              "#46039f"
             ],
             [
              0.2222222222222222,
              "#7201a8"
             ],
             [
              0.3333333333333333,
              "#9c179e"
             ],
             [
              0.4444444444444444,
              "#bd3786"
             ],
             [
              0.5555555555555556,
              "#d8576b"
             ],
             [
              0.6666666666666666,
              "#ed7953"
             ],
             [
              0.7777777777777778,
              "#fb9f3a"
             ],
             [
              0.8888888888888888,
              "#fdca26"
             ],
             [
              1,
              "#f0f921"
             ]
            ],
            "type": "contour"
           }
          ],
          "contourcarpet": [
           {
            "colorbar": {
             "outlinewidth": 0,
             "ticks": ""
            },
            "type": "contourcarpet"
           }
          ],
          "heatmap": [
           {
            "colorbar": {
             "outlinewidth": 0,
             "ticks": ""
            },
            "colorscale": [
             [
              0,
              "#0d0887"
             ],
             [
              0.1111111111111111,
              "#46039f"
             ],
             [
              0.2222222222222222,
              "#7201a8"
             ],
             [
              0.3333333333333333,
              "#9c179e"
             ],
             [
              0.4444444444444444,
              "#bd3786"
             ],
             [
              0.5555555555555556,
              "#d8576b"
             ],
             [
              0.6666666666666666,
              "#ed7953"
             ],
             [
              0.7777777777777778,
              "#fb9f3a"
             ],
             [
              0.8888888888888888,
              "#fdca26"
             ],
             [
              1,
              "#f0f921"
             ]
            ],
            "type": "heatmap"
           }
          ],
          "heatmapgl": [
           {
            "colorbar": {
             "outlinewidth": 0,
             "ticks": ""
            },
            "colorscale": [
             [
              0,
              "#0d0887"
             ],
             [
              0.1111111111111111,
              "#46039f"
             ],
             [
              0.2222222222222222,
              "#7201a8"
             ],
             [
              0.3333333333333333,
              "#9c179e"
             ],
             [
              0.4444444444444444,
              "#bd3786"
             ],
             [
              0.5555555555555556,
              "#d8576b"
             ],
             [
              0.6666666666666666,
              "#ed7953"
             ],
             [
              0.7777777777777778,
              "#fb9f3a"
             ],
             [
              0.8888888888888888,
              "#fdca26"
             ],
             [
              1,
              "#f0f921"
             ]
            ],
            "type": "heatmapgl"
           }
          ],
          "histogram": [
           {
            "marker": {
             "pattern": {
              "fillmode": "overlay",
              "size": 10,
              "solidity": 0.2
             }
            },
            "type": "histogram"
           }
          ],
          "histogram2d": [
           {
            "colorbar": {
             "outlinewidth": 0,
             "ticks": ""
            },
            "colorscale": [
             [
              0,
              "#0d0887"
             ],
             [
              0.1111111111111111,
              "#46039f"
             ],
             [
              0.2222222222222222,
              "#7201a8"
             ],
             [
              0.3333333333333333,
              "#9c179e"
             ],
             [
              0.4444444444444444,
              "#bd3786"
             ],
             [
              0.5555555555555556,
              "#d8576b"
             ],
             [
              0.6666666666666666,
              "#ed7953"
             ],
             [
              0.7777777777777778,
              "#fb9f3a"
             ],
             [
              0.8888888888888888,
              "#fdca26"
             ],
             [
              1,
              "#f0f921"
             ]
            ],
            "type": "histogram2d"
           }
          ],
          "histogram2dcontour": [
           {
            "colorbar": {
             "outlinewidth": 0,
             "ticks": ""
            },
            "colorscale": [
             [
              0,
              "#0d0887"
             ],
             [
              0.1111111111111111,
              "#46039f"
             ],
             [
              0.2222222222222222,
              "#7201a8"
             ],
             [
              0.3333333333333333,
              "#9c179e"
             ],
             [
              0.4444444444444444,
              "#bd3786"
             ],
             [
              0.5555555555555556,
              "#d8576b"
             ],
             [
              0.6666666666666666,
              "#ed7953"
             ],
             [
              0.7777777777777778,
              "#fb9f3a"
             ],
             [
              0.8888888888888888,
              "#fdca26"
             ],
             [
              1,
              "#f0f921"
             ]
            ],
            "type": "histogram2dcontour"
           }
          ],
          "mesh3d": [
           {
            "colorbar": {
             "outlinewidth": 0,
             "ticks": ""
            },
            "type": "mesh3d"
           }
          ],
          "parcoords": [
           {
            "line": {
             "colorbar": {
              "outlinewidth": 0,
              "ticks": ""
             }
            },
            "type": "parcoords"
           }
          ],
          "pie": [
           {
            "automargin": true,
            "type": "pie"
           }
          ],
          "scatter": [
           {
            "marker": {
             "colorbar": {
              "outlinewidth": 0,
              "ticks": ""
             }
            },
            "type": "scatter"
           }
          ],
          "scatter3d": [
           {
            "line": {
             "colorbar": {
              "outlinewidth": 0,
              "ticks": ""
             }
            },
            "marker": {
             "colorbar": {
              "outlinewidth": 0,
              "ticks": ""
             }
            },
            "type": "scatter3d"
           }
          ],
          "scattercarpet": [
           {
            "marker": {
             "colorbar": {
              "outlinewidth": 0,
              "ticks": ""
             }
            },
            "type": "scattercarpet"
           }
          ],
          "scattergeo": [
           {
            "marker": {
             "colorbar": {
              "outlinewidth": 0,
              "ticks": ""
             }
            },
            "type": "scattergeo"
           }
          ],
          "scattergl": [
           {
            "marker": {
             "colorbar": {
              "outlinewidth": 0,
              "ticks": ""
             }
            },
            "type": "scattergl"
           }
          ],
          "scattermapbox": [
           {
            "marker": {
             "colorbar": {
              "outlinewidth": 0,
              "ticks": ""
             }
            },
            "type": "scattermapbox"
           }
          ],
          "scatterpolar": [
           {
            "marker": {
             "colorbar": {
              "outlinewidth": 0,
              "ticks": ""
             }
            },
            "type": "scatterpolar"
           }
          ],
          "scatterpolargl": [
           {
            "marker": {
             "colorbar": {
              "outlinewidth": 0,
              "ticks": ""
             }
            },
            "type": "scatterpolargl"
           }
          ],
          "scatterternary": [
           {
            "marker": {
             "colorbar": {
              "outlinewidth": 0,
              "ticks": ""
             }
            },
            "type": "scatterternary"
           }
          ],
          "surface": [
           {
            "colorbar": {
             "outlinewidth": 0,
             "ticks": ""
            },
            "colorscale": [
             [
              0,
              "#0d0887"
             ],
             [
              0.1111111111111111,
              "#46039f"
             ],
             [
              0.2222222222222222,
              "#7201a8"
             ],
             [
              0.3333333333333333,
              "#9c179e"
             ],
             [
              0.4444444444444444,
              "#bd3786"
             ],
             [
              0.5555555555555556,
              "#d8576b"
             ],
             [
              0.6666666666666666,
              "#ed7953"
             ],
             [
              0.7777777777777778,
              "#fb9f3a"
             ],
             [
              0.8888888888888888,
              "#fdca26"
             ],
             [
              1,
              "#f0f921"
             ]
            ],
            "type": "surface"
           }
          ],
          "table": [
           {
            "cells": {
             "fill": {
              "color": "#EBF0F8"
             },
             "line": {
              "color": "white"
             }
            },
            "header": {
             "fill": {
              "color": "#C8D4E3"
             },
             "line": {
              "color": "white"
             }
            },
            "type": "table"
           }
          ]
         },
         "layout": {
          "annotationdefaults": {
           "arrowcolor": "#2a3f5f",
           "arrowhead": 0,
           "arrowwidth": 1
          },
          "autotypenumbers": "strict",
          "coloraxis": {
           "colorbar": {
            "outlinewidth": 0,
            "ticks": ""
           }
          },
          "colorscale": {
           "diverging": [
            [
             0,
             "#8e0152"
            ],
            [
             0.1,
             "#c51b7d"
            ],
            [
             0.2,
             "#de77ae"
            ],
            [
             0.3,
             "#f1b6da"
            ],
            [
             0.4,
             "#fde0ef"
            ],
            [
             0.5,
             "#f7f7f7"
            ],
            [
             0.6,
             "#e6f5d0"
            ],
            [
             0.7,
             "#b8e186"
            ],
            [
             0.8,
             "#7fbc41"
            ],
            [
             0.9,
             "#4d9221"
            ],
            [
             1,
             "#276419"
            ]
           ],
           "sequential": [
            [
             0,
             "#0d0887"
            ],
            [
             0.1111111111111111,
             "#46039f"
            ],
            [
             0.2222222222222222,
             "#7201a8"
            ],
            [
             0.3333333333333333,
             "#9c179e"
            ],
            [
             0.4444444444444444,
             "#bd3786"
            ],
            [
             0.5555555555555556,
             "#d8576b"
            ],
            [
             0.6666666666666666,
             "#ed7953"
            ],
            [
             0.7777777777777778,
             "#fb9f3a"
            ],
            [
             0.8888888888888888,
             "#fdca26"
            ],
            [
             1,
             "#f0f921"
            ]
           ],
           "sequentialminus": [
            [
             0,
             "#0d0887"
            ],
            [
             0.1111111111111111,
             "#46039f"
            ],
            [
             0.2222222222222222,
             "#7201a8"
            ],
            [
             0.3333333333333333,
             "#9c179e"
            ],
            [
             0.4444444444444444,
             "#bd3786"
            ],
            [
             0.5555555555555556,
             "#d8576b"
            ],
            [
             0.6666666666666666,
             "#ed7953"
            ],
            [
             0.7777777777777778,
             "#fb9f3a"
            ],
            [
             0.8888888888888888,
             "#fdca26"
            ],
            [
             1,
             "#f0f921"
            ]
           ]
          },
          "colorway": [
           "#636efa",
           "#EF553B",
           "#00cc96",
           "#ab63fa",
           "#FFA15A",
           "#19d3f3",
           "#FF6692",
           "#B6E880",
           "#FF97FF",
           "#FECB52"
          ],
          "font": {
           "color": "#2a3f5f"
          },
          "geo": {
           "bgcolor": "white",
           "lakecolor": "white",
           "landcolor": "#E5ECF6",
           "showlakes": true,
           "showland": true,
           "subunitcolor": "white"
          },
          "hoverlabel": {
           "align": "left"
          },
          "hovermode": "closest",
          "mapbox": {
           "style": "light"
          },
          "paper_bgcolor": "white",
          "plot_bgcolor": "#E5ECF6",
          "polar": {
           "angularaxis": {
            "gridcolor": "white",
            "linecolor": "white",
            "ticks": ""
           },
           "bgcolor": "#E5ECF6",
           "radialaxis": {
            "gridcolor": "white",
            "linecolor": "white",
            "ticks": ""
           }
          },
          "scene": {
           "xaxis": {
            "backgroundcolor": "#E5ECF6",
            "gridcolor": "white",
            "gridwidth": 2,
            "linecolor": "white",
            "showbackground": true,
            "ticks": "",
            "zerolinecolor": "white"
           },
           "yaxis": {
            "backgroundcolor": "#E5ECF6",
            "gridcolor": "white",
            "gridwidth": 2,
            "linecolor": "white",
            "showbackground": true,
            "ticks": "",
            "zerolinecolor": "white"
           },
           "zaxis": {
            "backgroundcolor": "#E5ECF6",
            "gridcolor": "white",
            "gridwidth": 2,
            "linecolor": "white",
            "showbackground": true,
            "ticks": "",
            "zerolinecolor": "white"
           }
          },
          "shapedefaults": {
           "line": {
            "color": "#2a3f5f"
           }
          },
          "ternary": {
           "aaxis": {
            "gridcolor": "white",
            "linecolor": "white",
            "ticks": ""
           },
           "baxis": {
            "gridcolor": "white",
            "linecolor": "white",
            "ticks": ""
           },
           "bgcolor": "#E5ECF6",
           "caxis": {
            "gridcolor": "white",
            "linecolor": "white",
            "ticks": ""
           }
          },
          "title": {
           "x": 0.05
          },
          "xaxis": {
           "automargin": true,
           "gridcolor": "white",
           "linecolor": "white",
           "ticks": "",
           "title": {
            "standoff": 15
           },
           "zerolinecolor": "white",
           "zerolinewidth": 2
          },
          "yaxis": {
           "automargin": true,
           "gridcolor": "white",
           "linecolor": "white",
           "ticks": "",
           "title": {
            "standoff": 15
           },
           "zerolinecolor": "white",
           "zerolinewidth": 2
          }
         }
        },
        "title": {
         "text": "Plot 5: Visits by members headquarters location and destination"
        },
        "xaxis": {
         "title": {
          "text": "HQ City"
         }
        },
        "yaxis": {
         "title": {
          "text": "Number of visits"
         }
        }
       }
      },
      "text/html": [
       "<div>                            <div id=\"8bf38c40-af6c-42d6-9eb3-9a498cd55363\" class=\"plotly-graph-div\" style=\"height:525px; width:100%;\"></div>            <script type=\"text/javascript\">                require([\"plotly\"], function(Plotly) {                    window.PLOTLYENV=window.PLOTLYENV || {};                                    if (document.getElementById(\"8bf38c40-af6c-42d6-9eb3-9a498cd55363\")) {                    Plotly.newPlot(                        \"8bf38c40-af6c-42d6-9eb3-9a498cd55363\",                        [{\"name\":\"to Sydney\",\"type\":\"bar\",\"x\":[\"HQ in Sydney\",\"HQ in Melbourne\",\"HQ in Perth\"],\"y\":[29014,15801,11836]},{\"name\":\"to Melbourne\",\"type\":\"bar\",\"x\":[\"HQ in Sydney\",\"HQ in Melbourne\",\"HQ in Perth\"],\"y\":[11638,11724,11787]},{\"name\":\"to Perth\",\"type\":\"bar\",\"x\":[\"HQ in Sydney\",\"HQ in Melbourne\",\"HQ in Perth\"],\"y\":[11637,15931,13773]}],                        {\"barmode\":\"group\",\"template\":{\"data\":{\"bar\":[{\"error_x\":{\"color\":\"#2a3f5f\"},\"error_y\":{\"color\":\"#2a3f5f\"},\"marker\":{\"line\":{\"color\":\"#E5ECF6\",\"width\":0.5},\"pattern\":{\"fillmode\":\"overlay\",\"size\":10,\"solidity\":0.2}},\"type\":\"bar\"}],\"barpolar\":[{\"marker\":{\"line\":{\"color\":\"#E5ECF6\",\"width\":0.5},\"pattern\":{\"fillmode\":\"overlay\",\"size\":10,\"solidity\":0.2}},\"type\":\"barpolar\"}],\"carpet\":[{\"aaxis\":{\"endlinecolor\":\"#2a3f5f\",\"gridcolor\":\"white\",\"linecolor\":\"white\",\"minorgridcolor\":\"white\",\"startlinecolor\":\"#2a3f5f\"},\"baxis\":{\"endlinecolor\":\"#2a3f5f\",\"gridcolor\":\"white\",\"linecolor\":\"white\",\"minorgridcolor\":\"white\",\"startlinecolor\":\"#2a3f5f\"},\"type\":\"carpet\"}],\"choropleth\":[{\"colorbar\":{\"outlinewidth\":0,\"ticks\":\"\"},\"type\":\"choropleth\"}],\"contour\":[{\"colorbar\":{\"outlinewidth\":0,\"ticks\":\"\"},\"colorscale\":[[0.0,\"#0d0887\"],[0.1111111111111111,\"#46039f\"],[0.2222222222222222,\"#7201a8\"],[0.3333333333333333,\"#9c179e\"],[0.4444444444444444,\"#bd3786\"],[0.5555555555555556,\"#d8576b\"],[0.6666666666666666,\"#ed7953\"],[0.7777777777777778,\"#fb9f3a\"],[0.8888888888888888,\"#fdca26\"],[1.0,\"#f0f921\"]],\"type\":\"contour\"}],\"contourcarpet\":[{\"colorbar\":{\"outlinewidth\":0,\"ticks\":\"\"},\"type\":\"contourcarpet\"}],\"heatmap\":[{\"colorbar\":{\"outlinewidth\":0,\"ticks\":\"\"},\"colorscale\":[[0.0,\"#0d0887\"],[0.1111111111111111,\"#46039f\"],[0.2222222222222222,\"#7201a8\"],[0.3333333333333333,\"#9c179e\"],[0.4444444444444444,\"#bd3786\"],[0.5555555555555556,\"#d8576b\"],[0.6666666666666666,\"#ed7953\"],[0.7777777777777778,\"#fb9f3a\"],[0.8888888888888888,\"#fdca26\"],[1.0,\"#f0f921\"]],\"type\":\"heatmap\"}],\"heatmapgl\":[{\"colorbar\":{\"outlinewidth\":0,\"ticks\":\"\"},\"colorscale\":[[0.0,\"#0d0887\"],[0.1111111111111111,\"#46039f\"],[0.2222222222222222,\"#7201a8\"],[0.3333333333333333,\"#9c179e\"],[0.4444444444444444,\"#bd3786\"],[0.5555555555555556,\"#d8576b\"],[0.6666666666666666,\"#ed7953\"],[0.7777777777777778,\"#fb9f3a\"],[0.8888888888888888,\"#fdca26\"],[1.0,\"#f0f921\"]],\"type\":\"heatmapgl\"}],\"histogram\":[{\"marker\":{\"pattern\":{\"fillmode\":\"overlay\",\"size\":10,\"solidity\":0.2}},\"type\":\"histogram\"}],\"histogram2d\":[{\"colorbar\":{\"outlinewidth\":0,\"ticks\":\"\"},\"colorscale\":[[0.0,\"#0d0887\"],[0.1111111111111111,\"#46039f\"],[0.2222222222222222,\"#7201a8\"],[0.3333333333333333,\"#9c179e\"],[0.4444444444444444,\"#bd3786\"],[0.5555555555555556,\"#d8576b\"],[0.6666666666666666,\"#ed7953\"],[0.7777777777777778,\"#fb9f3a\"],[0.8888888888888888,\"#fdca26\"],[1.0,\"#f0f921\"]],\"type\":\"histogram2d\"}],\"histogram2dcontour\":[{\"colorbar\":{\"outlinewidth\":0,\"ticks\":\"\"},\"colorscale\":[[0.0,\"#0d0887\"],[0.1111111111111111,\"#46039f\"],[0.2222222222222222,\"#7201a8\"],[0.3333333333333333,\"#9c179e\"],[0.4444444444444444,\"#bd3786\"],[0.5555555555555556,\"#d8576b\"],[0.6666666666666666,\"#ed7953\"],[0.7777777777777778,\"#fb9f3a\"],[0.8888888888888888,\"#fdca26\"],[1.0,\"#f0f921\"]],\"type\":\"histogram2dcontour\"}],\"mesh3d\":[{\"colorbar\":{\"outlinewidth\":0,\"ticks\":\"\"},\"type\":\"mesh3d\"}],\"parcoords\":[{\"line\":{\"colorbar\":{\"outlinewidth\":0,\"ticks\":\"\"}},\"type\":\"parcoords\"}],\"pie\":[{\"automargin\":true,\"type\":\"pie\"}],\"scatter\":[{\"marker\":{\"colorbar\":{\"outlinewidth\":0,\"ticks\":\"\"}},\"type\":\"scatter\"}],\"scatter3d\":[{\"line\":{\"colorbar\":{\"outlinewidth\":0,\"ticks\":\"\"}},\"marker\":{\"colorbar\":{\"outlinewidth\":0,\"ticks\":\"\"}},\"type\":\"scatter3d\"}],\"scattercarpet\":[{\"marker\":{\"colorbar\":{\"outlinewidth\":0,\"ticks\":\"\"}},\"type\":\"scattercarpet\"}],\"scattergeo\":[{\"marker\":{\"colorbar\":{\"outlinewidth\":0,\"ticks\":\"\"}},\"type\":\"scattergeo\"}],\"scattergl\":[{\"marker\":{\"colorbar\":{\"outlinewidth\":0,\"ticks\":\"\"}},\"type\":\"scattergl\"}],\"scattermapbox\":[{\"marker\":{\"colorbar\":{\"outlinewidth\":0,\"ticks\":\"\"}},\"type\":\"scattermapbox\"}],\"scatterpolar\":[{\"marker\":{\"colorbar\":{\"outlinewidth\":0,\"ticks\":\"\"}},\"type\":\"scatterpolar\"}],\"scatterpolargl\":[{\"marker\":{\"colorbar\":{\"outlinewidth\":0,\"ticks\":\"\"}},\"type\":\"scatterpolargl\"}],\"scatterternary\":[{\"marker\":{\"colorbar\":{\"outlinewidth\":0,\"ticks\":\"\"}},\"type\":\"scatterternary\"}],\"surface\":[{\"colorbar\":{\"outlinewidth\":0,\"ticks\":\"\"},\"colorscale\":[[0.0,\"#0d0887\"],[0.1111111111111111,\"#46039f\"],[0.2222222222222222,\"#7201a8\"],[0.3333333333333333,\"#9c179e\"],[0.4444444444444444,\"#bd3786\"],[0.5555555555555556,\"#d8576b\"],[0.6666666666666666,\"#ed7953\"],[0.7777777777777778,\"#fb9f3a\"],[0.8888888888888888,\"#fdca26\"],[1.0,\"#f0f921\"]],\"type\":\"surface\"}],\"table\":[{\"cells\":{\"fill\":{\"color\":\"#EBF0F8\"},\"line\":{\"color\":\"white\"}},\"header\":{\"fill\":{\"color\":\"#C8D4E3\"},\"line\":{\"color\":\"white\"}},\"type\":\"table\"}]},\"layout\":{\"annotationdefaults\":{\"arrowcolor\":\"#2a3f5f\",\"arrowhead\":0,\"arrowwidth\":1},\"autotypenumbers\":\"strict\",\"coloraxis\":{\"colorbar\":{\"outlinewidth\":0,\"ticks\":\"\"}},\"colorscale\":{\"diverging\":[[0,\"#8e0152\"],[0.1,\"#c51b7d\"],[0.2,\"#de77ae\"],[0.3,\"#f1b6da\"],[0.4,\"#fde0ef\"],[0.5,\"#f7f7f7\"],[0.6,\"#e6f5d0\"],[0.7,\"#b8e186\"],[0.8,\"#7fbc41\"],[0.9,\"#4d9221\"],[1,\"#276419\"]],\"sequential\":[[0.0,\"#0d0887\"],[0.1111111111111111,\"#46039f\"],[0.2222222222222222,\"#7201a8\"],[0.3333333333333333,\"#9c179e\"],[0.4444444444444444,\"#bd3786\"],[0.5555555555555556,\"#d8576b\"],[0.6666666666666666,\"#ed7953\"],[0.7777777777777778,\"#fb9f3a\"],[0.8888888888888888,\"#fdca26\"],[1.0,\"#f0f921\"]],\"sequentialminus\":[[0.0,\"#0d0887\"],[0.1111111111111111,\"#46039f\"],[0.2222222222222222,\"#7201a8\"],[0.3333333333333333,\"#9c179e\"],[0.4444444444444444,\"#bd3786\"],[0.5555555555555556,\"#d8576b\"],[0.6666666666666666,\"#ed7953\"],[0.7777777777777778,\"#fb9f3a\"],[0.8888888888888888,\"#fdca26\"],[1.0,\"#f0f921\"]]},\"colorway\":[\"#636efa\",\"#EF553B\",\"#00cc96\",\"#ab63fa\",\"#FFA15A\",\"#19d3f3\",\"#FF6692\",\"#B6E880\",\"#FF97FF\",\"#FECB52\"],\"font\":{\"color\":\"#2a3f5f\"},\"geo\":{\"bgcolor\":\"white\",\"lakecolor\":\"white\",\"landcolor\":\"#E5ECF6\",\"showlakes\":true,\"showland\":true,\"subunitcolor\":\"white\"},\"hoverlabel\":{\"align\":\"left\"},\"hovermode\":\"closest\",\"mapbox\":{\"style\":\"light\"},\"paper_bgcolor\":\"white\",\"plot_bgcolor\":\"#E5ECF6\",\"polar\":{\"angularaxis\":{\"gridcolor\":\"white\",\"linecolor\":\"white\",\"ticks\":\"\"},\"bgcolor\":\"#E5ECF6\",\"radialaxis\":{\"gridcolor\":\"white\",\"linecolor\":\"white\",\"ticks\":\"\"}},\"scene\":{\"xaxis\":{\"backgroundcolor\":\"#E5ECF6\",\"gridcolor\":\"white\",\"gridwidth\":2,\"linecolor\":\"white\",\"showbackground\":true,\"ticks\":\"\",\"zerolinecolor\":\"white\"},\"yaxis\":{\"backgroundcolor\":\"#E5ECF6\",\"gridcolor\":\"white\",\"gridwidth\":2,\"linecolor\":\"white\",\"showbackground\":true,\"ticks\":\"\",\"zerolinecolor\":\"white\"},\"zaxis\":{\"backgroundcolor\":\"#E5ECF6\",\"gridcolor\":\"white\",\"gridwidth\":2,\"linecolor\":\"white\",\"showbackground\":true,\"ticks\":\"\",\"zerolinecolor\":\"white\"}},\"shapedefaults\":{\"line\":{\"color\":\"#2a3f5f\"}},\"ternary\":{\"aaxis\":{\"gridcolor\":\"white\",\"linecolor\":\"white\",\"ticks\":\"\"},\"baxis\":{\"gridcolor\":\"white\",\"linecolor\":\"white\",\"ticks\":\"\"},\"bgcolor\":\"#E5ECF6\",\"caxis\":{\"gridcolor\":\"white\",\"linecolor\":\"white\",\"ticks\":\"\"}},\"title\":{\"x\":0.05},\"xaxis\":{\"automargin\":true,\"gridcolor\":\"white\",\"linecolor\":\"white\",\"ticks\":\"\",\"title\":{\"standoff\":15},\"zerolinecolor\":\"white\",\"zerolinewidth\":2},\"yaxis\":{\"automargin\":true,\"gridcolor\":\"white\",\"linecolor\":\"white\",\"ticks\":\"\",\"title\":{\"standoff\":15},\"zerolinecolor\":\"white\",\"zerolinewidth\":2}}},\"title\":{\"text\":\"Plot 5: Visits by members headquarters location and destination\"},\"xaxis\":{\"title\":{\"text\":\"HQ City\"}},\"yaxis\":{\"title\":{\"text\":\"Number of visits\"}}},                        {\"responsive\": true}                    ).then(function(){\n",
       "                            \n",
       "var gd = document.getElementById('8bf38c40-af6c-42d6-9eb3-9a498cd55363');\n",
       "var x = new MutationObserver(function (mutations, observer) {{\n",
       "        var display = window.getComputedStyle(gd).display;\n",
       "        if (!display || display === 'none') {{\n",
       "            console.log([gd, 'removed!']);\n",
       "            Plotly.purge(gd);\n",
       "            observer.disconnect();\n",
       "        }}\n",
       "}});\n",
       "\n",
       "// Listen for the removal of the full notebook cells\n",
       "var notebookContainer = gd.closest('#notebook-container');\n",
       "if (notebookContainer) {{\n",
       "    x.observe(notebookContainer, {childList: true});\n",
       "}}\n",
       "\n",
       "// Listen for the clearing of the current output cell\n",
       "var outputEl = gd.closest('.output');\n",
       "if (outputEl) {{\n",
       "    x.observe(outputEl, {childList: true});\n",
       "}}\n",
       "\n",
       "                        })                };                });            </script>        </div>"
      ]
     },
     "metadata": {},
     "output_type": "display_data"
    }
   ],
   "source": [
    "# create a temp df for plotly:\n",
    "plot5 = df.groupby('headquarter_location')[['visits_sydney','visits_melbourne','visits_perth']].sum().sort_values('visits_sydney',ascending=False)\n",
    "\n",
    "labels_x = ['HQ in Sydney', 'HQ in Melbourne', 'HQ in Perth']\n",
    "fig = go.Figure(data=[\n",
    "    go.Bar(name='to Sydney', x=labels_x, y=plot5['visits_sydney']),\n",
    "    go.Bar(name='to Melbourne', x=labels_x, y=plot5['visits_melbourne']),\n",
    "    go.Bar(name='to Perth', x=labels_x, y=plot5['visits_perth']),\n",
    "])\n",
    "\n",
    "fig.update_layout(\n",
    "    title='Plot 5: Visits by members headquarters location and destination',\n",
    "    yaxis=dict(title='Number of visits'),\n",
    "    xaxis=dict(title='HQ City'),\n",
    "    barmode='group'\n",
    ")\n",
    "fig.show()"
   ]
  },
  {
   "cell_type": "markdown",
   "id": "85ff1a38",
   "metadata": {},
   "source": [
    "## Table 1: Members average visit numbers by their origin and destination "
   ]
  },
  {
   "cell_type": "code",
   "execution_count": 5,
   "id": "c9c23b66",
   "metadata": {},
   "outputs": [
    {
     "data": {
      "text/html": [
       "<div>\n",
       "<style scoped>\n",
       "    .dataframe tbody tr th:only-of-type {\n",
       "        vertical-align: middle;\n",
       "    }\n",
       "\n",
       "    .dataframe tbody tr th {\n",
       "        vertical-align: top;\n",
       "    }\n",
       "\n",
       "    .dataframe thead th {\n",
       "        text-align: right;\n",
       "    }\n",
       "</style>\n",
       "<table border=\"1\" class=\"dataframe\">\n",
       "  <thead>\n",
       "    <tr style=\"text-align: right;\">\n",
       "      <th></th>\n",
       "      <th>visits_sydney</th>\n",
       "      <th>visits_melbourne</th>\n",
       "      <th>visits_perth</th>\n",
       "      <th>total_visits</th>\n",
       "    </tr>\n",
       "    <tr>\n",
       "      <th>headquarter_location</th>\n",
       "      <th></th>\n",
       "      <th></th>\n",
       "      <th></th>\n",
       "      <th></th>\n",
       "    </tr>\n",
       "  </thead>\n",
       "  <tbody>\n",
       "    <tr>\n",
       "      <th>Sydney</th>\n",
       "      <td>15.302743</td>\n",
       "      <td>6.138186</td>\n",
       "      <td>6.137658</td>\n",
       "      <td>27.578586</td>\n",
       "    </tr>\n",
       "    <tr>\n",
       "      <th>Melbourne</th>\n",
       "      <td>11.669867</td>\n",
       "      <td>8.658789</td>\n",
       "      <td>11.765879</td>\n",
       "      <td>32.094535</td>\n",
       "    </tr>\n",
       "    <tr>\n",
       "      <th>Perth</th>\n",
       "      <td>11.446809</td>\n",
       "      <td>11.399420</td>\n",
       "      <td>13.320116</td>\n",
       "      <td>36.166344</td>\n",
       "    </tr>\n",
       "  </tbody>\n",
       "</table>\n",
       "</div>"
      ],
      "text/plain": [
       "                      visits_sydney  visits_melbourne  visits_perth  \\\n",
       "headquarter_location                                                  \n",
       "Sydney                    15.302743          6.138186      6.137658   \n",
       "Melbourne                 11.669867          8.658789     11.765879   \n",
       "Perth                     11.446809         11.399420     13.320116   \n",
       "\n",
       "                      total_visits  \n",
       "headquarter_location                \n",
       "Sydney                   27.578586  \n",
       "Melbourne                32.094535  \n",
       "Perth                    36.166344  "
      ]
     },
     "execution_count": 5,
     "metadata": {},
     "output_type": "execute_result"
    }
   ],
   "source": [
    "df.groupby('headquarter_location')[['visits_sydney', 'visits_melbourne', 'visits_perth','total_visits']].mean().sort_values('visits_melbourne')"
   ]
  },
  {
   "cell_type": "markdown",
   "id": "1965089f",
   "metadata": {},
   "source": [
    "## Table 2: Total visits by industry"
   ]
  },
  {
   "cell_type": "code",
   "execution_count": 6,
   "id": "c68203f3",
   "metadata": {
    "execution": {
     "iopub.execute_input": "2021-12-20T04:36:39.608432Z",
     "iopub.status.busy": "2021-12-20T04:36:39.604066Z",
     "iopub.status.idle": "2021-12-20T04:36:39.689061Z",
     "shell.execute_reply": "2021-12-20T04:36:39.688439Z",
     "shell.execute_reply.started": "2021-12-20T04:33:46.083276Z"
    },
    "jupyter": {
     "source_hidden": true
    },
    "papermill": {
     "duration": 0.191708,
     "end_time": "2021-12-20T04:36:39.689212",
     "exception": false,
     "start_time": "2021-12-20T04:36:39.497504",
     "status": "completed"
    },
    "scrolled": false,
    "tags": []
   },
   "outputs": [
    {
     "data": {
      "text/html": [
       "<style  type=\"text/css\" >\n",
       "#T_0a55dbc0_61dc_11ec_aa88_c4b301d3622frow0_col0,#T_0a55dbc0_61dc_11ec_aa88_c4b301d3622frow0_col3,#T_0a55dbc0_61dc_11ec_aa88_c4b301d3622frow1_col2,#T_0a55dbc0_61dc_11ec_aa88_c4b301d3622frow2_col1{\n",
       "            background-color:  #0000ff;\n",
       "            color:  #f1f1f1;\n",
       "        }#T_0a55dbc0_61dc_11ec_aa88_c4b301d3622frow0_col1{\n",
       "            background-color:  #3737fc;\n",
       "            color:  #f1f1f1;\n",
       "        }#T_0a55dbc0_61dc_11ec_aa88_c4b301d3622frow0_col2{\n",
       "            background-color:  #2626fd;\n",
       "            color:  #f1f1f1;\n",
       "        }#T_0a55dbc0_61dc_11ec_aa88_c4b301d3622frow1_col0{\n",
       "            background-color:  #9797f7;\n",
       "            color:  #000000;\n",
       "        }#T_0a55dbc0_61dc_11ec_aa88_c4b301d3622frow1_col1{\n",
       "            background-color:  #8787f8;\n",
       "            color:  #000000;\n",
       "        }#T_0a55dbc0_61dc_11ec_aa88_c4b301d3622frow1_col3{\n",
       "            background-color:  #5151fb;\n",
       "            color:  #f1f1f1;\n",
       "        }#T_0a55dbc0_61dc_11ec_aa88_c4b301d3622frow2_col0{\n",
       "            background-color:  #8b8bf8;\n",
       "            color:  #000000;\n",
       "        }#T_0a55dbc0_61dc_11ec_aa88_c4b301d3622frow2_col2{\n",
       "            background-color:  #c0c0f5;\n",
       "            color:  #000000;\n",
       "        }#T_0a55dbc0_61dc_11ec_aa88_c4b301d3622frow2_col3{\n",
       "            background-color:  #5f5ffa;\n",
       "            color:  #000000;\n",
       "        }#T_0a55dbc0_61dc_11ec_aa88_c4b301d3622frow3_col0{\n",
       "            background-color:  #8383f8;\n",
       "            color:  #000000;\n",
       "        }#T_0a55dbc0_61dc_11ec_aa88_c4b301d3622frow3_col1{\n",
       "            background-color:  #9090f8;\n",
       "            color:  #000000;\n",
       "        }#T_0a55dbc0_61dc_11ec_aa88_c4b301d3622frow3_col2{\n",
       "            background-color:  #3939fc;\n",
       "            color:  #f1f1f1;\n",
       "        }#T_0a55dbc0_61dc_11ec_aa88_c4b301d3622frow3_col3{\n",
       "            background-color:  #6868fa;\n",
       "            color:  #000000;\n",
       "        }#T_0a55dbc0_61dc_11ec_aa88_c4b301d3622frow4_col0{\n",
       "            background-color:  #a0a0f7;\n",
       "            color:  #000000;\n",
       "        }#T_0a55dbc0_61dc_11ec_aa88_c4b301d3622frow4_col1{\n",
       "            background-color:  #7171f9;\n",
       "            color:  #000000;\n",
       "        }#T_0a55dbc0_61dc_11ec_aa88_c4b301d3622frow4_col2,#T_0a55dbc0_61dc_11ec_aa88_c4b301d3622frow5_col0,#T_0a55dbc0_61dc_11ec_aa88_c4b301d3622frow6_col1,#T_0a55dbc0_61dc_11ec_aa88_c4b301d3622frow6_col3{\n",
       "            background-color:  #f0f0f3;\n",
       "            color:  #000000;\n",
       "        }#T_0a55dbc0_61dc_11ec_aa88_c4b301d3622frow4_col3{\n",
       "            background-color:  #b8b8f6;\n",
       "            color:  #000000;\n",
       "        }#T_0a55dbc0_61dc_11ec_aa88_c4b301d3622frow5_col1{\n",
       "            background-color:  #9c9cf7;\n",
       "            color:  #000000;\n",
       "        }#T_0a55dbc0_61dc_11ec_aa88_c4b301d3622frow5_col2{\n",
       "            background-color:  #9b9bf7;\n",
       "            color:  #000000;\n",
       "        }#T_0a55dbc0_61dc_11ec_aa88_c4b301d3622frow5_col3{\n",
       "            background-color:  #c5c5f5;\n",
       "            color:  #000000;\n",
       "        }#T_0a55dbc0_61dc_11ec_aa88_c4b301d3622frow6_col0{\n",
       "            background-color:  #ddddf4;\n",
       "            color:  #000000;\n",
       "        }#T_0a55dbc0_61dc_11ec_aa88_c4b301d3622frow6_col2{\n",
       "            background-color:  #acacf6;\n",
       "            color:  #000000;\n",
       "        }</style><table id=\"T_0a55dbc0_61dc_11ec_aa88_c4b301d3622f\" ><thead>    <tr>        <th class=\"blank level0\" ></th>        <th class=\"col_heading level0 col0\" >visits_sydney</th>        <th class=\"col_heading level0 col1\" >visits_melbourne</th>        <th class=\"col_heading level0 col2\" >visits_perth</th>        <th class=\"col_heading level0 col3\" >total_visits</th>    </tr>    <tr>        <th class=\"index_name level0\" >industry</th>        <th class=\"blank\" ></th>        <th class=\"blank\" ></th>        <th class=\"blank\" ></th>        <th class=\"blank\" ></th>    </tr></thead><tbody>\n",
       "                <tr>\n",
       "                        <th id=\"T_0a55dbc0_61dc_11ec_aa88_c4b301d3622flevel0_row0\" class=\"row_heading level0 row0\" >Financials</th>\n",
       "                        <td id=\"T_0a55dbc0_61dc_11ec_aa88_c4b301d3622frow0_col0\" class=\"data row0 col0\" >8687</td>\n",
       "                        <td id=\"T_0a55dbc0_61dc_11ec_aa88_c4b301d3622frow0_col1\" class=\"data row0 col1\" >5373</td>\n",
       "                        <td id=\"T_0a55dbc0_61dc_11ec_aa88_c4b301d3622frow0_col2\" class=\"data row0 col2\" >6311</td>\n",
       "                        <td id=\"T_0a55dbc0_61dc_11ec_aa88_c4b301d3622frow0_col3\" class=\"data row0 col3\" >20371</td>\n",
       "            </tr>\n",
       "            <tr>\n",
       "                        <th id=\"T_0a55dbc0_61dc_11ec_aa88_c4b301d3622flevel0_row1\" class=\"row_heading level0 row1\" >Health Care</th>\n",
       "                        <td id=\"T_0a55dbc0_61dc_11ec_aa88_c4b301d3622frow1_col0\" class=\"data row1 col0\" >8085</td>\n",
       "                        <td id=\"T_0a55dbc0_61dc_11ec_aa88_c4b301d3622frow1_col1\" class=\"data row1 col1\" >4942</td>\n",
       "                        <td id=\"T_0a55dbc0_61dc_11ec_aa88_c4b301d3622frow1_col2\" class=\"data row1 col2\" >6494</td>\n",
       "                        <td id=\"T_0a55dbc0_61dc_11ec_aa88_c4b301d3622frow1_col3\" class=\"data row1 col3\" >19521</td>\n",
       "            </tr>\n",
       "            <tr>\n",
       "                        <th id=\"T_0a55dbc0_61dc_11ec_aa88_c4b301d3622flevel0_row2\" class=\"row_heading level0 row2\" >Telecommunication</th>\n",
       "                        <td id=\"T_0a55dbc0_61dc_11ec_aa88_c4b301d3622frow2_col0\" class=\"data row2 col0\" >8133</td>\n",
       "                        <td id=\"T_0a55dbc0_61dc_11ec_aa88_c4b301d3622frow2_col1\" class=\"data row2 col1\" >5672</td>\n",
       "                        <td id=\"T_0a55dbc0_61dc_11ec_aa88_c4b301d3622frow2_col2\" class=\"data row2 col2\" >5565</td>\n",
       "                        <td id=\"T_0a55dbc0_61dc_11ec_aa88_c4b301d3622frow2_col3\" class=\"data row2 col3\" >19370</td>\n",
       "            </tr>\n",
       "            <tr>\n",
       "                        <th id=\"T_0a55dbc0_61dc_11ec_aa88_c4b301d3622flevel0_row3\" class=\"row_heading level0 row3\" >Media & Entertainment</th>\n",
       "                        <td id=\"T_0a55dbc0_61dc_11ec_aa88_c4b301d3622frow3_col0\" class=\"data row3 col0\" >8163</td>\n",
       "                        <td id=\"T_0a55dbc0_61dc_11ec_aa88_c4b301d3622frow3_col1\" class=\"data row3 col1\" >4895</td>\n",
       "                        <td id=\"T_0a55dbc0_61dc_11ec_aa88_c4b301d3622frow3_col2\" class=\"data row3 col2\" >6221</td>\n",
       "                        <td id=\"T_0a55dbc0_61dc_11ec_aa88_c4b301d3622frow3_col3\" class=\"data row3 col3\" >19279</td>\n",
       "            </tr>\n",
       "            <tr>\n",
       "                        <th id=\"T_0a55dbc0_61dc_11ec_aa88_c4b301d3622flevel0_row4\" class=\"row_heading level0 row4\" >Insurance</th>\n",
       "                        <td id=\"T_0a55dbc0_61dc_11ec_aa88_c4b301d3622frow4_col0\" class=\"data row4 col0\" >8048</td>\n",
       "                        <td id=\"T_0a55dbc0_61dc_11ec_aa88_c4b301d3622frow4_col1\" class=\"data row4 col1\" >5062</td>\n",
       "                        <td id=\"T_0a55dbc0_61dc_11ec_aa88_c4b301d3622frow4_col2\" class=\"data row4 col2\" >5333</td>\n",
       "                        <td id=\"T_0a55dbc0_61dc_11ec_aa88_c4b301d3622frow4_col3\" class=\"data row4 col3\" >18443</td>\n",
       "            </tr>\n",
       "            <tr>\n",
       "                        <th id=\"T_0a55dbc0_61dc_11ec_aa88_c4b301d3622flevel0_row5\" class=\"row_heading level0 row5\" >Energy</th>\n",
       "                        <td id=\"T_0a55dbc0_61dc_11ec_aa88_c4b301d3622frow5_col0\" class=\"data row5 col0\" >7727</td>\n",
       "                        <td id=\"T_0a55dbc0_61dc_11ec_aa88_c4b301d3622frow5_col1\" class=\"data row5 col1\" >4832</td>\n",
       "                        <td id=\"T_0a55dbc0_61dc_11ec_aa88_c4b301d3622frow5_col2\" class=\"data row5 col2\" >5750</td>\n",
       "                        <td id=\"T_0a55dbc0_61dc_11ec_aa88_c4b301d3622frow5_col3\" class=\"data row5 col3\" >18309</td>\n",
       "            </tr>\n",
       "            <tr>\n",
       "                        <th id=\"T_0a55dbc0_61dc_11ec_aa88_c4b301d3622flevel0_row6\" class=\"row_heading level0 row6\" >Software & Services</th>\n",
       "                        <td id=\"T_0a55dbc0_61dc_11ec_aa88_c4b301d3622frow6_col0\" class=\"data row6 col0\" >7808</td>\n",
       "                        <td id=\"T_0a55dbc0_61dc_11ec_aa88_c4b301d3622frow6_col1\" class=\"data row6 col1\" >4373</td>\n",
       "                        <td id=\"T_0a55dbc0_61dc_11ec_aa88_c4b301d3622frow6_col2\" class=\"data row6 col2\" >5667</td>\n",
       "                        <td id=\"T_0a55dbc0_61dc_11ec_aa88_c4b301d3622frow6_col3\" class=\"data row6 col3\" >17848</td>\n",
       "            </tr>\n",
       "    </tbody></table>"
      ],
      "text/plain": [
       "<pandas.io.formats.style.Styler at 0x7fef4f4e02e0>"
      ]
     },
     "execution_count": 6,
     "metadata": {},
     "output_type": "execute_result"
    }
   ],
   "source": [
    "cm = sns.light_palette(\"blue\", as_cmap=True)\n",
    "df.groupby('industry')[['visits_sydney','visits_melbourne','visits_perth','total_visits']].sum().sort_values('total_visits',ascending=False).style.background_gradient(cmap=cm, axis=0)"
   ]
  },
  {
   "cell_type": "markdown",
   "id": "58719440",
   "metadata": {},
   "source": [
    "# Members visits by their roles and headquarters location\n",
    "[back to top](#index)"
   ]
  },
  {
   "cell_type": "code",
   "execution_count": 7,
   "id": "e9fa66c9",
   "metadata": {
    "execution": {
     "iopub.execute_input": "2021-12-20T04:36:44.903996Z",
     "iopub.status.busy": "2021-12-20T04:36:44.902933Z",
     "iopub.status.idle": "2021-12-20T04:36:44.981939Z",
     "shell.execute_reply": "2021-12-20T04:36:44.982452Z",
     "shell.execute_reply.started": "2021-12-20T04:33:46.462418Z"
    },
    "jupyter": {
     "source_hidden": true
    },
    "papermill": {
     "duration": 0.218694,
     "end_time": "2021-12-20T04:36:44.982617",
     "exception": false,
     "start_time": "2021-12-20T04:36:44.763923",
     "status": "completed"
    },
    "scrolled": true,
    "tags": []
   },
   "outputs": [
    {
     "data": {
      "application/vnd.plotly.v1+json": {
       "config": {
        "plotlyServerURL": "https://plot.ly"
       },
       "data": [
        {
         "domain": {
          "x": [
           0,
           0.2888888888888889
          ],
          "y": [
           0,
           1
          ]
         },
         "labels": [
          "CEO",
          "Chair",
          "Executive Director",
          "Non-executive Director"
         ],
         "marker": {
          "colors": [
           "#AB63FA",
           "#FFA15A",
           "#19D3F3",
           "#FF6692"
          ]
         },
         "name": "HQ in Sydney",
         "scalegroup": "one",
         "type": "pie",
         "values": [
          1253,
          15689,
          7643,
          4429
         ]
        },
        {
         "domain": {
          "x": [
           0.35555555555555557,
           0.6444444444444445
          ],
          "y": [
           0,
           1
          ]
         },
         "labels": [
          "CEO",
          "Chair",
          "Executive Director",
          "Non-executive Director"
         ],
         "marker": {
          "colors": [
           "#AB63FA",
           "#FFA15A",
           "#19D3F3",
           "#FF6692"
          ]
         },
         "name": "HQ in Melbourne",
         "scalegroup": "one",
         "type": "pie",
         "values": [
          691,
          3254,
          240,
          7539
         ]
        },
        {
         "domain": {
          "x": [
           0.7111111111111111,
           1
          ],
          "y": [
           0,
           1
          ]
         },
         "labels": [
          "CEO",
          "Chair",
          "Executive Director",
          "Non-executive Director"
         ],
         "marker": {
          "colors": [
           "#AB63FA",
           "#FFA15A",
           "#19D3F3",
           "#FF6692"
          ]
         },
         "name": "HQ in Perth",
         "scalegroup": "one",
         "type": "pie",
         "values": [
          676,
          8929,
          1260,
          2908
         ]
        }
       ],
       "layout": {
        "annotations": [
         {
          "font": {
           "size": 16
          },
          "showarrow": false,
          "text": "HQ in Sydney",
          "x": 0.14444444444444446,
          "xanchor": "center",
          "xref": "paper",
          "y": 1,
          "yanchor": "bottom",
          "yref": "paper"
         },
         {
          "font": {
           "size": 16
          },
          "showarrow": false,
          "text": "HQ in Melbourne",
          "x": 0.5,
          "xanchor": "center",
          "xref": "paper",
          "y": 1,
          "yanchor": "bottom",
          "yref": "paper"
         },
         {
          "font": {
           "size": 16
          },
          "showarrow": false,
          "text": "HQ in Perth",
          "x": 0.8555555555555556,
          "xanchor": "center",
          "xref": "paper",
          "y": 1,
          "yanchor": "bottom",
          "yref": "paper"
         }
        ],
        "template": {
         "data": {
          "bar": [
           {
            "error_x": {
             "color": "#2a3f5f"
            },
            "error_y": {
             "color": "#2a3f5f"
            },
            "marker": {
             "line": {
              "color": "#E5ECF6",
              "width": 0.5
             },
             "pattern": {
              "fillmode": "overlay",
              "size": 10,
              "solidity": 0.2
             }
            },
            "type": "bar"
           }
          ],
          "barpolar": [
           {
            "marker": {
             "line": {
              "color": "#E5ECF6",
              "width": 0.5
             },
             "pattern": {
              "fillmode": "overlay",
              "size": 10,
              "solidity": 0.2
             }
            },
            "type": "barpolar"
           }
          ],
          "carpet": [
           {
            "aaxis": {
             "endlinecolor": "#2a3f5f",
             "gridcolor": "white",
             "linecolor": "white",
             "minorgridcolor": "white",
             "startlinecolor": "#2a3f5f"
            },
            "baxis": {
             "endlinecolor": "#2a3f5f",
             "gridcolor": "white",
             "linecolor": "white",
             "minorgridcolor": "white",
             "startlinecolor": "#2a3f5f"
            },
            "type": "carpet"
           }
          ],
          "choropleth": [
           {
            "colorbar": {
             "outlinewidth": 0,
             "ticks": ""
            },
            "type": "choropleth"
           }
          ],
          "contour": [
           {
            "colorbar": {
             "outlinewidth": 0,
             "ticks": ""
            },
            "colorscale": [
             [
              0,
              "#0d0887"
             ],
             [
              0.1111111111111111,
              "#46039f"
             ],
             [
              0.2222222222222222,
              "#7201a8"
             ],
             [
              0.3333333333333333,
              "#9c179e"
             ],
             [
              0.4444444444444444,
              "#bd3786"
             ],
             [
              0.5555555555555556,
              "#d8576b"
             ],
             [
              0.6666666666666666,
              "#ed7953"
             ],
             [
              0.7777777777777778,
              "#fb9f3a"
             ],
             [
              0.8888888888888888,
              "#fdca26"
             ],
             [
              1,
              "#f0f921"
             ]
            ],
            "type": "contour"
           }
          ],
          "contourcarpet": [
           {
            "colorbar": {
             "outlinewidth": 0,
             "ticks": ""
            },
            "type": "contourcarpet"
           }
          ],
          "heatmap": [
           {
            "colorbar": {
             "outlinewidth": 0,
             "ticks": ""
            },
            "colorscale": [
             [
              0,
              "#0d0887"
             ],
             [
              0.1111111111111111,
              "#46039f"
             ],
             [
              0.2222222222222222,
              "#7201a8"
             ],
             [
              0.3333333333333333,
              "#9c179e"
             ],
             [
              0.4444444444444444,
              "#bd3786"
             ],
             [
              0.5555555555555556,
              "#d8576b"
             ],
             [
              0.6666666666666666,
              "#ed7953"
             ],
             [
              0.7777777777777778,
              "#fb9f3a"
             ],
             [
              0.8888888888888888,
              "#fdca26"
             ],
             [
              1,
              "#f0f921"
             ]
            ],
            "type": "heatmap"
           }
          ],
          "heatmapgl": [
           {
            "colorbar": {
             "outlinewidth": 0,
             "ticks": ""
            },
            "colorscale": [
             [
              0,
              "#0d0887"
             ],
             [
              0.1111111111111111,
              "#46039f"
             ],
             [
              0.2222222222222222,
              "#7201a8"
             ],
             [
              0.3333333333333333,
              "#9c179e"
             ],
             [
              0.4444444444444444,
              "#bd3786"
             ],
             [
              0.5555555555555556,
              "#d8576b"
             ],
             [
              0.6666666666666666,
              "#ed7953"
             ],
             [
              0.7777777777777778,
              "#fb9f3a"
             ],
             [
              0.8888888888888888,
              "#fdca26"
             ],
             [
              1,
              "#f0f921"
             ]
            ],
            "type": "heatmapgl"
           }
          ],
          "histogram": [
           {
            "marker": {
             "pattern": {
              "fillmode": "overlay",
              "size": 10,
              "solidity": 0.2
             }
            },
            "type": "histogram"
           }
          ],
          "histogram2d": [
           {
            "colorbar": {
             "outlinewidth": 0,
             "ticks": ""
            },
            "colorscale": [
             [
              0,
              "#0d0887"
             ],
             [
              0.1111111111111111,
              "#46039f"
             ],
             [
              0.2222222222222222,
              "#7201a8"
             ],
             [
              0.3333333333333333,
              "#9c179e"
             ],
             [
              0.4444444444444444,
              "#bd3786"
             ],
             [
              0.5555555555555556,
              "#d8576b"
             ],
             [
              0.6666666666666666,
              "#ed7953"
             ],
             [
              0.7777777777777778,
              "#fb9f3a"
             ],
             [
              0.8888888888888888,
              "#fdca26"
             ],
             [
              1,
              "#f0f921"
             ]
            ],
            "type": "histogram2d"
           }
          ],
          "histogram2dcontour": [
           {
            "colorbar": {
             "outlinewidth": 0,
             "ticks": ""
            },
            "colorscale": [
             [
              0,
              "#0d0887"
             ],
             [
              0.1111111111111111,
              "#46039f"
             ],
             [
              0.2222222222222222,
              "#7201a8"
             ],
             [
              0.3333333333333333,
              "#9c179e"
             ],
             [
              0.4444444444444444,
              "#bd3786"
             ],
             [
              0.5555555555555556,
              "#d8576b"
             ],
             [
              0.6666666666666666,
              "#ed7953"
             ],
             [
              0.7777777777777778,
              "#fb9f3a"
             ],
             [
              0.8888888888888888,
              "#fdca26"
             ],
             [
              1,
              "#f0f921"
             ]
            ],
            "type": "histogram2dcontour"
           }
          ],
          "mesh3d": [
           {
            "colorbar": {
             "outlinewidth": 0,
             "ticks": ""
            },
            "type": "mesh3d"
           }
          ],
          "parcoords": [
           {
            "line": {
             "colorbar": {
              "outlinewidth": 0,
              "ticks": ""
             }
            },
            "type": "parcoords"
           }
          ],
          "pie": [
           {
            "automargin": true,
            "type": "pie"
           }
          ],
          "scatter": [
           {
            "marker": {
             "colorbar": {
              "outlinewidth": 0,
              "ticks": ""
             }
            },
            "type": "scatter"
           }
          ],
          "scatter3d": [
           {
            "line": {
             "colorbar": {
              "outlinewidth": 0,
              "ticks": ""
             }
            },
            "marker": {
             "colorbar": {
              "outlinewidth": 0,
              "ticks": ""
             }
            },
            "type": "scatter3d"
           }
          ],
          "scattercarpet": [
           {
            "marker": {
             "colorbar": {
              "outlinewidth": 0,
              "ticks": ""
             }
            },
            "type": "scattercarpet"
           }
          ],
          "scattergeo": [
           {
            "marker": {
             "colorbar": {
              "outlinewidth": 0,
              "ticks": ""
             }
            },
            "type": "scattergeo"
           }
          ],
          "scattergl": [
           {
            "marker": {
             "colorbar": {
              "outlinewidth": 0,
              "ticks": ""
             }
            },
            "type": "scattergl"
           }
          ],
          "scattermapbox": [
           {
            "marker": {
             "colorbar": {
              "outlinewidth": 0,
              "ticks": ""
             }
            },
            "type": "scattermapbox"
           }
          ],
          "scatterpolar": [
           {
            "marker": {
             "colorbar": {
              "outlinewidth": 0,
              "ticks": ""
             }
            },
            "type": "scatterpolar"
           }
          ],
          "scatterpolargl": [
           {
            "marker": {
             "colorbar": {
              "outlinewidth": 0,
              "ticks": ""
             }
            },
            "type": "scatterpolargl"
           }
          ],
          "scatterternary": [
           {
            "marker": {
             "colorbar": {
              "outlinewidth": 0,
              "ticks": ""
             }
            },
            "type": "scatterternary"
           }
          ],
          "surface": [
           {
            "colorbar": {
             "outlinewidth": 0,
             "ticks": ""
            },
            "colorscale": [
             [
              0,
              "#0d0887"
             ],
             [
              0.1111111111111111,
              "#46039f"
             ],
             [
              0.2222222222222222,
              "#7201a8"
             ],
             [
              0.3333333333333333,
              "#9c179e"
             ],
             [
              0.4444444444444444,
              "#bd3786"
             ],
             [
              0.5555555555555556,
              "#d8576b"
             ],
             [
              0.6666666666666666,
              "#ed7953"
             ],
             [
              0.7777777777777778,
              "#fb9f3a"
             ],
             [
              0.8888888888888888,
              "#fdca26"
             ],
             [
              1,
              "#f0f921"
             ]
            ],
            "type": "surface"
           }
          ],
          "table": [
           {
            "cells": {
             "fill": {
              "color": "#EBF0F8"
             },
             "line": {
              "color": "white"
             }
            },
            "header": {
             "fill": {
              "color": "#C8D4E3"
             },
             "line": {
              "color": "white"
             }
            },
            "type": "table"
           }
          ]
         },
         "layout": {
          "annotationdefaults": {
           "arrowcolor": "#2a3f5f",
           "arrowhead": 0,
           "arrowwidth": 1
          },
          "autotypenumbers": "strict",
          "coloraxis": {
           "colorbar": {
            "outlinewidth": 0,
            "ticks": ""
           }
          },
          "colorscale": {
           "diverging": [
            [
             0,
             "#8e0152"
            ],
            [
             0.1,
             "#c51b7d"
            ],
            [
             0.2,
             "#de77ae"
            ],
            [
             0.3,
             "#f1b6da"
            ],
            [
             0.4,
             "#fde0ef"
            ],
            [
             0.5,
             "#f7f7f7"
            ],
            [
             0.6,
             "#e6f5d0"
            ],
            [
             0.7,
             "#b8e186"
            ],
            [
             0.8,
             "#7fbc41"
            ],
            [
             0.9,
             "#4d9221"
            ],
            [
             1,
             "#276419"
            ]
           ],
           "sequential": [
            [
             0,
             "#0d0887"
            ],
            [
             0.1111111111111111,
             "#46039f"
            ],
            [
             0.2222222222222222,
             "#7201a8"
            ],
            [
             0.3333333333333333,
             "#9c179e"
            ],
            [
             0.4444444444444444,
             "#bd3786"
            ],
            [
             0.5555555555555556,
             "#d8576b"
            ],
            [
             0.6666666666666666,
             "#ed7953"
            ],
            [
             0.7777777777777778,
             "#fb9f3a"
            ],
            [
             0.8888888888888888,
             "#fdca26"
            ],
            [
             1,
             "#f0f921"
            ]
           ],
           "sequentialminus": [
            [
             0,
             "#0d0887"
            ],
            [
             0.1111111111111111,
             "#46039f"
            ],
            [
             0.2222222222222222,
             "#7201a8"
            ],
            [
             0.3333333333333333,
             "#9c179e"
            ],
            [
             0.4444444444444444,
             "#bd3786"
            ],
            [
             0.5555555555555556,
             "#d8576b"
            ],
            [
             0.6666666666666666,
             "#ed7953"
            ],
            [
             0.7777777777777778,
             "#fb9f3a"
            ],
            [
             0.8888888888888888,
             "#fdca26"
            ],
            [
             1,
             "#f0f921"
            ]
           ]
          },
          "colorway": [
           "#636efa",
           "#EF553B",
           "#00cc96",
           "#ab63fa",
           "#FFA15A",
           "#19d3f3",
           "#FF6692",
           "#B6E880",
           "#FF97FF",
           "#FECB52"
          ],
          "font": {
           "color": "#2a3f5f"
          },
          "geo": {
           "bgcolor": "white",
           "lakecolor": "white",
           "landcolor": "#E5ECF6",
           "showlakes": true,
           "showland": true,
           "subunitcolor": "white"
          },
          "hoverlabel": {
           "align": "left"
          },
          "hovermode": "closest",
          "mapbox": {
           "style": "light"
          },
          "paper_bgcolor": "white",
          "plot_bgcolor": "#E5ECF6",
          "polar": {
           "angularaxis": {
            "gridcolor": "white",
            "linecolor": "white",
            "ticks": ""
           },
           "bgcolor": "#E5ECF6",
           "radialaxis": {
            "gridcolor": "white",
            "linecolor": "white",
            "ticks": ""
           }
          },
          "scene": {
           "xaxis": {
            "backgroundcolor": "#E5ECF6",
            "gridcolor": "white",
            "gridwidth": 2,
            "linecolor": "white",
            "showbackground": true,
            "ticks": "",
            "zerolinecolor": "white"
           },
           "yaxis": {
            "backgroundcolor": "#E5ECF6",
            "gridcolor": "white",
            "gridwidth": 2,
            "linecolor": "white",
            "showbackground": true,
            "ticks": "",
            "zerolinecolor": "white"
           },
           "zaxis": {
            "backgroundcolor": "#E5ECF6",
            "gridcolor": "white",
            "gridwidth": 2,
            "linecolor": "white",
            "showbackground": true,
            "ticks": "",
            "zerolinecolor": "white"
           }
          },
          "shapedefaults": {
           "line": {
            "color": "#2a3f5f"
           }
          },
          "ternary": {
           "aaxis": {
            "gridcolor": "white",
            "linecolor": "white",
            "ticks": ""
           },
           "baxis": {
            "gridcolor": "white",
            "linecolor": "white",
            "ticks": ""
           },
           "bgcolor": "#E5ECF6",
           "caxis": {
            "gridcolor": "white",
            "linecolor": "white",
            "ticks": ""
           }
          },
          "title": {
           "x": 0.05
          },
          "xaxis": {
           "automargin": true,
           "gridcolor": "white",
           "linecolor": "white",
           "ticks": "",
           "title": {
            "standoff": 15
           },
           "zerolinecolor": "white",
           "zerolinewidth": 2
          },
          "yaxis": {
           "automargin": true,
           "gridcolor": "white",
           "linecolor": "white",
           "ticks": "",
           "title": {
            "standoff": 15
           },
           "zerolinecolor": "white",
           "zerolinewidth": 2
          }
         }
        },
        "title": {
         "text": "Plot 11: Share of visits by role, within the same city"
        }
       }
      },
      "text/html": [
       "<div>                            <div id=\"2b34b69e-e5a1-44f4-a53e-e990b9963bb4\" class=\"plotly-graph-div\" style=\"height:525px; width:100%;\"></div>            <script type=\"text/javascript\">                require([\"plotly\"], function(Plotly) {                    window.PLOTLYENV=window.PLOTLYENV || {};                                    if (document.getElementById(\"2b34b69e-e5a1-44f4-a53e-e990b9963bb4\")) {                    Plotly.newPlot(                        \"2b34b69e-e5a1-44f4-a53e-e990b9963bb4\",                        [{\"domain\":{\"x\":[0.0,0.2888888888888889],\"y\":[0.0,1.0]},\"labels\":[\"CEO\",\"Chair\",\"Executive Director\",\"Non-executive Director\"],\"marker\":{\"colors\":[\"#AB63FA\",\"#FFA15A\",\"#19D3F3\",\"#FF6692\"]},\"name\":\"HQ in Sydney\",\"scalegroup\":\"one\",\"type\":\"pie\",\"values\":[1253,15689,7643,4429]},{\"domain\":{\"x\":[0.35555555555555557,0.6444444444444445],\"y\":[0.0,1.0]},\"labels\":[\"CEO\",\"Chair\",\"Executive Director\",\"Non-executive Director\"],\"marker\":{\"colors\":[\"#AB63FA\",\"#FFA15A\",\"#19D3F3\",\"#FF6692\"]},\"name\":\"HQ in Melbourne\",\"scalegroup\":\"one\",\"type\":\"pie\",\"values\":[691,3254,240,7539]},{\"domain\":{\"x\":[0.7111111111111111,1.0],\"y\":[0.0,1.0]},\"labels\":[\"CEO\",\"Chair\",\"Executive Director\",\"Non-executive Director\"],\"marker\":{\"colors\":[\"#AB63FA\",\"#FFA15A\",\"#19D3F3\",\"#FF6692\"]},\"name\":\"HQ in Perth\",\"scalegroup\":\"one\",\"type\":\"pie\",\"values\":[676,8929,1260,2908]}],                        {\"annotations\":[{\"font\":{\"size\":16},\"showarrow\":false,\"text\":\"HQ in Sydney\",\"x\":0.14444444444444446,\"xanchor\":\"center\",\"xref\":\"paper\",\"y\":1.0,\"yanchor\":\"bottom\",\"yref\":\"paper\"},{\"font\":{\"size\":16},\"showarrow\":false,\"text\":\"HQ in Melbourne\",\"x\":0.5,\"xanchor\":\"center\",\"xref\":\"paper\",\"y\":1.0,\"yanchor\":\"bottom\",\"yref\":\"paper\"},{\"font\":{\"size\":16},\"showarrow\":false,\"text\":\"HQ in Perth\",\"x\":0.8555555555555556,\"xanchor\":\"center\",\"xref\":\"paper\",\"y\":1.0,\"yanchor\":\"bottom\",\"yref\":\"paper\"}],\"template\":{\"data\":{\"bar\":[{\"error_x\":{\"color\":\"#2a3f5f\"},\"error_y\":{\"color\":\"#2a3f5f\"},\"marker\":{\"line\":{\"color\":\"#E5ECF6\",\"width\":0.5},\"pattern\":{\"fillmode\":\"overlay\",\"size\":10,\"solidity\":0.2}},\"type\":\"bar\"}],\"barpolar\":[{\"marker\":{\"line\":{\"color\":\"#E5ECF6\",\"width\":0.5},\"pattern\":{\"fillmode\":\"overlay\",\"size\":10,\"solidity\":0.2}},\"type\":\"barpolar\"}],\"carpet\":[{\"aaxis\":{\"endlinecolor\":\"#2a3f5f\",\"gridcolor\":\"white\",\"linecolor\":\"white\",\"minorgridcolor\":\"white\",\"startlinecolor\":\"#2a3f5f\"},\"baxis\":{\"endlinecolor\":\"#2a3f5f\",\"gridcolor\":\"white\",\"linecolor\":\"white\",\"minorgridcolor\":\"white\",\"startlinecolor\":\"#2a3f5f\"},\"type\":\"carpet\"}],\"choropleth\":[{\"colorbar\":{\"outlinewidth\":0,\"ticks\":\"\"},\"type\":\"choropleth\"}],\"contour\":[{\"colorbar\":{\"outlinewidth\":0,\"ticks\":\"\"},\"colorscale\":[[0.0,\"#0d0887\"],[0.1111111111111111,\"#46039f\"],[0.2222222222222222,\"#7201a8\"],[0.3333333333333333,\"#9c179e\"],[0.4444444444444444,\"#bd3786\"],[0.5555555555555556,\"#d8576b\"],[0.6666666666666666,\"#ed7953\"],[0.7777777777777778,\"#fb9f3a\"],[0.8888888888888888,\"#fdca26\"],[1.0,\"#f0f921\"]],\"type\":\"contour\"}],\"contourcarpet\":[{\"colorbar\":{\"outlinewidth\":0,\"ticks\":\"\"},\"type\":\"contourcarpet\"}],\"heatmap\":[{\"colorbar\":{\"outlinewidth\":0,\"ticks\":\"\"},\"colorscale\":[[0.0,\"#0d0887\"],[0.1111111111111111,\"#46039f\"],[0.2222222222222222,\"#7201a8\"],[0.3333333333333333,\"#9c179e\"],[0.4444444444444444,\"#bd3786\"],[0.5555555555555556,\"#d8576b\"],[0.6666666666666666,\"#ed7953\"],[0.7777777777777778,\"#fb9f3a\"],[0.8888888888888888,\"#fdca26\"],[1.0,\"#f0f921\"]],\"type\":\"heatmap\"}],\"heatmapgl\":[{\"colorbar\":{\"outlinewidth\":0,\"ticks\":\"\"},\"colorscale\":[[0.0,\"#0d0887\"],[0.1111111111111111,\"#46039f\"],[0.2222222222222222,\"#7201a8\"],[0.3333333333333333,\"#9c179e\"],[0.4444444444444444,\"#bd3786\"],[0.5555555555555556,\"#d8576b\"],[0.6666666666666666,\"#ed7953\"],[0.7777777777777778,\"#fb9f3a\"],[0.8888888888888888,\"#fdca26\"],[1.0,\"#f0f921\"]],\"type\":\"heatmapgl\"}],\"histogram\":[{\"marker\":{\"pattern\":{\"fillmode\":\"overlay\",\"size\":10,\"solidity\":0.2}},\"type\":\"histogram\"}],\"histogram2d\":[{\"colorbar\":{\"outlinewidth\":0,\"ticks\":\"\"},\"colorscale\":[[0.0,\"#0d0887\"],[0.1111111111111111,\"#46039f\"],[0.2222222222222222,\"#7201a8\"],[0.3333333333333333,\"#9c179e\"],[0.4444444444444444,\"#bd3786\"],[0.5555555555555556,\"#d8576b\"],[0.6666666666666666,\"#ed7953\"],[0.7777777777777778,\"#fb9f3a\"],[0.8888888888888888,\"#fdca26\"],[1.0,\"#f0f921\"]],\"type\":\"histogram2d\"}],\"histogram2dcontour\":[{\"colorbar\":{\"outlinewidth\":0,\"ticks\":\"\"},\"colorscale\":[[0.0,\"#0d0887\"],[0.1111111111111111,\"#46039f\"],[0.2222222222222222,\"#7201a8\"],[0.3333333333333333,\"#9c179e\"],[0.4444444444444444,\"#bd3786\"],[0.5555555555555556,\"#d8576b\"],[0.6666666666666666,\"#ed7953\"],[0.7777777777777778,\"#fb9f3a\"],[0.8888888888888888,\"#fdca26\"],[1.0,\"#f0f921\"]],\"type\":\"histogram2dcontour\"}],\"mesh3d\":[{\"colorbar\":{\"outlinewidth\":0,\"ticks\":\"\"},\"type\":\"mesh3d\"}],\"parcoords\":[{\"line\":{\"colorbar\":{\"outlinewidth\":0,\"ticks\":\"\"}},\"type\":\"parcoords\"}],\"pie\":[{\"automargin\":true,\"type\":\"pie\"}],\"scatter\":[{\"marker\":{\"colorbar\":{\"outlinewidth\":0,\"ticks\":\"\"}},\"type\":\"scatter\"}],\"scatter3d\":[{\"line\":{\"colorbar\":{\"outlinewidth\":0,\"ticks\":\"\"}},\"marker\":{\"colorbar\":{\"outlinewidth\":0,\"ticks\":\"\"}},\"type\":\"scatter3d\"}],\"scattercarpet\":[{\"marker\":{\"colorbar\":{\"outlinewidth\":0,\"ticks\":\"\"}},\"type\":\"scattercarpet\"}],\"scattergeo\":[{\"marker\":{\"colorbar\":{\"outlinewidth\":0,\"ticks\":\"\"}},\"type\":\"scattergeo\"}],\"scattergl\":[{\"marker\":{\"colorbar\":{\"outlinewidth\":0,\"ticks\":\"\"}},\"type\":\"scattergl\"}],\"scattermapbox\":[{\"marker\":{\"colorbar\":{\"outlinewidth\":0,\"ticks\":\"\"}},\"type\":\"scattermapbox\"}],\"scatterpolar\":[{\"marker\":{\"colorbar\":{\"outlinewidth\":0,\"ticks\":\"\"}},\"type\":\"scatterpolar\"}],\"scatterpolargl\":[{\"marker\":{\"colorbar\":{\"outlinewidth\":0,\"ticks\":\"\"}},\"type\":\"scatterpolargl\"}],\"scatterternary\":[{\"marker\":{\"colorbar\":{\"outlinewidth\":0,\"ticks\":\"\"}},\"type\":\"scatterternary\"}],\"surface\":[{\"colorbar\":{\"outlinewidth\":0,\"ticks\":\"\"},\"colorscale\":[[0.0,\"#0d0887\"],[0.1111111111111111,\"#46039f\"],[0.2222222222222222,\"#7201a8\"],[0.3333333333333333,\"#9c179e\"],[0.4444444444444444,\"#bd3786\"],[0.5555555555555556,\"#d8576b\"],[0.6666666666666666,\"#ed7953\"],[0.7777777777777778,\"#fb9f3a\"],[0.8888888888888888,\"#fdca26\"],[1.0,\"#f0f921\"]],\"type\":\"surface\"}],\"table\":[{\"cells\":{\"fill\":{\"color\":\"#EBF0F8\"},\"line\":{\"color\":\"white\"}},\"header\":{\"fill\":{\"color\":\"#C8D4E3\"},\"line\":{\"color\":\"white\"}},\"type\":\"table\"}]},\"layout\":{\"annotationdefaults\":{\"arrowcolor\":\"#2a3f5f\",\"arrowhead\":0,\"arrowwidth\":1},\"autotypenumbers\":\"strict\",\"coloraxis\":{\"colorbar\":{\"outlinewidth\":0,\"ticks\":\"\"}},\"colorscale\":{\"diverging\":[[0,\"#8e0152\"],[0.1,\"#c51b7d\"],[0.2,\"#de77ae\"],[0.3,\"#f1b6da\"],[0.4,\"#fde0ef\"],[0.5,\"#f7f7f7\"],[0.6,\"#e6f5d0\"],[0.7,\"#b8e186\"],[0.8,\"#7fbc41\"],[0.9,\"#4d9221\"],[1,\"#276419\"]],\"sequential\":[[0.0,\"#0d0887\"],[0.1111111111111111,\"#46039f\"],[0.2222222222222222,\"#7201a8\"],[0.3333333333333333,\"#9c179e\"],[0.4444444444444444,\"#bd3786\"],[0.5555555555555556,\"#d8576b\"],[0.6666666666666666,\"#ed7953\"],[0.7777777777777778,\"#fb9f3a\"],[0.8888888888888888,\"#fdca26\"],[1.0,\"#f0f921\"]],\"sequentialminus\":[[0.0,\"#0d0887\"],[0.1111111111111111,\"#46039f\"],[0.2222222222222222,\"#7201a8\"],[0.3333333333333333,\"#9c179e\"],[0.4444444444444444,\"#bd3786\"],[0.5555555555555556,\"#d8576b\"],[0.6666666666666666,\"#ed7953\"],[0.7777777777777778,\"#fb9f3a\"],[0.8888888888888888,\"#fdca26\"],[1.0,\"#f0f921\"]]},\"colorway\":[\"#636efa\",\"#EF553B\",\"#00cc96\",\"#ab63fa\",\"#FFA15A\",\"#19d3f3\",\"#FF6692\",\"#B6E880\",\"#FF97FF\",\"#FECB52\"],\"font\":{\"color\":\"#2a3f5f\"},\"geo\":{\"bgcolor\":\"white\",\"lakecolor\":\"white\",\"landcolor\":\"#E5ECF6\",\"showlakes\":true,\"showland\":true,\"subunitcolor\":\"white\"},\"hoverlabel\":{\"align\":\"left\"},\"hovermode\":\"closest\",\"mapbox\":{\"style\":\"light\"},\"paper_bgcolor\":\"white\",\"plot_bgcolor\":\"#E5ECF6\",\"polar\":{\"angularaxis\":{\"gridcolor\":\"white\",\"linecolor\":\"white\",\"ticks\":\"\"},\"bgcolor\":\"#E5ECF6\",\"radialaxis\":{\"gridcolor\":\"white\",\"linecolor\":\"white\",\"ticks\":\"\"}},\"scene\":{\"xaxis\":{\"backgroundcolor\":\"#E5ECF6\",\"gridcolor\":\"white\",\"gridwidth\":2,\"linecolor\":\"white\",\"showbackground\":true,\"ticks\":\"\",\"zerolinecolor\":\"white\"},\"yaxis\":{\"backgroundcolor\":\"#E5ECF6\",\"gridcolor\":\"white\",\"gridwidth\":2,\"linecolor\":\"white\",\"showbackground\":true,\"ticks\":\"\",\"zerolinecolor\":\"white\"},\"zaxis\":{\"backgroundcolor\":\"#E5ECF6\",\"gridcolor\":\"white\",\"gridwidth\":2,\"linecolor\":\"white\",\"showbackground\":true,\"ticks\":\"\",\"zerolinecolor\":\"white\"}},\"shapedefaults\":{\"line\":{\"color\":\"#2a3f5f\"}},\"ternary\":{\"aaxis\":{\"gridcolor\":\"white\",\"linecolor\":\"white\",\"ticks\":\"\"},\"baxis\":{\"gridcolor\":\"white\",\"linecolor\":\"white\",\"ticks\":\"\"},\"bgcolor\":\"#E5ECF6\",\"caxis\":{\"gridcolor\":\"white\",\"linecolor\":\"white\",\"ticks\":\"\"}},\"title\":{\"x\":0.05},\"xaxis\":{\"automargin\":true,\"gridcolor\":\"white\",\"linecolor\":\"white\",\"ticks\":\"\",\"title\":{\"standoff\":15},\"zerolinecolor\":\"white\",\"zerolinewidth\":2},\"yaxis\":{\"automargin\":true,\"gridcolor\":\"white\",\"linecolor\":\"white\",\"ticks\":\"\",\"title\":{\"standoff\":15},\"zerolinecolor\":\"white\",\"zerolinewidth\":2}}},\"title\":{\"text\":\"Plot 11: Share of visits by role, within the same city\"}},                        {\"responsive\": true}                    ).then(function(){\n",
       "                            \n",
       "var gd = document.getElementById('2b34b69e-e5a1-44f4-a53e-e990b9963bb4');\n",
       "var x = new MutationObserver(function (mutations, observer) {{\n",
       "        var display = window.getComputedStyle(gd).display;\n",
       "        if (!display || display === 'none') {{\n",
       "            console.log([gd, 'removed!']);\n",
       "            Plotly.purge(gd);\n",
       "            observer.disconnect();\n",
       "        }}\n",
       "}});\n",
       "\n",
       "// Listen for the removal of the full notebook cells\n",
       "var notebookContainer = gd.closest('#notebook-container');\n",
       "if (notebookContainer) {{\n",
       "    x.observe(notebookContainer, {childList: true});\n",
       "}}\n",
       "\n",
       "// Listen for the clearing of the current output cell\n",
       "var outputEl = gd.closest('.output');\n",
       "if (outputEl) {{\n",
       "    x.observe(outputEl, {childList: true});\n",
       "}}\n",
       "\n",
       "                        })                };                });            </script>        </div>"
      ]
     },
     "metadata": {},
     "output_type": "display_data"
    },
    {
     "data": {
      "application/vnd.plotly.v1+json": {
       "config": {
        "plotlyServerURL": "https://plot.ly"
       },
       "data": [
        {
         "domain": {
          "x": [
           0,
           0.2888888888888889
          ],
          "y": [
           0,
           1
          ]
         },
         "labels": [
          "CEO",
          "Chair",
          "Executive Director",
          "Non-executive Director"
         ],
         "marker": {
          "colors": [
           "#AB63FA",
           "#FFA15A",
           "#19D3F3",
           "#FF6692"
          ]
         },
         "name": "HQ in Sydney",
         "scalegroup": "one",
         "type": "pie",
         "values": [
          1076,
          13230,
          5916,
          3053
         ]
        },
        {
         "domain": {
          "x": [
           0.35555555555555557,
           0.6444444444444445
          ],
          "y": [
           0,
           1
          ]
         },
         "labels": [
          "CEO",
          "Chair",
          "Executive Director",
          "Non-executive Director"
         ],
         "marker": {
          "colors": [
           "#AB63FA",
           "#FFA15A",
           "#19D3F3",
           "#FF6692"
          ]
         },
         "name": "HQ in Melbourne",
         "scalegroup": "one",
         "type": "pie",
         "values": [
          1813,
          8032,
          559,
          21328
         ]
        },
        {
         "domain": {
          "x": [
           0.7111111111111111,
           1
          ],
          "y": [
           0,
           1
          ]
         },
         "labels": [
          "CEO",
          "Chair",
          "Executive Director",
          "Non-executive Director"
         ],
         "marker": {
          "colors": [
           "#AB63FA",
           "#FFA15A",
           "#19D3F3",
           "#FF6692"
          ]
         },
         "name": "HQ in Perth",
         "scalegroup": "one",
         "type": "pie",
         "values": [
          1091,
          15044,
          2115,
          5373
         ]
        }
       ],
       "layout": {
        "annotations": [
         {
          "font": {
           "size": 16
          },
          "showarrow": false,
          "text": "HQ in Sydney",
          "x": 0.14444444444444446,
          "xanchor": "center",
          "xref": "paper",
          "y": 1,
          "yanchor": "bottom",
          "yref": "paper"
         },
         {
          "font": {
           "size": 16
          },
          "showarrow": false,
          "text": "HQ in Melbourne",
          "x": 0.5,
          "xanchor": "center",
          "xref": "paper",
          "y": 1,
          "yanchor": "bottom",
          "yref": "paper"
         },
         {
          "font": {
           "size": 16
          },
          "showarrow": false,
          "text": "HQ in Perth",
          "x": 0.8555555555555556,
          "xanchor": "center",
          "xref": "paper",
          "y": 1,
          "yanchor": "bottom",
          "yref": "paper"
         }
        ],
        "template": {
         "data": {
          "bar": [
           {
            "error_x": {
             "color": "#2a3f5f"
            },
            "error_y": {
             "color": "#2a3f5f"
            },
            "marker": {
             "line": {
              "color": "#E5ECF6",
              "width": 0.5
             },
             "pattern": {
              "fillmode": "overlay",
              "size": 10,
              "solidity": 0.2
             }
            },
            "type": "bar"
           }
          ],
          "barpolar": [
           {
            "marker": {
             "line": {
              "color": "#E5ECF6",
              "width": 0.5
             },
             "pattern": {
              "fillmode": "overlay",
              "size": 10,
              "solidity": 0.2
             }
            },
            "type": "barpolar"
           }
          ],
          "carpet": [
           {
            "aaxis": {
             "endlinecolor": "#2a3f5f",
             "gridcolor": "white",
             "linecolor": "white",
             "minorgridcolor": "white",
             "startlinecolor": "#2a3f5f"
            },
            "baxis": {
             "endlinecolor": "#2a3f5f",
             "gridcolor": "white",
             "linecolor": "white",
             "minorgridcolor": "white",
             "startlinecolor": "#2a3f5f"
            },
            "type": "carpet"
           }
          ],
          "choropleth": [
           {
            "colorbar": {
             "outlinewidth": 0,
             "ticks": ""
            },
            "type": "choropleth"
           }
          ],
          "contour": [
           {
            "colorbar": {
             "outlinewidth": 0,
             "ticks": ""
            },
            "colorscale": [
             [
              0,
              "#0d0887"
             ],
             [
              0.1111111111111111,
              "#46039f"
             ],
             [
              0.2222222222222222,
              "#7201a8"
             ],
             [
              0.3333333333333333,
              "#9c179e"
             ],
             [
              0.4444444444444444,
              "#bd3786"
             ],
             [
              0.5555555555555556,
              "#d8576b"
             ],
             [
              0.6666666666666666,
              "#ed7953"
             ],
             [
              0.7777777777777778,
              "#fb9f3a"
             ],
             [
              0.8888888888888888,
              "#fdca26"
             ],
             [
              1,
              "#f0f921"
             ]
            ],
            "type": "contour"
           }
          ],
          "contourcarpet": [
           {
            "colorbar": {
             "outlinewidth": 0,
             "ticks": ""
            },
            "type": "contourcarpet"
           }
          ],
          "heatmap": [
           {
            "colorbar": {
             "outlinewidth": 0,
             "ticks": ""
            },
            "colorscale": [
             [
              0,
              "#0d0887"
             ],
             [
              0.1111111111111111,
              "#46039f"
             ],
             [
              0.2222222222222222,
              "#7201a8"
             ],
             [
              0.3333333333333333,
              "#9c179e"
             ],
             [
              0.4444444444444444,
              "#bd3786"
             ],
             [
              0.5555555555555556,
              "#d8576b"
             ],
             [
              0.6666666666666666,
              "#ed7953"
             ],
             [
              0.7777777777777778,
              "#fb9f3a"
             ],
             [
              0.8888888888888888,
              "#fdca26"
             ],
             [
              1,
              "#f0f921"
             ]
            ],
            "type": "heatmap"
           }
          ],
          "heatmapgl": [
           {
            "colorbar": {
             "outlinewidth": 0,
             "ticks": ""
            },
            "colorscale": [
             [
              0,
              "#0d0887"
             ],
             [
              0.1111111111111111,
              "#46039f"
             ],
             [
              0.2222222222222222,
              "#7201a8"
             ],
             [
              0.3333333333333333,
              "#9c179e"
             ],
             [
              0.4444444444444444,
              "#bd3786"
             ],
             [
              0.5555555555555556,
              "#d8576b"
             ],
             [
              0.6666666666666666,
              "#ed7953"
             ],
             [
              0.7777777777777778,
              "#fb9f3a"
             ],
             [
              0.8888888888888888,
              "#fdca26"
             ],
             [
              1,
              "#f0f921"
             ]
            ],
            "type": "heatmapgl"
           }
          ],
          "histogram": [
           {
            "marker": {
             "pattern": {
              "fillmode": "overlay",
              "size": 10,
              "solidity": 0.2
             }
            },
            "type": "histogram"
           }
          ],
          "histogram2d": [
           {
            "colorbar": {
             "outlinewidth": 0,
             "ticks": ""
            },
            "colorscale": [
             [
              0,
              "#0d0887"
             ],
             [
              0.1111111111111111,
              "#46039f"
             ],
             [
              0.2222222222222222,
              "#7201a8"
             ],
             [
              0.3333333333333333,
              "#9c179e"
             ],
             [
              0.4444444444444444,
              "#bd3786"
             ],
             [
              0.5555555555555556,
              "#d8576b"
             ],
             [
              0.6666666666666666,
              "#ed7953"
             ],
             [
              0.7777777777777778,
              "#fb9f3a"
             ],
             [
              0.8888888888888888,
              "#fdca26"
             ],
             [
              1,
              "#f0f921"
             ]
            ],
            "type": "histogram2d"
           }
          ],
          "histogram2dcontour": [
           {
            "colorbar": {
             "outlinewidth": 0,
             "ticks": ""
            },
            "colorscale": [
             [
              0,
              "#0d0887"
             ],
             [
              0.1111111111111111,
              "#46039f"
             ],
             [
              0.2222222222222222,
              "#7201a8"
             ],
             [
              0.3333333333333333,
              "#9c179e"
             ],
             [
              0.4444444444444444,
              "#bd3786"
             ],
             [
              0.5555555555555556,
              "#d8576b"
             ],
             [
              0.6666666666666666,
              "#ed7953"
             ],
             [
              0.7777777777777778,
              "#fb9f3a"
             ],
             [
              0.8888888888888888,
              "#fdca26"
             ],
             [
              1,
              "#f0f921"
             ]
            ],
            "type": "histogram2dcontour"
           }
          ],
          "mesh3d": [
           {
            "colorbar": {
             "outlinewidth": 0,
             "ticks": ""
            },
            "type": "mesh3d"
           }
          ],
          "parcoords": [
           {
            "line": {
             "colorbar": {
              "outlinewidth": 0,
              "ticks": ""
             }
            },
            "type": "parcoords"
           }
          ],
          "pie": [
           {
            "automargin": true,
            "type": "pie"
           }
          ],
          "scatter": [
           {
            "marker": {
             "colorbar": {
              "outlinewidth": 0,
              "ticks": ""
             }
            },
            "type": "scatter"
           }
          ],
          "scatter3d": [
           {
            "line": {
             "colorbar": {
              "outlinewidth": 0,
              "ticks": ""
             }
            },
            "marker": {
             "colorbar": {
              "outlinewidth": 0,
              "ticks": ""
             }
            },
            "type": "scatter3d"
           }
          ],
          "scattercarpet": [
           {
            "marker": {
             "colorbar": {
              "outlinewidth": 0,
              "ticks": ""
             }
            },
            "type": "scattercarpet"
           }
          ],
          "scattergeo": [
           {
            "marker": {
             "colorbar": {
              "outlinewidth": 0,
              "ticks": ""
             }
            },
            "type": "scattergeo"
           }
          ],
          "scattergl": [
           {
            "marker": {
             "colorbar": {
              "outlinewidth": 0,
              "ticks": ""
             }
            },
            "type": "scattergl"
           }
          ],
          "scattermapbox": [
           {
            "marker": {
             "colorbar": {
              "outlinewidth": 0,
              "ticks": ""
             }
            },
            "type": "scattermapbox"
           }
          ],
          "scatterpolar": [
           {
            "marker": {
             "colorbar": {
              "outlinewidth": 0,
              "ticks": ""
             }
            },
            "type": "scatterpolar"
           }
          ],
          "scatterpolargl": [
           {
            "marker": {
             "colorbar": {
              "outlinewidth": 0,
              "ticks": ""
             }
            },
            "type": "scatterpolargl"
           }
          ],
          "scatterternary": [
           {
            "marker": {
             "colorbar": {
              "outlinewidth": 0,
              "ticks": ""
             }
            },
            "type": "scatterternary"
           }
          ],
          "surface": [
           {
            "colorbar": {
             "outlinewidth": 0,
             "ticks": ""
            },
            "colorscale": [
             [
              0,
              "#0d0887"
             ],
             [
              0.1111111111111111,
              "#46039f"
             ],
             [
              0.2222222222222222,
              "#7201a8"
             ],
             [
              0.3333333333333333,
              "#9c179e"
             ],
             [
              0.4444444444444444,
              "#bd3786"
             ],
             [
              0.5555555555555556,
              "#d8576b"
             ],
             [
              0.6666666666666666,
              "#ed7953"
             ],
             [
              0.7777777777777778,
              "#fb9f3a"
             ],
             [
              0.8888888888888888,
              "#fdca26"
             ],
             [
              1,
              "#f0f921"
             ]
            ],
            "type": "surface"
           }
          ],
          "table": [
           {
            "cells": {
             "fill": {
              "color": "#EBF0F8"
             },
             "line": {
              "color": "white"
             }
            },
            "header": {
             "fill": {
              "color": "#C8D4E3"
             },
             "line": {
              "color": "white"
             }
            },
            "type": "table"
           }
          ]
         },
         "layout": {
          "annotationdefaults": {
           "arrowcolor": "#2a3f5f",
           "arrowhead": 0,
           "arrowwidth": 1
          },
          "autotypenumbers": "strict",
          "coloraxis": {
           "colorbar": {
            "outlinewidth": 0,
            "ticks": ""
           }
          },
          "colorscale": {
           "diverging": [
            [
             0,
             "#8e0152"
            ],
            [
             0.1,
             "#c51b7d"
            ],
            [
             0.2,
             "#de77ae"
            ],
            [
             0.3,
             "#f1b6da"
            ],
            [
             0.4,
             "#fde0ef"
            ],
            [
             0.5,
             "#f7f7f7"
            ],
            [
             0.6,
             "#e6f5d0"
            ],
            [
             0.7,
             "#b8e186"
            ],
            [
             0.8,
             "#7fbc41"
            ],
            [
             0.9,
             "#4d9221"
            ],
            [
             1,
             "#276419"
            ]
           ],
           "sequential": [
            [
             0,
             "#0d0887"
            ],
            [
             0.1111111111111111,
             "#46039f"
            ],
            [
             0.2222222222222222,
             "#7201a8"
            ],
            [
             0.3333333333333333,
             "#9c179e"
            ],
            [
             0.4444444444444444,
             "#bd3786"
            ],
            [
             0.5555555555555556,
             "#d8576b"
            ],
            [
             0.6666666666666666,
             "#ed7953"
            ],
            [
             0.7777777777777778,
             "#fb9f3a"
            ],
            [
             0.8888888888888888,
             "#fdca26"
            ],
            [
             1,
             "#f0f921"
            ]
           ],
           "sequentialminus": [
            [
             0,
             "#0d0887"
            ],
            [
             0.1111111111111111,
             "#46039f"
            ],
            [
             0.2222222222222222,
             "#7201a8"
            ],
            [
             0.3333333333333333,
             "#9c179e"
            ],
            [
             0.4444444444444444,
             "#bd3786"
            ],
            [
             0.5555555555555556,
             "#d8576b"
            ],
            [
             0.6666666666666666,
             "#ed7953"
            ],
            [
             0.7777777777777778,
             "#fb9f3a"
            ],
            [
             0.8888888888888888,
             "#fdca26"
            ],
            [
             1,
             "#f0f921"
            ]
           ]
          },
          "colorway": [
           "#636efa",
           "#EF553B",
           "#00cc96",
           "#ab63fa",
           "#FFA15A",
           "#19d3f3",
           "#FF6692",
           "#B6E880",
           "#FF97FF",
           "#FECB52"
          ],
          "font": {
           "color": "#2a3f5f"
          },
          "geo": {
           "bgcolor": "white",
           "lakecolor": "white",
           "landcolor": "#E5ECF6",
           "showlakes": true,
           "showland": true,
           "subunitcolor": "white"
          },
          "hoverlabel": {
           "align": "left"
          },
          "hovermode": "closest",
          "mapbox": {
           "style": "light"
          },
          "paper_bgcolor": "white",
          "plot_bgcolor": "#E5ECF6",
          "polar": {
           "angularaxis": {
            "gridcolor": "white",
            "linecolor": "white",
            "ticks": ""
           },
           "bgcolor": "#E5ECF6",
           "radialaxis": {
            "gridcolor": "white",
            "linecolor": "white",
            "ticks": ""
           }
          },
          "scene": {
           "xaxis": {
            "backgroundcolor": "#E5ECF6",
            "gridcolor": "white",
            "gridwidth": 2,
            "linecolor": "white",
            "showbackground": true,
            "ticks": "",
            "zerolinecolor": "white"
           },
           "yaxis": {
            "backgroundcolor": "#E5ECF6",
            "gridcolor": "white",
            "gridwidth": 2,
            "linecolor": "white",
            "showbackground": true,
            "ticks": "",
            "zerolinecolor": "white"
           },
           "zaxis": {
            "backgroundcolor": "#E5ECF6",
            "gridcolor": "white",
            "gridwidth": 2,
            "linecolor": "white",
            "showbackground": true,
            "ticks": "",
            "zerolinecolor": "white"
           }
          },
          "shapedefaults": {
           "line": {
            "color": "#2a3f5f"
           }
          },
          "ternary": {
           "aaxis": {
            "gridcolor": "white",
            "linecolor": "white",
            "ticks": ""
           },
           "baxis": {
            "gridcolor": "white",
            "linecolor": "white",
            "ticks": ""
           },
           "bgcolor": "#E5ECF6",
           "caxis": {
            "gridcolor": "white",
            "linecolor": "white",
            "ticks": ""
           }
          },
          "title": {
           "x": 0.05
          },
          "xaxis": {
           "automargin": true,
           "gridcolor": "white",
           "linecolor": "white",
           "ticks": "",
           "title": {
            "standoff": 15
           },
           "zerolinecolor": "white",
           "zerolinewidth": 2
          },
          "yaxis": {
           "automargin": true,
           "gridcolor": "white",
           "linecolor": "white",
           "ticks": "",
           "title": {
            "standoff": 15
           },
           "zerolinecolor": "white",
           "zerolinewidth": 2
          }
         }
        },
        "title": {
         "text": "Plot 12: Share of visits outside of HQ city by role"
        }
       }
      },
      "text/html": [
       "<div>                            <div id=\"ee1956e2-8205-40d0-9762-847df1969cf6\" class=\"plotly-graph-div\" style=\"height:525px; width:100%;\"></div>            <script type=\"text/javascript\">                require([\"plotly\"], function(Plotly) {                    window.PLOTLYENV=window.PLOTLYENV || {};                                    if (document.getElementById(\"ee1956e2-8205-40d0-9762-847df1969cf6\")) {                    Plotly.newPlot(                        \"ee1956e2-8205-40d0-9762-847df1969cf6\",                        [{\"domain\":{\"x\":[0.0,0.2888888888888889],\"y\":[0.0,1.0]},\"labels\":[\"CEO\",\"Chair\",\"Executive Director\",\"Non-executive Director\"],\"marker\":{\"colors\":[\"#AB63FA\",\"#FFA15A\",\"#19D3F3\",\"#FF6692\"]},\"name\":\"HQ in Sydney\",\"scalegroup\":\"one\",\"type\":\"pie\",\"values\":[1076,13230,5916,3053]},{\"domain\":{\"x\":[0.35555555555555557,0.6444444444444445],\"y\":[0.0,1.0]},\"labels\":[\"CEO\",\"Chair\",\"Executive Director\",\"Non-executive Director\"],\"marker\":{\"colors\":[\"#AB63FA\",\"#FFA15A\",\"#19D3F3\",\"#FF6692\"]},\"name\":\"HQ in Melbourne\",\"scalegroup\":\"one\",\"type\":\"pie\",\"values\":[1813,8032,559,21328]},{\"domain\":{\"x\":[0.7111111111111111,1.0],\"y\":[0.0,1.0]},\"labels\":[\"CEO\",\"Chair\",\"Executive Director\",\"Non-executive Director\"],\"marker\":{\"colors\":[\"#AB63FA\",\"#FFA15A\",\"#19D3F3\",\"#FF6692\"]},\"name\":\"HQ in Perth\",\"scalegroup\":\"one\",\"type\":\"pie\",\"values\":[1091,15044,2115,5373]}],                        {\"annotations\":[{\"font\":{\"size\":16},\"showarrow\":false,\"text\":\"HQ in Sydney\",\"x\":0.14444444444444446,\"xanchor\":\"center\",\"xref\":\"paper\",\"y\":1.0,\"yanchor\":\"bottom\",\"yref\":\"paper\"},{\"font\":{\"size\":16},\"showarrow\":false,\"text\":\"HQ in Melbourne\",\"x\":0.5,\"xanchor\":\"center\",\"xref\":\"paper\",\"y\":1.0,\"yanchor\":\"bottom\",\"yref\":\"paper\"},{\"font\":{\"size\":16},\"showarrow\":false,\"text\":\"HQ in Perth\",\"x\":0.8555555555555556,\"xanchor\":\"center\",\"xref\":\"paper\",\"y\":1.0,\"yanchor\":\"bottom\",\"yref\":\"paper\"}],\"template\":{\"data\":{\"bar\":[{\"error_x\":{\"color\":\"#2a3f5f\"},\"error_y\":{\"color\":\"#2a3f5f\"},\"marker\":{\"line\":{\"color\":\"#E5ECF6\",\"width\":0.5},\"pattern\":{\"fillmode\":\"overlay\",\"size\":10,\"solidity\":0.2}},\"type\":\"bar\"}],\"barpolar\":[{\"marker\":{\"line\":{\"color\":\"#E5ECF6\",\"width\":0.5},\"pattern\":{\"fillmode\":\"overlay\",\"size\":10,\"solidity\":0.2}},\"type\":\"barpolar\"}],\"carpet\":[{\"aaxis\":{\"endlinecolor\":\"#2a3f5f\",\"gridcolor\":\"white\",\"linecolor\":\"white\",\"minorgridcolor\":\"white\",\"startlinecolor\":\"#2a3f5f\"},\"baxis\":{\"endlinecolor\":\"#2a3f5f\",\"gridcolor\":\"white\",\"linecolor\":\"white\",\"minorgridcolor\":\"white\",\"startlinecolor\":\"#2a3f5f\"},\"type\":\"carpet\"}],\"choropleth\":[{\"colorbar\":{\"outlinewidth\":0,\"ticks\":\"\"},\"type\":\"choropleth\"}],\"contour\":[{\"colorbar\":{\"outlinewidth\":0,\"ticks\":\"\"},\"colorscale\":[[0.0,\"#0d0887\"],[0.1111111111111111,\"#46039f\"],[0.2222222222222222,\"#7201a8\"],[0.3333333333333333,\"#9c179e\"],[0.4444444444444444,\"#bd3786\"],[0.5555555555555556,\"#d8576b\"],[0.6666666666666666,\"#ed7953\"],[0.7777777777777778,\"#fb9f3a\"],[0.8888888888888888,\"#fdca26\"],[1.0,\"#f0f921\"]],\"type\":\"contour\"}],\"contourcarpet\":[{\"colorbar\":{\"outlinewidth\":0,\"ticks\":\"\"},\"type\":\"contourcarpet\"}],\"heatmap\":[{\"colorbar\":{\"outlinewidth\":0,\"ticks\":\"\"},\"colorscale\":[[0.0,\"#0d0887\"],[0.1111111111111111,\"#46039f\"],[0.2222222222222222,\"#7201a8\"],[0.3333333333333333,\"#9c179e\"],[0.4444444444444444,\"#bd3786\"],[0.5555555555555556,\"#d8576b\"],[0.6666666666666666,\"#ed7953\"],[0.7777777777777778,\"#fb9f3a\"],[0.8888888888888888,\"#fdca26\"],[1.0,\"#f0f921\"]],\"type\":\"heatmap\"}],\"heatmapgl\":[{\"colorbar\":{\"outlinewidth\":0,\"ticks\":\"\"},\"colorscale\":[[0.0,\"#0d0887\"],[0.1111111111111111,\"#46039f\"],[0.2222222222222222,\"#7201a8\"],[0.3333333333333333,\"#9c179e\"],[0.4444444444444444,\"#bd3786\"],[0.5555555555555556,\"#d8576b\"],[0.6666666666666666,\"#ed7953\"],[0.7777777777777778,\"#fb9f3a\"],[0.8888888888888888,\"#fdca26\"],[1.0,\"#f0f921\"]],\"type\":\"heatmapgl\"}],\"histogram\":[{\"marker\":{\"pattern\":{\"fillmode\":\"overlay\",\"size\":10,\"solidity\":0.2}},\"type\":\"histogram\"}],\"histogram2d\":[{\"colorbar\":{\"outlinewidth\":0,\"ticks\":\"\"},\"colorscale\":[[0.0,\"#0d0887\"],[0.1111111111111111,\"#46039f\"],[0.2222222222222222,\"#7201a8\"],[0.3333333333333333,\"#9c179e\"],[0.4444444444444444,\"#bd3786\"],[0.5555555555555556,\"#d8576b\"],[0.6666666666666666,\"#ed7953\"],[0.7777777777777778,\"#fb9f3a\"],[0.8888888888888888,\"#fdca26\"],[1.0,\"#f0f921\"]],\"type\":\"histogram2d\"}],\"histogram2dcontour\":[{\"colorbar\":{\"outlinewidth\":0,\"ticks\":\"\"},\"colorscale\":[[0.0,\"#0d0887\"],[0.1111111111111111,\"#46039f\"],[0.2222222222222222,\"#7201a8\"],[0.3333333333333333,\"#9c179e\"],[0.4444444444444444,\"#bd3786\"],[0.5555555555555556,\"#d8576b\"],[0.6666666666666666,\"#ed7953\"],[0.7777777777777778,\"#fb9f3a\"],[0.8888888888888888,\"#fdca26\"],[1.0,\"#f0f921\"]],\"type\":\"histogram2dcontour\"}],\"mesh3d\":[{\"colorbar\":{\"outlinewidth\":0,\"ticks\":\"\"},\"type\":\"mesh3d\"}],\"parcoords\":[{\"line\":{\"colorbar\":{\"outlinewidth\":0,\"ticks\":\"\"}},\"type\":\"parcoords\"}],\"pie\":[{\"automargin\":true,\"type\":\"pie\"}],\"scatter\":[{\"marker\":{\"colorbar\":{\"outlinewidth\":0,\"ticks\":\"\"}},\"type\":\"scatter\"}],\"scatter3d\":[{\"line\":{\"colorbar\":{\"outlinewidth\":0,\"ticks\":\"\"}},\"marker\":{\"colorbar\":{\"outlinewidth\":0,\"ticks\":\"\"}},\"type\":\"scatter3d\"}],\"scattercarpet\":[{\"marker\":{\"colorbar\":{\"outlinewidth\":0,\"ticks\":\"\"}},\"type\":\"scattercarpet\"}],\"scattergeo\":[{\"marker\":{\"colorbar\":{\"outlinewidth\":0,\"ticks\":\"\"}},\"type\":\"scattergeo\"}],\"scattergl\":[{\"marker\":{\"colorbar\":{\"outlinewidth\":0,\"ticks\":\"\"}},\"type\":\"scattergl\"}],\"scattermapbox\":[{\"marker\":{\"colorbar\":{\"outlinewidth\":0,\"ticks\":\"\"}},\"type\":\"scattermapbox\"}],\"scatterpolar\":[{\"marker\":{\"colorbar\":{\"outlinewidth\":0,\"ticks\":\"\"}},\"type\":\"scatterpolar\"}],\"scatterpolargl\":[{\"marker\":{\"colorbar\":{\"outlinewidth\":0,\"ticks\":\"\"}},\"type\":\"scatterpolargl\"}],\"scatterternary\":[{\"marker\":{\"colorbar\":{\"outlinewidth\":0,\"ticks\":\"\"}},\"type\":\"scatterternary\"}],\"surface\":[{\"colorbar\":{\"outlinewidth\":0,\"ticks\":\"\"},\"colorscale\":[[0.0,\"#0d0887\"],[0.1111111111111111,\"#46039f\"],[0.2222222222222222,\"#7201a8\"],[0.3333333333333333,\"#9c179e\"],[0.4444444444444444,\"#bd3786\"],[0.5555555555555556,\"#d8576b\"],[0.6666666666666666,\"#ed7953\"],[0.7777777777777778,\"#fb9f3a\"],[0.8888888888888888,\"#fdca26\"],[1.0,\"#f0f921\"]],\"type\":\"surface\"}],\"table\":[{\"cells\":{\"fill\":{\"color\":\"#EBF0F8\"},\"line\":{\"color\":\"white\"}},\"header\":{\"fill\":{\"color\":\"#C8D4E3\"},\"line\":{\"color\":\"white\"}},\"type\":\"table\"}]},\"layout\":{\"annotationdefaults\":{\"arrowcolor\":\"#2a3f5f\",\"arrowhead\":0,\"arrowwidth\":1},\"autotypenumbers\":\"strict\",\"coloraxis\":{\"colorbar\":{\"outlinewidth\":0,\"ticks\":\"\"}},\"colorscale\":{\"diverging\":[[0,\"#8e0152\"],[0.1,\"#c51b7d\"],[0.2,\"#de77ae\"],[0.3,\"#f1b6da\"],[0.4,\"#fde0ef\"],[0.5,\"#f7f7f7\"],[0.6,\"#e6f5d0\"],[0.7,\"#b8e186\"],[0.8,\"#7fbc41\"],[0.9,\"#4d9221\"],[1,\"#276419\"]],\"sequential\":[[0.0,\"#0d0887\"],[0.1111111111111111,\"#46039f\"],[0.2222222222222222,\"#7201a8\"],[0.3333333333333333,\"#9c179e\"],[0.4444444444444444,\"#bd3786\"],[0.5555555555555556,\"#d8576b\"],[0.6666666666666666,\"#ed7953\"],[0.7777777777777778,\"#fb9f3a\"],[0.8888888888888888,\"#fdca26\"],[1.0,\"#f0f921\"]],\"sequentialminus\":[[0.0,\"#0d0887\"],[0.1111111111111111,\"#46039f\"],[0.2222222222222222,\"#7201a8\"],[0.3333333333333333,\"#9c179e\"],[0.4444444444444444,\"#bd3786\"],[0.5555555555555556,\"#d8576b\"],[0.6666666666666666,\"#ed7953\"],[0.7777777777777778,\"#fb9f3a\"],[0.8888888888888888,\"#fdca26\"],[1.0,\"#f0f921\"]]},\"colorway\":[\"#636efa\",\"#EF553B\",\"#00cc96\",\"#ab63fa\",\"#FFA15A\",\"#19d3f3\",\"#FF6692\",\"#B6E880\",\"#FF97FF\",\"#FECB52\"],\"font\":{\"color\":\"#2a3f5f\"},\"geo\":{\"bgcolor\":\"white\",\"lakecolor\":\"white\",\"landcolor\":\"#E5ECF6\",\"showlakes\":true,\"showland\":true,\"subunitcolor\":\"white\"},\"hoverlabel\":{\"align\":\"left\"},\"hovermode\":\"closest\",\"mapbox\":{\"style\":\"light\"},\"paper_bgcolor\":\"white\",\"plot_bgcolor\":\"#E5ECF6\",\"polar\":{\"angularaxis\":{\"gridcolor\":\"white\",\"linecolor\":\"white\",\"ticks\":\"\"},\"bgcolor\":\"#E5ECF6\",\"radialaxis\":{\"gridcolor\":\"white\",\"linecolor\":\"white\",\"ticks\":\"\"}},\"scene\":{\"xaxis\":{\"backgroundcolor\":\"#E5ECF6\",\"gridcolor\":\"white\",\"gridwidth\":2,\"linecolor\":\"white\",\"showbackground\":true,\"ticks\":\"\",\"zerolinecolor\":\"white\"},\"yaxis\":{\"backgroundcolor\":\"#E5ECF6\",\"gridcolor\":\"white\",\"gridwidth\":2,\"linecolor\":\"white\",\"showbackground\":true,\"ticks\":\"\",\"zerolinecolor\":\"white\"},\"zaxis\":{\"backgroundcolor\":\"#E5ECF6\",\"gridcolor\":\"white\",\"gridwidth\":2,\"linecolor\":\"white\",\"showbackground\":true,\"ticks\":\"\",\"zerolinecolor\":\"white\"}},\"shapedefaults\":{\"line\":{\"color\":\"#2a3f5f\"}},\"ternary\":{\"aaxis\":{\"gridcolor\":\"white\",\"linecolor\":\"white\",\"ticks\":\"\"},\"baxis\":{\"gridcolor\":\"white\",\"linecolor\":\"white\",\"ticks\":\"\"},\"bgcolor\":\"#E5ECF6\",\"caxis\":{\"gridcolor\":\"white\",\"linecolor\":\"white\",\"ticks\":\"\"}},\"title\":{\"x\":0.05},\"xaxis\":{\"automargin\":true,\"gridcolor\":\"white\",\"linecolor\":\"white\",\"ticks\":\"\",\"title\":{\"standoff\":15},\"zerolinecolor\":\"white\",\"zerolinewidth\":2},\"yaxis\":{\"automargin\":true,\"gridcolor\":\"white\",\"linecolor\":\"white\",\"ticks\":\"\",\"title\":{\"standoff\":15},\"zerolinecolor\":\"white\",\"zerolinewidth\":2}}},\"title\":{\"text\":\"Plot 12: Share of visits outside of HQ city by role\"}},                        {\"responsive\": true}                    ).then(function(){\n",
       "                            \n",
       "var gd = document.getElementById('ee1956e2-8205-40d0-9762-847df1969cf6');\n",
       "var x = new MutationObserver(function (mutations, observer) {{\n",
       "        var display = window.getComputedStyle(gd).display;\n",
       "        if (!display || display === 'none') {{\n",
       "            console.log([gd, 'removed!']);\n",
       "            Plotly.purge(gd);\n",
       "            observer.disconnect();\n",
       "        }}\n",
       "}});\n",
       "\n",
       "// Listen for the removal of the full notebook cells\n",
       "var notebookContainer = gd.closest('#notebook-container');\n",
       "if (notebookContainer) {{\n",
       "    x.observe(notebookContainer, {childList: true});\n",
       "}}\n",
       "\n",
       "// Listen for the clearing of the current output cell\n",
       "var outputEl = gd.closest('.output');\n",
       "if (outputEl) {{\n",
       "    x.observe(outputEl, {childList: true});\n",
       "}}\n",
       "\n",
       "                        })                };                });            </script>        </div>"
      ]
     },
     "metadata": {},
     "output_type": "display_data"
    }
   ],
   "source": [
    "# plot 11 visits by roles within local city:\n",
    "fig = make_subplots(1, 3, specs=[[{'type':'domain'},{'type':'domain'}, {'type':'domain'}]],\n",
    "                    subplot_titles=['HQ in Sydney', 'HQ in Melbourne','HQ in Perth'])\n",
    "fig.add_trace(go.Pie(labels=hq_syd.groupby('role')['visits_sydney'].sum().index, values=hq_syd.groupby('role')['visits_sydney'].sum(), scalegroup='one',\n",
    "                     name=\"HQ in Sydney\"), 1, 1)\n",
    "fig.add_trace(go.Pie(labels=hq_melb.groupby('role')['visits_melbourne'].sum().index, values=hq_melb.groupby('role')['visits_melbourne'].sum(), scalegroup='one',\n",
    "                     name=\"HQ in Melbourne\"), 1, 2)\n",
    "fig.add_trace(go.Pie(labels=hq_perth.groupby('role')['visits_perth'].sum().index, values=hq_perth.groupby('role')['visits_perth'].sum(), scalegroup='one',\n",
    "                     name=\"HQ in Perth\"), 1, 3)\n",
    "fig.update_layout(title_text='Plot 11: Share of visits by role, within the same city')\n",
    "fig.update_traces(marker=dict(colors=role_colors))\n",
    "fig.show()\n",
    "\n",
    "# plot 12 visits by roles outside local city:\n",
    "fig = make_subplots(1, 3, specs=[[{'type':'domain'},{'type':'domain'}, {'type':'domain'}]],\n",
    "                    subplot_titles=['HQ in Sydney', 'HQ in Melbourne','HQ in Perth'])\n",
    "fig.add_trace(go.Pie(labels=hq_syd.groupby('role')[['visits_melbourne','visits_perth']].sum().sum(axis=1).index, values=hq_syd.groupby('role')[['visits_melbourne','visits_perth']].sum().sum(axis=1), scalegroup='one',\n",
    "                     name=\"HQ in Sydney\"), 1, 1)\n",
    "fig.add_trace(go.Pie(labels=hq_melb.groupby('role')[['visits_sydney','visits_perth']].sum().sum(axis=1).index, values=hq_melb.groupby('role')[['visits_sydney','visits_perth']].sum().sum(axis=1), scalegroup='one',\n",
    "                     name=\"HQ in Melbourne\"), 1, 2)\n",
    "fig.add_trace(go.Pie(labels=hq_perth.groupby('role')[['visits_sydney','visits_melbourne']].sum().sum(axis=1).index, values=hq_perth.groupby('role')[['visits_sydney','visits_melbourne']].sum().sum(axis=1), scalegroup='one',\n",
    "                     name=\"HQ in Perth\"), 1, 3)\n",
    "\n",
    "fig.update_traces(marker=dict(colors=role_colors))\n",
    "fig.update_layout(title_text='Plot 12: Share of visits outside of HQ city by role')\n",
    "fig.show()"
   ]
  },
  {
   "cell_type": "markdown",
   "id": "97d93116",
   "metadata": {},
   "source": [
    "### Table 6: Top 10 visitor types:"
   ]
  },
  {
   "cell_type": "code",
   "execution_count": 8,
   "id": "e15e86e5",
   "metadata": {},
   "outputs": [
    {
     "data": {
      "text/html": [
       "<style  type=\"text/css\" >\n",
       "#T_0a79f4a6_61dc_11ec_aa88_c4b301d3622frow0_col0{\n",
       "            background-color:  #6e6ef9;\n",
       "            color:  #000000;\n",
       "        }#T_0a79f4a6_61dc_11ec_aa88_c4b301d3622frow0_col1,#T_0a79f4a6_61dc_11ec_aa88_c4b301d3622frow2_col5,#T_0a79f4a6_61dc_11ec_aa88_c4b301d3622frow3_col6,#T_0a79f4a6_61dc_11ec_aa88_c4b301d3622frow6_col0,#T_0a79f4a6_61dc_11ec_aa88_c4b301d3622frow6_col4,#T_0a79f4a6_61dc_11ec_aa88_c4b301d3622frow9_col2,#T_0a79f4a6_61dc_11ec_aa88_c4b301d3622frow9_col3{\n",
       "            background-color:  #f0f0f3;\n",
       "            color:  #000000;\n",
       "        }#T_0a79f4a6_61dc_11ec_aa88_c4b301d3622frow0_col2,#T_0a79f4a6_61dc_11ec_aa88_c4b301d3622frow0_col3,#T_0a79f4a6_61dc_11ec_aa88_c4b301d3622frow1_col0,#T_0a79f4a6_61dc_11ec_aa88_c4b301d3622frow1_col6,#T_0a79f4a6_61dc_11ec_aa88_c4b301d3622frow2_col4,#T_0a79f4a6_61dc_11ec_aa88_c4b301d3622frow6_col1,#T_0a79f4a6_61dc_11ec_aa88_c4b301d3622frow6_col5{\n",
       "            background-color:  #0000ff;\n",
       "            color:  #f1f1f1;\n",
       "        }#T_0a79f4a6_61dc_11ec_aa88_c4b301d3622frow0_col4{\n",
       "            background-color:  #2424fd;\n",
       "            color:  #f1f1f1;\n",
       "        }#T_0a79f4a6_61dc_11ec_aa88_c4b301d3622frow0_col5{\n",
       "            background-color:  #d6d6f4;\n",
       "            color:  #000000;\n",
       "        }#T_0a79f4a6_61dc_11ec_aa88_c4b301d3622frow0_col6{\n",
       "            background-color:  #4242fc;\n",
       "            color:  #f1f1f1;\n",
       "        }#T_0a79f4a6_61dc_11ec_aa88_c4b301d3622frow1_col1{\n",
       "            background-color:  #8282f8;\n",
       "            color:  #000000;\n",
       "        }#T_0a79f4a6_61dc_11ec_aa88_c4b301d3622frow1_col2{\n",
       "            background-color:  #b6b6f6;\n",
       "            color:  #000000;\n",
       "        }#T_0a79f4a6_61dc_11ec_aa88_c4b301d3622frow1_col3{\n",
       "            background-color:  #0808ff;\n",
       "            color:  #f1f1f1;\n",
       "        }#T_0a79f4a6_61dc_11ec_aa88_c4b301d3622frow1_col4{\n",
       "            background-color:  #bdbdf5;\n",
       "            color:  #000000;\n",
       "        }#T_0a79f4a6_61dc_11ec_aa88_c4b301d3622frow1_col5{\n",
       "            background-color:  #3a3afc;\n",
       "            color:  #f1f1f1;\n",
       "        }#T_0a79f4a6_61dc_11ec_aa88_c4b301d3622frow2_col0{\n",
       "            background-color:  #c7c7f5;\n",
       "            color:  #000000;\n",
       "        }#T_0a79f4a6_61dc_11ec_aa88_c4b301d3622frow2_col1{\n",
       "            background-color:  #0505ff;\n",
       "            color:  #f1f1f1;\n",
       "        }#T_0a79f4a6_61dc_11ec_aa88_c4b301d3622frow2_col2{\n",
       "            background-color:  #4545fb;\n",
       "            color:  #f1f1f1;\n",
       "        }#T_0a79f4a6_61dc_11ec_aa88_c4b301d3622frow2_col3{\n",
       "            background-color:  #2626fd;\n",
       "            color:  #f1f1f1;\n",
       "        }#T_0a79f4a6_61dc_11ec_aa88_c4b301d3622frow2_col6{\n",
       "            background-color:  #7777f9;\n",
       "            color:  #000000;\n",
       "        }#T_0a79f4a6_61dc_11ec_aa88_c4b301d3622frow3_col0{\n",
       "            background-color:  #0101ff;\n",
       "            color:  #f1f1f1;\n",
       "        }#T_0a79f4a6_61dc_11ec_aa88_c4b301d3622frow3_col1{\n",
       "            background-color:  #9f9ff7;\n",
       "            color:  #000000;\n",
       "        }#T_0a79f4a6_61dc_11ec_aa88_c4b301d3622frow3_col2,#T_0a79f4a6_61dc_11ec_aa88_c4b301d3622frow5_col2,#T_0a79f4a6_61dc_11ec_aa88_c4b301d3622frow8_col0{\n",
       "            background-color:  #d1d1f4;\n",
       "            color:  #000000;\n",
       "        }#T_0a79f4a6_61dc_11ec_aa88_c4b301d3622frow3_col3{\n",
       "            background-color:  #4e4efb;\n",
       "            color:  #f1f1f1;\n",
       "        }#T_0a79f4a6_61dc_11ec_aa88_c4b301d3622frow3_col4{\n",
       "            background-color:  #c9c9f5;\n",
       "            color:  #000000;\n",
       "        }#T_0a79f4a6_61dc_11ec_aa88_c4b301d3622frow3_col5,#T_0a79f4a6_61dc_11ec_aa88_c4b301d3622frow5_col0{\n",
       "            background-color:  #3636fc;\n",
       "            color:  #f1f1f1;\n",
       "        }#T_0a79f4a6_61dc_11ec_aa88_c4b301d3622frow4_col0{\n",
       "            background-color:  #e7e7f3;\n",
       "            color:  #000000;\n",
       "        }#T_0a79f4a6_61dc_11ec_aa88_c4b301d3622frow4_col1{\n",
       "            background-color:  #0404ff;\n",
       "            color:  #f1f1f1;\n",
       "        }#T_0a79f4a6_61dc_11ec_aa88_c4b301d3622frow4_col2{\n",
       "            background-color:  #6060fa;\n",
       "            color:  #000000;\n",
       "        }#T_0a79f4a6_61dc_11ec_aa88_c4b301d3622frow4_col3{\n",
       "            background-color:  #8383f8;\n",
       "            color:  #000000;\n",
       "        }#T_0a79f4a6_61dc_11ec_aa88_c4b301d3622frow4_col4,#T_0a79f4a6_61dc_11ec_aa88_c4b301d3622frow8_col5{\n",
       "            background-color:  #e9e9f3;\n",
       "            color:  #000000;\n",
       "        }#T_0a79f4a6_61dc_11ec_aa88_c4b301d3622frow4_col5{\n",
       "            background-color:  #0303ff;\n",
       "            color:  #f1f1f1;\n",
       "        }#T_0a79f4a6_61dc_11ec_aa88_c4b301d3622frow4_col6,#T_0a79f4a6_61dc_11ec_aa88_c4b301d3622frow8_col1{\n",
       "            background-color:  #9e9ef7;\n",
       "            color:  #000000;\n",
       "        }#T_0a79f4a6_61dc_11ec_aa88_c4b301d3622frow5_col1{\n",
       "            background-color:  #a4a4f7;\n",
       "            color:  #000000;\n",
       "        }#T_0a79f4a6_61dc_11ec_aa88_c4b301d3622frow5_col3{\n",
       "            background-color:  #a7a7f7;\n",
       "            color:  #000000;\n",
       "        }#T_0a79f4a6_61dc_11ec_aa88_c4b301d3622frow5_col4,#T_0a79f4a6_61dc_11ec_aa88_c4b301d3622frow7_col3{\n",
       "            background-color:  #d5d5f4;\n",
       "            color:  #000000;\n",
       "        }#T_0a79f4a6_61dc_11ec_aa88_c4b301d3622frow5_col5{\n",
       "            background-color:  #3737fc;\n",
       "            color:  #f1f1f1;\n",
       "        }#T_0a79f4a6_61dc_11ec_aa88_c4b301d3622frow5_col6{\n",
       "            background-color:  #6969fa;\n",
       "            color:  #000000;\n",
       "        }#T_0a79f4a6_61dc_11ec_aa88_c4b301d3622frow6_col2{\n",
       "            background-color:  #7b7bf9;\n",
       "            color:  #000000;\n",
       "        }#T_0a79f4a6_61dc_11ec_aa88_c4b301d3622frow6_col3{\n",
       "            background-color:  #b9b9f6;\n",
       "            color:  #000000;\n",
       "        }#T_0a79f4a6_61dc_11ec_aa88_c4b301d3622frow6_col6{\n",
       "            background-color:  #c3c3f5;\n",
       "            color:  #000000;\n",
       "        }#T_0a79f4a6_61dc_11ec_aa88_c4b301d3622frow7_col0{\n",
       "            background-color:  #dedff4;\n",
       "            color:  #000000;\n",
       "        }#T_0a79f4a6_61dc_11ec_aa88_c4b301d3622frow7_col1{\n",
       "            background-color:  #6161fa;\n",
       "            color:  #000000;\n",
       "        }#T_0a79f4a6_61dc_11ec_aa88_c4b301d3622frow7_col2{\n",
       "            background-color:  #6868fa;\n",
       "            color:  #000000;\n",
       "        }#T_0a79f4a6_61dc_11ec_aa88_c4b301d3622frow7_col4,#T_0a79f4a6_61dc_11ec_aa88_c4b301d3622frow8_col4{\n",
       "            background-color:  #3b3bfc;\n",
       "            color:  #f1f1f1;\n",
       "        }#T_0a79f4a6_61dc_11ec_aa88_c4b301d3622frow7_col5{\n",
       "            background-color:  #e8e8f3;\n",
       "            color:  #000000;\n",
       "        }#T_0a79f4a6_61dc_11ec_aa88_c4b301d3622frow7_col6{\n",
       "            background-color:  #7c7cf9;\n",
       "            color:  #000000;\n",
       "        }#T_0a79f4a6_61dc_11ec_aa88_c4b301d3622frow8_col2{\n",
       "            background-color:  #5757fb;\n",
       "            color:  #f1f1f1;\n",
       "        }#T_0a79f4a6_61dc_11ec_aa88_c4b301d3622frow8_col3{\n",
       "            background-color:  #ddddf4;\n",
       "            color:  #000000;\n",
       "        }#T_0a79f4a6_61dc_11ec_aa88_c4b301d3622frow8_col6{\n",
       "            background-color:  #b4b4f6;\n",
       "            color:  #000000;\n",
       "        }#T_0a79f4a6_61dc_11ec_aa88_c4b301d3622frow9_col0{\n",
       "            background-color:  #2929fd;\n",
       "            color:  #f1f1f1;\n",
       "        }#T_0a79f4a6_61dc_11ec_aa88_c4b301d3622frow9_col1{\n",
       "            background-color:  #d4d4f4;\n",
       "            color:  #000000;\n",
       "        }#T_0a79f4a6_61dc_11ec_aa88_c4b301d3622frow9_col4{\n",
       "            background-color:  #e5e5f3;\n",
       "            color:  #000000;\n",
       "        }#T_0a79f4a6_61dc_11ec_aa88_c4b301d3622frow9_col5{\n",
       "            background-color:  #2b2bfd;\n",
       "            color:  #f1f1f1;\n",
       "        }#T_0a79f4a6_61dc_11ec_aa88_c4b301d3622frow9_col6{\n",
       "            background-color:  #8181f8;\n",
       "            color:  #000000;\n",
       "        }</style><table id=\"T_0a79f4a6_61dc_11ec_aa88_c4b301d3622f\" ><thead>    <tr>        <th class=\"blank\" ></th>        <th class=\"blank\" ></th>        <th class=\"blank level0\" ></th>        <th class=\"col_heading level0 col0\" >visits_sydney</th>        <th class=\"col_heading level0 col1\" >visits_melbourne</th>        <th class=\"col_heading level0 col2\" >visits_perth</th>        <th class=\"col_heading level0 col3\" >total_visits</th>        <th class=\"col_heading level0 col4\" >members</th>        <th class=\"col_heading level0 col5\" >average visits</th>        <th class=\"col_heading level0 col6\" >average_time</th>    </tr>    <tr>        <th class=\"index_name level0\" >industry</th>        <th class=\"index_name level1\" >headquarter_location</th>        <th class=\"index_name level2\" >role</th>        <th class=\"blank\" ></th>        <th class=\"blank\" ></th>        <th class=\"blank\" ></th>        <th class=\"blank\" ></th>        <th class=\"blank\" ></th>        <th class=\"blank\" ></th>        <th class=\"blank\" ></th>    </tr></thead><tbody>\n",
       "                <tr>\n",
       "                        <th id=\"T_0a79f4a6_61dc_11ec_aa88_c4b301d3622flevel0_row0\" class=\"row_heading level0 row0\" >Software & Services</th>\n",
       "                        <th id=\"T_0a79f4a6_61dc_11ec_aa88_c4b301d3622flevel1_row0\" class=\"row_heading level1 row0\" >Melbourne</th>\n",
       "                        <th id=\"T_0a79f4a6_61dc_11ec_aa88_c4b301d3622flevel2_row0\" class=\"row_heading level2 row0\" >Non-executive Director</th>\n",
       "                        <td id=\"T_0a79f4a6_61dc_11ec_aa88_c4b301d3622frow0_col0\" class=\"data row0 col0\" >1980</td>\n",
       "                        <td id=\"T_0a79f4a6_61dc_11ec_aa88_c4b301d3622frow0_col1\" class=\"data row0 col1\" >835</td>\n",
       "                        <td id=\"T_0a79f4a6_61dc_11ec_aa88_c4b301d3622frow0_col2\" class=\"data row0 col2\" >1921</td>\n",
       "                        <td id=\"T_0a79f4a6_61dc_11ec_aa88_c4b301d3622frow0_col3\" class=\"data row0 col3\" >4736</td>\n",
       "                        <td id=\"T_0a79f4a6_61dc_11ec_aa88_c4b301d3622frow0_col4\" class=\"data row0 col4\" >99</td>\n",
       "                        <td id=\"T_0a79f4a6_61dc_11ec_aa88_c4b301d3622frow0_col5\" class=\"data row0 col5\" >47.838384</td>\n",
       "                        <td id=\"T_0a79f4a6_61dc_11ec_aa88_c4b301d3622frow0_col6\" class=\"data row0 col6\" >145.333333</td>\n",
       "            </tr>\n",
       "            <tr>\n",
       "                        <th id=\"T_0a79f4a6_61dc_11ec_aa88_c4b301d3622flevel0_row1\" class=\"row_heading level0 row1\" >Media & Entertainment</th>\n",
       "                        <th id=\"T_0a79f4a6_61dc_11ec_aa88_c4b301d3622flevel1_row1\" class=\"row_heading level1 row1\" >Sydney</th>\n",
       "                        <th id=\"T_0a79f4a6_61dc_11ec_aa88_c4b301d3622flevel2_row1\" class=\"row_heading level2 row1\" >Chair</th>\n",
       "                        <td id=\"T_0a79f4a6_61dc_11ec_aa88_c4b301d3622frow1_col0\" class=\"data row1 col0\" >2468</td>\n",
       "                        <td id=\"T_0a79f4a6_61dc_11ec_aa88_c4b301d3622frow1_col1\" class=\"data row1 col1\" >1109</td>\n",
       "                        <td id=\"T_0a79f4a6_61dc_11ec_aa88_c4b301d3622frow1_col2\" class=\"data row1 col2\" >1138</td>\n",
       "                        <td id=\"T_0a79f4a6_61dc_11ec_aa88_c4b301d3622frow1_col3\" class=\"data row1 col3\" >4715</td>\n",
       "                        <td id=\"T_0a79f4a6_61dc_11ec_aa88_c4b301d3622frow1_col4\" class=\"data row1 col4\" >61</td>\n",
       "                        <td id=\"T_0a79f4a6_61dc_11ec_aa88_c4b301d3622frow1_col5\" class=\"data row1 col5\" >77.295082</td>\n",
       "                        <td id=\"T_0a79f4a6_61dc_11ec_aa88_c4b301d3622frow1_col6\" class=\"data row1 col6\" >155.098361</td>\n",
       "            </tr>\n",
       "            <tr>\n",
       "                        <th id=\"T_0a79f4a6_61dc_11ec_aa88_c4b301d3622flevel0_row2\" class=\"row_heading level0 row2\" >Telecommunication</th>\n",
       "                        <th id=\"T_0a79f4a6_61dc_11ec_aa88_c4b301d3622flevel1_row2\" class=\"row_heading level1 row2\" >Melbourne</th>\n",
       "                        <th id=\"T_0a79f4a6_61dc_11ec_aa88_c4b301d3622flevel2_row2\" class=\"row_heading level2 row2\" >Non-executive Director</th>\n",
       "                        <td id=\"T_0a79f4a6_61dc_11ec_aa88_c4b301d3622frow2_col0\" class=\"data row2 col0\" >1590</td>\n",
       "                        <td id=\"T_0a79f4a6_61dc_11ec_aa88_c4b301d3622frow2_col1\" class=\"data row2 col1\" >1418</td>\n",
       "                        <td id=\"T_0a79f4a6_61dc_11ec_aa88_c4b301d3622frow2_col2\" class=\"data row2 col2\" >1624</td>\n",
       "                        <td id=\"T_0a79f4a6_61dc_11ec_aa88_c4b301d3622frow2_col3\" class=\"data row2 col3\" >4632</td>\n",
       "                        <td id=\"T_0a79f4a6_61dc_11ec_aa88_c4b301d3622frow2_col4\" class=\"data row2 col4\" >108</td>\n",
       "                        <td id=\"T_0a79f4a6_61dc_11ec_aa88_c4b301d3622frow2_col5\" class=\"data row2 col5\" >42.888889</td>\n",
       "                        <td id=\"T_0a79f4a6_61dc_11ec_aa88_c4b301d3622frow2_col6\" class=\"data row2 col6\" >137.685185</td>\n",
       "            </tr>\n",
       "            <tr>\n",
       "                        <th id=\"T_0a79f4a6_61dc_11ec_aa88_c4b301d3622flevel0_row3\" class=\"row_heading level0 row3\" >Health Care</th>\n",
       "                        <th id=\"T_0a79f4a6_61dc_11ec_aa88_c4b301d3622flevel1_row3\" class=\"row_heading level1 row3\" >Sydney</th>\n",
       "                        <th id=\"T_0a79f4a6_61dc_11ec_aa88_c4b301d3622flevel2_row3\" class=\"row_heading level2 row3\" >Chair</th>\n",
       "                        <td id=\"T_0a79f4a6_61dc_11ec_aa88_c4b301d3622frow3_col0\" class=\"data row3 col0\" >2461</td>\n",
       "                        <td id=\"T_0a79f4a6_61dc_11ec_aa88_c4b301d3622frow3_col1\" class=\"data row3 col1\" >1037</td>\n",
       "                        <td id=\"T_0a79f4a6_61dc_11ec_aa88_c4b301d3622frow3_col2\" class=\"data row3 col2\" >1022</td>\n",
       "                        <td id=\"T_0a79f4a6_61dc_11ec_aa88_c4b301d3622frow3_col3\" class=\"data row3 col3\" >4520</td>\n",
       "                        <td id=\"T_0a79f4a6_61dc_11ec_aa88_c4b301d3622frow3_col4\" class=\"data row3 col4\" >58</td>\n",
       "                        <td id=\"T_0a79f4a6_61dc_11ec_aa88_c4b301d3622frow3_col5\" class=\"data row3 col5\" >77.931034</td>\n",
       "                        <td id=\"T_0a79f4a6_61dc_11ec_aa88_c4b301d3622frow3_col6\" class=\"data row3 col6\" >119.862069</td>\n",
       "            </tr>\n",
       "            <tr>\n",
       "                        <th id=\"T_0a79f4a6_61dc_11ec_aa88_c4b301d3622flevel0_row4\" class=\"row_heading level0 row4\" >Financials</th>\n",
       "                        <th id=\"T_0a79f4a6_61dc_11ec_aa88_c4b301d3622flevel1_row4\" class=\"row_heading level1 row4\" >Perth</th>\n",
       "                        <th id=\"T_0a79f4a6_61dc_11ec_aa88_c4b301d3622flevel2_row4\" class=\"row_heading level2 row4\" >Chair</th>\n",
       "                        <td id=\"T_0a79f4a6_61dc_11ec_aa88_c4b301d3622frow4_col0\" class=\"data row4 col0\" >1449</td>\n",
       "                        <td id=\"T_0a79f4a6_61dc_11ec_aa88_c4b301d3622frow4_col1\" class=\"data row4 col1\" >1420</td>\n",
       "                        <td id=\"T_0a79f4a6_61dc_11ec_aa88_c4b301d3622frow4_col2\" class=\"data row4 col2\" >1507</td>\n",
       "                        <td id=\"T_0a79f4a6_61dc_11ec_aa88_c4b301d3622frow4_col3\" class=\"data row4 col3\" >4376</td>\n",
       "                        <td id=\"T_0a79f4a6_61dc_11ec_aa88_c4b301d3622frow4_col4\" class=\"data row4 col4\" >50</td>\n",
       "                        <td id=\"T_0a79f4a6_61dc_11ec_aa88_c4b301d3622frow4_col5\" class=\"data row4 col5\" >87.520000</td>\n",
       "                        <td id=\"T_0a79f4a6_61dc_11ec_aa88_c4b301d3622frow4_col6\" class=\"data row4 col6\" >131.860000</td>\n",
       "            </tr>\n",
       "            <tr>\n",
       "                        <th id=\"T_0a79f4a6_61dc_11ec_aa88_c4b301d3622flevel0_row5\" class=\"row_heading level0 row5\" >Software & Services</th>\n",
       "                        <th id=\"T_0a79f4a6_61dc_11ec_aa88_c4b301d3622flevel1_row5\" class=\"row_heading level1 row5\" >Sydney</th>\n",
       "                        <th id=\"T_0a79f4a6_61dc_11ec_aa88_c4b301d3622flevel2_row5\" class=\"row_heading level2 row5\" >Chair</th>\n",
       "                        <td id=\"T_0a79f4a6_61dc_11ec_aa88_c4b301d3622frow5_col0\" class=\"data row5 col0\" >2231</td>\n",
       "                        <td id=\"T_0a79f4a6_61dc_11ec_aa88_c4b301d3622frow5_col1\" class=\"data row5 col1\" >1024</td>\n",
       "                        <td id=\"T_0a79f4a6_61dc_11ec_aa88_c4b301d3622frow5_col2\" class=\"data row5 col2\" >1021</td>\n",
       "                        <td id=\"T_0a79f4a6_61dc_11ec_aa88_c4b301d3622frow5_col3\" class=\"data row5 col3\" >4276</td>\n",
       "                        <td id=\"T_0a79f4a6_61dc_11ec_aa88_c4b301d3622frow5_col4\" class=\"data row5 col4\" >55</td>\n",
       "                        <td id=\"T_0a79f4a6_61dc_11ec_aa88_c4b301d3622frow5_col5\" class=\"data row5 col5\" >77.745455</td>\n",
       "                        <td id=\"T_0a79f4a6_61dc_11ec_aa88_c4b301d3622frow5_col6\" class=\"data row5 col6\" >139.745455</td>\n",
       "            </tr>\n",
       "            <tr>\n",
       "                        <th id=\"T_0a79f4a6_61dc_11ec_aa88_c4b301d3622flevel0_row6\" class=\"row_heading level0 row6\" >Telecommunication</th>\n",
       "                        <th id=\"T_0a79f4a6_61dc_11ec_aa88_c4b301d3622flevel1_row6\" class=\"row_heading level1 row6\" >Perth</th>\n",
       "                        <th id=\"T_0a79f4a6_61dc_11ec_aa88_c4b301d3622flevel2_row6\" class=\"row_heading level2 row6\" >Chair</th>\n",
       "                        <td id=\"T_0a79f4a6_61dc_11ec_aa88_c4b301d3622frow6_col0\" class=\"data row6 col0\" >1405</td>\n",
       "                        <td id=\"T_0a79f4a6_61dc_11ec_aa88_c4b301d3622frow6_col1\" class=\"data row6 col1\" >1430</td>\n",
       "                        <td id=\"T_0a79f4a6_61dc_11ec_aa88_c4b301d3622frow6_col2\" class=\"data row6 col2\" >1392</td>\n",
       "                        <td id=\"T_0a79f4a6_61dc_11ec_aa88_c4b301d3622frow6_col3\" class=\"data row6 col3\" >4227</td>\n",
       "                        <td id=\"T_0a79f4a6_61dc_11ec_aa88_c4b301d3622frow6_col4\" class=\"data row6 col4\" >48</td>\n",
       "                        <td id=\"T_0a79f4a6_61dc_11ec_aa88_c4b301d3622frow6_col5\" class=\"data row6 col5\" >88.062500</td>\n",
       "                        <td id=\"T_0a79f4a6_61dc_11ec_aa88_c4b301d3622frow6_col6\" class=\"data row6 col6\" >126.500000</td>\n",
       "            </tr>\n",
       "            <tr>\n",
       "                        <th id=\"T_0a79f4a6_61dc_11ec_aa88_c4b301d3622flevel0_row7\" class=\"row_heading level0 row7\" >Health Care</th>\n",
       "                        <th id=\"T_0a79f4a6_61dc_11ec_aa88_c4b301d3622flevel1_row7\" class=\"row_heading level1 row7\" >Melbourne</th>\n",
       "                        <th id=\"T_0a79f4a6_61dc_11ec_aa88_c4b301d3622flevel2_row7\" class=\"row_heading level2 row7\" >Non-executive Director</th>\n",
       "                        <td id=\"T_0a79f4a6_61dc_11ec_aa88_c4b301d3622frow7_col0\" class=\"data row7 col0\" >1487</td>\n",
       "                        <td id=\"T_0a79f4a6_61dc_11ec_aa88_c4b301d3622frow7_col1\" class=\"data row7 col1\" >1190</td>\n",
       "                        <td id=\"T_0a79f4a6_61dc_11ec_aa88_c4b301d3622frow7_col2\" class=\"data row7 col2\" >1474</td>\n",
       "                        <td id=\"T_0a79f4a6_61dc_11ec_aa88_c4b301d3622frow7_col3\" class=\"data row7 col3\" >4151</td>\n",
       "                        <td id=\"T_0a79f4a6_61dc_11ec_aa88_c4b301d3622frow7_col4\" class=\"data row7 col4\" >93</td>\n",
       "                        <td id=\"T_0a79f4a6_61dc_11ec_aa88_c4b301d3622frow7_col5\" class=\"data row7 col5\" >44.634409</td>\n",
       "                        <td id=\"T_0a79f4a6_61dc_11ec_aa88_c4b301d3622frow7_col6\" class=\"data row7 col6\" >136.849462</td>\n",
       "            </tr>\n",
       "            <tr>\n",
       "                        <th id=\"T_0a79f4a6_61dc_11ec_aa88_c4b301d3622flevel0_row8\" class=\"row_heading level0 row8\" >Financials</th>\n",
       "                        <th id=\"T_0a79f4a6_61dc_11ec_aa88_c4b301d3622flevel1_row8\" class=\"row_heading level1 row8\" >Melbourne</th>\n",
       "                        <th id=\"T_0a79f4a6_61dc_11ec_aa88_c4b301d3622flevel2_row8\" class=\"row_heading level2 row8\" >Non-executive Director</th>\n",
       "                        <td id=\"T_0a79f4a6_61dc_11ec_aa88_c4b301d3622frow8_col0\" class=\"data row8 col0\" >1545</td>\n",
       "                        <td id=\"T_0a79f4a6_61dc_11ec_aa88_c4b301d3622frow8_col1\" class=\"data row8 col1\" >1038</td>\n",
       "                        <td id=\"T_0a79f4a6_61dc_11ec_aa88_c4b301d3622frow8_col2\" class=\"data row8 col2\" >1546</td>\n",
       "                        <td id=\"T_0a79f4a6_61dc_11ec_aa88_c4b301d3622frow8_col3\" class=\"data row8 col3\" >4129</td>\n",
       "                        <td id=\"T_0a79f4a6_61dc_11ec_aa88_c4b301d3622frow8_col4\" class=\"data row8 col4\" >93</td>\n",
       "                        <td id=\"T_0a79f4a6_61dc_11ec_aa88_c4b301d3622frow8_col5\" class=\"data row8 col5\" >44.397849</td>\n",
       "                        <td id=\"T_0a79f4a6_61dc_11ec_aa88_c4b301d3622frow8_col6\" class=\"data row8 col6\" >128.784946</td>\n",
       "            </tr>\n",
       "            <tr>\n",
       "                        <th id=\"T_0a79f4a6_61dc_11ec_aa88_c4b301d3622flevel0_row9\" class=\"row_heading level0 row9\" >Insurance</th>\n",
       "                        <th id=\"T_0a79f4a6_61dc_11ec_aa88_c4b301d3622flevel1_row9\" class=\"row_heading level1 row9\" >Sydney</th>\n",
       "                        <th id=\"T_0a79f4a6_61dc_11ec_aa88_c4b301d3622flevel2_row9\" class=\"row_heading level2 row9\" >Chair</th>\n",
       "                        <td id=\"T_0a79f4a6_61dc_11ec_aa88_c4b301d3622frow9_col0\" class=\"data row9 col0\" >2282</td>\n",
       "                        <td id=\"T_0a79f4a6_61dc_11ec_aa88_c4b301d3622frow9_col1\" class=\"data row9 col1\" >906</td>\n",
       "                        <td id=\"T_0a79f4a6_61dc_11ec_aa88_c4b301d3622frow9_col2\" class=\"data row9 col2\" >886</td>\n",
       "                        <td id=\"T_0a79f4a6_61dc_11ec_aa88_c4b301d3622frow9_col3\" class=\"data row9 col3\" >4074</td>\n",
       "                        <td id=\"T_0a79f4a6_61dc_11ec_aa88_c4b301d3622frow9_col4\" class=\"data row9 col4\" >51</td>\n",
       "                        <td id=\"T_0a79f4a6_61dc_11ec_aa88_c4b301d3622frow9_col5\" class=\"data row9 col5\" >79.882353</td>\n",
       "                        <td id=\"T_0a79f4a6_61dc_11ec_aa88_c4b301d3622frow9_col6\" class=\"data row9 col6\" >136.176471</td>\n",
       "            </tr>\n",
       "    </tbody></table>"
      ],
      "text/plain": [
       "<pandas.io.formats.style.Styler at 0x7fef53eb21f0>"
      ]
     },
     "execution_count": 8,
     "metadata": {},
     "output_type": "execute_result"
    }
   ],
   "source": [
    "tot_v = df.groupby(['industry', 'headquarter_location','role'])[['visits_sydney','visits_melbourne','visits_perth','total_visits']].sum()\n",
    "tot_v2 = df.groupby(['industry', 'headquarter_location','role'])['total_visits'].count().to_frame(name='members')\n",
    "tot_v3 = df.groupby(['industry', 'headquarter_location','role'])['total_visits'].mean().to_frame(name='average visits')\n",
    "tot_v4 = df.groupby(['industry','headquarter_location', 'role'])['avg_dwell_time_in_min'].mean().to_frame(name='average_time')\n",
    "together = pd.concat([tot_v,tot_v2,tot_v3,tot_v4],axis=1)\n",
    "together.sort_values('total_visits', ascending=False)[:10].style.background_gradient(cmap=cm)"
   ]
  },
  {
   "cell_type": "code",
   "execution_count": 9,
   "id": "1616c2ac",
   "metadata": {},
   "outputs": [
    {
     "data": {
      "text/html": [
       "<script src=\"https://cdn.rawgit.com/parente/4c3e6936d0d7a46fd071/raw/65b816fb9bdd3c28b4ddf3af602bfd6015486383/code_toggle.js\"></script>\n"
      ],
      "text/plain": [
       "<IPython.core.display.HTML object>"
      ]
     },
     "metadata": {},
     "output_type": "display_data"
    }
   ],
   "source": [
    "%%html\n",
    "<script src=\"https://cdn.rawgit.com/parente/4c3e6936d0d7a46fd071/raw/65b816fb9bdd3c28b4ddf3af602bfd6015486383/code_toggle.js\"></script>"
   ]
  }
 ],
 "metadata": {
  "celltoolbar": "Tags",
  "hide_input": true,
  "kernelspec": {
   "display_name": "Python 3 (ipykernel)",
   "language": "python",
   "name": "python3"
  },
  "language_info": {
   "codemirror_mode": {
    "name": "ipython",
    "version": 3
   },
   "file_extension": ".py",
   "mimetype": "text/x-python",
   "name": "python",
   "nbconvert_exporter": "python",
   "pygments_lexer": "ipython3",
   "version": "3.8.2"
  },
  "papermill": {
   "default_parameters": {},
   "duration": 31.312859,
   "end_time": "2021-12-20T04:36:53.268872",
   "environment_variables": {},
   "exception": null,
   "input_path": "__notebook__.ipynb",
   "output_path": "__notebook__.ipynb",
   "parameters": {},
   "start_time": "2021-12-20T04:36:21.956013",
   "version": "2.3.3"
  }
 },
 "nbformat": 4,
 "nbformat_minor": 5
}
