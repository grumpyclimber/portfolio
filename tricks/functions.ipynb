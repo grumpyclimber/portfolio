{
 "cells": [
  {
   "cell_type": "markdown",
   "id": "d53214d3",
   "metadata": {},
   "source": [
    "# Functions for reducing code\n",
    "I've noticed, that I'm constantly using these, so why not start a notebook with my most common shortcuts:"
   ]
  },
  {
   "cell_type": "markdown",
   "id": "3df2d0da",
   "metadata": {},
   "source": [
    "### Improving plot visuals:"
   ]
  },
  {
   "cell_type": "code",
   "execution_count": 1,
   "id": "844463e0",
   "metadata": {
    "code_folding": []
   },
   "outputs": [],
   "source": [
    "def spines(ax,yl='price',xl='date'):\n",
    "    x1 = ax.spines['right'].set_visible(False)\n",
    "    x2 = ax.spines['top'].set_visible(False)\n",
    "    x3 = ax.spines['left'].set_linewidth(2)\n",
    "    x4 = ax.spines['bottom'].set_linewidth(2)\n",
    "    x5 = ax.set_ylabel(yl)\n",
    "    x6 = ax.set_xlabel(xl)\n",
    "    return x1, x2, x3, x4, x5, x6"
   ]
  },
  {
   "cell_type": "markdown",
   "id": "b5a8d224",
   "metadata": {},
   "source": [
    "### Hot encoding columns:"
   ]
  },
  {
   "cell_type": "code",
   "execution_count": 2,
   "id": "39d381ce",
   "metadata": {},
   "outputs": [],
   "source": [
    "def col_dummy(df, col):\n",
    "    df[col] = df[col].astype('category')\n",
    "    df[col] = df[col].cat.codes\n",
    "    hood_series = pd.get_dummies(df[col],prefix=col)\n",
    "    df = pd.concat([df, hood_series], axis=1)\n",
    "    df = df.drop(columns=(col), axis=1)\n",
    "    return df"
   ]
  }
 ],
 "metadata": {
  "kernelspec": {
   "display_name": "Python 3 (ipykernel)",
   "language": "python",
   "name": "python3"
  },
  "language_info": {
   "codemirror_mode": {
    "name": "ipython",
    "version": 3
   },
   "file_extension": ".py",
   "mimetype": "text/x-python",
   "name": "python",
   "nbconvert_exporter": "python",
   "pygments_lexer": "ipython3",
   "version": "3.8.2"
  }
 },
 "nbformat": 4,
 "nbformat_minor": 5
}
