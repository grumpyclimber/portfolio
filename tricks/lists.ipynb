{
 "cells": [
  {
   "cell_type": "code",
   "execution_count": 45,
   "id": "4143c22c",
   "metadata": {
    "scrolled": true
   },
   "outputs": [],
   "source": [
    "import pandas as pd\n",
    "import numpy as np\n",
    "data = pd.read_csv('jobs.csv', index_col=0)"
   ]
  },
  {
   "cell_type": "markdown",
   "id": "a0080a61",
   "metadata": {},
   "source": [
    "# Say, we have a dataframe with lists as values:"
   ]
  },
  {
   "cell_type": "markdown",
   "id": "a2579797",
   "metadata": {},
   "source": [
    "[Link to the destination](#the_destination)\n"
   ]
  },
  {
   "cell_type": "code",
   "execution_count": 46,
   "id": "51ffbe4b",
   "metadata": {},
   "outputs": [
    {
     "data": {
      "text/html": [
       "<div>\n",
       "<style scoped>\n",
       "    .dataframe tbody tr th:only-of-type {\n",
       "        vertical-align: middle;\n",
       "    }\n",
       "\n",
       "    .dataframe tbody tr th {\n",
       "        vertical-align: top;\n",
       "    }\n",
       "\n",
       "    .dataframe thead th {\n",
       "        text-align: right;\n",
       "    }\n",
       "</style>\n",
       "<table border=\"1\" class=\"dataframe\">\n",
       "  <thead>\n",
       "    <tr style=\"text-align: right;\">\n",
       "      <th></th>\n",
       "      <th>JobRoleInterest</th>\n",
       "    </tr>\n",
       "  </thead>\n",
       "  <tbody>\n",
       "    <tr>\n",
       "      <th>1</th>\n",
       "      <td>Full-Stack Web Developer</td>\n",
       "    </tr>\n",
       "    <tr>\n",
       "      <th>2</th>\n",
       "      <td>Front-End Web Developer,Back-End Web Developer...</td>\n",
       "    </tr>\n",
       "    <tr>\n",
       "      <th>6</th>\n",
       "      <td>Full-Stack Web Developer</td>\n",
       "    </tr>\n",
       "    <tr>\n",
       "      <th>13</th>\n",
       "      <td>Back-End Web Developer,Full-Stack Web Develope...</td>\n",
       "    </tr>\n",
       "    <tr>\n",
       "      <th>14</th>\n",
       "      <td>Full-Stack Web Developer</td>\n",
       "    </tr>\n",
       "    <tr>\n",
       "      <th>...</th>\n",
       "      <td>...</td>\n",
       "    </tr>\n",
       "    <tr>\n",
       "      <th>18156</th>\n",
       "      <td>Full-Stack Web Developer</td>\n",
       "    </tr>\n",
       "    <tr>\n",
       "      <th>18163</th>\n",
       "      <td>Back-End Web Developer,Data Engineer,Data Scie...</td>\n",
       "    </tr>\n",
       "    <tr>\n",
       "      <th>18174</th>\n",
       "      <td>Back-End Web Developer,Data Engineer,Data Scie...</td>\n",
       "    </tr>\n",
       "    <tr>\n",
       "      <th>MoneyForLearning</th>\n",
       "      <td>NaN</td>\n",
       "    </tr>\n",
       "    <tr>\n",
       "      <th>MonthsProgramming</th>\n",
       "      <td>NaN</td>\n",
       "    </tr>\n",
       "  </tbody>\n",
       "</table>\n",
       "<p>4230 rows × 1 columns</p>\n",
       "</div>"
      ],
      "text/plain": [
       "                                                     JobRoleInterest\n",
       "1                                           Full-Stack Web Developer\n",
       "2                  Front-End Web Developer,Back-End Web Developer...\n",
       "6                                           Full-Stack Web Developer\n",
       "13                 Back-End Web Developer,Full-Stack Web Develope...\n",
       "14                                          Full-Stack Web Developer\n",
       "...                                                              ...\n",
       "18156                                       Full-Stack Web Developer\n",
       "18163              Back-End Web Developer,Data Engineer,Data Scie...\n",
       "18174              Back-End Web Developer,Data Engineer,Data Scie...\n",
       "MoneyForLearning                                                 NaN\n",
       "MonthsProgramming                                                NaN\n",
       "\n",
       "[4230 rows x 1 columns]"
      ]
     },
     "execution_count": 46,
     "metadata": {},
     "output_type": "execute_result"
    }
   ],
   "source": [
    "data"
   ]
  },
  {
   "cell_type": "markdown",
   "id": "d3f0eac6",
   "metadata": {},
   "source": [
    "# value_counts() is not going to work well with that:"
   ]
  },
  {
   "cell_type": "code",
   "execution_count": 47,
   "id": "6185fe6c",
   "metadata": {},
   "outputs": [
    {
     "data": {
      "text/plain": [
       "Full-Stack Web Developer                                                                                                                                                                                                                           484\n",
       "Front-End Web Developer                                                                                                                                                                                                                            244\n",
       "Data Scientist                                                                                                                                                                                                                                      91\n",
       "Back-End Web Developer                                                                                                                                                                                                                              74\n",
       "Game Developer                                                                                                                                                                                                                                      66\n",
       "                                                                                                                                                                                                                                                  ... \n",
       "Mobile Developer,Full-Stack Web Developer,DevOps / SysAdmin,Back-End Web Developer,Front-End Web Developer                                                                                                                                           1\n",
       "Data Engineer,Back-End Web Developer,Information Security,Front-End Web Developer                                                                                                                                                                    1\n",
       "Quality Assurance Engineer,Mobile Developer,Front-End Web Developer,Information Security,Full-Stack Web Developer,Data Engineer,User Experience Designer,Product Manager,Data Scientist,Game Developer,DevOps / SysAdmin,Back-End Web Developer      1\n",
       "Front-End Web Developer,Quality Assurance Engineer,User Experience Designer,Full-Stack Web Developer,Game Developer                                                                                                                                  1\n",
       "Back-End Web Developer,Data Engineer,Data Scientist,DevOps / SysAdmin                                                                                                                                                                                1\n",
       "Name: JobRoleInterest, Length: 2196, dtype: int64"
      ]
     },
     "execution_count": 47,
     "metadata": {},
     "output_type": "execute_result"
    }
   ],
   "source": [
    "data['JobRoleInterest'].value_counts()"
   ]
  },
  {
   "cell_type": "markdown",
   "id": "2ccdc7b0",
   "metadata": {},
   "source": [
    "<a id='the_destination'></a>"
   ]
  },
  {
   "cell_type": "markdown",
   "id": "fd1eb6af",
   "metadata": {},
   "source": [
    "# Solution:\n",
    "We may need to add a few string-modifying steps before, if our lists are separated with a bit more than a coma. But in the current example all we need is:"
   ]
  },
  {
   "cell_type": "code",
   "execution_count": 50,
   "id": "6dd23337",
   "metadata": {},
   "outputs": [
    {
     "data": {
      "text/plain": [
       "Full-Stack Web Developer                                 2601\n",
       "Front-End Web Developer                                  2182\n",
       "Back-End Web Developer                                   1738\n",
       "Mobile Developer                                         1419\n",
       "Data Scientist                                           1056\n",
       "                                                         ... \n",
       "Systems Programming                                         1\n",
       "AI and Machine Learning                                     1\n",
       "data analyst                                                1\n",
       "Networking                                                  1\n",
       "Criminal Defense Attorney-- focusing on cyber crimes        1\n",
       "Length: 149, dtype: int64"
      ]
     },
     "execution_count": 50,
     "metadata": {},
     "output_type": "execute_result"
    }
   ],
   "source": [
    "data['JobRoleInterest'].str.split(',', expand=True).stack().value_counts()"
   ]
  },
  {
   "cell_type": "markdown",
   "id": "21c26e54",
   "metadata": {},
   "source": [
    "Voila!"
   ]
  }
 ],
 "metadata": {
  "kernelspec": {
   "display_name": "Python 3 (ipykernel)",
   "language": "python",
   "name": "python3"
  },
  "language_info": {
   "codemirror_mode": {
    "name": "ipython",
    "version": 3
   },
   "file_extension": ".py",
   "mimetype": "text/x-python",
   "name": "python",
   "nbconvert_exporter": "python",
   "pygments_lexer": "ipython3",
   "version": "3.8.2"
  }
 },
 "nbformat": 4,
 "nbformat_minor": 5
}
