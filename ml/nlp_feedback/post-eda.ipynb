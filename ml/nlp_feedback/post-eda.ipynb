{
 "cells": [
  {
   "cell_type": "code",
   "execution_count": 1,
   "id": "42ddb126",
   "metadata": {
    "_cell_guid": "b1076dfc-b9ad-4769-8c92-a6c4dae69d19",
    "_uuid": "8f2839f25d086af736a60e9eeb907d3b93b6e0e5",
    "execution": {
     "iopub.execute_input": "2022-01-28T23:54:01.530923Z",
     "iopub.status.busy": "2022-01-28T23:54:01.528734Z",
     "iopub.status.idle": "2022-01-28T23:54:02.635108Z",
     "shell.execute_reply": "2022-01-28T23:54:02.635697Z",
     "shell.execute_reply.started": "2022-01-28T23:41:59.612654Z"
    },
    "papermill": {
     "duration": 1.238898,
     "end_time": "2022-01-28T23:54:02.636019",
     "exception": false,
     "start_time": "2022-01-28T23:54:01.397121",
     "status": "completed"
    },
    "tags": []
   },
   "outputs": [],
   "source": [
    "import pandas as pd\n",
    "import numpy as np\n",
    "from collections import Counter\n",
    "# https://www.kaggle.com/rtatman/import-functions-from-kaggle-script\n",
    "from shutil import copyfile\n",
    "copyfile(src = \"../input/testing-spines/test_f.py\", dst = \"../working/test_f.py\")\n",
    "from test_f import spines\n",
    "import matplotlib.pyplot as plt\n",
    "import seaborn as sns"
   ]
  },
  {
   "cell_type": "markdown",
   "id": "0da0717c",
   "metadata": {
    "papermill": {
     "duration": 0.120956,
     "end_time": "2022-01-28T23:54:02.878023",
     "exception": false,
     "start_time": "2022-01-28T23:54:02.757067",
     "status": "completed"
    },
    "tags": []
   },
   "source": [
    "# ML VS NLP\n",
    "Machine learning and Natural Language Processing are two very broad terms that can cover the same areas of text analysis and processing. We're not going to try to set a fixed line between these two terms, we'll leave that to the philosophers. If you're interested in pursuing the difference between them look here: \n",
    "https://www.projectpro.io/article/machine-learning-vs-nlp/493"
   ]
  },
  {
   "cell_type": "code",
   "execution_count": 2,
   "id": "524ab208",
   "metadata": {
    "execution": {
     "iopub.execute_input": "2022-01-28T23:54:03.125426Z",
     "iopub.status.busy": "2022-01-28T23:54:03.124761Z",
     "iopub.status.idle": "2022-01-28T23:54:05.758723Z",
     "shell.execute_reply": "2022-01-28T23:54:05.758069Z",
     "shell.execute_reply.started": "2022-01-28T23:41:59.628601Z"
    },
    "papermill": {
     "duration": 2.759519,
     "end_time": "2022-01-28T23:54:05.758878",
     "exception": false,
     "start_time": "2022-01-28T23:54:02.999359",
     "status": "completed"
    },
    "tags": []
   },
   "outputs": [
    {
     "name": "stdout",
     "output_type": "stream",
     "text": [
      "[nltk_data] Downloading package omw-1.4 to /usr/share/nltk_data...\n",
      "[nltk_data]   Unzipping corpora/omw-1.4.zip.\n"
     ]
    },
    {
     "data": {
      "text/plain": [
       "True"
      ]
     },
     "execution_count": 2,
     "metadata": {},
     "output_type": "execute_result"
    }
   ],
   "source": [
    "import nltk\n",
    "nltk.download('omw-1.4')"
   ]
  },
  {
   "cell_type": "code",
   "execution_count": 3,
   "id": "5b658241",
   "metadata": {
    "execution": {
     "iopub.execute_input": "2022-01-28T23:54:06.007310Z",
     "iopub.status.busy": "2022-01-28T23:54:06.006664Z",
     "iopub.status.idle": "2022-01-28T23:54:06.179459Z",
     "shell.execute_reply": "2022-01-28T23:54:06.180060Z",
     "shell.execute_reply.started": "2022-01-28T23:41:59.640669Z"
    },
    "papermill": {
     "duration": 0.300105,
     "end_time": "2022-01-28T23:54:06.180252",
     "exception": false,
     "start_time": "2022-01-28T23:54:05.880147",
     "status": "completed"
    },
    "tags": []
   },
   "outputs": [],
   "source": [
    "df = pd.read_csv('../input/eda-on-feedback-v1/post_eda.csv')"
   ]
  },
  {
   "cell_type": "code",
   "execution_count": 4,
   "id": "dc10b196",
   "metadata": {
    "execution": {
     "iopub.execute_input": "2022-01-28T23:54:06.429574Z",
     "iopub.status.busy": "2022-01-28T23:54:06.428822Z",
     "iopub.status.idle": "2022-01-28T23:54:06.439508Z",
     "shell.execute_reply": "2022-01-28T23:54:06.440126Z",
     "shell.execute_reply.started": "2022-01-28T23:41:59.736607Z"
    },
    "papermill": {
     "duration": 0.137424,
     "end_time": "2022-01-28T23:54:06.440317",
     "exception": false,
     "start_time": "2022-01-28T23:54:06.302893",
     "status": "completed"
    },
    "tags": []
   },
   "outputs": [
    {
     "data": {
      "text/plain": [
       "' thanks for share,   maybe this is just me and please do some research on it, but i think you do way to much commenting on the code (sometimes its 1 line of comment per 1 line of code) .eg. creating an empty list does not need a comment,  all the details inside the loop also do not need a comment (again that is my opinion), i would just use 1 line comment to explain the whole loop , that is it.   I would put all my imports at the top, like mentioned here: https://towardsdatascience.com/how-to-create-a-professional-github-data-science-repository-84e9607644a2   I would number all my sections and subsections   '"
      ]
     },
     "execution_count": 4,
     "metadata": {},
     "output_type": "execute_result"
    }
   ],
   "source": [
    "df['feedback'][30]"
   ]
  },
  {
   "cell_type": "code",
   "execution_count": 5,
   "id": "b6f6b0ba",
   "metadata": {
    "execution": {
     "iopub.execute_input": "2022-01-28T23:54:06.687720Z",
     "iopub.status.busy": "2022-01-28T23:54:06.686962Z",
     "iopub.status.idle": "2022-01-28T23:54:06.694772Z",
     "shell.execute_reply": "2022-01-28T23:54:06.695333Z",
     "shell.execute_reply.started": "2022-01-28T23:41:59.744858Z"
    },
    "papermill": {
     "duration": 0.132209,
     "end_time": "2022-01-28T23:54:06.695552",
     "exception": false,
     "start_time": "2022-01-28T23:54:06.563343",
     "status": "completed"
    },
    "tags": []
   },
   "outputs": [],
   "source": [
    "df['len'] = df['feedback'].apply(lambda x: len(x))"
   ]
  },
  {
   "cell_type": "markdown",
   "id": "50f8bc66",
   "metadata": {
    "papermill": {
     "duration": 0.122856,
     "end_time": "2022-01-28T23:54:06.941637",
     "exception": false,
     "start_time": "2022-01-28T23:54:06.818781",
     "status": "completed"
    },
    "tags": []
   },
   "source": [
    "# sentiment analysis\n",
    "\n",
    "Sentiment analysis is a very popular application of ML techniques\n"
   ]
  },
  {
   "cell_type": "code",
   "execution_count": 6,
   "id": "a7791300",
   "metadata": {
    "execution": {
     "iopub.execute_input": "2022-01-28T23:54:07.197875Z",
     "iopub.status.busy": "2022-01-28T23:54:07.197117Z",
     "iopub.status.idle": "2022-01-28T23:54:10.088092Z",
     "shell.execute_reply": "2022-01-28T23:54:10.087480Z",
     "shell.execute_reply.started": "2022-01-28T23:41:59.759515Z"
    },
    "papermill": {
     "duration": 3.01795,
     "end_time": "2022-01-28T23:54:10.088254",
     "exception": false,
     "start_time": "2022-01-28T23:54:07.070304",
     "status": "completed"
    },
    "tags": []
   },
   "outputs": [
    {
     "data": {
      "text/plain": [
       "(0.7000000000000001, 0.825)"
      ]
     },
     "execution_count": 6,
     "metadata": {},
     "output_type": "execute_result"
    }
   ],
   "source": [
    "from pattern.en import sentiment\n",
    "x = 'project looks amazing, great job'\n",
    "\n",
    "sentiment(x)"
   ]
  },
  {
   "cell_type": "code",
   "execution_count": 7,
   "id": "208558f6",
   "metadata": {
    "execution": {
     "iopub.execute_input": "2022-01-28T23:54:10.338993Z",
     "iopub.status.busy": "2022-01-28T23:54:10.338268Z",
     "iopub.status.idle": "2022-01-28T23:54:10.341244Z",
     "shell.execute_reply": "2022-01-28T23:54:10.341911Z",
     "shell.execute_reply.started": "2022-01-28T23:41:59.771123Z"
    },
    "papermill": {
     "duration": 0.133068,
     "end_time": "2022-01-28T23:54:10.342119",
     "exception": false,
     "start_time": "2022-01-28T23:54:10.209051",
     "status": "completed"
    },
    "tags": []
   },
   "outputs": [
    {
     "data": {
      "text/plain": [
       "(-0.625, 0.7)"
      ]
     },
     "execution_count": 7,
     "metadata": {},
     "output_type": "execute_result"
    }
   ],
   "source": [
    "y= 'plot looks terrible, spines are too small'\n",
    "sentiment(y)"
   ]
  },
  {
   "cell_type": "code",
   "execution_count": 8,
   "id": "4017f85e",
   "metadata": {
    "execution": {
     "iopub.execute_input": "2022-01-28T23:54:10.598771Z",
     "iopub.status.busy": "2022-01-28T23:54:10.597457Z",
     "iopub.status.idle": "2022-01-28T23:54:10.601778Z",
     "shell.execute_reply": "2022-01-28T23:54:10.602333Z",
     "shell.execute_reply.started": "2022-01-28T23:41:59.783825Z"
    },
    "papermill": {
     "duration": 0.136598,
     "end_time": "2022-01-28T23:54:10.602520",
     "exception": false,
     "start_time": "2022-01-28T23:54:10.465922",
     "status": "completed"
    },
    "tags": []
   },
   "outputs": [
    {
     "data": {
      "text/plain": [
       "(-0.22499999999999992, 0.5)"
      ]
     },
     "execution_count": 8,
     "metadata": {},
     "output_type": "execute_result"
    }
   ],
   "source": [
    "z = 'improve the comment, first line looks bad'\n",
    "sentiment(z)"
   ]
  },
  {
   "cell_type": "code",
   "execution_count": 9,
   "id": "9be740f9",
   "metadata": {
    "execution": {
     "iopub.execute_input": "2022-01-28T23:54:10.892400Z",
     "iopub.status.busy": "2022-01-28T23:54:10.852916Z",
     "iopub.status.idle": "2022-01-28T23:54:12.070149Z",
     "shell.execute_reply": "2022-01-28T23:54:12.070760Z",
     "shell.execute_reply.started": "2022-01-28T23:41:59.797765Z"
    },
    "papermill": {
     "duration": 1.344474,
     "end_time": "2022-01-28T23:54:12.070951",
     "exception": false,
     "start_time": "2022-01-28T23:54:10.726477",
     "status": "completed"
    },
    "tags": []
   },
   "outputs": [
    {
     "data": {
      "text/html": [
       "<div>\n",
       "<style scoped>\n",
       "    .dataframe tbody tr th:only-of-type {\n",
       "        vertical-align: middle;\n",
       "    }\n",
       "\n",
       "    .dataframe tbody tr th {\n",
       "        vertical-align: top;\n",
       "    }\n",
       "\n",
       "    .dataframe thead th {\n",
       "        text-align: right;\n",
       "    }\n",
       "</style>\n",
       "<table border=\"1\" class=\"dataframe\">\n",
       "  <thead>\n",
       "    <tr style=\"text-align: right;\">\n",
       "      <th></th>\n",
       "      <th>Unnamed: 0</th>\n",
       "      <th>content</th>\n",
       "      <th>link</th>\n",
       "      <th>replies</th>\n",
       "      <th>views</th>\n",
       "      <th>feedback</th>\n",
       "      <th>title_nostop</th>\n",
       "      <th>tag</th>\n",
       "      <th>short_title</th>\n",
       "      <th>feedback_clean</th>\n",
       "      <th>feedback_clean2</th>\n",
       "      <th>temp_list</th>\n",
       "      <th>feedback_clean2_lem</th>\n",
       "      <th>len</th>\n",
       "      <th>polarity</th>\n",
       "      <th>subjectivity</th>\n",
       "    </tr>\n",
       "  </thead>\n",
       "  <tbody>\n",
       "    <tr>\n",
       "      <th>423</th>\n",
       "      <td>439</td>\n",
       "      <td>&lt;tr class=\"topic-list-item category-share-guid...</td>\n",
       "      <td>https://community.dataquest.io/t/profitable-ap...</td>\n",
       "      <td>1</td>\n",
       "      <td>194</td>\n",
       "      <td>hi @wolewani I am afraid that you did not upl...</td>\n",
       "      <td>profitable apps profiles app store google play...</td>\n",
       "      <td>350</td>\n",
       "      <td>app profitable</td>\n",
       "      <td>hi wolewani I afraid upload notebook link proj...</td>\n",
       "      <td>wolewani I afraid upload notebook link please ...</td>\n",
       "      <td>['wolewani', 'I', 'afraid', 'upload', 'noteboo...</td>\n",
       "      <td>wolewani I afraid upload notebook link please ...</td>\n",
       "      <td>138</td>\n",
       "      <td>-0.60</td>\n",
       "      <td>0.90</td>\n",
       "    </tr>\n",
       "    <tr>\n",
       "      <th>208</th>\n",
       "      <td>218</td>\n",
       "      <td>&lt;tr class=\"topic-list-item category-share-guid...</td>\n",
       "      <td>https://community.dataquest.io/t/exploring-eba...</td>\n",
       "      <td>5</td>\n",
       "      <td>123</td>\n",
       "      <td>@adetolaadeya looks like something went wrong...</td>\n",
       "      <td>ebay car salesdata guidedproject</td>\n",
       "      <td>294</td>\n",
       "      <td>ebay car</td>\n",
       "      <td>adetolaadeya looks like something went wrong u...</td>\n",
       "      <td>adetolaadeya looks something went wrong upload...</td>\n",
       "      <td>['adetolaadeya', 'looks', 'something', 'went',...</td>\n",
       "      <td>adetolaadeya look something go wrong uploading...</td>\n",
       "      <td>180</td>\n",
       "      <td>-0.50</td>\n",
       "      <td>0.90</td>\n",
       "    </tr>\n",
       "    <tr>\n",
       "      <th>914</th>\n",
       "      <td>954</td>\n",
       "      <td>&lt;tr class=\"topic-list-item category-share-guid...</td>\n",
       "      <td>https://community.dataquest.io/t/any-feedback-...</td>\n",
       "      <td>3</td>\n",
       "      <td>231</td>\n",
       "      <td>unfortunately, your notebook file did not get...</td>\n",
       "      <td>welcome employee exit surveys</td>\n",
       "      <td>348</td>\n",
       "      <td>exit employee</td>\n",
       "      <td>unfortunately notebook file get attach post pl...</td>\n",
       "      <td>unfortunately notebook file get attach post pl...</td>\n",
       "      <td>['unfortunately', 'notebook', 'file', 'get', '...</td>\n",
       "      <td>unfortunately notebook file get attach post pl...</td>\n",
       "      <td>691</td>\n",
       "      <td>-0.50</td>\n",
       "      <td>1.00</td>\n",
       "    </tr>\n",
       "    <tr>\n",
       "      <th>1024</th>\n",
       "      <td>1080</td>\n",
       "      <td>&lt;tr class=\"topic-list-item category-share-guid...</td>\n",
       "      <td>https://community.dataquest.io/t/guided-projec...</td>\n",
       "      <td>2</td>\n",
       "      <td>214</td>\n",
       "      <td>hi @ivelinagenova, congrats on finishing your...</td>\n",
       "      <td>cia factbook using sql review</td>\n",
       "      <td>257</td>\n",
       "      <td>cia factbook</td>\n",
       "      <td>hi ivelinagenova congrats finishing project sh...</td>\n",
       "      <td>ivelinagenova congrats finishing community use...</td>\n",
       "      <td>['ivelinagenova', 'congrats', 'finishing', 'co...</td>\n",
       "      <td>ivelinagenova congrats finish community use ma...</td>\n",
       "      <td>575</td>\n",
       "      <td>-0.30</td>\n",
       "      <td>0.95</td>\n",
       "    </tr>\n",
       "    <tr>\n",
       "      <th>557</th>\n",
       "      <td>576</td>\n",
       "      <td>&lt;tr class=\"topic-list-item category-share-guid...</td>\n",
       "      <td>https://community.dataquest.io/t/my-analysis-o...</td>\n",
       "      <td>2</td>\n",
       "      <td>243</td>\n",
       "      <td>looks good to me. I am also working on this p...</td>\n",
       "      <td>analysis popular science questions</td>\n",
       "      <td>469</td>\n",
       "      <td>science popular</td>\n",
       "      <td>looks good I also working project small thing ...</td>\n",
       "      <td>looks I working small thing noticed need run q...</td>\n",
       "      <td>['looks', 'I', 'working', 'small', 'thing', 'n...</td>\n",
       "      <td>look I work small thing notice need run questi...</td>\n",
       "      <td>240</td>\n",
       "      <td>-0.25</td>\n",
       "      <td>0.40</td>\n",
       "    </tr>\n",
       "    <tr>\n",
       "      <th>...</th>\n",
       "      <td>...</td>\n",
       "      <td>...</td>\n",
       "      <td>...</td>\n",
       "      <td>...</td>\n",
       "      <td>...</td>\n",
       "      <td>...</td>\n",
       "      <td>...</td>\n",
       "      <td>...</td>\n",
       "      <td>...</td>\n",
       "      <td>...</td>\n",
       "      <td>...</td>\n",
       "      <td>...</td>\n",
       "      <td>...</td>\n",
       "      <td>...</td>\n",
       "      <td>...</td>\n",
       "      <td>...</td>\n",
       "    </tr>\n",
       "    <tr>\n",
       "      <th>742</th>\n",
       "      <td>766</td>\n",
       "      <td>&lt;tr class=\"topic-list-item category-share-guid...</td>\n",
       "      <td>https://community.dataquest.io/t/cleaning-and-...</td>\n",
       "      <td>1</td>\n",
       "      <td>134</td>\n",
       "      <td>this is an impressive project @ctowolabi! kud...</td>\n",
       "      <td>cleaning analysing workers exit surveys</td>\n",
       "      <td>348</td>\n",
       "      <td>exit employee</td>\n",
       "      <td>impressive project ctowolabi kudos…</td>\n",
       "      <td>impressive ctowolabi kudos…</td>\n",
       "      <td>['impressive', 'ctowolabi', 'kudos…']</td>\n",
       "      <td>impressive ctowolabi kudos…</td>\n",
       "      <td>50</td>\n",
       "      <td>1.00</td>\n",
       "      <td>1.00</td>\n",
       "    </tr>\n",
       "    <tr>\n",
       "      <th>385</th>\n",
       "      <td>399</td>\n",
       "      <td>&lt;tr class=\"topic-list-item category-share-guid...</td>\n",
       "      <td>https://community.dataquest.io/t/my-guided-pro...</td>\n",
       "      <td>2</td>\n",
       "      <td>173</td>\n",
       "      <td>hello @vorunplz, your project is very informa...</td>\n",
       "      <td>star wars survey</td>\n",
       "      <td>201</td>\n",
       "      <td>wars star</td>\n",
       "      <td>hello vorunplz project informative like way ap...</td>\n",
       "      <td>hello vorunplz informative way applied aesthet...</td>\n",
       "      <td>['hello', 'vorunplz', 'informative', 'way', 'a...</td>\n",
       "      <td>hello vorunplz informative way apply aesthetic...</td>\n",
       "      <td>185</td>\n",
       "      <td>1.00</td>\n",
       "      <td>1.00</td>\n",
       "    </tr>\n",
       "    <tr>\n",
       "      <th>82</th>\n",
       "      <td>84</td>\n",
       "      <td>&lt;tr class=\"topic-list-item category-share-guid...</td>\n",
       "      <td>https://community.dataquest.io/t/daily-euro-do...</td>\n",
       "      <td>3</td>\n",
       "      <td>137</td>\n",
       "      <td>wonderful work. keep it up</td>\n",
       "      <td>daily eurodollar exchange</td>\n",
       "      <td>529</td>\n",
       "      <td>exchange rates</td>\n",
       "      <td>wonderful work keep</td>\n",
       "      <td>wonderful keep</td>\n",
       "      <td>['wonderful', 'keep']</td>\n",
       "      <td>wonderful keep</td>\n",
       "      <td>32</td>\n",
       "      <td>1.00</td>\n",
       "      <td>1.00</td>\n",
       "    </tr>\n",
       "    <tr>\n",
       "      <th>603</th>\n",
       "      <td>622</td>\n",
       "      <td>&lt;tr class=\"topic-list-item category-share-guid...</td>\n",
       "      <td>https://community.dataquest.io/t/guided-projec...</td>\n",
       "      <td>3</td>\n",
       "      <td>176</td>\n",
       "      <td>that lapply method is what is not taught duri...</td>\n",
       "      <td>winning jeopardy r much ‘for loops’</td>\n",
       "      <td>210</td>\n",
       "      <td>jeopardy winning</td>\n",
       "      <td>lapply method taught dq r pathway taught using...</td>\n",
       "      <td>lapply method taught dq r pathway taught using...</td>\n",
       "      <td>['lapply', 'method', 'taught', 'dq', 'r', 'pat...</td>\n",
       "      <td>lapply method taught dq r pathway teach use pa...</td>\n",
       "      <td>152</td>\n",
       "      <td>1.00</td>\n",
       "      <td>1.00</td>\n",
       "    </tr>\n",
       "    <tr>\n",
       "      <th>93</th>\n",
       "      <td>98</td>\n",
       "      <td>&lt;tr class=\"topic-list-item category-share-guid...</td>\n",
       "      <td>https://community.dataquest.io/t/visualizing-e...</td>\n",
       "      <td>5</td>\n",
       "      <td>375</td>\n",
       "      <td>hi @reza_45 from my side, this project  is ju...</td>\n",
       "      <td>visualizing earnings based college majors expl...</td>\n",
       "      <td>146</td>\n",
       "      <td>college visualizing</td>\n",
       "      <td>hi reza45 side project another level story tel...</td>\n",
       "      <td>reza45 side another level story telling walkth...</td>\n",
       "      <td>['reza45', 'side', 'another', 'level', 'story'...</td>\n",
       "      <td>reza45 side another level story tell walkthrou...</td>\n",
       "      <td>250</td>\n",
       "      <td>1.00</td>\n",
       "      <td>1.00</td>\n",
       "    </tr>\n",
       "  </tbody>\n",
       "</table>\n",
       "<p>1043 rows × 16 columns</p>\n",
       "</div>"
      ],
      "text/plain": [
       "      Unnamed: 0                                            content  \\\n",
       "423          439  <tr class=\"topic-list-item category-share-guid...   \n",
       "208          218  <tr class=\"topic-list-item category-share-guid...   \n",
       "914          954  <tr class=\"topic-list-item category-share-guid...   \n",
       "1024        1080  <tr class=\"topic-list-item category-share-guid...   \n",
       "557          576  <tr class=\"topic-list-item category-share-guid...   \n",
       "...          ...                                                ...   \n",
       "742          766  <tr class=\"topic-list-item category-share-guid...   \n",
       "385          399  <tr class=\"topic-list-item category-share-guid...   \n",
       "82            84  <tr class=\"topic-list-item category-share-guid...   \n",
       "603          622  <tr class=\"topic-list-item category-share-guid...   \n",
       "93            98  <tr class=\"topic-list-item category-share-guid...   \n",
       "\n",
       "                                                   link  replies  views  \\\n",
       "423   https://community.dataquest.io/t/profitable-ap...        1    194   \n",
       "208   https://community.dataquest.io/t/exploring-eba...        5    123   \n",
       "914   https://community.dataquest.io/t/any-feedback-...        3    231   \n",
       "1024  https://community.dataquest.io/t/guided-projec...        2    214   \n",
       "557   https://community.dataquest.io/t/my-analysis-o...        2    243   \n",
       "...                                                 ...      ...    ...   \n",
       "742   https://community.dataquest.io/t/cleaning-and-...        1    134   \n",
       "385   https://community.dataquest.io/t/my-guided-pro...        2    173   \n",
       "82    https://community.dataquest.io/t/daily-euro-do...        3    137   \n",
       "603   https://community.dataquest.io/t/guided-projec...        3    176   \n",
       "93    https://community.dataquest.io/t/visualizing-e...        5    375   \n",
       "\n",
       "                                               feedback  \\\n",
       "423    hi @wolewani I am afraid that you did not upl...   \n",
       "208    @adetolaadeya looks like something went wrong...   \n",
       "914    unfortunately, your notebook file did not get...   \n",
       "1024   hi @ivelinagenova, congrats on finishing your...   \n",
       "557    looks good to me. I am also working on this p...   \n",
       "...                                                 ...   \n",
       "742    this is an impressive project @ctowolabi! kud...   \n",
       "385    hello @vorunplz, your project is very informa...   \n",
       "82                      wonderful work. keep it up        \n",
       "603    that lapply method is what is not taught duri...   \n",
       "93     hi @reza_45 from my side, this project  is ju...   \n",
       "\n",
       "                                           title_nostop  tag  \\\n",
       "423   profitable apps profiles app store google play...  350   \n",
       "208                    ebay car salesdata guidedproject  294   \n",
       "914                       welcome employee exit surveys  348   \n",
       "1024                      cia factbook using sql review  257   \n",
       "557                  analysis popular science questions  469   \n",
       "...                                                 ...  ...   \n",
       "742             cleaning analysing workers exit surveys  348   \n",
       "385                                    star wars survey  201   \n",
       "82                            daily eurodollar exchange  529   \n",
       "603                 winning jeopardy r much ‘for loops’  210   \n",
       "93    visualizing earnings based college majors expl...  146   \n",
       "\n",
       "              short_title                                     feedback_clean  \\\n",
       "423        app profitable  hi wolewani I afraid upload notebook link proj...   \n",
       "208              ebay car  adetolaadeya looks like something went wrong u...   \n",
       "914         exit employee  unfortunately notebook file get attach post pl...   \n",
       "1024         cia factbook  hi ivelinagenova congrats finishing project sh...   \n",
       "557       science popular  looks good I also working project small thing ...   \n",
       "...                   ...                                                ...   \n",
       "742         exit employee                impressive project ctowolabi kudos…   \n",
       "385             wars star  hello vorunplz project informative like way ap...   \n",
       "82         exchange rates                                wonderful work keep   \n",
       "603      jeopardy winning  lapply method taught dq r pathway taught using...   \n",
       "93    college visualizing  hi reza45 side project another level story tel...   \n",
       "\n",
       "                                        feedback_clean2  \\\n",
       "423   wolewani I afraid upload notebook link please ...   \n",
       "208   adetolaadeya looks something went wrong upload...   \n",
       "914   unfortunately notebook file get attach post pl...   \n",
       "1024  ivelinagenova congrats finishing community use...   \n",
       "557   looks I working small thing noticed need run q...   \n",
       "...                                                 ...   \n",
       "742                         impressive ctowolabi kudos…   \n",
       "385   hello vorunplz informative way applied aesthet...   \n",
       "82                                       wonderful keep   \n",
       "603   lapply method taught dq r pathway taught using...   \n",
       "93    reza45 side another level story telling walkth...   \n",
       "\n",
       "                                              temp_list  \\\n",
       "423   ['wolewani', 'I', 'afraid', 'upload', 'noteboo...   \n",
       "208   ['adetolaadeya', 'looks', 'something', 'went',...   \n",
       "914   ['unfortunately', 'notebook', 'file', 'get', '...   \n",
       "1024  ['ivelinagenova', 'congrats', 'finishing', 'co...   \n",
       "557   ['looks', 'I', 'working', 'small', 'thing', 'n...   \n",
       "...                                                 ...   \n",
       "742               ['impressive', 'ctowolabi', 'kudos…']   \n",
       "385   ['hello', 'vorunplz', 'informative', 'way', 'a...   \n",
       "82                                ['wonderful', 'keep']   \n",
       "603   ['lapply', 'method', 'taught', 'dq', 'r', 'pat...   \n",
       "93    ['reza45', 'side', 'another', 'level', 'story'...   \n",
       "\n",
       "                                    feedback_clean2_lem  len  polarity  \\\n",
       "423   wolewani I afraid upload notebook link please ...  138     -0.60   \n",
       "208   adetolaadeya look something go wrong uploading...  180     -0.50   \n",
       "914   unfortunately notebook file get attach post pl...  691     -0.50   \n",
       "1024  ivelinagenova congrats finish community use ma...  575     -0.30   \n",
       "557   look I work small thing notice need run questi...  240     -0.25   \n",
       "...                                                 ...  ...       ...   \n",
       "742                         impressive ctowolabi kudos…   50      1.00   \n",
       "385   hello vorunplz informative way apply aesthetic...  185      1.00   \n",
       "82                                       wonderful keep   32      1.00   \n",
       "603   lapply method taught dq r pathway teach use pa...  152      1.00   \n",
       "93    reza45 side another level story tell walkthrou...  250      1.00   \n",
       "\n",
       "      subjectivity  \n",
       "423           0.90  \n",
       "208           0.90  \n",
       "914           1.00  \n",
       "1024          0.95  \n",
       "557           0.40  \n",
       "...            ...  \n",
       "742           1.00  \n",
       "385           1.00  \n",
       "82            1.00  \n",
       "603           1.00  \n",
       "93            1.00  \n",
       "\n",
       "[1043 rows x 16 columns]"
      ]
     },
     "execution_count": 9,
     "metadata": {},
     "output_type": "execute_result"
    }
   ],
   "source": [
    "\n",
    "df['sentiment'] = df['feedback_clean2_lem'].apply(lambda x: sentiment(x))\n",
    "df['polarity'] = df['sentiment'].str[0]\n",
    "df['subjectivity'] = df['sentiment'].str[1]\n",
    "df = df.drop(columns='sentiment')\n",
    "df.sort_values('polarity')"
   ]
  },
  {
   "cell_type": "code",
   "execution_count": 10,
   "id": "fe134ee7",
   "metadata": {
    "execution": {
     "iopub.execute_input": "2022-01-28T23:54:12.328804Z",
     "iopub.status.busy": "2022-01-28T23:54:12.328078Z",
     "iopub.status.idle": "2022-01-28T23:54:12.345569Z",
     "shell.execute_reply": "2022-01-28T23:54:12.346147Z",
     "shell.execute_reply.started": "2022-01-28T23:42:01.409401Z"
    },
    "papermill": {
     "duration": 0.150839,
     "end_time": "2022-01-28T23:54:12.346356",
     "exception": false,
     "start_time": "2022-01-28T23:54:12.195517",
     "status": "completed"
    },
    "tags": []
   },
   "outputs": [
    {
     "data": {
      "text/html": [
       "<div>\n",
       "<style scoped>\n",
       "    .dataframe tbody tr th:only-of-type {\n",
       "        vertical-align: middle;\n",
       "    }\n",
       "\n",
       "    .dataframe tbody tr th {\n",
       "        vertical-align: top;\n",
       "    }\n",
       "\n",
       "    .dataframe thead th {\n",
       "        text-align: right;\n",
       "    }\n",
       "</style>\n",
       "<table border=\"1\" class=\"dataframe\">\n",
       "  <thead>\n",
       "    <tr style=\"text-align: right;\">\n",
       "      <th></th>\n",
       "      <th>polarity</th>\n",
       "      <th>subjectivity</th>\n",
       "    </tr>\n",
       "    <tr>\n",
       "      <th>short_title</th>\n",
       "      <th></th>\n",
       "      <th></th>\n",
       "    </tr>\n",
       "  </thead>\n",
       "  <tbody>\n",
       "    <tr>\n",
       "      <th>sql using</th>\n",
       "      <td>0.227535</td>\n",
       "      <td>0.441175</td>\n",
       "    </tr>\n",
       "    <tr>\n",
       "      <th>cia factbook</th>\n",
       "      <td>0.232072</td>\n",
       "      <td>0.460941</td>\n",
       "    </tr>\n",
       "    <tr>\n",
       "      <th>car prices</th>\n",
       "      <td>0.206395</td>\n",
       "      <td>0.476976</td>\n",
       "    </tr>\n",
       "    <tr>\n",
       "      <th>ebay car</th>\n",
       "      <td>0.251605</td>\n",
       "      <td>0.498947</td>\n",
       "    </tr>\n",
       "    <tr>\n",
       "      <th>traffic heavy</th>\n",
       "      <td>0.219977</td>\n",
       "      <td>0.504832</td>\n",
       "    </tr>\n",
       "    <tr>\n",
       "      <th>wars star</th>\n",
       "      <td>0.250845</td>\n",
       "      <td>0.508710</td>\n",
       "    </tr>\n",
       "    <tr>\n",
       "      <th>news hacker</th>\n",
       "      <td>0.287964</td>\n",
       "      <td>0.509915</td>\n",
       "    </tr>\n",
       "    <tr>\n",
       "      <th>exit employee</th>\n",
       "      <td>0.269066</td>\n",
       "      <td>0.512406</td>\n",
       "    </tr>\n",
       "    <tr>\n",
       "      <th>science popular</th>\n",
       "      <td>0.276232</td>\n",
       "      <td>0.514718</td>\n",
       "    </tr>\n",
       "    <tr>\n",
       "      <th>app profitable</th>\n",
       "      <td>0.281144</td>\n",
       "      <td>0.514833</td>\n",
       "    </tr>\n",
       "    <tr>\n",
       "      <th>nyc high</th>\n",
       "      <td>0.288988</td>\n",
       "      <td>0.519288</td>\n",
       "    </tr>\n",
       "    <tr>\n",
       "      <th>fandango ratings</th>\n",
       "      <td>0.265831</td>\n",
       "      <td>0.524607</td>\n",
       "    </tr>\n",
       "    <tr>\n",
       "      <th>gender gap</th>\n",
       "      <td>0.285667</td>\n",
       "      <td>0.534309</td>\n",
       "    </tr>\n",
       "    <tr>\n",
       "      <th>college visualizing</th>\n",
       "      <td>0.279269</td>\n",
       "      <td>0.547273</td>\n",
       "    </tr>\n",
       "    <tr>\n",
       "      <th>markets advertise</th>\n",
       "      <td>0.279195</td>\n",
       "      <td>0.572073</td>\n",
       "    </tr>\n",
       "  </tbody>\n",
       "</table>\n",
       "</div>"
      ],
      "text/plain": [
       "                     polarity  subjectivity\n",
       "short_title                                \n",
       "sql using            0.227535      0.441175\n",
       "cia factbook         0.232072      0.460941\n",
       "car prices           0.206395      0.476976\n",
       "ebay car             0.251605      0.498947\n",
       "traffic heavy        0.219977      0.504832\n",
       "wars star            0.250845      0.508710\n",
       "news hacker          0.287964      0.509915\n",
       "exit employee        0.269066      0.512406\n",
       "science popular      0.276232      0.514718\n",
       "app profitable       0.281144      0.514833\n",
       "nyc high             0.288988      0.519288\n",
       "fandango ratings     0.265831      0.524607\n",
       "gender gap           0.285667      0.534309\n",
       "college visualizing  0.279269      0.547273\n",
       "markets advertise    0.279195      0.572073"
      ]
     },
     "execution_count": 10,
     "metadata": {},
     "output_type": "execute_result"
    }
   ],
   "source": [
    "top15 = df['short_title'].value_counts()[:15].index\n",
    "df[df['short_title'].isin(top15)].groupby('short_title')[['polarity','subjectivity']].mean().sort_values('subjectivity')"
   ]
  },
  {
   "cell_type": "markdown",
   "id": "2dd26769",
   "metadata": {
    "papermill": {
     "duration": 0.124766,
     "end_time": "2022-01-28T23:54:12.596598",
     "exception": false,
     "start_time": "2022-01-28T23:54:12.471832",
     "status": "completed"
    },
    "tags": []
   },
   "source": [
    "# KEYWORDS"
   ]
  },
  {
   "cell_type": "code",
   "execution_count": 11,
   "id": "28f7d4e9",
   "metadata": {
    "execution": {
     "iopub.execute_input": "2022-01-28T23:54:12.860618Z",
     "iopub.status.busy": "2022-01-28T23:54:12.859913Z",
     "iopub.status.idle": "2022-01-28T23:54:28.453141Z",
     "shell.execute_reply": "2022-01-28T23:54:28.453670Z",
     "shell.execute_reply.started": "2022-01-28T23:42:01.430882Z"
    },
    "papermill": {
     "duration": 15.729307,
     "end_time": "2022-01-28T23:54:28.453867",
     "exception": false,
     "start_time": "2022-01-28T23:54:12.724560",
     "status": "completed"
    },
    "tags": []
   },
   "outputs": [
    {
     "name": "stdout",
     "output_type": "stream",
     "text": [
      "Collecting rake-nltk\r\n",
      "  Downloading rake_nltk-1.0.6-py3-none-any.whl (9.1 kB)\r\n",
      "Collecting nltk<4.0.0,>=3.6.2\r\n",
      "  Downloading nltk-3.6.7-py3-none-any.whl (1.5 MB)\r\n",
      "     |████████████████████████████████| 1.5 MB 401 kB/s            \r\n",
      "\u001b[?25hRequirement already satisfied: tqdm in /opt/conda/lib/python3.7/site-packages (from nltk<4.0.0,>=3.6.2->rake-nltk) (4.62.3)\r\n",
      "Requirement already satisfied: joblib in /opt/conda/lib/python3.7/site-packages (from nltk<4.0.0,>=3.6.2->rake-nltk) (1.1.0)\r\n",
      "Requirement already satisfied: click in /opt/conda/lib/python3.7/site-packages (from nltk<4.0.0,>=3.6.2->rake-nltk) (8.0.3)\r\n",
      "Requirement already satisfied: regex>=2021.8.3 in /opt/conda/lib/python3.7/site-packages (from nltk<4.0.0,>=3.6.2->rake-nltk) (2021.11.10)\r\n",
      "Requirement already satisfied: importlib-metadata in /opt/conda/lib/python3.7/site-packages (from click->nltk<4.0.0,>=3.6.2->rake-nltk) (4.8.2)\r\n",
      "Requirement already satisfied: typing-extensions>=3.6.4 in /opt/conda/lib/python3.7/site-packages (from importlib-metadata->click->nltk<4.0.0,>=3.6.2->rake-nltk) (3.10.0.2)\r\n",
      "Requirement already satisfied: zipp>=0.5 in /opt/conda/lib/python3.7/site-packages (from importlib-metadata->click->nltk<4.0.0,>=3.6.2->rake-nltk) (3.6.0)\r\n",
      "Installing collected packages: nltk, rake-nltk\r\n",
      "  Attempting uninstall: nltk\r\n",
      "    Found existing installation: nltk 3.2.4\r\n",
      "    Uninstalling nltk-3.2.4:\r\n",
      "      Successfully uninstalled nltk-3.2.4\r\n",
      "\u001b[31mERROR: pip's dependency resolver does not currently take into account all the packages that are installed. This behaviour is the source of the following dependency conflicts.\r\n",
      "preprocessing 0.1.13 requires nltk==3.2.4, but you have nltk 3.6.7 which is incompatible.\u001b[0m\r\n",
      "Successfully installed nltk-3.6.7 rake-nltk-1.0.6\r\n",
      "\u001b[33mWARNING: Running pip as the 'root' user can result in broken permissions and conflicting behaviour with the system package manager. It is recommended to use a virtual environment instead: https://pip.pypa.io/warnings/venv\u001b[0m\r\n",
      "Note: you may need to restart the kernel to use updated packages.\n"
     ]
    }
   ],
   "source": [
    "pip install rake-nltk"
   ]
  },
  {
   "cell_type": "code",
   "execution_count": 12,
   "id": "40b52bf0",
   "metadata": {
    "execution": {
     "iopub.execute_input": "2022-01-28T23:54:28.735497Z",
     "iopub.status.busy": "2022-01-28T23:54:28.734465Z",
     "iopub.status.idle": "2022-01-28T23:54:28.742003Z",
     "shell.execute_reply": "2022-01-28T23:54:28.742497Z",
     "shell.execute_reply.started": "2022-01-28T23:42:10.042133Z"
    },
    "papermill": {
     "duration": 0.15033,
     "end_time": "2022-01-28T23:54:28.742692",
     "exception": false,
     "start_time": "2022-01-28T23:54:28.592362",
     "status": "completed"
    },
    "tags": []
   },
   "outputs": [],
   "source": [
    "from rake_nltk import Rake"
   ]
  },
  {
   "cell_type": "code",
   "execution_count": 13,
   "id": "81ef4d6c",
   "metadata": {
    "execution": {
     "iopub.execute_input": "2022-01-28T23:54:29.226888Z",
     "iopub.status.busy": "2022-01-28T23:54:29.226159Z",
     "iopub.status.idle": "2022-01-28T23:54:29.248068Z",
     "shell.execute_reply": "2022-01-28T23:54:29.247511Z",
     "shell.execute_reply.started": "2022-01-28T23:42:10.048785Z"
    },
    "papermill": {
     "duration": 0.372528,
     "end_time": "2022-01-28T23:54:29.248220",
     "exception": false,
     "start_time": "2022-01-28T23:54:28.875692",
     "status": "completed"
    },
    "tags": []
   },
   "outputs": [
    {
     "data": {
      "text/plain": [
       "[(13.666666666666668, 'use 1 line comment'),\n",
       " (13.666666666666668, 'comment per 1 line'),\n",
       " (9.0, 'https :// towardsdatascience'),\n",
       " (6.666666666666667, '1 line')]"
      ]
     },
     "execution_count": 13,
     "metadata": {},
     "output_type": "execute_result"
    }
   ],
   "source": [
    "#COMMON USE\n",
    "r = Rake(include_repeated_phrases=False, min_length=1, max_length=4)\n",
    "text=df['feedback'][30]\n",
    "r.extract_keywords_from_text(text)\n",
    "# r.get_ranked_phrases()\n",
    "\n",
    "newl = [keyword for keyword in r.get_ranked_phrases_with_scores() if keyword[0] > 5]\n",
    "newl"
   ]
  },
  {
   "cell_type": "code",
   "execution_count": 14,
   "id": "1065cd51",
   "metadata": {
    "execution": {
     "iopub.execute_input": "2022-01-28T23:54:29.523302Z",
     "iopub.status.busy": "2022-01-28T23:54:29.520116Z",
     "iopub.status.idle": "2022-01-28T23:54:29.531083Z",
     "shell.execute_reply": "2022-01-28T23:54:29.531666Z",
     "shell.execute_reply.started": "2022-01-28T23:42:10.078984Z"
    },
    "papermill": {
     "duration": 0.148796,
     "end_time": "2022-01-28T23:54:29.531861",
     "exception": false,
     "start_time": "2022-01-28T23:54:29.383065",
     "status": "completed"
    },
    "tags": []
   },
   "outputs": [
    {
     "data": {
      "text/plain": [
       "[(9.0, '“ professional ”'),\n",
       " (9.0, 'avoiding colloquial language'),\n",
       " (8.0, 'nicely structured project'),\n",
       " (8.0, 'also included antarctica'),\n",
       " (8.0, 'add full stops')]"
      ]
     },
     "execution_count": 14,
     "metadata": {},
     "output_type": "execute_result"
    }
   ],
   "source": [
    "r = Rake(include_repeated_phrases=False, min_length=1, max_length=3)\n",
    "text_to_rake = df['feedback'][31]\n",
    "r.extract_keywords_from_text(text_to_rake)\n",
    "# r.get_ranked_phrases()\n",
    "words_ranks = [keyword for keyword in r.get_ranked_phrases_with_scores() if keyword[0] > 5]\n",
    "words_ranks"
   ]
  },
  {
   "cell_type": "code",
   "execution_count": 15,
   "id": "5291fb07",
   "metadata": {
    "execution": {
     "iopub.execute_input": "2022-01-28T23:54:29.812961Z",
     "iopub.status.busy": "2022-01-28T23:54:29.812193Z",
     "iopub.status.idle": "2022-01-28T23:54:29.814944Z",
     "shell.execute_reply": "2022-01-28T23:54:29.815490Z",
     "shell.execute_reply.started": "2022-01-28T23:42:10.090458Z"
    },
    "papermill": {
     "duration": 0.145426,
     "end_time": "2022-01-28T23:54:29.815736",
     "exception": false,
     "start_time": "2022-01-28T23:54:29.670310",
     "status": "completed"
    },
    "tags": []
   },
   "outputs": [],
   "source": [
    "def rake_it(text):\n",
    "    r.extract_keywords_from_text(text)\n",
    "    r.get_ranked_phrases()\n",
    "    keyword_rank = [keyword for keyword in r.get_ranked_phrases_with_scores() if keyword[0] > 5]\n",
    "    keyword_list = [keyword[1] for keyword in keyword_rank]\n",
    "    return keyword_list"
   ]
  },
  {
   "cell_type": "code",
   "execution_count": 16,
   "id": "10af73eb",
   "metadata": {
    "execution": {
     "iopub.execute_input": "2022-01-28T23:54:30.089950Z",
     "iopub.status.busy": "2022-01-28T23:54:30.089251Z",
     "iopub.status.idle": "2022-01-28T23:54:31.012118Z",
     "shell.execute_reply": "2022-01-28T23:54:31.011493Z",
     "shell.execute_reply.started": "2022-01-28T23:42:10.099435Z"
    },
    "papermill": {
     "duration": 1.062773,
     "end_time": "2022-01-28T23:54:31.012288",
     "exception": false,
     "start_time": "2022-01-28T23:54:29.949515",
     "status": "completed"
    },
    "tags": []
   },
   "outputs": [],
   "source": [
    "df['rake_words'] = df['feedback'].apply(lambda x: rake_it(x))"
   ]
  },
  {
   "cell_type": "code",
   "execution_count": 17,
   "id": "60047521",
   "metadata": {
    "execution": {
     "iopub.execute_input": "2022-01-28T23:54:31.291275Z",
     "iopub.status.busy": "2022-01-28T23:54:31.290574Z",
     "iopub.status.idle": "2022-01-28T23:54:31.297155Z",
     "shell.execute_reply": "2022-01-28T23:54:31.296475Z",
     "shell.execute_reply.started": "2022-01-28T23:42:10.994714Z"
    },
    "papermill": {
     "duration": 0.149534,
     "end_time": "2022-01-28T23:54:31.297305",
     "exception": false,
     "start_time": "2022-01-28T23:54:31.147771",
     "status": "completed"
    },
    "tags": []
   },
   "outputs": [
    {
     "data": {
      "text/plain": [
       "guided project use           25\n",
       "jupyter file menu            25\n",
       "happy coding :)              22\n",
       "everything looks nice        20\n",
       "sql style guide              16\n",
       "new topic button             16\n",
       "first guided project         16\n",
       "everything looks good        15\n",
       "jupyter notebook file        14\n",
       "first code cell              13\n",
       "depth style guide            13\n",
       "screen shot 2020             12\n",
       "project looks amazing        11\n",
       "project looks good           10\n",
       "make proper documentation     9\n",
       "automatically edit …          9\n",
       "data cleaning process         9\n",
       "print () function             9\n",
       "personal projects share       9\n",
       "profound data analysis        8\n",
       "dtype: int64"
      ]
     },
     "execution_count": 17,
     "metadata": {},
     "output_type": "execute_result"
    }
   ],
   "source": [
    "# function from: towardsdatascience.com/dealing-with-list-values-in-pandas-dataframes-a177e534f173\n",
    "def to_1D(series):\n",
    "    return pd.Series([x for _list in series for x in _list])\n",
    "\n",
    "to_1D(df['rake_words']).value_counts()[:20]"
   ]
  },
  {
   "cell_type": "code",
   "execution_count": 18,
   "id": "47653f42",
   "metadata": {
    "execution": {
     "iopub.execute_input": "2022-01-28T23:54:31.584931Z",
     "iopub.status.busy": "2022-01-28T23:54:31.579440Z",
     "iopub.status.idle": "2022-01-28T23:54:31.656356Z",
     "shell.execute_reply": "2022-01-28T23:54:31.655740Z",
     "shell.execute_reply.started": "2022-01-28T23:42:11.009062Z"
    },
    "papermill": {
     "duration": 0.223333,
     "end_time": "2022-01-28T23:54:31.656513",
     "exception": false,
     "start_time": "2022-01-28T23:54:31.433180",
     "status": "completed"
    },
    "tags": []
   },
   "outputs": [
    {
     "data": {
      "text/plain": [
       "Unnamed: 0  content                                                                                                                                                                                                                                                                                                                                                                                                                                                                                                                                                                                                                                                                                                                                                                                                                                                                                                                                                                                                                                                                                                                                                                                                                                                                                                                                                                                                                                                                                                                                                                                                                                                                                                                                                                                                                                                                                                                                                                                                                                                                                                                                                                                                                               link                                                               replies  views  feedback                                                                                                                                                                                                                                                                                                                                                                                                                                                                                                              title_nostop  tag  short_title   feedback_clean                                                                                                                                                                                                                                                                                                                                      feedback_clean2                                                                                                                                                                                                                                                                                                                                     temp_list                                                                                                                                                                                                                                                                                                                                                                                                                                                                    feedback_clean2_lem                                                                                                                                                                                                                                                                                                               len  polarity  subjectivity  rake_words        \n",
       "0           <tr class=\"topic-list-item category-share-guided-project has-excerpt visited ember-view\" data-topic-id=\"558326\" id=\"ember75\">\\n<td class=\"main-link clearfix\" colspan=\"\">\\n<div class=\"topic-details\">\\n<div class=\"topic-title\">\\n<span class=\"link-top-line\">\\n<a class=\"title raw-link raw-topic-link\" data-topic-id=\"558326\" href=\"https://community.dataquest.io/t/predicting-house-prices/558326/3\" level=\"2\" role=\"heading\"><span dir=\"ltr\">Predicting house prices</span></a>\\n<span class=\"topic-post-badges\"></span>\\n</span>\\n</div>\\n<div class=\"actions-and-meta-data\">\\n</div>\\n</div></td>\\n<td class=\"posters\">\\n<a class=\"\" data-user-card=\"antontskhay\" href=\"https://community.dataquest.io/u/antontskhay\"><img alt=\"\" aria-label=\"antontskhay - Original Poster\" class=\"avatar\" height=\"25\" src=\"./Latest Share_Guided Project topics - Dataquest Community_files/50.png\" title=\"antontskhay - Original Poster\" width=\"25\"/></a>\\n<a class=\"latest\" data-user-card=\"adam.kubalica\" href=\"https://community.dataquest.io/u/adam.kubalica\"><img alt=\"\" aria-label=\"adam.kubalica - Most Recent Poster\" class=\"avatar latest\" height=\"25\" src=\"./Latest Share_Guided Project topics - Dataquest Community_files/11955_2(1).png\" title=\"adam.kubalica - Most Recent Poster\" width=\"25\"/></a>\\n</td>\\n<td class=\"num posts-map posts\" title=\"This topic has 1 reply\">\\n<button class=\"btn-link posts-map badge-posts\">\\n<span aria-label=\"This topic has 1 reply\" class=\"number\">1</span>\\n</button>\\n</td>\\n<td class=\"num likes\">\\n<a href=\"https://community.dataquest.io/t/predicting-house-prices/558326/1\">\\n<span class=\"number\">1</span> <svg class=\"fa d-icon d-icon-heart svg-icon svg-string\" xmlns=\"http://www.w3.org/2000/svg\"><use xlink:href=\"#heart\"></use></svg>\\n</a>\\n</td>\\n<td class=\"num views\"><span class=\"number\" title=\"this topic has been viewed 26 times\">26</span></td>\\n<td class=\"num age activity\" title=\"First post: Nov 18, 2021 10:54 pm\\nPosted: Nov 19, 2021 10:44 am\">\\n<a class=\"post-activity\" href=\"https://community.dataquest.io/t/predicting-house-prices/558326/2\"><span class=\"relative-date\" data-format=\"tiny\" data-time=\"1637279083788\">2d</span></a>\\n</td>\\n</tr>  https://community.dataquest.io/t/predicting-house-prices/558326/3  1        26      processing data inside a function saves memory (the variables you create stay inside the function and are not stored in memory, when you are done with the function) it is important when you are working with larger datasets - if you are interested with experimenting: https://www1.nyc.gov/site/tlc/about/tlc-trip-record-data.page try cleaning 1 month of this dataset on kaggle notebook (and look at your ram usage) outside the function and inside the function, compare the ram usage in both examples   house prices  240  house prices  processing data inside function saves memory variables create stay inside function stored memory done function important working larger datasets interested experimenting httpswww1nycgovsitetlcabouttlctriprecorddatapage try cleaning 1 month dataset kaggle notebook look ram usage outside function inside function compare ram usage examples  processing data inside function saves memory variables create stay inside function stored memory done function important working larger datasets interested experimenting httpswww1nycgovsitetlcabouttlctriprecorddatapage try cleaning 1 month dataset kaggle notebook look ram usage outside function inside function compare ram usage examples  ['processing', 'data', 'inside', 'function', 'saves', 'memory', 'variables', 'create', 'stay', 'inside', 'function', 'stored', 'memory', 'done', 'function', 'important', 'working', 'larger', 'datasets', 'interested', 'experimenting', 'httpswww1nycgovsitetlcabouttlctriprecorddatapage', 'try', 'cleaning', '1', 'month', 'dataset', 'kaggle', 'notebook', 'look', 'ram', 'usage', 'outside', 'function', 'inside', 'function', 'compare', 'ram', 'usage', 'examples']  process data inside function save memory variable create stay inside function store memory do function important work larger datasets interested experiment httpswww1nycgovsitetlcabouttlctriprecorddatapage try clean 1 month dataset kaggle notebook look ram usage outside function inside function compare ram usage example  500  0.203333  0.55          create stay inside    1\n",
       "dtype: int64"
      ]
     },
     "execution_count": 18,
     "metadata": {},
     "output_type": "execute_result"
    }
   ],
   "source": [
    "df.explode('rake_words').value_counts()[:1]"
   ]
  },
  {
   "cell_type": "code",
   "execution_count": 19,
   "id": "a6f707ff",
   "metadata": {
    "execution": {
     "iopub.execute_input": "2022-01-28T23:54:31.967764Z",
     "iopub.status.busy": "2022-01-28T23:54:31.956843Z",
     "iopub.status.idle": "2022-01-28T23:54:31.972514Z",
     "shell.execute_reply": "2022-01-28T23:54:31.973116Z",
     "shell.execute_reply.started": "2022-01-28T23:42:11.094118Z"
    },
    "papermill": {
     "duration": 0.178933,
     "end_time": "2022-01-28T23:54:31.973300",
     "exception": false,
     "start_time": "2022-01-28T23:54:31.794367",
     "status": "completed"
    },
    "tags": []
   },
   "outputs": [
    {
     "data": {
      "text/html": [
       "<div>\n",
       "<style scoped>\n",
       "    .dataframe tbody tr th:only-of-type {\n",
       "        vertical-align: middle;\n",
       "    }\n",
       "\n",
       "    .dataframe tbody tr th {\n",
       "        vertical-align: top;\n",
       "    }\n",
       "\n",
       "    .dataframe thead th {\n",
       "        text-align: right;\n",
       "    }\n",
       "</style>\n",
       "<table border=\"1\" class=\"dataframe\">\n",
       "  <thead>\n",
       "    <tr style=\"text-align: right;\">\n",
       "      <th></th>\n",
       "      <th>Unnamed: 0</th>\n",
       "      <th>content</th>\n",
       "      <th>link</th>\n",
       "      <th>replies</th>\n",
       "      <th>views</th>\n",
       "      <th>feedback</th>\n",
       "      <th>title_nostop</th>\n",
       "      <th>tag</th>\n",
       "      <th>short_title</th>\n",
       "      <th>feedback_clean</th>\n",
       "      <th>feedback_clean2</th>\n",
       "      <th>temp_list</th>\n",
       "      <th>feedback_clean2_lem</th>\n",
       "      <th>len</th>\n",
       "      <th>polarity</th>\n",
       "      <th>subjectivity</th>\n",
       "      <th>rake_words</th>\n",
       "    </tr>\n",
       "  </thead>\n",
       "  <tbody>\n",
       "    <tr>\n",
       "      <th>0</th>\n",
       "      <td>0</td>\n",
       "      <td>&lt;tr class=\"topic-list-item category-share-guid...</td>\n",
       "      <td>https://community.dataquest.io/t/predicting-ho...</td>\n",
       "      <td>1</td>\n",
       "      <td>26</td>\n",
       "      <td>processing data inside a function saves memor...</td>\n",
       "      <td>house prices</td>\n",
       "      <td>240</td>\n",
       "      <td>house prices</td>\n",
       "      <td>processing data inside function saves memory v...</td>\n",
       "      <td>processing data inside function saves memory v...</td>\n",
       "      <td>['processing', 'data', 'inside', 'function', '...</td>\n",
       "      <td>process data inside function save memory varia...</td>\n",
       "      <td>500</td>\n",
       "      <td>0.203333</td>\n",
       "      <td>0.550000</td>\n",
       "      <td>[https :// www1, create stay inside, processin...</td>\n",
       "    </tr>\n",
       "    <tr>\n",
       "      <th>1</th>\n",
       "      <td>1</td>\n",
       "      <td>&lt;tr class=\"topic-list-item category-share-guid...</td>\n",
       "      <td>https://community.dataquest.io/t/re-upload-pro...</td>\n",
       "      <td>3</td>\n",
       "      <td>47</td>\n",
       "      <td>hi, I have been going through your project an...</td>\n",
       "      <td>reuploadproject popular science questions</td>\n",
       "      <td>469</td>\n",
       "      <td>science popular</td>\n",
       "      <td>hi I going project thought could provide tips ...</td>\n",
       "      <td>I going thought could provide tips make better...</td>\n",
       "      <td>['I', 'going', 'thought', 'could', 'provide', ...</td>\n",
       "      <td>I go think could provide tip make better clear...</td>\n",
       "      <td>2840</td>\n",
       "      <td>0.299097</td>\n",
       "      <td>0.478229</td>\n",
       "      <td>[clearly marks introduction, views graph needs...</td>\n",
       "    </tr>\n",
       "    <tr>\n",
       "      <th>2</th>\n",
       "      <td>2</td>\n",
       "      <td>&lt;tr class=\"topic-list-item category-share-guid...</td>\n",
       "      <td>https://community.dataquest.io/t/gp-clean-and-...</td>\n",
       "      <td>2</td>\n",
       "      <td>53</td>\n",
       "      <td>noticed that you are deleting objects, afte...</td>\n",
       "      <td>gp clean analyze employee exit surveys</td>\n",
       "      <td>348</td>\n",
       "      <td>exit employee</td>\n",
       "      <td>noticed deleting objects done good habit think...</td>\n",
       "      <td>noticed deleting objects done habit think star...</td>\n",
       "      <td>['noticed', 'deleting', 'objects', 'done', 'ha...</td>\n",
       "      <td>noticed deleting object do habit think start u...</td>\n",
       "      <td>607</td>\n",
       "      <td>0.132292</td>\n",
       "      <td>0.438542</td>\n",
       "      <td>[2 different ways, start using gc, ridiculousl...</td>\n",
       "    </tr>\n",
       "    <tr>\n",
       "      <th>3</th>\n",
       "      <td>3</td>\n",
       "      <td>&lt;tr class=\"topic-list-item category-share-guid...</td>\n",
       "      <td>https://community.dataquest.io/t/project-feedb...</td>\n",
       "      <td>5</td>\n",
       "      <td>71</td>\n",
       "      <td>think you forgot to attach your file…</td>\n",
       "      <td>popular science questions</td>\n",
       "      <td>469</td>\n",
       "      <td>science popular</td>\n",
       "      <td>think forgot attach file…</td>\n",
       "      <td>think forgot attach file…</td>\n",
       "      <td>['think', 'forgot', 'attach', 'file…']</td>\n",
       "      <td>think forget attach file…</td>\n",
       "      <td>39</td>\n",
       "      <td>0.000000</td>\n",
       "      <td>0.000000</td>\n",
       "      <td>[]</td>\n",
       "    </tr>\n",
       "    <tr>\n",
       "      <th>4</th>\n",
       "      <td>4</td>\n",
       "      <td>&lt;tr class=\"topic-list-item category-share-guid...</td>\n",
       "      <td>https://community.dataquest.io/t/guided-projec...</td>\n",
       "      <td>5</td>\n",
       "      <td>370</td>\n",
       "      <td>@gdelaserre: recategorized your topic. the ex...</td>\n",
       "      <td>answer albums vs singles without using except ...</td>\n",
       "      <td>191</td>\n",
       "      <td>sql using</td>\n",
       "      <td>gdelaserre recategorized topic except operator...</td>\n",
       "      <td>gdelaserre recategorized topic except operator...</td>\n",
       "      <td>['gdelaserre', 'recategorized', 'topic', 'exce...</td>\n",
       "      <td>gdelaserre recategorized topic except operator...</td>\n",
       "      <td>157</td>\n",
       "      <td>-0.017857</td>\n",
       "      <td>0.410714</td>\n",
       "      <td>[exclude certain criteria]</td>\n",
       "    </tr>\n",
       "    <tr>\n",
       "      <th>...</th>\n",
       "      <td>...</td>\n",
       "      <td>...</td>\n",
       "      <td>...</td>\n",
       "      <td>...</td>\n",
       "      <td>...</td>\n",
       "      <td>...</td>\n",
       "      <td>...</td>\n",
       "      <td>...</td>\n",
       "      <td>...</td>\n",
       "      <td>...</td>\n",
       "      <td>...</td>\n",
       "      <td>...</td>\n",
       "      <td>...</td>\n",
       "      <td>...</td>\n",
       "      <td>...</td>\n",
       "      <td>...</td>\n",
       "      <td>...</td>\n",
       "    </tr>\n",
       "    <tr>\n",
       "      <th>1038</th>\n",
       "      <td>1096</td>\n",
       "      <td>&lt;tr class=\"topic-list-item category-share-guid...</td>\n",
       "      <td>https://community.dataquest.io/t/analyzing-cia...</td>\n",
       "      <td>1</td>\n",
       "      <td>544</td>\n",
       "      <td>hey. overall you did a nice job. here are som...</td>\n",
       "      <td>cia factbook using sql</td>\n",
       "      <td>257</td>\n",
       "      <td>cia factbook</td>\n",
       "      <td>hey overall nice job observationssuggestionsop...</td>\n",
       "      <td>hey overall nice job observationssuggestionsop...</td>\n",
       "      <td>['hey', 'overall', 'nice', 'job', 'observation...</td>\n",
       "      <td>hey overall nice job observationssuggestionsop...</td>\n",
       "      <td>2861</td>\n",
       "      <td>0.122321</td>\n",
       "      <td>0.304018</td>\n",
       "      <td>[placed enough emphasis, float )/ area_land, r...</td>\n",
       "    </tr>\n",
       "    <tr>\n",
       "      <th>1039</th>\n",
       "      <td>1097</td>\n",
       "      <td>&lt;tr class=\"topic-list-item category-share-guid...</td>\n",
       "      <td>https://community.dataquest.io/t/would-like-an...</td>\n",
       "      <td>2</td>\n",
       "      <td>173</td>\n",
       "      <td>congrats on finishing your project!  i liked ...</td>\n",
       "      <td>would like opinion visualizing earnings colleg...</td>\n",
       "      <td>146</td>\n",
       "      <td>college visualizing</td>\n",
       "      <td>congrats finishing project liked seeing differ...</td>\n",
       "      <td>congrats finishing liked seeing different type...</td>\n",
       "      <td>['congrats', 'finishing', 'liked', 'seeing', '...</td>\n",
       "      <td>congrats finish liked see different type graph...</td>\n",
       "      <td>670</td>\n",
       "      <td>0.200000</td>\n",
       "      <td>0.550000</td>\n",
       "      <td>[might also want]</td>\n",
       "    </tr>\n",
       "    <tr>\n",
       "      <th>1040</th>\n",
       "      <td>1099</td>\n",
       "      <td>&lt;tr class=\"topic-list-item category-share-guid...</td>\n",
       "      <td>https://community.dataquest.io/t/analyzing-hac...</td>\n",
       "      <td>1</td>\n",
       "      <td>195</td>\n",
       "      <td>great work @burnsdillion!   another idea for ...</td>\n",
       "      <td>hacker news posts user engagement</td>\n",
       "      <td>356</td>\n",
       "      <td>news hacker</td>\n",
       "      <td>great work burnsdillion another idea analysis ...</td>\n",
       "      <td>great burnsdillion another idea analysis find ...</td>\n",
       "      <td>['great', 'burnsdillion', 'another', 'idea', '...</td>\n",
       "      <td>great burnsdillion another idea analysis find ...</td>\n",
       "      <td>742</td>\n",
       "      <td>0.349740</td>\n",
       "      <td>0.488896</td>\n",
       "      <td>[top ten authors, top authors write, top autho...</td>\n",
       "    </tr>\n",
       "    <tr>\n",
       "      <th>1041</th>\n",
       "      <td>1100</td>\n",
       "      <td>&lt;tr class=\"topic-list-item category-share-guid...</td>\n",
       "      <td>https://community.dataquest.io/t/solution-note...</td>\n",
       "      <td>2</td>\n",
       "      <td>297</td>\n",
       "      <td>hi mary, i notice that the solution does not ...</td>\n",
       "      <td>solution notebook cia factbook using sql</td>\n",
       "      <td>257</td>\n",
       "      <td>cia factbook</td>\n",
       "      <td>hi mary notice solution exclude outliers calcu...</td>\n",
       "      <td>mary notice solution exclude outliers calculat...</td>\n",
       "      <td>['mary', 'notice', 'solution', 'exclude', 'out...</td>\n",
       "      <td>mary notice solution exclude outlier calculate...</td>\n",
       "      <td>317</td>\n",
       "      <td>0.133333</td>\n",
       "      <td>0.522222</td>\n",
       "      <td>[last query remain]</td>\n",
       "    </tr>\n",
       "    <tr>\n",
       "      <th>1042</th>\n",
       "      <td>1101</td>\n",
       "      <td>&lt;tr class=\"topic-list-item category-share-guid...</td>\n",
       "      <td>https://community.dataquest.io/t/gp-exploringe...</td>\n",
       "      <td>1</td>\n",
       "      <td>139</td>\n",
       "      <td>hi @rucha i will definitely take look once i ...</td>\n",
       "      <td>gpexploringebaycarsalesdata additional questions</td>\n",
       "      <td>294</td>\n",
       "      <td>ebay car</td>\n",
       "      <td>hi rucha definitely take look finish exploring...</td>\n",
       "      <td>rucha definitely take look finish exploring eb...</td>\n",
       "      <td>['rucha', 'definitely', 'take', 'look', 'finis...</td>\n",
       "      <td>rucha definitely take look finish explore ebay...</td>\n",
       "      <td>117</td>\n",
       "      <td>0.000000</td>\n",
       "      <td>0.500000</td>\n",
       "      <td>[definitely take look]</td>\n",
       "    </tr>\n",
       "  </tbody>\n",
       "</table>\n",
       "<p>1043 rows × 17 columns</p>\n",
       "</div>"
      ],
      "text/plain": [
       "      Unnamed: 0                                            content  \\\n",
       "0              0  <tr class=\"topic-list-item category-share-guid...   \n",
       "1              1  <tr class=\"topic-list-item category-share-guid...   \n",
       "2              2  <tr class=\"topic-list-item category-share-guid...   \n",
       "3              3  <tr class=\"topic-list-item category-share-guid...   \n",
       "4              4  <tr class=\"topic-list-item category-share-guid...   \n",
       "...          ...                                                ...   \n",
       "1038        1096  <tr class=\"topic-list-item category-share-guid...   \n",
       "1039        1097  <tr class=\"topic-list-item category-share-guid...   \n",
       "1040        1099  <tr class=\"topic-list-item category-share-guid...   \n",
       "1041        1100  <tr class=\"topic-list-item category-share-guid...   \n",
       "1042        1101  <tr class=\"topic-list-item category-share-guid...   \n",
       "\n",
       "                                                   link  replies  views  \\\n",
       "0     https://community.dataquest.io/t/predicting-ho...        1     26   \n",
       "1     https://community.dataquest.io/t/re-upload-pro...        3     47   \n",
       "2     https://community.dataquest.io/t/gp-clean-and-...        2     53   \n",
       "3     https://community.dataquest.io/t/project-feedb...        5     71   \n",
       "4     https://community.dataquest.io/t/guided-projec...        5    370   \n",
       "...                                                 ...      ...    ...   \n",
       "1038  https://community.dataquest.io/t/analyzing-cia...        1    544   \n",
       "1039  https://community.dataquest.io/t/would-like-an...        2    173   \n",
       "1040  https://community.dataquest.io/t/analyzing-hac...        1    195   \n",
       "1041  https://community.dataquest.io/t/solution-note...        2    297   \n",
       "1042  https://community.dataquest.io/t/gp-exploringe...        1    139   \n",
       "\n",
       "                                               feedback  \\\n",
       "0      processing data inside a function saves memor...   \n",
       "1      hi, I have been going through your project an...   \n",
       "2        noticed that you are deleting objects, afte...   \n",
       "3                think you forgot to attach your file…    \n",
       "4      @gdelaserre: recategorized your topic. the ex...   \n",
       "...                                                 ...   \n",
       "1038   hey. overall you did a nice job. here are som...   \n",
       "1039   congrats on finishing your project!  i liked ...   \n",
       "1040   great work @burnsdillion!   another idea for ...   \n",
       "1041   hi mary, i notice that the solution does not ...   \n",
       "1042   hi @rucha i will definitely take look once i ...   \n",
       "\n",
       "                                           title_nostop  tag  \\\n",
       "0                                          house prices  240   \n",
       "1             reuploadproject popular science questions  469   \n",
       "2                gp clean analyze employee exit surveys  348   \n",
       "3                             popular science questions  469   \n",
       "4     answer albums vs singles without using except ...  191   \n",
       "...                                                 ...  ...   \n",
       "1038                             cia factbook using sql  257   \n",
       "1039  would like opinion visualizing earnings colleg...  146   \n",
       "1040                  hacker news posts user engagement  356   \n",
       "1041           solution notebook cia factbook using sql  257   \n",
       "1042   gpexploringebaycarsalesdata additional questions  294   \n",
       "\n",
       "              short_title                                     feedback_clean  \\\n",
       "0            house prices  processing data inside function saves memory v...   \n",
       "1         science popular  hi I going project thought could provide tips ...   \n",
       "2           exit employee  noticed deleting objects done good habit think...   \n",
       "3         science popular                          think forgot attach file…   \n",
       "4               sql using  gdelaserre recategorized topic except operator...   \n",
       "...                   ...                                                ...   \n",
       "1038         cia factbook  hey overall nice job observationssuggestionsop...   \n",
       "1039  college visualizing  congrats finishing project liked seeing differ...   \n",
       "1040          news hacker  great work burnsdillion another idea analysis ...   \n",
       "1041         cia factbook  hi mary notice solution exclude outliers calcu...   \n",
       "1042             ebay car  hi rucha definitely take look finish exploring...   \n",
       "\n",
       "                                        feedback_clean2  \\\n",
       "0     processing data inside function saves memory v...   \n",
       "1     I going thought could provide tips make better...   \n",
       "2     noticed deleting objects done habit think star...   \n",
       "3                             think forgot attach file…   \n",
       "4     gdelaserre recategorized topic except operator...   \n",
       "...                                                 ...   \n",
       "1038  hey overall nice job observationssuggestionsop...   \n",
       "1039  congrats finishing liked seeing different type...   \n",
       "1040  great burnsdillion another idea analysis find ...   \n",
       "1041  mary notice solution exclude outliers calculat...   \n",
       "1042  rucha definitely take look finish exploring eb...   \n",
       "\n",
       "                                              temp_list  \\\n",
       "0     ['processing', 'data', 'inside', 'function', '...   \n",
       "1     ['I', 'going', 'thought', 'could', 'provide', ...   \n",
       "2     ['noticed', 'deleting', 'objects', 'done', 'ha...   \n",
       "3                ['think', 'forgot', 'attach', 'file…']   \n",
       "4     ['gdelaserre', 'recategorized', 'topic', 'exce...   \n",
       "...                                                 ...   \n",
       "1038  ['hey', 'overall', 'nice', 'job', 'observation...   \n",
       "1039  ['congrats', 'finishing', 'liked', 'seeing', '...   \n",
       "1040  ['great', 'burnsdillion', 'another', 'idea', '...   \n",
       "1041  ['mary', 'notice', 'solution', 'exclude', 'out...   \n",
       "1042  ['rucha', 'definitely', 'take', 'look', 'finis...   \n",
       "\n",
       "                                    feedback_clean2_lem   len  polarity  \\\n",
       "0     process data inside function save memory varia...   500  0.203333   \n",
       "1     I go think could provide tip make better clear...  2840  0.299097   \n",
       "2     noticed deleting object do habit think start u...   607  0.132292   \n",
       "3                             think forget attach file…    39  0.000000   \n",
       "4     gdelaserre recategorized topic except operator...   157 -0.017857   \n",
       "...                                                 ...   ...       ...   \n",
       "1038  hey overall nice job observationssuggestionsop...  2861  0.122321   \n",
       "1039  congrats finish liked see different type graph...   670  0.200000   \n",
       "1040  great burnsdillion another idea analysis find ...   742  0.349740   \n",
       "1041  mary notice solution exclude outlier calculate...   317  0.133333   \n",
       "1042  rucha definitely take look finish explore ebay...   117  0.000000   \n",
       "\n",
       "      subjectivity                                         rake_words  \n",
       "0         0.550000  [https :// www1, create stay inside, processin...  \n",
       "1         0.478229  [clearly marks introduction, views graph needs...  \n",
       "2         0.438542  [2 different ways, start using gc, ridiculousl...  \n",
       "3         0.000000                                                 []  \n",
       "4         0.410714                         [exclude certain criteria]  \n",
       "...            ...                                                ...  \n",
       "1038      0.304018  [placed enough emphasis, float )/ area_land, r...  \n",
       "1039      0.550000                                  [might also want]  \n",
       "1040      0.488896  [top ten authors, top authors write, top autho...  \n",
       "1041      0.522222                                [last query remain]  \n",
       "1042      0.500000                             [definitely take look]  \n",
       "\n",
       "[1043 rows x 17 columns]"
      ]
     },
     "execution_count": 19,
     "metadata": {},
     "output_type": "execute_result"
    }
   ],
   "source": [
    "df"
   ]
  },
  {
   "cell_type": "code",
   "execution_count": 20,
   "id": "277df495",
   "metadata": {
    "execution": {
     "iopub.execute_input": "2022-01-28T23:54:32.253239Z",
     "iopub.status.busy": "2022-01-28T23:54:32.252184Z",
     "iopub.status.idle": "2022-01-28T23:54:32.256899Z",
     "shell.execute_reply": "2022-01-28T23:54:32.257601Z",
     "shell.execute_reply.started": "2022-01-28T23:42:11.127710Z"
    },
    "papermill": {
     "duration": 0.146885,
     "end_time": "2022-01-28T23:54:32.257791",
     "exception": false,
     "start_time": "2022-01-28T23:54:32.110906",
     "status": "completed"
    },
    "tags": []
   },
   "outputs": [],
   "source": [
    "points_list = [point for point in df['rake_words'].str[0]]"
   ]
  },
  {
   "cell_type": "markdown",
   "id": "fa33db41",
   "metadata": {
    "papermill": {
     "duration": 0.136221,
     "end_time": "2022-01-28T23:54:32.529800",
     "exception": false,
     "start_time": "2022-01-28T23:54:32.393579",
     "status": "completed"
    },
    "tags": []
   },
   "source": [
    "# Frequency distribution"
   ]
  },
  {
   "cell_type": "code",
   "execution_count": 21,
   "id": "024c5719",
   "metadata": {
    "execution": {
     "iopub.execute_input": "2022-01-28T23:54:32.811208Z",
     "iopub.status.busy": "2022-01-28T23:54:32.810111Z",
     "iopub.status.idle": "2022-01-28T23:54:32.814304Z",
     "shell.execute_reply": "2022-01-28T23:54:32.815022Z",
     "shell.execute_reply.started": "2022-01-28T23:42:11.143680Z"
    },
    "papermill": {
     "duration": 0.147709,
     "end_time": "2022-01-28T23:54:32.815204",
     "exception": false,
     "start_time": "2022-01-28T23:54:32.667495",
     "status": "completed"
    },
    "tags": []
   },
   "outputs": [],
   "source": [
    "from nltk import word_tokenize"
   ]
  },
  {
   "cell_type": "code",
   "execution_count": 22,
   "id": "25974671",
   "metadata": {
    "execution": {
     "iopub.execute_input": "2022-01-28T23:54:33.099780Z",
     "iopub.status.busy": "2022-01-28T23:54:33.098650Z",
     "iopub.status.idle": "2022-01-28T23:54:33.797917Z",
     "shell.execute_reply": "2022-01-28T23:54:33.797047Z",
     "shell.execute_reply.started": "2022-01-28T23:42:11.160112Z"
    },
    "papermill": {
     "duration": 0.844634,
     "end_time": "2022-01-28T23:54:33.798104",
     "exception": false,
     "start_time": "2022-01-28T23:54:32.953470",
     "status": "completed"
    },
    "tags": []
   },
   "outputs": [
    {
     "name": "stdout",
     "output_type": "stream",
     "text": [
      "       use       cell       look    comment conclusion       data       make        add       plot      great \n",
      "       740        664        494        485        449        445        437        434        383        377 \n"
     ]
    }
   ],
   "source": [
    "df['feedback_clean2_lem'] = df['feedback_clean2_lem'].astype(str)\n",
    "text = df['feedback_clean2_lem'].sum()\n",
    "words = word_tokenize(text)\n",
    "fd = nltk.FreqDist(words)\n",
    "fd.tabulate(10)"
   ]
  },
  {
   "cell_type": "code",
   "execution_count": 23,
   "id": "16fd4ef6",
   "metadata": {
    "execution": {
     "iopub.execute_input": "2022-01-28T23:54:34.120024Z",
     "iopub.status.busy": "2022-01-28T23:54:34.119209Z",
     "iopub.status.idle": "2022-01-28T23:54:34.123808Z",
     "shell.execute_reply": "2022-01-28T23:54:34.123113Z",
     "shell.execute_reply.started": "2022-01-28T23:42:11.865479Z"
    },
    "papermill": {
     "duration": 0.175898,
     "end_time": "2022-01-28T23:54:34.123995",
     "exception": false,
     "start_time": "2022-01-28T23:54:33.948097",
     "status": "completed"
    },
    "tags": []
   },
   "outputs": [
    {
     "data": {
      "text/html": [
       "<div>\n",
       "<style scoped>\n",
       "    .dataframe tbody tr th:only-of-type {\n",
       "        vertical-align: middle;\n",
       "    }\n",
       "\n",
       "    .dataframe tbody tr th {\n",
       "        vertical-align: top;\n",
       "    }\n",
       "\n",
       "    .dataframe thead th {\n",
       "        text-align: right;\n",
       "    }\n",
       "</style>\n",
       "<table border=\"1\" class=\"dataframe\">\n",
       "  <thead>\n",
       "    <tr style=\"text-align: right;\">\n",
       "      <th></th>\n",
       "      <th>word</th>\n",
       "      <th>count</th>\n",
       "    </tr>\n",
       "  </thead>\n",
       "  <tbody>\n",
       "    <tr>\n",
       "      <th>0</th>\n",
       "      <td>use</td>\n",
       "      <td>740</td>\n",
       "    </tr>\n",
       "    <tr>\n",
       "      <th>1</th>\n",
       "      <td>cell</td>\n",
       "      <td>664</td>\n",
       "    </tr>\n",
       "    <tr>\n",
       "      <th>2</th>\n",
       "      <td>look</td>\n",
       "      <td>494</td>\n",
       "    </tr>\n",
       "    <tr>\n",
       "      <th>3</th>\n",
       "      <td>comment</td>\n",
       "      <td>485</td>\n",
       "    </tr>\n",
       "    <tr>\n",
       "      <th>4</th>\n",
       "      <td>conclusion</td>\n",
       "      <td>449</td>\n",
       "    </tr>\n",
       "    <tr>\n",
       "      <th>5</th>\n",
       "      <td>data</td>\n",
       "      <td>445</td>\n",
       "    </tr>\n",
       "    <tr>\n",
       "      <th>6</th>\n",
       "      <td>make</td>\n",
       "      <td>437</td>\n",
       "    </tr>\n",
       "    <tr>\n",
       "      <th>7</th>\n",
       "      <td>add</td>\n",
       "      <td>434</td>\n",
       "    </tr>\n",
       "    <tr>\n",
       "      <th>8</th>\n",
       "      <td>plot</td>\n",
       "      <td>383</td>\n",
       "    </tr>\n",
       "    <tr>\n",
       "      <th>9</th>\n",
       "      <td>great</td>\n",
       "      <td>377</td>\n",
       "    </tr>\n",
       "    <tr>\n",
       "      <th>10</th>\n",
       "      <td>one</td>\n",
       "      <td>366</td>\n",
       "    </tr>\n",
       "    <tr>\n",
       "      <th>11</th>\n",
       "      <td>guide</td>\n",
       "      <td>365</td>\n",
       "    </tr>\n",
       "    <tr>\n",
       "      <th>12</th>\n",
       "      <td>happy</td>\n",
       "      <td>360</td>\n",
       "    </tr>\n",
       "    <tr>\n",
       "      <th>13</th>\n",
       "      <td>thanks</td>\n",
       "      <td>360</td>\n",
       "    </tr>\n",
       "    <tr>\n",
       "      <th>14</th>\n",
       "      <td>community</td>\n",
       "      <td>342</td>\n",
       "    </tr>\n",
       "    <tr>\n",
       "      <th>15</th>\n",
       "      <td>project</td>\n",
       "      <td>317</td>\n",
       "    </tr>\n",
       "    <tr>\n",
       "      <th>16</th>\n",
       "      <td>think</td>\n",
       "      <td>310</td>\n",
       "    </tr>\n",
       "    <tr>\n",
       "      <th>17</th>\n",
       "      <td>get</td>\n",
       "      <td>292</td>\n",
       "    </tr>\n",
       "    <tr>\n",
       "      <th>18</th>\n",
       "      <td>suggestion</td>\n",
       "      <td>292</td>\n",
       "    </tr>\n",
       "    <tr>\n",
       "      <th>19</th>\n",
       "      <td>“</td>\n",
       "      <td>282</td>\n",
       "    </tr>\n",
       "    <tr>\n",
       "      <th>20</th>\n",
       "      <td>”</td>\n",
       "      <td>282</td>\n",
       "    </tr>\n",
       "    <tr>\n",
       "      <th>21</th>\n",
       "      <td>markdown</td>\n",
       "      <td>271</td>\n",
       "    </tr>\n",
       "    <tr>\n",
       "      <th>22</th>\n",
       "      <td>give</td>\n",
       "      <td>263</td>\n",
       "    </tr>\n",
       "    <tr>\n",
       "      <th>23</th>\n",
       "      <td>could</td>\n",
       "      <td>254</td>\n",
       "    </tr>\n",
       "    <tr>\n",
       "      <th>24</th>\n",
       "      <td>first</td>\n",
       "      <td>248</td>\n",
       "    </tr>\n",
       "    <tr>\n",
       "      <th>25</th>\n",
       "      <td>title</td>\n",
       "      <td>246</td>\n",
       "    </tr>\n",
       "    <tr>\n",
       "      <th>26</th>\n",
       "      <td>introduction</td>\n",
       "      <td>245</td>\n",
       "    </tr>\n",
       "    <tr>\n",
       "      <th>27</th>\n",
       "      <td>line</td>\n",
       "      <td>239</td>\n",
       "    </tr>\n",
       "    <tr>\n",
       "      <th>28</th>\n",
       "      <td>analysis</td>\n",
       "      <td>235</td>\n",
       "    </tr>\n",
       "    <tr>\n",
       "      <th>29</th>\n",
       "      <td>way</td>\n",
       "      <td>233</td>\n",
       "    </tr>\n",
       "  </tbody>\n",
       "</table>\n",
       "</div>"
      ],
      "text/plain": [
       "            word  count\n",
       "0            use    740\n",
       "1           cell    664\n",
       "2           look    494\n",
       "3        comment    485\n",
       "4     conclusion    449\n",
       "5           data    445\n",
       "6           make    437\n",
       "7            add    434\n",
       "8           plot    383\n",
       "9          great    377\n",
       "10           one    366\n",
       "11         guide    365\n",
       "12         happy    360\n",
       "13        thanks    360\n",
       "14     community    342\n",
       "15       project    317\n",
       "16         think    310\n",
       "17           get    292\n",
       "18    suggestion    292\n",
       "19             “    282\n",
       "20             ”    282\n",
       "21      markdown    271\n",
       "22          give    263\n",
       "23         could    254\n",
       "24         first    248\n",
       "25         title    246\n",
       "26  introduction    245\n",
       "27          line    239\n",
       "28      analysis    235\n",
       "29           way    233"
      ]
     },
     "execution_count": 23,
     "metadata": {},
     "output_type": "execute_result"
    }
   ],
   "source": [
    "pd.DataFrame(fd.most_common(30), columns=['word','count'])"
   ]
  },
  {
   "cell_type": "markdown",
   "id": "1a13e14f",
   "metadata": {
    "papermill": {
     "duration": 0.143839,
     "end_time": "2022-01-28T23:54:34.406818",
     "exception": false,
     "start_time": "2022-01-28T23:54:34.262979",
     "status": "completed"
    },
    "tags": []
   },
   "source": [
    "# Concordance\n",
    "https://avidml.wordpress.com/2017/08/05/natural-language-processing-concordance/"
   ]
  },
  {
   "cell_type": "code",
   "execution_count": 24,
   "id": "97a45113",
   "metadata": {
    "execution": {
     "iopub.execute_input": "2022-01-28T23:54:34.689238Z",
     "iopub.status.busy": "2022-01-28T23:54:34.688503Z",
     "iopub.status.idle": "2022-01-28T23:54:36.724021Z",
     "shell.execute_reply": "2022-01-28T23:54:36.722528Z",
     "shell.execute_reply.started": "2022-01-28T23:42:11.883563Z"
    },
    "papermill": {
     "duration": 2.177638,
     "end_time": "2022-01-28T23:54:36.724261",
     "exception": false,
     "start_time": "2022-01-28T23:54:34.546623",
     "status": "completed"
    },
    "tags": []
   },
   "outputs": [
    {
     "name": "stdout",
     "output_type": "stream",
     "text": [
      "Displaying 10 of 150 matches:\n",
      "ive precision . it is better to make plot titles bigger . about the interactiv\n",
      " '' ] what is the point of your last plot ? does it confirm your hypothesis th\n",
      "ou use very similar code to create a plot – there is an opportunity to reduce \n",
      "er plots ” try to comment after each plot and not at the end so the reader doe\n",
      "ur case saleprice , and after it you plot correlation only between remaining f\n",
      "tation then possible and correlation plot may be have different colors and val\n",
      "tting the format of the grid on your plot setting the ylabel as ‘ average traf\n",
      " line_data = series that you want to plot # start_hour = beginning hour of the\n",
      "# start_hour = beginning hour of the plot **in 24hr format** # end_hour = end \n",
      "ormat** # end_hour = end hour of the plot **in 24hr format** def plot_traffic_\n"
     ]
    }
   ],
   "source": [
    "text = nltk.Text(word_tokenize(df['feedback'].sum()))\n",
    "text.concordance(\"plot\", lines=10)"
   ]
  },
  {
   "cell_type": "code",
   "execution_count": 25,
   "id": "20fa6bcf",
   "metadata": {
    "execution": {
     "iopub.execute_input": "2022-01-28T23:54:37.051756Z",
     "iopub.status.busy": "2022-01-28T23:54:37.050926Z",
     "iopub.status.idle": "2022-01-28T23:54:37.061948Z",
     "shell.execute_reply": "2022-01-28T23:54:37.062457Z",
     "shell.execute_reply.started": "2022-01-28T23:42:13.985554Z"
    },
    "papermill": {
     "duration": 0.175481,
     "end_time": "2022-01-28T23:54:37.062672",
     "exception": false,
     "start_time": "2022-01-28T23:54:36.887191",
     "status": "completed"
    },
    "tags": []
   },
   "outputs": [
    {
     "name": "stdout",
     "output_type": "stream",
     "text": [
      "Displaying 10 of 390 matches:\n",
      "wever the data clean-up section could use some more work . while you have given\n",
      "ience domain is common place with the use of “ with our knowledge of the datasc\n",
      " could let me know what extension you use to check spellings in the markdowns .\n",
      ", # # plotting graph ) . by the way , use only one hash symbol before each comm\n",
      "well managed . the introduction , the use of comments and explanations given ar\n",
      " comments to your functions . you can use docstrings for this purpose in the da\n",
      " these purposes . indeed , you do not use them in this project at all . some mi\n",
      "e the code comment # death star mod : use the word “ observations ” instead of \n",
      "rby . i love it ! such a cool idea to use the map and get an idea of where the \n",
      "inearity collinearity occurs when you use two or more columns in a machine lear\n"
     ]
    }
   ],
   "source": [
    "text.concordance(\"use\", lines=10)"
   ]
  },
  {
   "cell_type": "code",
   "execution_count": 26,
   "id": "78aa812f",
   "metadata": {
    "execution": {
     "iopub.execute_input": "2022-01-28T23:54:37.565086Z",
     "iopub.status.busy": "2022-01-28T23:54:37.552240Z",
     "iopub.status.idle": "2022-01-28T23:54:38.045332Z",
     "shell.execute_reply": "2022-01-28T23:54:38.044628Z",
     "shell.execute_reply.started": "2022-01-28T23:42:13.997228Z"
    },
    "papermill": {
     "duration": 0.835657,
     "end_time": "2022-01-28T23:54:38.045495",
     "exception": false,
     "start_time": "2022-01-28T23:54:37.209838",
     "status": "completed"
    },
    "tags": []
   },
   "outputs": [
    {
     "name": "stdout",
     "output_type": "stream",
     "text": [
      "Displaying 10 of 28 matches:\n",
      "ader easily adapt line might appear complex noticed settingwithcopywarning erro\n",
      "y use comment remember comment ease complex line give comment always try code w\n",
      "omehow understand line might appear complex consider add explanation every subh\n",
      "cell11 line look quite long somehow complex add comment make presentable otherw\n",
      "reader get follow line might appear complex always advisable provide link datas\n",
      "reader understand line might appear complex consider style text present markdow\n",
      "ehow challenge reader may find line complex understand output cell567 readable \n",
      "reader somehow flow line may appear complex check style subtopic asterisk think\n",
      "hardly use comment remember comment complex line ease check style sub tittle bo\n",
      "mprehensible use comment relatively complex piece well import library begin fir\n"
     ]
    }
   ],
   "source": [
    "text = nltk.Text(word_tokenize(df['feedback_clean2_lem'].sum()))\n",
    "text.concordance(\"complex\", lines=10)"
   ]
  },
  {
   "cell_type": "code",
   "execution_count": 27,
   "id": "50501d28",
   "metadata": {
    "execution": {
     "iopub.execute_input": "2022-01-28T23:54:38.436433Z",
     "iopub.status.busy": "2022-01-28T23:54:38.425682Z",
     "iopub.status.idle": "2022-01-28T23:54:41.097142Z",
     "shell.execute_reply": "2022-01-28T23:54:41.097834Z",
     "shell.execute_reply.started": "2022-01-28T23:42:14.689468Z"
    },
    "papermill": {
     "duration": 2.910976,
     "end_time": "2022-01-28T23:54:41.098051",
     "exception": false,
     "start_time": "2022-01-28T23:54:38.187075",
     "status": "completed"
    },
    "tags": []
   },
   "outputs": [
    {
     "data": {
      "text/plain": [
       "[(('thanks', 'for', 'sharing'), 333),\n",
       " (('for', 'sharing', 'your'), 267),\n",
       " (('sharing', 'your', 'project'), 189),\n",
       " (('it', 'is', 'better'), 180),\n",
       " (('is', 'better', 'to'), 171),\n",
       " (('your', 'guided', 'project'), 141),\n",
       " (('happy', 'learning', 'hi'), 132),\n",
       " (('the', 'code', 'cell'), 129),\n",
       " (('of', 'the', 'project'), 118),\n",
       " (('the', 'good', 'work'), 116)]"
      ]
     },
     "execution_count": 27,
     "metadata": {},
     "output_type": "execute_result"
    }
   ],
   "source": [
    "words = [w for w in word_tokenize(df['feedback'].sum()) if w.isalpha()]\n",
    "finder = nltk.collocations.TrigramCollocationFinder.from_words(words)\n",
    "finder.ngram_fd.most_common(10)"
   ]
  },
  {
   "cell_type": "code",
   "execution_count": 28,
   "id": "2dea4f21",
   "metadata": {
    "execution": {
     "iopub.execute_input": "2022-01-28T23:54:41.388962Z",
     "iopub.status.busy": "2022-01-28T23:54:41.387911Z",
     "iopub.status.idle": "2022-01-28T23:54:41.466609Z",
     "shell.execute_reply": "2022-01-28T23:54:41.465869Z",
     "shell.execute_reply.started": "2022-01-28T23:42:17.585056Z"
    },
    "papermill": {
     "duration": 0.229802,
     "end_time": "2022-01-28T23:54:41.466773",
     "exception": false,
     "start_time": "2022-01-28T23:54:41.236971",
     "status": "completed"
    },
    "tags": []
   },
   "outputs": [
    {
     "data": {
      "text/plain": [
       "FreqDist({'use': 740, 'cell': 664, 'look': 494, 'comment': 485, 'conclusion': 449, 'data': 445, 'make': 437, 'add': 434, 'plot': 383, 'great': 377, ...})"
      ]
     },
     "execution_count": 28,
     "metadata": {},
     "output_type": "execute_result"
    }
   ],
   "source": [
    "text.vocab()"
   ]
  },
  {
   "cell_type": "code",
   "execution_count": 29,
   "id": "ee676ae9",
   "metadata": {
    "execution": {
     "iopub.execute_input": "2022-01-28T23:54:41.808896Z",
     "iopub.status.busy": "2022-01-28T23:54:41.807635Z",
     "iopub.status.idle": "2022-01-28T23:54:42.474010Z",
     "shell.execute_reply": "2022-01-28T23:54:42.473324Z",
     "shell.execute_reply.started": "2022-01-28T23:42:17.658648Z"
    },
    "papermill": {
     "duration": 0.862208,
     "end_time": "2022-01-28T23:54:42.474168",
     "exception": false,
     "start_time": "2022-01-28T23:54:41.611960",
     "status": "completed"
    },
    "tags": []
   },
   "outputs": [
    {
     "data": {
      "text/plain": [
       "FreqDist({'use': 740, 'cell': 664, 'look': 494, 'comment': 485, 'conclusion': 449, 'data': 445, 'make': 437, 'add': 434, 'plot': 383, 'great': 377, ...})"
      ]
     },
     "execution_count": 29,
     "metadata": {},
     "output_type": "execute_result"
    }
   ],
   "source": [
    "text = nltk.Text(word_tokenize(df['feedback_clean2_lem'].sum()))\n",
    "text.vocab()"
   ]
  },
  {
   "cell_type": "markdown",
   "id": "003bee3c",
   "metadata": {
    "papermill": {
     "duration": 0.146359,
     "end_time": "2022-01-28T23:54:42.762853",
     "exception": false,
     "start_time": "2022-01-28T23:54:42.616494",
     "status": "completed"
    },
    "tags": []
   },
   "source": [
    "# setting difficulty level"
   ]
  },
  {
   "cell_type": "code",
   "execution_count": 30,
   "id": "00f538d2",
   "metadata": {
    "execution": {
     "iopub.execute_input": "2022-01-28T23:54:43.109508Z",
     "iopub.status.busy": "2022-01-28T23:54:43.107870Z",
     "iopub.status.idle": "2022-01-28T23:54:43.117014Z",
     "shell.execute_reply": "2022-01-28T23:54:43.116296Z",
     "shell.execute_reply.started": "2022-01-28T23:42:18.375781Z"
    },
    "papermill": {
     "duration": 0.202796,
     "end_time": "2022-01-28T23:54:43.117183",
     "exception": false,
     "start_time": "2022-01-28T23:54:42.914387",
     "status": "completed"
    },
    "tags": []
   },
   "outputs": [],
   "source": [
    "d = {'app profitable':1,'news hacker':2,'ebay car':3,'traffic heavy':4,'exchange rates':5,'exit employee':6, 'wars star':7,\n",
    " 'sql cia':8, 'cia factbook':8,'sql using':8,'science popular':9,'college visualizing':8,'gender gap':8,'nyc high':8,\n",
    "'fandango ratings':10, 'markets advertise':11,'lottery addiction':12, 'spam filter':13,\n",
    "'jeopardy winning':14,'car prices':15, 'house prices':16,'stock market':17,'bike rentals':18}\n",
    "\n",
    "for key in d.keys():\n",
    "    df.loc[df['short_title']==key,'level'] = d[key]\n",
    "df = df[~df['level'].isnull()].copy()   \n",
    "bins3 = np.array([0,8,14,19])\n",
    "df[\"level\"] = np.digitize(df[\"level\"], bins3)\n",
    "\n",
    "df = df.drop(labels=965)"
   ]
  },
  {
   "cell_type": "markdown",
   "id": "a52d5c89",
   "metadata": {
    "papermill": {
     "duration": 0.145908,
     "end_time": "2022-01-28T23:54:43.417398",
     "exception": false,
     "start_time": "2022-01-28T23:54:43.271490",
     "status": "completed"
    },
    "tags": []
   },
   "source": [
    "# Query answer"
   ]
  },
  {
   "cell_type": "code",
   "execution_count": 31,
   "id": "ff967c56",
   "metadata": {
    "execution": {
     "iopub.execute_input": "2022-01-28T23:54:43.731047Z",
     "iopub.status.busy": "2022-01-28T23:54:43.730264Z",
     "iopub.status.idle": "2022-01-28T23:54:44.299921Z",
     "shell.execute_reply": "2022-01-28T23:54:44.301370Z",
     "shell.execute_reply.started": "2022-01-28T23:42:18.409702Z"
    },
    "papermill": {
     "duration": 0.731452,
     "end_time": "2022-01-28T23:54:44.301829",
     "exception": false,
     "start_time": "2022-01-28T23:54:43.570377",
     "status": "completed"
    },
    "tags": []
   },
   "outputs": [
    {
     "data": {
      "text/plain": [
       "'process data inside function save memory variable create stay inside function store memory do function important work larger datasets interested experiment httpswww1nycgovsitetlcabouttlctriprecorddatapage try clean 1 month dataset kaggle notebook look ram usage outside function inside function compare ram usage example'"
      ]
     },
     "execution_count": 31,
     "metadata": {},
     "output_type": "execute_result"
    }
   ],
   "source": [
    "from sklearn.metrics import pairwise_distances\n",
    "from sklearn.decomposition import TruncatedSVD\n",
    "from sklearn.feature_extraction.text import CountVectorizer\n",
    "from nltk.corpus import stopwords\n",
    "\n",
    "stopword_list = stopwords.words('english')\n",
    "dtm = CountVectorizer(max_df=0.7, min_df=5, token_pattern=\"[a-z']+\", \n",
    "                      stop_words=stopword_list, max_features=6000) # Only top 6000 most frequently ocurring words are considered\n",
    "\n",
    "dtm.fit(df['feedback_clean2_lem'])\n",
    "dtm_mat = dtm.transform(df['feedback_clean2_lem'])\n",
    "tsvd = TruncatedSVD(n_components=200)\n",
    "tsvd.fit(dtm_mat)\n",
    "tsvd_mat = tsvd.transform(dtm_mat)\n",
    "\n",
    "query = \"slow function solution\"\n",
    "query_mat = tsvd.transform(dtm.transform([query]))\n",
    "dist = pairwise_distances(X=tsvd_mat, Y=query_mat, metric='cosine')\n",
    "df['feedback_clean2_lem'][np.argmin(dist.flatten())]"
   ]
  },
  {
   "cell_type": "code",
   "execution_count": 32,
   "id": "76528078",
   "metadata": {
    "execution": {
     "iopub.execute_input": "2022-01-28T23:54:44.670651Z",
     "iopub.status.busy": "2022-01-28T23:54:44.669377Z",
     "iopub.status.idle": "2022-01-28T23:54:44.678798Z",
     "shell.execute_reply": "2022-01-28T23:54:44.679870Z",
     "shell.execute_reply.started": "2022-01-28T23:42:18.860152Z"
    },
    "papermill": {
     "duration": 0.176482,
     "end_time": "2022-01-28T23:54:44.680180",
     "exception": false,
     "start_time": "2022-01-28T23:54:44.503698",
     "status": "completed"
    },
    "tags": []
   },
   "outputs": [
    {
     "data": {
      "text/plain": [
       "'hey elena read book nice minor detail add cell 2 5 line repeat twice difference data set name might consider put function readdata something avoid repetition cell 3 try avoid magic number function call exploredataandroid 0 3 true readability well use name argument explicitly indicate 0 3 true cell 25 go 7 7 android 4 io someone create additional column data magic number shift longer might consider create variablesconstants clear name put somewhere start something change need change one place app androidcleanedfiltered app7 0 androidfinalappendapp app iosfiltered app4 00 iosfinalappendapp cell 22 skip part check true put simply check cell 27 nice cell 34 use methodchaining numberinstalls numberinstallsreplace replace avoid repetition use regular expression cover later cell 36 38 40 42 44 46 48 etc look similar repetitive way create function great'"
      ]
     },
     "execution_count": 32,
     "metadata": {},
     "output_type": "execute_result"
    }
   ],
   "source": [
    "query = \"How to improve my plot?\"\n",
    "query_mat = tsvd.transform(dtm.transform([query]))\n",
    "dist = pairwise_distances(X=tsvd_mat, Y=query_mat, metric='cosine')\n",
    "df['feedback_clean2_lem'][np.argmin(dist.flatten())]"
   ]
  },
  {
   "cell_type": "code",
   "execution_count": 33,
   "id": "6b70c945",
   "metadata": {
    "execution": {
     "iopub.execute_input": "2022-01-28T23:54:45.037892Z",
     "iopub.status.busy": "2022-01-28T23:54:45.037100Z",
     "iopub.status.idle": "2022-01-28T23:54:45.047453Z",
     "shell.execute_reply": "2022-01-28T23:54:45.046214Z",
     "shell.execute_reply.started": "2022-01-28T23:42:18.876194Z"
    },
    "papermill": {
     "duration": 0.159078,
     "end_time": "2022-01-28T23:54:45.047751",
     "exception": false,
     "start_time": "2022-01-28T23:54:44.888673",
     "status": "completed"
    },
    "tags": []
   },
   "outputs": [
    {
     "data": {
      "text/plain": [
       "'hello ajbrillantes thank way provide us detailed analysis easy follow along since presentation style pretty graphs wow excellent skill data visualization urge visualization happy learn'"
      ]
     },
     "execution_count": 33,
     "metadata": {},
     "output_type": "execute_result"
    }
   ],
   "source": [
    "query = \"make it easy to understand\"\n",
    "query_mat = tsvd.transform(dtm.transform([query]))\n",
    "dist = pairwise_distances(X=tsvd_mat, Y=query_mat, metric='cosine')\n",
    "df['feedback_clean2_lem'][np.argmin(dist.flatten())]"
   ]
  },
  {
   "cell_type": "code",
   "execution_count": 34,
   "id": "ecd7f611",
   "metadata": {
    "execution": {
     "iopub.execute_input": "2022-01-28T23:54:45.395142Z",
     "iopub.status.busy": "2022-01-28T23:54:45.394409Z",
     "iopub.status.idle": "2022-01-28T23:54:45.397219Z",
     "shell.execute_reply": "2022-01-28T23:54:45.397769Z",
     "shell.execute_reply.started": "2022-01-28T23:42:18.900425Z"
    },
    "papermill": {
     "duration": 0.15168,
     "end_time": "2022-01-28T23:54:45.397981",
     "exception": false,
     "start_time": "2022-01-28T23:54:45.246301",
     "status": "completed"
    },
    "tags": []
   },
   "outputs": [],
   "source": [
    "from sklearn.feature_extraction.text import TfidfVectorizer\n",
    "vectorizer = TfidfVectorizer()"
   ]
  },
  {
   "cell_type": "code",
   "execution_count": 35,
   "id": "34d3390f",
   "metadata": {
    "execution": {
     "iopub.execute_input": "2022-01-28T23:54:45.688390Z",
     "iopub.status.busy": "2022-01-28T23:54:45.687379Z",
     "iopub.status.idle": "2022-01-28T23:54:45.861610Z",
     "shell.execute_reply": "2022-01-28T23:54:45.862145Z",
     "shell.execute_reply.started": "2022-01-28T23:42:18.908535Z"
    },
    "papermill": {
     "duration": 0.321671,
     "end_time": "2022-01-28T23:54:45.862378",
     "exception": false,
     "start_time": "2022-01-28T23:54:45.540707",
     "status": "completed"
    },
    "tags": []
   },
   "outputs": [],
   "source": [
    "X = vectorizer.fit_transform(df['feedback'])"
   ]
  },
  {
   "cell_type": "code",
   "execution_count": 36,
   "id": "cf7adb1f",
   "metadata": {
    "execution": {
     "iopub.execute_input": "2022-01-28T23:54:46.167678Z",
     "iopub.status.busy": "2022-01-28T23:54:46.166971Z",
     "iopub.status.idle": "2022-01-28T23:54:46.170606Z",
     "shell.execute_reply": "2022-01-28T23:54:46.171230Z",
     "shell.execute_reply.started": "2022-01-28T23:42:19.129589Z"
    },
    "papermill": {
     "duration": 0.155767,
     "end_time": "2022-01-28T23:54:46.171421",
     "exception": false,
     "start_time": "2022-01-28T23:54:46.015654",
     "status": "completed"
    },
    "tags": []
   },
   "outputs": [],
   "source": [
    "# vectorizer.get_feature_names()\n",
    "analyze = vectorizer.build_analyzer()"
   ]
  },
  {
   "cell_type": "code",
   "execution_count": 37,
   "id": "852f27a6",
   "metadata": {
    "execution": {
     "iopub.execute_input": "2022-01-28T23:54:46.456552Z",
     "iopub.status.busy": "2022-01-28T23:54:46.455852Z",
     "iopub.status.idle": "2022-01-28T23:54:46.757597Z",
     "shell.execute_reply": "2022-01-28T23:54:46.756821Z",
     "shell.execute_reply.started": "2022-01-28T23:42:19.138012Z"
    },
    "papermill": {
     "duration": 0.444998,
     "end_time": "2022-01-28T23:54:46.757757",
     "exception": false,
     "start_time": "2022-01-28T23:54:46.312759",
     "status": "completed"
    },
    "tags": []
   },
   "outputs": [],
   "source": [
    "from sklearn.feature_extraction.text import CountVectorizer\n",
    "vect = CountVectorizer()\n",
    "vect.fit(df['feedback'])\n",
    "\n",
    "x_train_dtm = vect.transform(df['feedback'])\n",
    "# x_test_dtm = vect.transform(x_test)"
   ]
  },
  {
   "cell_type": "code",
   "execution_count": 38,
   "id": "b7f415f0",
   "metadata": {
    "execution": {
     "iopub.execute_input": "2022-01-28T23:54:47.049503Z",
     "iopub.status.busy": "2022-01-28T23:54:47.048426Z",
     "iopub.status.idle": "2022-01-28T23:54:47.052211Z",
     "shell.execute_reply": "2022-01-28T23:54:47.051487Z",
     "shell.execute_reply.started": "2022-01-28T23:42:19.457979Z"
    },
    "papermill": {
     "duration": 0.152964,
     "end_time": "2022-01-28T23:54:47.052375",
     "exception": false,
     "start_time": "2022-01-28T23:54:46.899411",
     "status": "completed"
    },
    "tags": []
   },
   "outputs": [],
   "source": [
    "vect_tunned = CountVectorizer(stop_words='english', ngram_range=(1,2), min_df=0.1, max_df=0.7, max_features=100)"
   ]
  },
  {
   "cell_type": "markdown",
   "id": "6d429c8e",
   "metadata": {
    "papermill": {
     "duration": 0.139759,
     "end_time": "2022-01-28T23:54:47.333632",
     "exception": false,
     "start_time": "2022-01-28T23:54:47.193873",
     "status": "completed"
    },
    "tags": []
   },
   "source": [
    "# TFIDF"
   ]
  },
  {
   "cell_type": "code",
   "execution_count": 39,
   "id": "3e80de7a",
   "metadata": {
    "execution": {
     "iopub.execute_input": "2022-01-28T23:54:47.623630Z",
     "iopub.status.busy": "2022-01-28T23:54:47.622452Z",
     "iopub.status.idle": "2022-01-28T23:54:47.632422Z",
     "shell.execute_reply": "2022-01-28T23:54:47.631741Z",
     "shell.execute_reply.started": "2022-01-28T23:42:19.464400Z"
    },
    "papermill": {
     "duration": 0.156986,
     "end_time": "2022-01-28T23:54:47.632593",
     "exception": false,
     "start_time": "2022-01-28T23:54:47.475607",
     "status": "completed"
    },
    "tags": []
   },
   "outputs": [
    {
     "data": {
      "text/plain": [
       "<1011x6370 sparse matrix of type '<class 'numpy.float64'>'\n",
       "\twith 78152 stored elements in Compressed Sparse Row format>"
      ]
     },
     "execution_count": 39,
     "metadata": {},
     "output_type": "execute_result"
    }
   ],
   "source": [
    "from sklearn.feature_extraction.text import TfidfTransformer\n",
    "\n",
    "tfidf_transformer = TfidfTransformer()\n",
    "\n",
    "tfidf_transformer.fit(x_train_dtm)\n",
    "x_train_tfidf = tfidf_transformer.transform(x_train_dtm)\n",
    "\n",
    "x_train_tfidf"
   ]
  },
  {
   "cell_type": "code",
   "execution_count": 40,
   "id": "f2287742",
   "metadata": {
    "execution": {
     "iopub.execute_input": "2022-01-28T23:54:47.923008Z",
     "iopub.status.busy": "2022-01-28T23:54:47.921733Z",
     "iopub.status.idle": "2022-01-28T23:54:47.927913Z",
     "shell.execute_reply": "2022-01-28T23:54:47.928463Z",
     "shell.execute_reply.started": "2022-01-28T23:42:19.485511Z"
    },
    "papermill": {
     "duration": 0.152764,
     "end_time": "2022-01-28T23:54:47.928689",
     "exception": false,
     "start_time": "2022-01-28T23:54:47.775925",
     "status": "completed"
    },
    "tags": []
   },
   "outputs": [],
   "source": [
    "# https://towardsdatascience.com/natural-language-processing-feature-engineering-using-tf-idf-e8b9d00e7e76\n",
    "from sklearn.feature_extraction.text import TfidfVectorizer\n",
    "documentA = 'the man went out for a walk'\n",
    "documentB = 'the children sat around the fire'\n",
    "\n",
    "bagOfWordsA = documentA.split(' ')\n",
    "bagOfWordsB = documentB.split(' ')"
   ]
  },
  {
   "cell_type": "code",
   "execution_count": 41,
   "id": "24912d37",
   "metadata": {
    "execution": {
     "iopub.execute_input": "2022-01-28T23:54:48.221120Z",
     "iopub.status.busy": "2022-01-28T23:54:48.219957Z",
     "iopub.status.idle": "2022-01-28T23:54:48.223364Z",
     "shell.execute_reply": "2022-01-28T23:54:48.222517Z",
     "shell.execute_reply.started": "2022-01-28T23:42:19.492282Z"
    },
    "papermill": {
     "duration": 0.153519,
     "end_time": "2022-01-28T23:54:48.223527",
     "exception": false,
     "start_time": "2022-01-28T23:54:48.070008",
     "status": "completed"
    },
    "tags": []
   },
   "outputs": [],
   "source": [
    "uniqueWords = set(bagOfWordsA).union(set(bagOfWordsB))\n",
    "numOfWordsA = dict.fromkeys(uniqueWords, 0)\n",
    "for word in bagOfWordsA:\n",
    "    numOfWordsA[word] += 1\n",
    "numOfWordsB = dict.fromkeys(uniqueWords, 0)\n",
    "for word in bagOfWordsB:\n",
    "    numOfWordsB[word] += 1"
   ]
  },
  {
   "cell_type": "code",
   "execution_count": 42,
   "id": "62054157",
   "metadata": {
    "execution": {
     "iopub.execute_input": "2022-01-28T23:54:48.517637Z",
     "iopub.status.busy": "2022-01-28T23:54:48.516499Z",
     "iopub.status.idle": "2022-01-28T23:54:48.519001Z",
     "shell.execute_reply": "2022-01-28T23:54:48.519675Z",
     "shell.execute_reply.started": "2022-01-28T23:42:19.505645Z"
    },
    "papermill": {
     "duration": 0.151523,
     "end_time": "2022-01-28T23:54:48.519857",
     "exception": false,
     "start_time": "2022-01-28T23:54:48.368334",
     "status": "completed"
    },
    "tags": []
   },
   "outputs": [],
   "source": [
    "def computeTF(wordDict, bagOfWords):\n",
    "    tfDict = {}\n",
    "    bagOfWordsCount = len(bagOfWords)\n",
    "    for word, count in wordDict.items():\n",
    "        tfDict[word] = count / float(bagOfWordsCount)\n",
    "    return tfDict"
   ]
  },
  {
   "cell_type": "code",
   "execution_count": 43,
   "id": "e4784806",
   "metadata": {
    "execution": {
     "iopub.execute_input": "2022-01-28T23:54:48.820043Z",
     "iopub.status.busy": "2022-01-28T23:54:48.819010Z",
     "iopub.status.idle": "2022-01-28T23:54:48.822739Z",
     "shell.execute_reply": "2022-01-28T23:54:48.822088Z",
     "shell.execute_reply.started": "2022-01-28T23:42:19.518466Z"
    },
    "papermill": {
     "duration": 0.155805,
     "end_time": "2022-01-28T23:54:48.822923",
     "exception": false,
     "start_time": "2022-01-28T23:54:48.667118",
     "status": "completed"
    },
    "tags": []
   },
   "outputs": [],
   "source": [
    "tfA = computeTF(numOfWordsA, bagOfWordsA)\n",
    "tfB = computeTF(numOfWordsB, bagOfWordsB)"
   ]
  },
  {
   "cell_type": "code",
   "execution_count": 44,
   "id": "87ffc402",
   "metadata": {
    "execution": {
     "iopub.execute_input": "2022-01-28T23:54:49.164183Z",
     "iopub.status.busy": "2022-01-28T23:54:49.162882Z",
     "iopub.status.idle": "2022-01-28T23:54:49.171051Z",
     "shell.execute_reply": "2022-01-28T23:54:49.171801Z",
     "shell.execute_reply.started": "2022-01-28T23:42:19.531430Z"
    },
    "papermill": {
     "duration": 0.204601,
     "end_time": "2022-01-28T23:54:49.172025",
     "exception": false,
     "start_time": "2022-01-28T23:54:48.967424",
     "status": "completed"
    },
    "tags": []
   },
   "outputs": [
    {
     "data": {
      "text/plain": [
       "{'children': 0.16666666666666666,\n",
       " 'the': 0.3333333333333333,\n",
       " 'around': 0.16666666666666666,\n",
       " 'out': 0.0,\n",
       " 'man': 0.0,\n",
       " 'for': 0.0,\n",
       " 'sat': 0.16666666666666666,\n",
       " 'walk': 0.0,\n",
       " 'fire': 0.16666666666666666,\n",
       " 'went': 0.0,\n",
       " 'a': 0.0}"
      ]
     },
     "execution_count": 44,
     "metadata": {},
     "output_type": "execute_result"
    }
   ],
   "source": [
    "tfB"
   ]
  },
  {
   "cell_type": "code",
   "execution_count": 45,
   "id": "2b32119c",
   "metadata": {
    "execution": {
     "iopub.execute_input": "2022-01-28T23:54:49.521757Z",
     "iopub.status.busy": "2022-01-28T23:54:49.520694Z",
     "iopub.status.idle": "2022-01-28T23:54:49.527804Z",
     "shell.execute_reply": "2022-01-28T23:54:49.528459Z",
     "shell.execute_reply.started": "2022-01-28T23:42:19.546253Z"
    },
    "papermill": {
     "duration": 0.171628,
     "end_time": "2022-01-28T23:54:49.528685",
     "exception": false,
     "start_time": "2022-01-28T23:54:49.357057",
     "status": "completed"
    },
    "tags": []
   },
   "outputs": [],
   "source": [
    "def computeIDF(documents):\n",
    "    import math\n",
    "    N = len(documents)\n",
    "    \n",
    "    idfDict = dict.fromkeys(documents[0].keys(), 0)\n",
    "    for document in documents:\n",
    "        for word, val in document.items():\n",
    "            if val > 0:\n",
    "                idfDict[word] += 1\n",
    "    \n",
    "    for word, val in idfDict.items():\n",
    "        idfDict[word] = math.log(N / float(val))\n",
    "    return idfDict"
   ]
  },
  {
   "cell_type": "code",
   "execution_count": 46,
   "id": "36f15eca",
   "metadata": {
    "execution": {
     "iopub.execute_input": "2022-01-28T23:54:49.830217Z",
     "iopub.status.busy": "2022-01-28T23:54:49.829122Z",
     "iopub.status.idle": "2022-01-28T23:54:49.835812Z",
     "shell.execute_reply": "2022-01-28T23:54:49.836440Z",
     "shell.execute_reply.started": "2022-01-28T23:42:19.559635Z"
    },
    "papermill": {
     "duration": 0.16002,
     "end_time": "2022-01-28T23:54:49.836647",
     "exception": false,
     "start_time": "2022-01-28T23:54:49.676627",
     "status": "completed"
    },
    "tags": []
   },
   "outputs": [
    {
     "data": {
      "text/plain": [
       "{'children': 0.6931471805599453,\n",
       " 'the': 0.0,\n",
       " 'around': 0.6931471805599453,\n",
       " 'out': 0.6931471805599453,\n",
       " 'man': 0.6931471805599453,\n",
       " 'for': 0.6931471805599453,\n",
       " 'sat': 0.6931471805599453,\n",
       " 'walk': 0.6931471805599453,\n",
       " 'fire': 0.6931471805599453,\n",
       " 'went': 0.6931471805599453,\n",
       " 'a': 0.6931471805599453}"
      ]
     },
     "execution_count": 46,
     "metadata": {},
     "output_type": "execute_result"
    }
   ],
   "source": [
    "idfs = computeIDF([numOfWordsA, numOfWordsB])\n",
    "idfs"
   ]
  },
  {
   "cell_type": "code",
   "execution_count": 47,
   "id": "e0fbc168",
   "metadata": {
    "execution": {
     "iopub.execute_input": "2022-01-28T23:54:50.133666Z",
     "iopub.status.busy": "2022-01-28T23:54:50.132473Z",
     "iopub.status.idle": "2022-01-28T23:54:50.135654Z",
     "shell.execute_reply": "2022-01-28T23:54:50.135041Z",
     "shell.execute_reply.started": "2022-01-28T23:42:19.574741Z"
    },
    "papermill": {
     "duration": 0.155412,
     "end_time": "2022-01-28T23:54:50.135828",
     "exception": false,
     "start_time": "2022-01-28T23:54:49.980416",
     "status": "completed"
    },
    "tags": []
   },
   "outputs": [],
   "source": [
    "def computeTFIDF(tfBagOfWords, idfs):\n",
    "    tfidf = {}\n",
    "    for word, val in tfBagOfWords.items():\n",
    "        tfidf[word] = val * idfs[word]\n",
    "    return tfidf"
   ]
  },
  {
   "cell_type": "code",
   "execution_count": 48,
   "id": "9c9e062f",
   "metadata": {
    "execution": {
     "iopub.execute_input": "2022-01-28T23:54:50.427366Z",
     "iopub.status.busy": "2022-01-28T23:54:50.426277Z",
     "iopub.status.idle": "2022-01-28T23:54:50.445232Z",
     "shell.execute_reply": "2022-01-28T23:54:50.445884Z",
     "shell.execute_reply.started": "2022-01-28T23:42:19.585719Z"
    },
    "papermill": {
     "duration": 0.16501,
     "end_time": "2022-01-28T23:54:50.446072",
     "exception": false,
     "start_time": "2022-01-28T23:54:50.281062",
     "status": "completed"
    },
    "tags": []
   },
   "outputs": [
    {
     "data": {
      "text/html": [
       "<div>\n",
       "<style scoped>\n",
       "    .dataframe tbody tr th:only-of-type {\n",
       "        vertical-align: middle;\n",
       "    }\n",
       "\n",
       "    .dataframe tbody tr th {\n",
       "        vertical-align: top;\n",
       "    }\n",
       "\n",
       "    .dataframe thead th {\n",
       "        text-align: right;\n",
       "    }\n",
       "</style>\n",
       "<table border=\"1\" class=\"dataframe\">\n",
       "  <thead>\n",
       "    <tr style=\"text-align: right;\">\n",
       "      <th></th>\n",
       "      <th>children</th>\n",
       "      <th>the</th>\n",
       "      <th>around</th>\n",
       "      <th>out</th>\n",
       "      <th>man</th>\n",
       "      <th>for</th>\n",
       "      <th>sat</th>\n",
       "      <th>walk</th>\n",
       "      <th>fire</th>\n",
       "      <th>went</th>\n",
       "      <th>a</th>\n",
       "    </tr>\n",
       "  </thead>\n",
       "  <tbody>\n",
       "    <tr>\n",
       "      <th>0</th>\n",
       "      <td>0.000000</td>\n",
       "      <td>0.0</td>\n",
       "      <td>0.000000</td>\n",
       "      <td>0.099021</td>\n",
       "      <td>0.099021</td>\n",
       "      <td>0.099021</td>\n",
       "      <td>0.000000</td>\n",
       "      <td>0.099021</td>\n",
       "      <td>0.000000</td>\n",
       "      <td>0.099021</td>\n",
       "      <td>0.099021</td>\n",
       "    </tr>\n",
       "    <tr>\n",
       "      <th>1</th>\n",
       "      <td>0.115525</td>\n",
       "      <td>0.0</td>\n",
       "      <td>0.115525</td>\n",
       "      <td>0.000000</td>\n",
       "      <td>0.000000</td>\n",
       "      <td>0.000000</td>\n",
       "      <td>0.115525</td>\n",
       "      <td>0.000000</td>\n",
       "      <td>0.115525</td>\n",
       "      <td>0.000000</td>\n",
       "      <td>0.000000</td>\n",
       "    </tr>\n",
       "  </tbody>\n",
       "</table>\n",
       "</div>"
      ],
      "text/plain": [
       "   children  the    around       out       man       for       sat      walk  \\\n",
       "0  0.000000  0.0  0.000000  0.099021  0.099021  0.099021  0.000000  0.099021   \n",
       "1  0.115525  0.0  0.115525  0.000000  0.000000  0.000000  0.115525  0.000000   \n",
       "\n",
       "       fire      went         a  \n",
       "0  0.000000  0.099021  0.099021  \n",
       "1  0.115525  0.000000  0.000000  "
      ]
     },
     "execution_count": 48,
     "metadata": {},
     "output_type": "execute_result"
    }
   ],
   "source": [
    "tfidfA = computeTFIDF(tfA, idfs)\n",
    "tfidfB = computeTFIDF(tfB, idfs)\n",
    "df_tfid = pd.DataFrame([tfidfA, tfidfB])\n",
    "\n",
    "df_tfid"
   ]
  },
  {
   "cell_type": "code",
   "execution_count": 49,
   "id": "52878125",
   "metadata": {
    "execution": {
     "iopub.execute_input": "2022-01-28T23:54:50.737168Z",
     "iopub.status.busy": "2022-01-28T23:54:50.736052Z",
     "iopub.status.idle": "2022-01-28T23:54:53.045709Z",
     "shell.execute_reply": "2022-01-28T23:54:53.044604Z",
     "shell.execute_reply.started": "2022-01-28T23:42:19.615068Z"
    },
    "papermill": {
     "duration": 2.457884,
     "end_time": "2022-01-28T23:54:53.045928",
     "exception": false,
     "start_time": "2022-01-28T23:54:50.588044",
     "status": "completed"
    },
    "tags": []
   },
   "outputs": [],
   "source": [
    "# https://towardsdatascience.com/natural-language-processing-feature-engineering-using-tf-idf-e8b9d00e7e76\n",
    "vectorizer = TfidfVectorizer()\n",
    "vectors = vectorizer.fit_transform(df['feedback_clean2_lem'])\n",
    "feature_names = vectorizer.get_feature_names()\n",
    "dense = vectors.todense()\n",
    "denselist = dense.tolist()\n",
    "df_skl = pd.DataFrame(denselist, columns=feature_names)\n",
    "df_t = df_skl.transpose()"
   ]
  },
  {
   "cell_type": "code",
   "execution_count": 50,
   "id": "6a2ca910",
   "metadata": {
    "execution": {
     "iopub.execute_input": "2022-01-28T23:54:53.342340Z",
     "iopub.status.busy": "2022-01-28T23:54:53.341246Z",
     "iopub.status.idle": "2022-01-28T23:54:53.434075Z",
     "shell.execute_reply": "2022-01-28T23:54:53.434676Z",
     "shell.execute_reply.started": "2022-01-28T23:42:21.875713Z"
    },
    "papermill": {
     "duration": 0.239439,
     "end_time": "2022-01-28T23:54:53.434867",
     "exception": false,
     "start_time": "2022-01-28T23:54:53.195428",
     "status": "completed"
    },
    "tags": []
   },
   "outputs": [],
   "source": [
    "df_t = df_t.astype(float)\n",
    "df_t['sum'] = df_t[df_t.columns].sum(axis=1)"
   ]
  },
  {
   "cell_type": "code",
   "execution_count": 51,
   "id": "0a0c1f89",
   "metadata": {
    "execution": {
     "iopub.execute_input": "2022-01-28T23:54:53.726337Z",
     "iopub.status.busy": "2022-01-28T23:54:53.725267Z",
     "iopub.status.idle": "2022-01-28T23:54:53.779023Z",
     "shell.execute_reply": "2022-01-28T23:54:53.779518Z",
     "shell.execute_reply.started": "2022-01-28T23:42:21.948144Z"
    },
    "papermill": {
     "duration": 0.200993,
     "end_time": "2022-01-28T23:54:53.779782",
     "exception": false,
     "start_time": "2022-01-28T23:54:53.578789",
     "status": "completed"
    },
    "tags": []
   },
   "outputs": [
    {
     "data": {
      "text/html": [
       "<div>\n",
       "<style scoped>\n",
       "    .dataframe tbody tr th:only-of-type {\n",
       "        vertical-align: middle;\n",
       "    }\n",
       "\n",
       "    .dataframe tbody tr th {\n",
       "        vertical-align: top;\n",
       "    }\n",
       "\n",
       "    .dataframe thead th {\n",
       "        text-align: right;\n",
       "    }\n",
       "</style>\n",
       "<table border=\"1\" class=\"dataframe\">\n",
       "  <thead>\n",
       "    <tr style=\"text-align: right;\">\n",
       "      <th></th>\n",
       "      <th>0</th>\n",
       "      <th>1</th>\n",
       "      <th>2</th>\n",
       "      <th>3</th>\n",
       "      <th>4</th>\n",
       "      <th>5</th>\n",
       "      <th>6</th>\n",
       "      <th>7</th>\n",
       "      <th>8</th>\n",
       "      <th>9</th>\n",
       "      <th>...</th>\n",
       "      <th>1002</th>\n",
       "      <th>1003</th>\n",
       "      <th>1004</th>\n",
       "      <th>1005</th>\n",
       "      <th>1006</th>\n",
       "      <th>1007</th>\n",
       "      <th>1008</th>\n",
       "      <th>1009</th>\n",
       "      <th>1010</th>\n",
       "      <th>sum</th>\n",
       "    </tr>\n",
       "  </thead>\n",
       "  <tbody>\n",
       "    <tr>\n",
       "      <th>aashaydabli96</th>\n",
       "      <td>0.0</td>\n",
       "      <td>0.0</td>\n",
       "      <td>0.0</td>\n",
       "      <td>0.0</td>\n",
       "      <td>0.0</td>\n",
       "      <td>0.0</td>\n",
       "      <td>0.0</td>\n",
       "      <td>0.0</td>\n",
       "      <td>0.0</td>\n",
       "      <td>0.0</td>\n",
       "      <td>...</td>\n",
       "      <td>0.0</td>\n",
       "      <td>0.0</td>\n",
       "      <td>0.0</td>\n",
       "      <td>0.0</td>\n",
       "      <td>0.0</td>\n",
       "      <td>0.0</td>\n",
       "      <td>0.0</td>\n",
       "      <td>0.0</td>\n",
       "      <td>0.0</td>\n",
       "      <td>0.153624</td>\n",
       "    </tr>\n",
       "    <tr>\n",
       "      <th>ab</th>\n",
       "      <td>0.0</td>\n",
       "      <td>0.0</td>\n",
       "      <td>0.0</td>\n",
       "      <td>0.0</td>\n",
       "      <td>0.0</td>\n",
       "      <td>0.0</td>\n",
       "      <td>0.0</td>\n",
       "      <td>0.0</td>\n",
       "      <td>0.0</td>\n",
       "      <td>0.0</td>\n",
       "      <td>...</td>\n",
       "      <td>0.0</td>\n",
       "      <td>0.0</td>\n",
       "      <td>0.0</td>\n",
       "      <td>0.0</td>\n",
       "      <td>0.0</td>\n",
       "      <td>0.0</td>\n",
       "      <td>0.0</td>\n",
       "      <td>0.0</td>\n",
       "      <td>0.0</td>\n",
       "      <td>0.142211</td>\n",
       "    </tr>\n",
       "    <tr>\n",
       "      <th>abayomibalogun2010</th>\n",
       "      <td>0.0</td>\n",
       "      <td>0.0</td>\n",
       "      <td>0.0</td>\n",
       "      <td>0.0</td>\n",
       "      <td>0.0</td>\n",
       "      <td>0.0</td>\n",
       "      <td>0.0</td>\n",
       "      <td>0.0</td>\n",
       "      <td>0.0</td>\n",
       "      <td>0.0</td>\n",
       "      <td>...</td>\n",
       "      <td>0.0</td>\n",
       "      <td>0.0</td>\n",
       "      <td>0.0</td>\n",
       "      <td>0.0</td>\n",
       "      <td>0.0</td>\n",
       "      <td>0.0</td>\n",
       "      <td>0.0</td>\n",
       "      <td>0.0</td>\n",
       "      <td>0.0</td>\n",
       "      <td>1.207530</td>\n",
       "    </tr>\n",
       "    <tr>\n",
       "      <th>abbreviate</th>\n",
       "      <td>0.0</td>\n",
       "      <td>0.0</td>\n",
       "      <td>0.0</td>\n",
       "      <td>0.0</td>\n",
       "      <td>0.0</td>\n",
       "      <td>0.0</td>\n",
       "      <td>0.0</td>\n",
       "      <td>0.0</td>\n",
       "      <td>0.0</td>\n",
       "      <td>0.0</td>\n",
       "      <td>...</td>\n",
       "      <td>0.0</td>\n",
       "      <td>0.0</td>\n",
       "      <td>0.0</td>\n",
       "      <td>0.0</td>\n",
       "      <td>0.0</td>\n",
       "      <td>0.0</td>\n",
       "      <td>0.0</td>\n",
       "      <td>0.0</td>\n",
       "      <td>0.0</td>\n",
       "      <td>0.575339</td>\n",
       "    </tr>\n",
       "    <tr>\n",
       "      <th>abbreviation</th>\n",
       "      <td>0.0</td>\n",
       "      <td>0.0</td>\n",
       "      <td>0.0</td>\n",
       "      <td>0.0</td>\n",
       "      <td>0.0</td>\n",
       "      <td>0.0</td>\n",
       "      <td>0.0</td>\n",
       "      <td>0.0</td>\n",
       "      <td>0.0</td>\n",
       "      <td>0.0</td>\n",
       "      <td>...</td>\n",
       "      <td>0.0</td>\n",
       "      <td>0.0</td>\n",
       "      <td>0.0</td>\n",
       "      <td>0.0</td>\n",
       "      <td>0.0</td>\n",
       "      <td>0.0</td>\n",
       "      <td>0.0</td>\n",
       "      <td>0.0</td>\n",
       "      <td>0.0</td>\n",
       "      <td>0.271037</td>\n",
       "    </tr>\n",
       "    <tr>\n",
       "      <th>...</th>\n",
       "      <td>...</td>\n",
       "      <td>...</td>\n",
       "      <td>...</td>\n",
       "      <td>...</td>\n",
       "      <td>...</td>\n",
       "      <td>...</td>\n",
       "      <td>...</td>\n",
       "      <td>...</td>\n",
       "      <td>...</td>\n",
       "      <td>...</td>\n",
       "      <td>...</td>\n",
       "      <td>...</td>\n",
       "      <td>...</td>\n",
       "      <td>...</td>\n",
       "      <td>...</td>\n",
       "      <td>...</td>\n",
       "      <td>...</td>\n",
       "      <td>...</td>\n",
       "      <td>...</td>\n",
       "      <td>...</td>\n",
       "      <td>...</td>\n",
       "    </tr>\n",
       "    <tr>\n",
       "      <th>zone</th>\n",
       "      <td>0.0</td>\n",
       "      <td>0.0</td>\n",
       "      <td>0.0</td>\n",
       "      <td>0.0</td>\n",
       "      <td>0.0</td>\n",
       "      <td>0.0</td>\n",
       "      <td>0.0</td>\n",
       "      <td>0.0</td>\n",
       "      <td>0.0</td>\n",
       "      <td>0.0</td>\n",
       "      <td>...</td>\n",
       "      <td>0.0</td>\n",
       "      <td>0.0</td>\n",
       "      <td>0.0</td>\n",
       "      <td>0.0</td>\n",
       "      <td>0.0</td>\n",
       "      <td>0.0</td>\n",
       "      <td>0.0</td>\n",
       "      <td>0.0</td>\n",
       "      <td>0.0</td>\n",
       "      <td>1.397092</td>\n",
       "    </tr>\n",
       "    <tr>\n",
       "      <th>zoo</th>\n",
       "      <td>0.0</td>\n",
       "      <td>0.0</td>\n",
       "      <td>0.0</td>\n",
       "      <td>0.0</td>\n",
       "      <td>0.0</td>\n",
       "      <td>0.0</td>\n",
       "      <td>0.0</td>\n",
       "      <td>0.0</td>\n",
       "      <td>0.0</td>\n",
       "      <td>0.0</td>\n",
       "      <td>...</td>\n",
       "      <td>0.0</td>\n",
       "      <td>0.0</td>\n",
       "      <td>0.0</td>\n",
       "      <td>0.0</td>\n",
       "      <td>0.0</td>\n",
       "      <td>0.0</td>\n",
       "      <td>0.0</td>\n",
       "      <td>0.0</td>\n",
       "      <td>0.0</td>\n",
       "      <td>0.284328</td>\n",
       "    </tr>\n",
       "    <tr>\n",
       "      <th>zoom</th>\n",
       "      <td>0.0</td>\n",
       "      <td>0.0</td>\n",
       "      <td>0.0</td>\n",
       "      <td>0.0</td>\n",
       "      <td>0.0</td>\n",
       "      <td>0.0</td>\n",
       "      <td>0.0</td>\n",
       "      <td>0.0</td>\n",
       "      <td>0.0</td>\n",
       "      <td>0.0</td>\n",
       "      <td>...</td>\n",
       "      <td>0.0</td>\n",
       "      <td>0.0</td>\n",
       "      <td>0.0</td>\n",
       "      <td>0.0</td>\n",
       "      <td>0.0</td>\n",
       "      <td>0.0</td>\n",
       "      <td>0.0</td>\n",
       "      <td>0.0</td>\n",
       "      <td>0.0</td>\n",
       "      <td>1.231390</td>\n",
       "    </tr>\n",
       "    <tr>\n",
       "      <th>zoomins</th>\n",
       "      <td>0.0</td>\n",
       "      <td>0.0</td>\n",
       "      <td>0.0</td>\n",
       "      <td>0.0</td>\n",
       "      <td>0.0</td>\n",
       "      <td>0.0</td>\n",
       "      <td>0.0</td>\n",
       "      <td>0.0</td>\n",
       "      <td>0.0</td>\n",
       "      <td>0.0</td>\n",
       "      <td>...</td>\n",
       "      <td>0.0</td>\n",
       "      <td>0.0</td>\n",
       "      <td>0.0</td>\n",
       "      <td>0.0</td>\n",
       "      <td>0.0</td>\n",
       "      <td>0.0</td>\n",
       "      <td>0.0</td>\n",
       "      <td>0.0</td>\n",
       "      <td>0.0</td>\n",
       "      <td>0.094549</td>\n",
       "    </tr>\n",
       "    <tr>\n",
       "      <th>zubair</th>\n",
       "      <td>0.0</td>\n",
       "      <td>0.0</td>\n",
       "      <td>0.0</td>\n",
       "      <td>0.0</td>\n",
       "      <td>0.0</td>\n",
       "      <td>0.0</td>\n",
       "      <td>0.0</td>\n",
       "      <td>0.0</td>\n",
       "      <td>0.0</td>\n",
       "      <td>0.0</td>\n",
       "      <td>...</td>\n",
       "      <td>0.0</td>\n",
       "      <td>0.0</td>\n",
       "      <td>0.0</td>\n",
       "      <td>0.0</td>\n",
       "      <td>0.0</td>\n",
       "      <td>0.0</td>\n",
       "      <td>0.0</td>\n",
       "      <td>0.0</td>\n",
       "      <td>0.0</td>\n",
       "      <td>0.886628</td>\n",
       "    </tr>\n",
       "  </tbody>\n",
       "</table>\n",
       "<p>5588 rows × 1012 columns</p>\n",
       "</div>"
      ],
      "text/plain": [
       "                      0    1    2    3    4    5    6    7    8    9  ...  \\\n",
       "aashaydabli96       0.0  0.0  0.0  0.0  0.0  0.0  0.0  0.0  0.0  0.0  ...   \n",
       "ab                  0.0  0.0  0.0  0.0  0.0  0.0  0.0  0.0  0.0  0.0  ...   \n",
       "abayomibalogun2010  0.0  0.0  0.0  0.0  0.0  0.0  0.0  0.0  0.0  0.0  ...   \n",
       "abbreviate          0.0  0.0  0.0  0.0  0.0  0.0  0.0  0.0  0.0  0.0  ...   \n",
       "abbreviation        0.0  0.0  0.0  0.0  0.0  0.0  0.0  0.0  0.0  0.0  ...   \n",
       "...                 ...  ...  ...  ...  ...  ...  ...  ...  ...  ...  ...   \n",
       "zone                0.0  0.0  0.0  0.0  0.0  0.0  0.0  0.0  0.0  0.0  ...   \n",
       "zoo                 0.0  0.0  0.0  0.0  0.0  0.0  0.0  0.0  0.0  0.0  ...   \n",
       "zoom                0.0  0.0  0.0  0.0  0.0  0.0  0.0  0.0  0.0  0.0  ...   \n",
       "zoomins             0.0  0.0  0.0  0.0  0.0  0.0  0.0  0.0  0.0  0.0  ...   \n",
       "zubair              0.0  0.0  0.0  0.0  0.0  0.0  0.0  0.0  0.0  0.0  ...   \n",
       "\n",
       "                    1002  1003  1004  1005  1006  1007  1008  1009  1010  \\\n",
       "aashaydabli96        0.0   0.0   0.0   0.0   0.0   0.0   0.0   0.0   0.0   \n",
       "ab                   0.0   0.0   0.0   0.0   0.0   0.0   0.0   0.0   0.0   \n",
       "abayomibalogun2010   0.0   0.0   0.0   0.0   0.0   0.0   0.0   0.0   0.0   \n",
       "abbreviate           0.0   0.0   0.0   0.0   0.0   0.0   0.0   0.0   0.0   \n",
       "abbreviation         0.0   0.0   0.0   0.0   0.0   0.0   0.0   0.0   0.0   \n",
       "...                  ...   ...   ...   ...   ...   ...   ...   ...   ...   \n",
       "zone                 0.0   0.0   0.0   0.0   0.0   0.0   0.0   0.0   0.0   \n",
       "zoo                  0.0   0.0   0.0   0.0   0.0   0.0   0.0   0.0   0.0   \n",
       "zoom                 0.0   0.0   0.0   0.0   0.0   0.0   0.0   0.0   0.0   \n",
       "zoomins              0.0   0.0   0.0   0.0   0.0   0.0   0.0   0.0   0.0   \n",
       "zubair               0.0   0.0   0.0   0.0   0.0   0.0   0.0   0.0   0.0   \n",
       "\n",
       "                         sum  \n",
       "aashaydabli96       0.153624  \n",
       "ab                  0.142211  \n",
       "abayomibalogun2010  1.207530  \n",
       "abbreviate          0.575339  \n",
       "abbreviation        0.271037  \n",
       "...                      ...  \n",
       "zone                1.397092  \n",
       "zoo                 0.284328  \n",
       "zoom                1.231390  \n",
       "zoomins             0.094549  \n",
       "zubair              0.886628  \n",
       "\n",
       "[5588 rows x 1012 columns]"
      ]
     },
     "execution_count": 51,
     "metadata": {},
     "output_type": "execute_result"
    }
   ],
   "source": [
    "df_t = df_t.iloc[420:,:]\n",
    "df_t = df_t.iloc[:-23,:]\n",
    "df_t"
   ]
  },
  {
   "cell_type": "code",
   "execution_count": 52,
   "id": "91f2ae5c",
   "metadata": {
    "execution": {
     "iopub.execute_input": "2022-01-28T23:54:54.068606Z",
     "iopub.status.busy": "2022-01-28T23:54:54.067557Z",
     "iopub.status.idle": "2022-01-28T23:54:54.192170Z",
     "shell.execute_reply": "2022-01-28T23:54:54.191413Z",
     "shell.execute_reply.started": "2022-01-28T23:42:22.000229Z"
    },
    "papermill": {
     "duration": 0.269419,
     "end_time": "2022-01-28T23:54:54.192335",
     "exception": false,
     "start_time": "2022-01-28T23:54:53.922916",
     "status": "completed"
    },
    "tags": []
   },
   "outputs": [
    {
     "data": {
      "text/plain": [
       "Index(['sum',   453,   260,    44,   612,   789,   938,   904,   604,   755,\n",
       "       ...\n",
       "         372,   373,   374,   375,   376,   377,   378,   379,   380,   506],\n",
       "      dtype='object', length=1012)"
      ]
     },
     "execution_count": 52,
     "metadata": {},
     "output_type": "execute_result"
    }
   ],
   "source": [
    "df_t['sum'] = df_t.loc[:,0:1010].sum(axis=1)\n",
    "df_t = df_t.sort_values('sum',ascending=False)\n",
    "df_t.loc['plot'].sort_values(ascending=False).index"
   ]
  },
  {
   "cell_type": "code",
   "execution_count": 53,
   "id": "c9640df7",
   "metadata": {
    "execution": {
     "iopub.execute_input": "2022-01-28T23:54:54.492071Z",
     "iopub.status.busy": "2022-01-28T23:54:54.491135Z",
     "iopub.status.idle": "2022-01-28T23:54:54.494623Z",
     "shell.execute_reply": "2022-01-28T23:54:54.495192Z",
     "shell.execute_reply.started": "2022-01-28T23:42:22.106773Z"
    },
    "papermill": {
     "duration": 0.157759,
     "end_time": "2022-01-28T23:54:54.495372",
     "exception": false,
     "start_time": "2022-01-28T23:54:54.337613",
     "status": "completed"
    },
    "tags": []
   },
   "outputs": [
    {
     "data": {
      "text/plain": [
       "' hey have done nice job, i liked your chart presentation, only thing if you can add comments and markdown in project it will give rich experience to reader, '"
      ]
     },
     "execution_count": 53,
     "metadata": {},
     "output_type": "execute_result"
    }
   ],
   "source": [
    "df['feedback'][453]"
   ]
  },
  {
   "cell_type": "code",
   "execution_count": 54,
   "id": "a0d37585",
   "metadata": {
    "execution": {
     "iopub.execute_input": "2022-01-28T23:54:54.793372Z",
     "iopub.status.busy": "2022-01-28T23:54:54.792303Z",
     "iopub.status.idle": "2022-01-28T23:54:54.798454Z",
     "shell.execute_reply": "2022-01-28T23:54:54.799073Z",
     "shell.execute_reply.started": "2022-01-28T23:42:22.114131Z"
    },
    "papermill": {
     "duration": 0.155694,
     "end_time": "2022-01-28T23:54:54.799265",
     "exception": false,
     "start_time": "2022-01-28T23:54:54.643571",
     "status": "completed"
    },
    "tags": []
   },
   "outputs": [
    {
     "data": {
      "text/plain": [
       "'hey do nice job like chart presentation thing add comment markdown give rich experience reader'"
      ]
     },
     "execution_count": 54,
     "metadata": {},
     "output_type": "execute_result"
    }
   ],
   "source": [
    "df['feedback_clean2_lem'][453]"
   ]
  },
  {
   "cell_type": "code",
   "execution_count": 55,
   "id": "0244cacd",
   "metadata": {
    "execution": {
     "iopub.execute_input": "2022-01-28T23:54:55.107927Z",
     "iopub.status.busy": "2022-01-28T23:54:55.107215Z",
     "iopub.status.idle": "2022-01-28T23:54:55.112057Z",
     "shell.execute_reply": "2022-01-28T23:54:55.112917Z",
     "shell.execute_reply.started": "2022-01-28T23:42:22.132274Z"
    },
    "papermill": {
     "duration": 0.165227,
     "end_time": "2022-01-28T23:54:55.113121",
     "exception": false,
     "start_time": "2022-01-28T23:54:54.947894",
     "status": "completed"
    },
    "tags": []
   },
   "outputs": [
    {
     "data": {
      "text/plain": [
       "['give rich experience', 'done nice job']"
      ]
     },
     "execution_count": 55,
     "metadata": {},
     "output_type": "execute_result"
    }
   ],
   "source": [
    "rake_it(df['feedback'][453])"
   ]
  },
  {
   "cell_type": "code",
   "execution_count": 56,
   "id": "5f634535",
   "metadata": {
    "execution": {
     "iopub.execute_input": "2022-01-28T23:54:55.431454Z",
     "iopub.status.busy": "2022-01-28T23:54:55.430621Z",
     "iopub.status.idle": "2022-01-28T23:54:55.436350Z",
     "shell.execute_reply": "2022-01-28T23:54:55.437041Z",
     "shell.execute_reply.started": "2022-01-28T23:42:22.146640Z"
    },
    "papermill": {
     "duration": 0.160153,
     "end_time": "2022-01-28T23:54:55.437254",
     "exception": false,
     "start_time": "2022-01-28T23:54:55.277101",
     "status": "completed"
    },
    "tags": []
   },
   "outputs": [
    {
     "data": {
      "text/plain": [
       "'david welcome community thanks first us job feedback hope usefull better rerun complete cell order start 1 please add conclusion summarize important insight consider use markdown explanation throughout discuss intermediate result plan next step actually I transform subheading print dataset header use dictionary create remove duplicate row others ordinary markdown cell subheading well remove “ step n ” leave name subheading forget add comment necessary explain exactly part especially function future project find article resource side hope helpful luck next project'"
      ]
     },
     "execution_count": 56,
     "metadata": {},
     "output_type": "execute_result"
    }
   ],
   "source": [
    "df['feedback_clean2_lem'][260]"
   ]
  },
  {
   "cell_type": "code",
   "execution_count": 57,
   "id": "c0d9e74d",
   "metadata": {
    "execution": {
     "iopub.execute_input": "2022-01-28T23:54:55.780594Z",
     "iopub.status.busy": "2022-01-28T23:54:55.779881Z",
     "iopub.status.idle": "2022-01-28T23:54:55.788354Z",
     "shell.execute_reply": "2022-01-28T23:54:55.788936Z",
     "shell.execute_reply.started": "2022-01-28T23:42:22.160150Z"
    },
    "papermill": {
     "duration": 0.203987,
     "end_time": "2022-01-28T23:54:55.789146",
     "exception": false,
     "start_time": "2022-01-28T23:54:55.585159",
     "status": "completed"
    },
    "tags": []
   },
   "outputs": [
    {
     "data": {
      "text/plain": [
       "['markdown explanations throughout',\n",
       " 'discussing intermediate results',\n",
       " 'planning next steps',\n",
       " 'ordinary markdown cells']"
      ]
     },
     "execution_count": 57,
     "metadata": {},
     "output_type": "execute_result"
    }
   ],
   "source": [
    "rake_it(df['feedback'][260])"
   ]
  },
  {
   "cell_type": "code",
   "execution_count": 58,
   "id": "78373331",
   "metadata": {
    "execution": {
     "iopub.execute_input": "2022-01-28T23:54:56.098527Z",
     "iopub.status.busy": "2022-01-28T23:54:56.097688Z",
     "iopub.status.idle": "2022-01-28T23:54:56.105080Z",
     "shell.execute_reply": "2022-01-28T23:54:56.105887Z",
     "shell.execute_reply.started": "2022-01-28T23:42:22.175719Z"
    },
    "papermill": {
     "duration": 0.169349,
     "end_time": "2022-01-28T23:54:56.106102",
     "exception": false,
     "start_time": "2022-01-28T23:54:55.936753",
     "status": "completed"
    },
    "tags": []
   },
   "outputs": [
    {
     "data": {
      "text/plain": [
       "'anamariawalpole congratulation finish finish first guide explanation markdown cell look great write couple line interested select askhn showhn post best time find certain time zone idea mention time zone along conclusion otherwise first guided look great job happy learning'"
      ]
     },
     "execution_count": 58,
     "metadata": {},
     "output_type": "execute_result"
    }
   ],
   "source": [
    "df['feedback_clean2_lem'][612]"
   ]
  },
  {
   "cell_type": "code",
   "execution_count": 59,
   "id": "83999dec",
   "metadata": {
    "execution": {
     "iopub.execute_input": "2022-01-28T23:54:56.417003Z",
     "iopub.status.busy": "2022-01-28T23:54:56.416279Z",
     "iopub.status.idle": "2022-01-28T23:54:56.422921Z",
     "shell.execute_reply": "2022-01-28T23:54:56.423609Z",
     "shell.execute_reply.started": "2022-01-28T23:42:22.187334Z"
    },
    "papermill": {
     "duration": 0.160465,
     "end_time": "2022-01-28T23:54:56.423816",
     "exception": false,
     "start_time": "2022-01-28T23:54:56.263351",
     "status": "completed"
    },
    "tags": []
   },
   "outputs": [
    {
     "data": {
      "text/plain": [
       "['first guided project', 'time zone along', 'certain time zone']"
      ]
     },
     "execution_count": 59,
     "metadata": {},
     "output_type": "execute_result"
    }
   ],
   "source": [
    "rake_it(df['feedback'][612])"
   ]
  },
  {
   "cell_type": "code",
   "execution_count": 60,
   "id": "503ad0d3",
   "metadata": {
    "execution": {
     "iopub.execute_input": "2022-01-28T23:54:56.736206Z",
     "iopub.status.busy": "2022-01-28T23:54:56.735488Z",
     "iopub.status.idle": "2022-01-28T23:54:56.746168Z",
     "shell.execute_reply": "2022-01-28T23:54:56.746870Z",
     "shell.execute_reply.started": "2022-01-28T23:42:22.201317Z"
    },
    "papermill": {
     "duration": 0.170228,
     "end_time": "2022-01-28T23:54:56.747051",
     "exception": false,
     "start_time": "2022-01-28T23:54:56.576823",
     "status": "completed"
    },
    "tags": []
   },
   "outputs": [
    {
     "data": {
      "text/plain": [
       "0.000000    5536\n",
       "0.159454       3\n",
       "0.208682       3\n",
       "0.182222       2\n",
       "0.100749       2\n",
       "0.139438       2\n",
       "0.133524       2\n",
       "0.194309       1\n",
       "0.134614       1\n",
       "0.112457       1\n",
       "0.126867       1\n",
       "0.127729       1\n",
       "0.120765       1\n",
       "0.129534       1\n",
       "0.138154       1\n",
       "0.115730       1\n",
       "0.140781       1\n",
       "0.150497       1\n",
       "0.146883       1\n",
       "0.063042       1\n",
       "0.168650       1\n",
       "0.165249       1\n",
       "0.188666       1\n",
       "0.128618       1\n",
       "0.106429       1\n",
       "0.067900       1\n",
       "0.104802       1\n",
       "0.058011       1\n",
       "0.064279       1\n",
       "0.067032       1\n",
       "0.059291       1\n",
       "0.069024       1\n",
       "0.081253       1\n",
       "0.078740       1\n",
       "0.084393       1\n",
       "0.246968       1\n",
       "0.087048       1\n",
       "0.090449       1\n",
       "0.263090       1\n",
       "0.095142       1\n",
       "0.089502       1\n",
       "0.090934       1\n",
       "0.197513       1\n",
       "0.056636       1\n",
       "0.102521       1\n",
       "Name: 30, dtype: int64"
      ]
     },
     "execution_count": 60,
     "metadata": {},
     "output_type": "execute_result"
    }
   ],
   "source": [
    "df_t[30].value_counts()"
   ]
  },
  {
   "cell_type": "markdown",
   "id": "f291525e",
   "metadata": {
    "papermill": {
     "duration": 0.153136,
     "end_time": "2022-01-28T23:54:57.050763",
     "exception": false,
     "start_time": "2022-01-28T23:54:56.897627",
     "status": "completed"
    },
    "tags": []
   },
   "source": [
    "# topic modeling\n",
    "https://www.analyticsvidhya.com/blog/2016/08/beginners-guide-to-topic-modeling-in-python/\n",
    "\n",
    "https://www.machinelearningplus.com/nlp/topic-modeling-gensim-python/\n",
    "\n",
    "https://towardsdatascience.com/nlp-extracting-the-main-topics-from-your-dataset-using-lda-in-minutes-21486f5aa925\n"
   ]
  },
  {
   "cell_type": "code",
   "execution_count": 61,
   "id": "b60b9923",
   "metadata": {
    "execution": {
     "iopub.execute_input": "2022-01-28T23:54:57.351257Z",
     "iopub.status.busy": "2022-01-28T23:54:57.350092Z",
     "iopub.status.idle": "2022-01-28T23:54:57.695367Z",
     "shell.execute_reply": "2022-01-28T23:54:57.696117Z",
     "shell.execute_reply.started": "2022-01-28T23:42:22.218453Z"
    },
    "papermill": {
     "duration": 0.498134,
     "end_time": "2022-01-28T23:54:57.696337",
     "exception": false,
     "start_time": "2022-01-28T23:54:57.198203",
     "status": "completed"
    },
    "tags": []
   },
   "outputs": [
    {
     "data": {
      "text/plain": [
       "[(0, '0.032*\"notebook\" + 0.032*\"look\" + 0.032*\"process\" + 0.032*\"month\"'),\n",
       " (1, '0.032*\"notebook\" + 0.032*\"look\" + 0.032*\"process\" + 0.032*\"month\"'),\n",
       " (2, '0.032*\"important\" + 0.032*\"stay\" + 0.032*\"datasets\" + 0.032*\"process\"'),\n",
       " (3,\n",
       "  '0.032*\"httpswww1nycgovsitetlcabouttlctriprecorddatapage\" + 0.032*\"process\" + 0.032*\"larger\" + 0.032*\"clean\"'),\n",
       " (4, '0.113*\"function\" + 0.069*\"inside\" + 0.048*\"memory\" + 0.048*\"ram\"')]"
      ]
     },
     "execution_count": 61,
     "metadata": {},
     "output_type": "execute_result"
    }
   ],
   "source": [
    "# Importing:\n",
    "# https://www.analyticsvidhya.com/blog/2016/08/beginners-guide-to-topic-modeling-in-python/\n",
    "import gensim\n",
    "from gensim import corpora\n",
    "import re\n",
    "\n",
    "# compile documents\n",
    "doc_complete = df['feedback_clean2_lem'][0]\n",
    "docs = word_tokenize(doc_complete)\n",
    "docs_out = []\n",
    "docs_out.append(docs)\n",
    "\n",
    "# Creating the term dictionary of our courpus, where every unique term is assigned an index. dictionary = corpora.Dictionary(doc_clean)\n",
    "dictionary = corpora.Dictionary(docs_out)\n",
    "\n",
    "# Converting list of documents (corpus) into Document Term Matrix using dictionary prepared above.\n",
    "doc_term_matrix = [dictionary.doc2bow(doc) for doc in docs_out]\n",
    "\n",
    "# Running and Trainign LDA model on the document term matrix.\n",
    "Lda = gensim.models.ldamodel.LdaModel\n",
    "ldamodel = Lda(doc_term_matrix, num_topics=5, id2word = dictionary, passes=50, random_state=4)\n",
    "\n",
    "# Getting results:\n",
    "ldamodel.print_topics(num_topics=5, num_words=4)"
   ]
  },
  {
   "cell_type": "code",
   "execution_count": 62,
   "id": "5e8d62b7",
   "metadata": {
    "execution": {
     "iopub.execute_input": "2022-01-28T23:54:58.014521Z",
     "iopub.status.busy": "2022-01-28T23:54:58.013683Z",
     "iopub.status.idle": "2022-01-28T23:54:58.015999Z",
     "shell.execute_reply": "2022-01-28T23:54:58.016765Z",
     "shell.execute_reply.started": "2022-01-28T23:42:22.326778Z"
    },
    "papermill": {
     "duration": 0.163251,
     "end_time": "2022-01-28T23:54:58.016972",
     "exception": false,
     "start_time": "2022-01-28T23:54:57.853721",
     "status": "completed"
    },
    "tags": []
   },
   "outputs": [],
   "source": [
    "\n",
    "# from nltk.corpus import stopwords\n",
    "# from nltk.stem.wordnet import WordNetLemmatizer\n",
    "# import string\n",
    "# stop = set(stopwords.words('english'))\n",
    "# exclude = set(string.punctuation)\n",
    "# lemma = WordNetLemmatizer()\n",
    "# def clean(doc):\n",
    "#     stop_free = \" \".join([i for i in doc.lower().split() if i not in stop])\n",
    "#     punc_free = ''.join(ch for ch in stop_free if ch not in exclude)\n",
    "#     normalized = \" \".join(lemma.lemmatize(word) for word in punc_free.split())\n",
    "#     return normalized\n",
    "\n",
    "# doc_clean = [clean(doc).split() for doc in doc_complete] "
   ]
  },
  {
   "cell_type": "code",
   "execution_count": 63,
   "id": "ef0ec13d",
   "metadata": {
    "execution": {
     "iopub.execute_input": "2022-01-28T23:54:58.330704Z",
     "iopub.status.busy": "2022-01-28T23:54:58.329525Z",
     "iopub.status.idle": "2022-01-28T23:54:58.333454Z",
     "shell.execute_reply": "2022-01-28T23:54:58.334039Z",
     "shell.execute_reply.started": "2022-01-28T23:42:22.332584Z"
    },
    "papermill": {
     "duration": 0.164085,
     "end_time": "2022-01-28T23:54:58.334233",
     "exception": false,
     "start_time": "2022-01-28T23:54:58.170148",
     "status": "completed"
    },
    "tags": []
   },
   "outputs": [],
   "source": [
    "# # Creating the term dictionary of our courpus, where every unique term is assigned an index. dictionary = corpora.Dictionary(doc_clean)\n",
    "# dictionary = corpora.Dictionary(doc_clean)\n",
    "# # Converting list of documents (corpus) into Document Term Matrix using dictionary prepared above.\n",
    "# doc_term_matrix = [dictionary.doc2bow(doc) for doc in doc_clean]"
   ]
  },
  {
   "cell_type": "code",
   "execution_count": 64,
   "id": "5458dcfb",
   "metadata": {
    "execution": {
     "iopub.execute_input": "2022-01-28T23:54:58.647215Z",
     "iopub.status.busy": "2022-01-28T23:54:58.646131Z",
     "iopub.status.idle": "2022-01-28T23:54:58.650087Z",
     "shell.execute_reply": "2022-01-28T23:54:58.650799Z",
     "shell.execute_reply.started": "2022-01-28T23:42:22.346615Z"
    },
    "papermill": {
     "duration": 0.165616,
     "end_time": "2022-01-28T23:54:58.650987",
     "exception": false,
     "start_time": "2022-01-28T23:54:58.485371",
     "status": "completed"
    },
    "tags": []
   },
   "outputs": [],
   "source": [
    "# ldamodel.print_topics(num_topics=2, num_words=3)"
   ]
  },
  {
   "cell_type": "code",
   "execution_count": 65,
   "id": "392c1e6f",
   "metadata": {
    "execution": {
     "iopub.execute_input": "2022-01-28T23:54:58.961944Z",
     "iopub.status.busy": "2022-01-28T23:54:58.961014Z",
     "iopub.status.idle": "2022-01-28T23:54:58.963849Z",
     "shell.execute_reply": "2022-01-28T23:54:58.964453Z",
     "shell.execute_reply.started": "2022-01-28T23:42:22.357988Z"
    },
    "papermill": {
     "duration": 0.161736,
     "end_time": "2022-01-28T23:54:58.964656",
     "exception": false,
     "start_time": "2022-01-28T23:54:58.802920",
     "status": "completed"
    },
    "tags": []
   },
   "outputs": [],
   "source": [
    "def get_topic(x,n):\n",
    "    \"\"\"\n",
    "    extract list of topics given text(x) and number(n) of words for topic\n",
    "    \"\"\"\n",
    "    docs = word_tokenize(x)\n",
    "    docs_out = []\n",
    "    docs_out.append(docs)\n",
    "    dictionary = corpora.Dictionary(docs_out)\n",
    "    doc_term_matrix = [dictionary.doc2bow(doc) for doc in docs_out]\n",
    "    Lda = gensim.models.ldamodel.LdaModel\n",
    "    # Running and Trainign LDA model on the document term matrix.\n",
    "    ldamodel = Lda(doc_term_matrix, num_topics=5, id2word = dictionary, passes=50, random_state=1)\n",
    "    topics = ldamodel.print_topics(num_topics=5, num_words=n)\n",
    "    topics_list = []\n",
    "    for elm in topics:\n",
    "        content = elm[1]\n",
    "        no_digits = ''.join([i for i in content if not i.isdigit()])\n",
    "        topics_list.append(re.findall(r'\\w+', no_digits, flags=re.IGNORECASE))\n",
    "    return topics_list\n",
    "    "
   ]
  },
  {
   "cell_type": "code",
   "execution_count": 66,
   "id": "df55b8ef",
   "metadata": {
    "execution": {
     "iopub.execute_input": "2022-01-28T23:54:59.271739Z",
     "iopub.status.busy": "2022-01-28T23:54:59.270960Z",
     "iopub.status.idle": "2022-01-28T23:54:59.276569Z",
     "shell.execute_reply": "2022-01-28T23:54:59.277232Z",
     "shell.execute_reply.started": "2022-01-28T23:42:22.370051Z"
    },
    "papermill": {
     "duration": 0.162643,
     "end_time": "2022-01-28T23:54:59.277421",
     "exception": false,
     "start_time": "2022-01-28T23:54:59.114778",
     "status": "completed"
    },
    "tags": []
   },
   "outputs": [
    {
     "data": {
      "text/plain": [
       "'noticed deleting object do habit think start use gccollect clear memory article 2 different way clear memory python python pool maybe feel notebook loooong think example display many row always start ridiculously long notebook trim lot publishing always hard want show tell much side put much many read get end'"
      ]
     },
     "execution_count": 66,
     "metadata": {},
     "output_type": "execute_result"
    }
   ],
   "source": [
    "df['feedback_clean2_lem'][2]"
   ]
  },
  {
   "cell_type": "code",
   "execution_count": 67,
   "id": "c5893f76",
   "metadata": {
    "execution": {
     "iopub.execute_input": "2022-01-28T23:54:59.599740Z",
     "iopub.status.busy": "2022-01-28T23:54:59.598664Z",
     "iopub.status.idle": "2022-01-28T23:54:59.723743Z",
     "shell.execute_reply": "2022-01-28T23:54:59.723153Z",
     "shell.execute_reply.started": "2022-01-28T23:42:22.386185Z"
    },
    "papermill": {
     "duration": 0.289305,
     "end_time": "2022-01-28T23:54:59.723915",
     "exception": false,
     "start_time": "2022-01-28T23:54:59.434610",
     "status": "completed"
    },
    "tags": []
   },
   "outputs": [
    {
     "data": {
      "text/plain": [
       "[['lot', 'trim', 'end'],\n",
       " ['publishing', 'pool', 'put'],\n",
       " ['loooong', 'different', 'way'],\n",
       " ['many', 'always', 'memory'],\n",
       " ['publishing', 'pool', 'put']]"
      ]
     },
     "execution_count": 67,
     "metadata": {},
     "output_type": "execute_result"
    }
   ],
   "source": [
    "get_topic(df['feedback_clean2_lem'][2],3)"
   ]
  },
  {
   "cell_type": "code",
   "execution_count": 68,
   "id": "6f6210e8",
   "metadata": {
    "execution": {
     "iopub.execute_input": "2022-01-28T23:55:00.033720Z",
     "iopub.status.busy": "2022-01-28T23:55:00.032984Z",
     "iopub.status.idle": "2022-01-28T23:57:01.076717Z",
     "shell.execute_reply": "2022-01-28T23:57:01.074131Z",
     "shell.execute_reply.started": "2022-01-28T23:42:22.496893Z"
    },
    "papermill": {
     "duration": 121.197537,
     "end_time": "2022-01-28T23:57:01.076946",
     "exception": false,
     "start_time": "2022-01-28T23:54:59.879409",
     "status": "completed"
    },
    "tags": []
   },
   "outputs": [
    {
     "ename": "TypeError",
     "evalue": "unhashable type: 'list'",
     "output_type": "error",
     "traceback": [
      "\u001b[0;31m---------------------------------------------------------------------------\u001b[0m",
      "\u001b[0;31mTypeError\u001b[0m                                 Traceback (most recent call last)",
      "\u001b[0;32mpandas/_libs/hashtable_class_helper.pxi\u001b[0m in \u001b[0;36mpandas._libs.hashtable.PyObjectHashTable.map_locations\u001b[0;34m()\u001b[0m\n",
      "\u001b[0;31mTypeError\u001b[0m: unhashable type: 'list'"
     ]
    },
    {
     "name": "stderr",
     "output_type": "stream",
     "text": [
      "Exception ignored in: 'pandas._libs.index.IndexEngine._call_map_locations'\n",
      "Traceback (most recent call last):\n",
      "  File \"pandas/_libs/hashtable_class_helper.pxi\", line 5231, in pandas._libs.hashtable.PyObjectHashTable.map_locations\n",
      "TypeError: unhashable type: 'list'\n"
     ]
    },
    {
     "data": {
      "text/plain": [
       "[keep, nice]                                 20\n",
       "[nice, perform]                              10\n",
       "[nan]                                        10\n",
       "[nice]                                       10\n",
       "[understand, whereever, suggestion, well]     6\n",
       "[reach, use, long, fantastic]                 5\n",
       "[olamideoshilalu, kindly, upload, best]       5\n",
       "[review, share, please, nbviewer]             5\n",
       "[story, much, tell, better]                   5\n",
       "[reminder, gentle, review, aprilg]            5\n",
       "dtype: int64"
      ]
     },
     "execution_count": 68,
     "metadata": {},
     "output_type": "execute_result"
    }
   ],
   "source": [
    "df['topic_4'] = df['feedback_clean2_lem'].apply(lambda x: get_topic(x,4))\n",
    "to_1D(df['topic_4']).value_counts()[:10]"
   ]
  },
  {
   "cell_type": "code",
   "execution_count": 69,
   "id": "5e9d4714",
   "metadata": {
    "execution": {
     "iopub.execute_input": "2022-01-28T23:57:01.396086Z",
     "iopub.status.busy": "2022-01-28T23:57:01.394993Z",
     "iopub.status.idle": "2022-01-28T23:59:01.004715Z",
     "shell.execute_reply": "2022-01-28T23:59:01.002811Z",
     "shell.execute_reply.started": "2022-01-28T23:44:02.523839Z"
    },
    "papermill": {
     "duration": 119.774257,
     "end_time": "2022-01-28T23:59:01.004883",
     "exception": false,
     "start_time": "2022-01-28T23:57:01.230626",
     "status": "completed"
    },
    "tags": []
   },
   "outputs": [
    {
     "ename": "TypeError",
     "evalue": "unhashable type: 'list'",
     "output_type": "error",
     "traceback": [
      "\u001b[0;31m---------------------------------------------------------------------------\u001b[0m",
      "\u001b[0;31mTypeError\u001b[0m                                 Traceback (most recent call last)",
      "\u001b[0;32mpandas/_libs/hashtable_class_helper.pxi\u001b[0m in \u001b[0;36mpandas._libs.hashtable.PyObjectHashTable.map_locations\u001b[0;34m()\u001b[0m\n",
      "\u001b[0;31mTypeError\u001b[0m: unhashable type: 'list'"
     ]
    },
    {
     "name": "stderr",
     "output_type": "stream",
     "text": [
      "Exception ignored in: 'pandas._libs.index.IndexEngine._call_map_locations'\n",
      "Traceback (most recent call last):\n",
      "  File \"pandas/_libs/hashtable_class_helper.pxi\", line 5231, in pandas._libs.hashtable.PyObjectHashTable.map_locations\n",
      "TypeError: unhashable type: 'list'\n"
     ]
    },
    {
     "data": {
      "text/plain": [
       "[keep, nice]                           20\n",
       "[nice]                                 11\n",
       "[nice, perform]                        10\n",
       "[cell]                                 10\n",
       "[nan]                                  10\n",
       "[share, thank, please]                  9\n",
       "[plot]                                  9\n",
       "[thanks]                                6\n",
       "[guide, community, file]                6\n",
       "[understand, whereever, suggestion]     6\n",
       "dtype: int64"
      ]
     },
     "execution_count": 69,
     "metadata": {},
     "output_type": "execute_result"
    }
   ],
   "source": [
    "df['topic_3'] = df['feedback_clean2_lem'].apply(lambda x: get_topic(x,3))\n",
    "to_1D(df['topic_3']).value_counts()[:10]"
   ]
  },
  {
   "cell_type": "code",
   "execution_count": 70,
   "id": "66d31a99",
   "metadata": {
    "execution": {
     "iopub.execute_input": "2022-01-28T23:59:01.325256Z",
     "iopub.status.busy": "2022-01-28T23:59:01.324061Z",
     "iopub.status.idle": "2022-01-29T00:01:01.389729Z",
     "shell.execute_reply": "2022-01-29T00:01:01.387849Z",
     "shell.execute_reply.started": "2022-01-28T23:45:42.205883Z"
    },
    "papermill": {
     "duration": 120.227535,
     "end_time": "2022-01-29T00:01:01.389901",
     "exception": false,
     "start_time": "2022-01-28T23:59:01.162366",
     "status": "completed"
    },
    "tags": []
   },
   "outputs": [
    {
     "ename": "TypeError",
     "evalue": "unhashable type: 'list'",
     "output_type": "error",
     "traceback": [
      "\u001b[0;31m---------------------------------------------------------------------------\u001b[0m",
      "\u001b[0;31mTypeError\u001b[0m                                 Traceback (most recent call last)",
      "\u001b[0;32mpandas/_libs/hashtable_class_helper.pxi\u001b[0m in \u001b[0;36mpandas._libs.hashtable.PyObjectHashTable.map_locations\u001b[0;34m()\u001b[0m\n",
      "\u001b[0;31mTypeError\u001b[0m: unhashable type: 'list'"
     ]
    },
    {
     "name": "stderr",
     "output_type": "stream",
     "text": [
      "Exception ignored in: 'pandas._libs.index.IndexEngine._call_map_locations'\n",
      "Traceback (most recent call last):\n",
      "  File \"pandas/_libs/hashtable_class_helper.pxi\", line 5231, in pandas._libs.hashtable.PyObjectHashTable.map_locations\n",
      "TypeError: unhashable type: 'list'\n"
     ]
    },
    {
     "data": {
      "text/plain": [
       "[]                    106\n",
       "[cell]                 31\n",
       "[I]                    22\n",
       "[keep, nice]           21\n",
       "[cell, comment]        18\n",
       "[cell, use]            15\n",
       "[guide, community]     15\n",
       "[guide, project]       14\n",
       "[community, guide]     13\n",
       "[nice]                 13\n",
       "dtype: int64"
      ]
     },
     "execution_count": 70,
     "metadata": {},
     "output_type": "execute_result"
    }
   ],
   "source": [
    "df['topic_2'] = df['feedback_clean2_lem'].apply(lambda x: get_topic(x,2))\n",
    "to_1D(df['topic_2']).value_counts()[:10]"
   ]
  },
  {
   "cell_type": "markdown",
   "id": "c010d169",
   "metadata": {
    "papermill": {
     "duration": 0.217413,
     "end_time": "2022-01-29T00:01:01.765376",
     "exception": false,
     "start_time": "2022-01-29T00:01:01.547963",
     "status": "completed"
    },
    "tags": []
   },
   "source": [
    "# kmeans"
   ]
  },
  {
   "cell_type": "code",
   "execution_count": 71,
   "id": "28276870",
   "metadata": {
    "execution": {
     "iopub.execute_input": "2022-01-29T00:01:02.078298Z",
     "iopub.status.busy": "2022-01-29T00:01:02.077574Z",
     "iopub.status.idle": "2022-01-29T00:01:04.158344Z",
     "shell.execute_reply": "2022-01-29T00:01:04.159104Z",
     "shell.execute_reply.started": "2022-01-28T23:47:21.266032Z"
    },
    "papermill": {
     "duration": 2.241505,
     "end_time": "2022-01-29T00:01:04.159381",
     "exception": false,
     "start_time": "2022-01-29T00:01:01.917876",
     "status": "completed"
    },
    "tags": []
   },
   "outputs": [],
   "source": [
    "from sklearn.feature_extraction.text import TfidfVectorizer\n",
    "from sklearn.cluster import KMeans\n",
    "# vectorize text:\n",
    "tfidfconverter = TfidfVectorizer(max_features=5000, min_df=0.1, max_df=0.7, stop_words=stopwords.words('english'))  \n",
    "X = tfidfconverter.fit_transform(df['feedback']).toarray()\n",
    "\n",
    "# fit and label:\n",
    "Kmean = KMeans(n_clusters=8, random_state=2)\n",
    "Kmean.fit(X)\n",
    "df['label'] = Kmean.labels_"
   ]
  },
  {
   "cell_type": "code",
   "execution_count": 72,
   "id": "e991583c",
   "metadata": {
    "execution": {
     "iopub.execute_input": "2022-01-29T00:01:04.523953Z",
     "iopub.status.busy": "2022-01-29T00:01:04.522734Z",
     "iopub.status.idle": "2022-01-29T00:01:04.526215Z",
     "shell.execute_reply": "2022-01-29T00:01:04.526789Z",
     "shell.execute_reply.started": "2022-01-28T23:47:23.180098Z"
    },
    "papermill": {
     "duration": 0.170592,
     "end_time": "2022-01-29T00:01:04.526969",
     "exception": false,
     "start_time": "2022-01-29T00:01:04.356377",
     "status": "completed"
    },
    "tags": []
   },
   "outputs": [
    {
     "data": {
      "text/plain": [
       "label\n",
       "0    0.405397\n",
       "1    0.312328\n",
       "2    0.224152\n",
       "3    0.210876\n",
       "4    0.143431\n",
       "5    0.340016\n",
       "6    0.242555\n",
       "7    0.241244\n",
       "Name: polarity, dtype: float64"
      ]
     },
     "execution_count": 72,
     "metadata": {},
     "output_type": "execute_result"
    }
   ],
   "source": [
    "df.groupby('label')['polarity'].mean()"
   ]
  },
  {
   "cell_type": "code",
   "execution_count": 73,
   "id": "896ff376",
   "metadata": {
    "execution": {
     "iopub.execute_input": "2022-01-29T00:01:04.839892Z",
     "iopub.status.busy": "2022-01-29T00:01:04.839176Z",
     "iopub.status.idle": "2022-01-29T00:01:05.129422Z",
     "shell.execute_reply": "2022-01-29T00:01:05.130029Z",
     "shell.execute_reply.started": "2022-01-28T23:47:23.196076Z"
    },
    "papermill": {
     "duration": 0.449779,
     "end_time": "2022-01-29T00:01:05.130257",
     "exception": false,
     "start_time": "2022-01-29T00:01:04.680478",
     "status": "completed"
    },
    "tags": []
   },
   "outputs": [
    {
     "data": {
      "image/png": "[encoded data removed]",
      "text/plain": [
       "<Figure size 1152x864 with 1 Axes>"
      ]
     },
     "metadata": {
      "needs_background": "light"
     },
     "output_type": "display_data"
    }
   ],
   "source": [
    "\n",
    "plt.figure(figsize=(16,12))\n",
    "plt.scatter(df['polarity'], df['len'], c= df['label'], alpha=0.5, s=50)\n",
    "plt.show()"
   ]
  },
  {
   "cell_type": "code",
   "execution_count": 74,
   "id": "c0edef1c",
   "metadata": {
    "execution": {
     "iopub.execute_input": "2022-01-29T00:01:05.474722Z",
     "iopub.status.busy": "2022-01-29T00:01:05.459859Z",
     "iopub.status.idle": "2022-01-29T00:01:05.479170Z",
     "shell.execute_reply": "2022-01-29T00:01:05.478557Z",
     "shell.execute_reply.started": "2022-01-28T23:47:23.451751Z"
    },
    "papermill": {
     "duration": 0.188524,
     "end_time": "2022-01-29T00:01:05.479329",
     "exception": false,
     "start_time": "2022-01-29T00:01:05.290805",
     "status": "completed"
    },
    "tags": []
   },
   "outputs": [
    {
     "data": {
      "text/html": [
       "<div>\n",
       "<style scoped>\n",
       "    .dataframe tbody tr th:only-of-type {\n",
       "        vertical-align: middle;\n",
       "    }\n",
       "\n",
       "    .dataframe tbody tr th {\n",
       "        vertical-align: top;\n",
       "    }\n",
       "\n",
       "    .dataframe thead th {\n",
       "        text-align: right;\n",
       "    }\n",
       "</style>\n",
       "<table border=\"1\" class=\"dataframe\">\n",
       "  <thead>\n",
       "    <tr style=\"text-align: right;\">\n",
       "      <th></th>\n",
       "      <th>count</th>\n",
       "      <th>polarity</th>\n",
       "      <th>subjectivity</th>\n",
       "      <th>level</th>\n",
       "      <th>len</th>\n",
       "    </tr>\n",
       "    <tr>\n",
       "      <th>label</th>\n",
       "      <th></th>\n",
       "      <th></th>\n",
       "      <th></th>\n",
       "      <th></th>\n",
       "      <th></th>\n",
       "    </tr>\n",
       "  </thead>\n",
       "  <tbody>\n",
       "    <tr>\n",
       "      <th>0</th>\n",
       "      <td>87</td>\n",
       "      <td>0.405397</td>\n",
       "      <td>0.635069</td>\n",
       "      <td>1.494253</td>\n",
       "      <td>314.287356</td>\n",
       "    </tr>\n",
       "    <tr>\n",
       "      <th>1</th>\n",
       "      <td>150</td>\n",
       "      <td>0.312328</td>\n",
       "      <td>0.536363</td>\n",
       "      <td>1.553333</td>\n",
       "      <td>742.253333</td>\n",
       "    </tr>\n",
       "    <tr>\n",
       "      <th>2</th>\n",
       "      <td>60</td>\n",
       "      <td>0.224152</td>\n",
       "      <td>0.469265</td>\n",
       "      <td>1.500000</td>\n",
       "      <td>594.266667</td>\n",
       "    </tr>\n",
       "    <tr>\n",
       "      <th>3</th>\n",
       "      <td>136</td>\n",
       "      <td>0.210876</td>\n",
       "      <td>0.513048</td>\n",
       "      <td>1.463235</td>\n",
       "      <td>1429.102941</td>\n",
       "    </tr>\n",
       "    <tr>\n",
       "      <th>4</th>\n",
       "      <td>66</td>\n",
       "      <td>0.143431</td>\n",
       "      <td>0.342580</td>\n",
       "      <td>1.469697</td>\n",
       "      <td>251.227273</td>\n",
       "    </tr>\n",
       "    <tr>\n",
       "      <th>5</th>\n",
       "      <td>118</td>\n",
       "      <td>0.340016</td>\n",
       "      <td>0.581554</td>\n",
       "      <td>1.296610</td>\n",
       "      <td>903.110169</td>\n",
       "    </tr>\n",
       "    <tr>\n",
       "      <th>6</th>\n",
       "      <td>302</td>\n",
       "      <td>0.242555</td>\n",
       "      <td>0.495008</td>\n",
       "      <td>1.450331</td>\n",
       "      <td>724.208609</td>\n",
       "    </tr>\n",
       "    <tr>\n",
       "      <th>7</th>\n",
       "      <td>92</td>\n",
       "      <td>0.241244</td>\n",
       "      <td>0.431905</td>\n",
       "      <td>1.521739</td>\n",
       "      <td>398.228261</td>\n",
       "    </tr>\n",
       "  </tbody>\n",
       "</table>\n",
       "</div>"
      ],
      "text/plain": [
       "       count  polarity  subjectivity     level          len\n",
       "label                                                      \n",
       "0         87  0.405397      0.635069  1.494253   314.287356\n",
       "1        150  0.312328      0.536363  1.553333   742.253333\n",
       "2         60  0.224152      0.469265  1.500000   594.266667\n",
       "3        136  0.210876      0.513048  1.463235  1429.102941\n",
       "4         66  0.143431      0.342580  1.469697   251.227273\n",
       "5        118  0.340016      0.581554  1.296610   903.110169\n",
       "6        302  0.242555      0.495008  1.450331   724.208609\n",
       "7         92  0.241244      0.431905  1.521739   398.228261"
      ]
     },
     "execution_count": 74,
     "metadata": {},
     "output_type": "execute_result"
    }
   ],
   "source": [
    "# group data:\n",
    "polar = df.groupby('label')['polarity'].mean()\n",
    "subj = df.groupby('label')['subjectivity'].mean()\n",
    "level = df.groupby('label')['level'].mean()\n",
    "val_cnt = df['label'].value_counts()\n",
    "length = df.groupby('label')['len'].mean()\n",
    "\n",
    "# create a df:\n",
    "cluster_df = pd.concat([val_cnt,polar,subj,level, length], axis=1)\n",
    "cluster_df = cluster_df.rename(columns={'label':'count'})\n",
    "cluster_df.index.name = 'label'\n",
    "cluster_df"
   ]
  },
  {
   "cell_type": "code",
   "execution_count": 75,
   "id": "4bf5b396",
   "metadata": {
    "execution": {
     "iopub.execute_input": "2022-01-29T00:01:05.815155Z",
     "iopub.status.busy": "2022-01-29T00:01:05.809385Z",
     "iopub.status.idle": "2022-01-29T00:01:06.408381Z",
     "shell.execute_reply": "2022-01-29T00:01:06.410301Z",
     "shell.execute_reply.started": "2022-01-28T23:47:23.482842Z"
    },
    "papermill": {
     "duration": 0.771512,
     "end_time": "2022-01-29T00:01:06.410767",
     "exception": false,
     "start_time": "2022-01-29T00:01:05.639255",
     "status": "completed"
    },
    "tags": []
   },
   "outputs": [],
   "source": [
    "from sklearn.feature_extraction.text import HashingVectorizer\n",
    "\n",
    "# vectorize text with HashingVectorizer:\n",
    "vectorizer = HashingVectorizer(n_features=20) \n",
    "X = vectorizer.transform(df['feedback'])\n",
    "\n",
    "# fit and label:\n",
    "Kmean = KMeans(n_clusters=8, random_state=2)\n",
    "Kmean.fit(X)\n",
    "df['label_hash'] = Kmean.labels_"
   ]
  },
  {
   "cell_type": "code",
   "execution_count": 76,
   "id": "9ead5b21",
   "metadata": {
    "execution": {
     "iopub.execute_input": "2022-01-29T00:01:06.805345Z",
     "iopub.status.busy": "2022-01-29T00:01:06.804632Z",
     "iopub.status.idle": "2022-01-29T00:01:06.823531Z",
     "shell.execute_reply": "2022-01-29T00:01:06.824135Z",
     "shell.execute_reply.started": "2022-01-28T23:47:24.039186Z"
    },
    "papermill": {
     "duration": 0.203161,
     "end_time": "2022-01-29T00:01:06.824309",
     "exception": false,
     "start_time": "2022-01-29T00:01:06.621148",
     "status": "completed"
    },
    "tags": []
   },
   "outputs": [
    {
     "data": {
      "text/html": [
       "<div>\n",
       "<style scoped>\n",
       "    .dataframe tbody tr th:only-of-type {\n",
       "        vertical-align: middle;\n",
       "    }\n",
       "\n",
       "    .dataframe tbody tr th {\n",
       "        vertical-align: top;\n",
       "    }\n",
       "\n",
       "    .dataframe thead th {\n",
       "        text-align: right;\n",
       "    }\n",
       "</style>\n",
       "<table border=\"1\" class=\"dataframe\">\n",
       "  <thead>\n",
       "    <tr style=\"text-align: right;\">\n",
       "      <th></th>\n",
       "      <th>count</th>\n",
       "      <th>polarity</th>\n",
       "      <th>subjectivity</th>\n",
       "      <th>level</th>\n",
       "      <th>len</th>\n",
       "    </tr>\n",
       "    <tr>\n",
       "      <th>label_hash</th>\n",
       "      <th></th>\n",
       "      <th></th>\n",
       "      <th></th>\n",
       "      <th></th>\n",
       "      <th></th>\n",
       "    </tr>\n",
       "  </thead>\n",
       "  <tbody>\n",
       "    <tr>\n",
       "      <th>0</th>\n",
       "      <td>48</td>\n",
       "      <td>0.423195</td>\n",
       "      <td>0.634973</td>\n",
       "      <td>1.375000</td>\n",
       "      <td>162.208333</td>\n",
       "    </tr>\n",
       "    <tr>\n",
       "      <th>1</th>\n",
       "      <td>114</td>\n",
       "      <td>0.231643</td>\n",
       "      <td>0.458124</td>\n",
       "      <td>1.438596</td>\n",
       "      <td>286.745614</td>\n",
       "    </tr>\n",
       "    <tr>\n",
       "      <th>2</th>\n",
       "      <td>194</td>\n",
       "      <td>0.226182</td>\n",
       "      <td>0.493144</td>\n",
       "      <td>1.525773</td>\n",
       "      <td>1292.639175</td>\n",
       "    </tr>\n",
       "    <tr>\n",
       "      <th>3</th>\n",
       "      <td>133</td>\n",
       "      <td>0.292870</td>\n",
       "      <td>0.537646</td>\n",
       "      <td>1.458647</td>\n",
       "      <td>744.075188</td>\n",
       "    </tr>\n",
       "    <tr>\n",
       "      <th>4</th>\n",
       "      <td>184</td>\n",
       "      <td>0.299249</td>\n",
       "      <td>0.541764</td>\n",
       "      <td>1.456522</td>\n",
       "      <td>737.826087</td>\n",
       "    </tr>\n",
       "    <tr>\n",
       "      <th>5</th>\n",
       "      <td>78</td>\n",
       "      <td>0.275994</td>\n",
       "      <td>0.429034</td>\n",
       "      <td>1.602564</td>\n",
       "      <td>371.346154</td>\n",
       "    </tr>\n",
       "    <tr>\n",
       "      <th>6</th>\n",
       "      <td>134</td>\n",
       "      <td>0.241492</td>\n",
       "      <td>0.508571</td>\n",
       "      <td>1.425373</td>\n",
       "      <td>856.850746</td>\n",
       "    </tr>\n",
       "    <tr>\n",
       "      <th>7</th>\n",
       "      <td>126</td>\n",
       "      <td>0.244289</td>\n",
       "      <td>0.499347</td>\n",
       "      <td>1.396825</td>\n",
       "      <td>614.595238</td>\n",
       "    </tr>\n",
       "  </tbody>\n",
       "</table>\n",
       "</div>"
      ],
      "text/plain": [
       "            count  polarity  subjectivity     level          len\n",
       "label_hash                                                      \n",
       "0              48  0.423195      0.634973  1.375000   162.208333\n",
       "1             114  0.231643      0.458124  1.438596   286.745614\n",
       "2             194  0.226182      0.493144  1.525773  1292.639175\n",
       "3             133  0.292870      0.537646  1.458647   744.075188\n",
       "4             184  0.299249      0.541764  1.456522   737.826087\n",
       "5              78  0.275994      0.429034  1.602564   371.346154\n",
       "6             134  0.241492      0.508571  1.425373   856.850746\n",
       "7             126  0.244289      0.499347  1.396825   614.595238"
      ]
     },
     "execution_count": 76,
     "metadata": {},
     "output_type": "execute_result"
    }
   ],
   "source": [
    "# group data:\n",
    "polar = df.groupby('label_hash')['polarity'].mean()\n",
    "subj = df.groupby('label_hash')['subjectivity'].mean()\n",
    "level = df.groupby('label_hash')['level'].mean()\n",
    "val_cnt = df['label_hash'].value_counts()\n",
    "length = df.groupby('label_hash')['len'].mean()\n",
    "\n",
    "# create a df:\n",
    "cluster_df = pd.concat([val_cnt,polar,subj,level, length], axis=1)\n",
    "cluster_df = cluster_df.rename(columns={'label_hash':'count'})\n",
    "cluster_df.index.name = 'label_hash'\n",
    "cluster_df"
   ]
  },
  {
   "cell_type": "code",
   "execution_count": 77,
   "id": "42209761",
   "metadata": {
    "execution": {
     "iopub.execute_input": "2022-01-29T00:01:07.160310Z",
     "iopub.status.busy": "2022-01-29T00:01:07.159269Z",
     "iopub.status.idle": "2022-01-29T00:01:07.165879Z",
     "shell.execute_reply": "2022-01-29T00:01:07.166508Z",
     "shell.execute_reply.started": "2022-01-28T23:47:24.081048Z"
    },
    "papermill": {
     "duration": 0.176816,
     "end_time": "2022-01-29T00:01:07.166715",
     "exception": false,
     "start_time": "2022-01-29T00:01:06.989899",
     "status": "completed"
    },
    "tags": []
   },
   "outputs": [],
   "source": [
    "df_2_neg = df[df['label'] == 2]\n",
    "df_5_pos = df[df['label'] == 5]"
   ]
  },
  {
   "cell_type": "code",
   "execution_count": 78,
   "id": "d0a094f2",
   "metadata": {
    "execution": {
     "iopub.execute_input": "2022-01-29T00:01:07.504343Z",
     "iopub.status.busy": "2022-01-29T00:01:07.503376Z",
     "iopub.status.idle": "2022-01-29T00:01:07.507087Z",
     "shell.execute_reply": "2022-01-29T00:01:07.507664Z",
     "shell.execute_reply.started": "2022-01-28T23:47:24.099893Z"
    },
    "papermill": {
     "duration": 0.175193,
     "end_time": "2022-01-29T00:01:07.507878",
     "exception": false,
     "start_time": "2022-01-29T00:01:07.332685",
     "status": "completed"
    },
    "tags": []
   },
   "outputs": [
    {
     "data": {
      "text/plain": [
       "[('jupyter file menu', 24),\n",
       " ('guided project use', 24),\n",
       " ('new topic button', 15),\n",
       " ('screen shot 2020', 12),\n",
       " ('automatically edit …', 9),\n",
       " ('jupyter notebook file', 2),\n",
       " ('unpaid volunteers !).', 2),\n",
       " ('let us break', 2),\n",
       " ('treat guided projects', 2),\n",
       " ('first guided project', 2)]"
      ]
     },
     "execution_count": 78,
     "metadata": {},
     "output_type": "execute_result"
    }
   ],
   "source": [
    "\n",
    "rake_nums = []\n",
    "rake_words = []\n",
    "for cell in df_2_neg['rake_words']:\n",
    "    for el in cell:\n",
    "\n",
    "        rake_words.append(el)\n",
    "        \n",
    "rake_df = pd.DataFrame({'words':rake_words})\n",
    "Counter(rake_df['words']).most_common(10)"
   ]
  },
  {
   "cell_type": "code",
   "execution_count": 79,
   "id": "54cf8e2b",
   "metadata": {
    "execution": {
     "iopub.execute_input": "2022-01-29T00:01:07.838428Z",
     "iopub.status.busy": "2022-01-29T00:01:07.833683Z",
     "iopub.status.idle": "2022-01-29T00:01:07.843186Z",
     "shell.execute_reply": "2022-01-29T00:01:07.842438Z",
     "shell.execute_reply.started": "2022-01-28T23:47:24.122473Z"
    },
    "papermill": {
     "duration": 0.176453,
     "end_time": "2022-01-29T00:01:07.843354",
     "exception": false,
     "start_time": "2022-01-29T00:01:07.666901",
     "status": "completed"
    },
    "tags": []
   },
   "outputs": [
    {
     "data": {
      "text/plain": [
       "app profitable         13\n",
       "news hacker            13\n",
       "ebay car                8\n",
       "cia factbook            8\n",
       "college visualizing     5\n",
       "car prices              3\n",
       "sql using               2\n",
       "bike rentals            2\n",
       "fandango ratings        2\n",
       "markets advertise       1\n",
       "sql cia                 1\n",
       "gender gap              1\n",
       "exit employee           1\n",
       "Name: short_title, dtype: int64"
      ]
     },
     "execution_count": 79,
     "metadata": {},
     "output_type": "execute_result"
    }
   ],
   "source": [
    "df_2_neg['short_title'].value_counts()"
   ]
  },
  {
   "cell_type": "code",
   "execution_count": 80,
   "id": "26d89ce6",
   "metadata": {
    "execution": {
     "iopub.execute_input": "2022-01-29T00:01:08.175382Z",
     "iopub.status.busy": "2022-01-29T00:01:08.174250Z",
     "iopub.status.idle": "2022-01-29T00:01:08.178385Z",
     "shell.execute_reply": "2022-01-29T00:01:08.178917Z",
     "shell.execute_reply.started": "2022-01-28T23:47:24.142539Z"
    },
    "papermill": {
     "duration": 0.174915,
     "end_time": "2022-01-29T00:01:08.179113",
     "exception": false,
     "start_time": "2022-01-29T00:01:08.004198",
     "status": "completed"
    },
    "tags": []
   },
   "outputs": [
    {
     "data": {
      "text/plain": [
       "[('everything looks nice', 20),\n",
       " ('everything looks good', 9),\n",
       " ('data cleaning process', 7),\n",
       " ('print () function', 6),\n",
       " ('exploring hacker news', 6),\n",
       " ('google play markets', 5),\n",
       " ('analyzing cia factbook', 5),\n",
       " ('might appear complex', 4),\n",
       " ('looks pretty good', 4),\n",
       " ('sharing another project', 4)]"
      ]
     },
     "execution_count": 80,
     "metadata": {},
     "output_type": "execute_result"
    }
   ],
   "source": [
    "rake_nums = []\n",
    "rake_words = []\n",
    "for cell in df_5_pos['rake_words']:\n",
    "    for el in cell:\n",
    "        rake_words.append(el)\n",
    "rake_df = pd.DataFrame({'words':rake_words})\n",
    "Counter(rake_df['words']).most_common(10)"
   ]
  },
  {
   "cell_type": "code",
   "execution_count": 81,
   "id": "e9727c2d",
   "metadata": {
    "execution": {
     "iopub.execute_input": "2022-01-29T00:01:08.513976Z",
     "iopub.status.busy": "2022-01-29T00:01:08.512710Z",
     "iopub.status.idle": "2022-01-29T00:01:08.518051Z",
     "shell.execute_reply": "2022-01-29T00:01:08.517341Z",
     "shell.execute_reply.started": "2022-01-28T23:47:24.164328Z"
    },
    "papermill": {
     "duration": 0.179114,
     "end_time": "2022-01-29T00:01:08.518229",
     "exception": false,
     "start_time": "2022-01-29T00:01:08.339115",
     "status": "completed"
    },
    "tags": []
   },
   "outputs": [
    {
     "data": {
      "text/plain": [
       "news hacker            27\n",
       "ebay car               23\n",
       "app profitable         15\n",
       "exit employee          11\n",
       "cia factbook            8\n",
       "nyc high                8\n",
       "college visualizing     7\n",
       "traffic heavy           4\n",
       "sql using               3\n",
       "wars star               3\n",
       "car prices              2\n",
       "exchange rates          2\n",
       "fandango ratings        2\n",
       "lottery addiction       1\n",
       "markets advertise       1\n",
       "gender gap              1\n",
       "Name: short_title, dtype: int64"
      ]
     },
     "execution_count": 81,
     "metadata": {},
     "output_type": "execute_result"
    }
   ],
   "source": [
    "df_5_pos['short_title'].value_counts()"
   ]
  },
  {
   "cell_type": "code",
   "execution_count": 82,
   "id": "7799ee2f",
   "metadata": {
    "execution": {
     "iopub.execute_input": "2022-01-29T00:01:08.903283Z",
     "iopub.status.busy": "2022-01-29T00:01:08.902078Z",
     "iopub.status.idle": "2022-01-29T00:01:08.905751Z",
     "shell.execute_reply": "2022-01-29T00:01:08.906293Z",
     "shell.execute_reply.started": "2022-01-28T23:47:24.184328Z"
    },
    "papermill": {
     "duration": 0.193516,
     "end_time": "2022-01-29T00:01:08.906482",
     "exception": false,
     "start_time": "2022-01-29T00:01:08.712966",
     "status": "completed"
    },
    "tags": []
   },
   "outputs": [
    {
     "data": {
      "text/plain": [
       "app profitable         12\n",
       "ebay car               11\n",
       "news hacker             9\n",
       "nyc high                6\n",
       "exit employee           5\n",
       "cia factbook            5\n",
       "college visualizing     4\n",
       "gender gap              3\n",
       "wars star               2\n",
       "sql using               1\n",
       "fandango ratings        1\n",
       "stock market            1\n",
       "spam filter             1\n",
       "bike rentals            1\n",
       "house prices            1\n",
       "car prices              1\n",
       "traffic heavy           1\n",
       "jeopardy winning        1\n",
       "Name: short_title, dtype: int64"
      ]
     },
     "execution_count": 82,
     "metadata": {},
     "output_type": "execute_result"
    }
   ],
   "source": [
    "# negative\n",
    "df[df['label'] == 4]['short_title'].value_counts()"
   ]
  },
  {
   "cell_type": "code",
   "execution_count": null,
   "id": "f986d1fd",
   "metadata": {
    "papermill": {
     "duration": 0.163037,
     "end_time": "2022-01-29T00:01:09.235085",
     "exception": false,
     "start_time": "2022-01-29T00:01:09.072048",
     "status": "completed"
    },
    "tags": []
   },
   "outputs": [],
   "source": []
  },
  {
   "cell_type": "code",
   "execution_count": 83,
   "id": "368ffe6b",
   "metadata": {
    "execution": {
     "iopub.execute_input": "2022-01-29T00:01:09.568636Z",
     "iopub.status.busy": "2022-01-29T00:01:09.567847Z",
     "iopub.status.idle": "2022-01-29T00:01:09.572977Z",
     "shell.execute_reply": "2022-01-29T00:01:09.572247Z",
     "shell.execute_reply.started": "2022-01-28T23:47:24.205283Z"
    },
    "papermill": {
     "duration": 0.174678,
     "end_time": "2022-01-29T00:01:09.573145",
     "exception": false,
     "start_time": "2022-01-29T00:01:09.398467",
     "status": "completed"
    },
    "tags": []
   },
   "outputs": [
    {
     "data": {
      "text/plain": [
       "news hacker            52\n",
       "ebay car               48\n",
       "app profitable         47\n",
       "college visualizing    23\n",
       "cia factbook           22\n",
       "wars star              19\n",
       "gender gap             15\n",
       "exit employee          13\n",
       "sql using               9\n",
       "nyc high                9\n",
       "traffic heavy           7\n",
       "science popular         7\n",
       "house prices            6\n",
       "markets advertise       6\n",
       "jeopardy winning        5\n",
       "car prices              4\n",
       "bike rentals            3\n",
       "stock market            3\n",
       "fandango ratings        2\n",
       "exchange rates          1\n",
       "lottery addiction       1\n",
       "Name: short_title, dtype: int64"
      ]
     },
     "execution_count": 83,
     "metadata": {},
     "output_type": "execute_result"
    }
   ],
   "source": [
    "# positive:\n",
    "df[df['label'] == 6]['short_title'].value_counts()"
   ]
  },
  {
   "cell_type": "markdown",
   "id": "209e6a6c",
   "metadata": {
    "papermill": {
     "duration": 0.177437,
     "end_time": "2022-01-29T00:01:09.943154",
     "exception": false,
     "start_time": "2022-01-29T00:01:09.765717",
     "status": "completed"
    },
    "tags": []
   },
   "source": [
    "# Advanced clustering"
   ]
  },
  {
   "cell_type": "code",
   "execution_count": 84,
   "id": "61e77518",
   "metadata": {
    "execution": {
     "iopub.execute_input": "2022-01-29T00:01:10.361311Z",
     "iopub.status.busy": "2022-01-29T00:01:10.328911Z",
     "iopub.status.idle": "2022-01-29T00:02:07.531066Z",
     "shell.execute_reply": "2022-01-29T00:02:07.531824Z",
     "shell.execute_reply.started": "2022-01-28T23:47:24.223965Z"
    },
    "papermill": {
     "duration": 57.416005,
     "end_time": "2022-01-29T00:02:07.532056",
     "exception": false,
     "start_time": "2022-01-29T00:01:10.116051",
     "status": "completed"
    },
    "tags": []
   },
   "outputs": [
    {
     "name": "stderr",
     "output_type": "stream",
     "text": [
      "100%|██████████| 7/7 [00:56<00:00,  8.11s/it]\n"
     ]
    }
   ],
   "source": [
    "# https://www.analyticsvidhya.com/blog/2021/09/latent-semantic-analysis-and-its-uses-in-natural-language-processing/\n",
    "\n",
    "import nltk\n",
    "\n",
    "from sklearn.metrics import silhouette_score\n",
    "from sklearn.manifold import TSNE\n",
    "from sklearn.preprocessing import LabelEncoder\n",
    "\n",
    "from tqdm import tqdm, tqdm_notebook\n",
    "##\n",
    "\n",
    "stopword_list = stopwords.words('english')\n",
    "\n",
    "dtm = CountVectorizer(max_df=0.7, min_df=5, token_pattern=\"[a-z']+\", \n",
    "                      stop_words=stopword_list, max_features=6000) # Only top 6000 most frequently ocurring words are considered\n",
    "dtm.fit(df['feedback_clean2_lem'])\n",
    "dtm_mat = dtm.transform(df['feedback_clean2_lem'])\n",
    "\n",
    "tsvd = TruncatedSVD(n_components=200)\n",
    "tsvd.fit(dtm_mat)\n",
    "tsvd_mat = tsvd.transform(dtm_mat)\n",
    "s_list = []\n",
    "for clus in tqdm(range(2,9)):\n",
    "\n",
    "    km = KMeans(n_clusters=clus, n_init=50, max_iter=1000, random_state=2) # Instantiate KMeans clustering\n",
    "\n",
    "    km.fit(tsvd_mat) # Run KMeans clustering\n",
    "\n",
    "    s = silhouette_score(tsvd_mat, km.labels_)\n",
    "\n",
    "    s_list.append(s)\n",
    "    \n",
    "\n"
   ]
  },
  {
   "cell_type": "code",
   "execution_count": 85,
   "id": "24f2a678",
   "metadata": {
    "execution": {
     "iopub.execute_input": "2022-01-29T00:02:07.897800Z",
     "iopub.status.busy": "2022-01-29T00:02:07.896938Z",
     "iopub.status.idle": "2022-01-29T00:02:07.905110Z",
     "shell.execute_reply": "2022-01-29T00:02:07.904574Z",
     "shell.execute_reply.started": "2022-01-28T23:48:20.779510Z"
    },
    "papermill": {
     "duration": 0.177114,
     "end_time": "2022-01-29T00:02:07.905273",
     "exception": false,
     "start_time": "2022-01-29T00:02:07.728159",
     "status": "completed"
    },
    "tags": []
   },
   "outputs": [
    {
     "data": {
      "text/plain": [
       "label2\n",
       "0    0.231958\n",
       "1    0.174918\n",
       "2    0.285773\n",
       "3    0.279172\n",
       "4    0.207528\n",
       "5    0.117426\n",
       "6    0.267744\n",
       "7    0.361111\n",
       "Name: polarity, dtype: float64"
      ]
     },
     "execution_count": 85,
     "metadata": {},
     "output_type": "execute_result"
    }
   ],
   "source": [
    "df['label2'] = km.labels_\n",
    "df.groupby('label2')['polarity'].mean()"
   ]
  },
  {
   "cell_type": "code",
   "execution_count": 86,
   "id": "20303cf0",
   "metadata": {
    "execution": {
     "iopub.execute_input": "2022-01-29T00:02:08.248411Z",
     "iopub.status.busy": "2022-01-29T00:02:08.247490Z",
     "iopub.status.idle": "2022-01-29T00:02:08.250946Z",
     "shell.execute_reply": "2022-01-29T00:02:08.251509Z",
     "shell.execute_reply.started": "2022-01-28T23:48:20.802265Z"
    },
    "papermill": {
     "duration": 0.18038,
     "end_time": "2022-01-29T00:02:08.251716",
     "exception": false,
     "start_time": "2022-01-29T00:02:08.071336",
     "status": "completed"
    },
    "tags": []
   },
   "outputs": [
    {
     "data": {
      "text/plain": [
       "3    621\n",
       "6    228\n",
       "4     73\n",
       "0     55\n",
       "1     24\n",
       "2      8\n",
       "5      1\n",
       "7      1\n",
       "Name: label2, dtype: int64"
      ]
     },
     "execution_count": 86,
     "metadata": {},
     "output_type": "execute_result"
    }
   ],
   "source": [
    "df['label2'].value_counts()"
   ]
  },
  {
   "cell_type": "code",
   "execution_count": 87,
   "id": "1f230862",
   "metadata": {
    "execution": {
     "iopub.execute_input": "2022-01-29T00:02:08.591192Z",
     "iopub.status.busy": "2022-01-29T00:02:08.590102Z",
     "iopub.status.idle": "2022-01-29T00:02:15.429972Z",
     "shell.execute_reply": "2022-01-29T00:02:15.430768Z",
     "shell.execute_reply.started": "2022-01-28T23:48:20.818133Z"
    },
    "papermill": {
     "duration": 7.012624,
     "end_time": "2022-01-29T00:02:15.431038",
     "exception": false,
     "start_time": "2022-01-29T00:02:08.418414",
     "status": "completed"
    },
    "tags": []
   },
   "outputs": [],
   "source": [
    "tsne = TSNE(n_components=2)\n",
    "tsne_mat = tsne.fit_transform(tsvd_mat)"
   ]
  },
  {
   "cell_type": "code",
   "execution_count": 88,
   "id": "77c5c198",
   "metadata": {
    "execution": {
     "iopub.execute_input": "2022-01-29T00:02:15.856151Z",
     "iopub.status.busy": "2022-01-29T00:02:15.855418Z",
     "iopub.status.idle": "2022-01-29T00:02:16.341912Z",
     "shell.execute_reply": "2022-01-29T00:02:16.342470Z",
     "shell.execute_reply.started": "2022-01-28T23:48:26.821148Z"
    },
    "papermill": {
     "duration": 0.683416,
     "end_time": "2022-01-29T00:02:16.342712",
     "exception": false,
     "start_time": "2022-01-29T00:02:15.659296",
     "status": "completed"
    },
    "tags": []
   },
   "outputs": [
    {
     "data": {
      "image/png": "[encoded data removed]",
      "text/plain": [
       "<Figure size 720x576 with 1 Axes>"
      ]
     },
     "metadata": {
      "needs_background": "light"
     },
     "output_type": "display_data"
    }
   ],
   "source": [
    "plt.figure(figsize=(10,8))\n",
    "sns.scatterplot(x=tsne_mat[:,0],y=tsne_mat[:,1],hue=df['label2'])\n",
    "plt.show()"
   ]
  },
  {
   "cell_type": "code",
   "execution_count": 89,
   "id": "a00359ed",
   "metadata": {
    "execution": {
     "iopub.execute_input": "2022-01-29T00:02:16.683693Z",
     "iopub.status.busy": "2022-01-29T00:02:16.682960Z",
     "iopub.status.idle": "2022-01-29T00:02:16.688975Z",
     "shell.execute_reply": "2022-01-29T00:02:16.689590Z",
     "shell.execute_reply.started": "2022-01-28T23:48:27.240516Z"
    },
    "papermill": {
     "duration": 0.176247,
     "end_time": "2022-01-29T00:02:16.689768",
     "exception": false,
     "start_time": "2022-01-29T00:02:16.513521",
     "status": "completed"
    },
    "tags": []
   },
   "outputs": [
    {
     "data": {
      "text/plain": [
       "array([964])"
      ]
     },
     "execution_count": 89,
     "metadata": {},
     "output_type": "execute_result"
    }
   ],
   "source": [
    "# tsne_mat.max()\n",
    "result = np.where(tsne_mat == np.amax(tsne_mat))\n",
    "result[0]"
   ]
  },
  {
   "cell_type": "code",
   "execution_count": 90,
   "id": "19a64adc",
   "metadata": {
    "execution": {
     "iopub.execute_input": "2022-01-29T00:02:17.029115Z",
     "iopub.status.busy": "2022-01-29T00:02:17.028407Z",
     "iopub.status.idle": "2022-01-29T00:02:17.331811Z",
     "shell.execute_reply": "2022-01-29T00:02:17.331217Z",
     "shell.execute_reply.started": "2022-01-28T23:48:27.265202Z"
    },
    "papermill": {
     "duration": 0.475749,
     "end_time": "2022-01-29T00:02:17.331981",
     "exception": false,
     "start_time": "2022-01-29T00:02:16.856232",
     "status": "completed"
    },
    "tags": []
   },
   "outputs": [
    {
     "data": {
      "image/png": "[encoded data removed]",
      "text/plain": [
       "<Figure size 1152x864 with 1 Axes>"
      ]
     },
     "metadata": {
      "needs_background": "light"
     },
     "output_type": "display_data"
    }
   ],
   "source": [
    "\n",
    "plt.figure(figsize=(16,12))\n",
    "plt.scatter(df['polarity'], df['len'], c= df['label2'], alpha=0.5, s=50)\n",
    "plt.legend()\n",
    "plt.show()"
   ]
  },
  {
   "cell_type": "code",
   "execution_count": 91,
   "id": "e6694056",
   "metadata": {
    "execution": {
     "iopub.execute_input": "2022-01-29T00:02:17.682599Z",
     "iopub.status.busy": "2022-01-29T00:02:17.681908Z",
     "iopub.status.idle": "2022-01-29T00:02:17.687782Z",
     "shell.execute_reply": "2022-01-29T00:02:17.688326Z",
     "shell.execute_reply.started": "2022-01-28T23:48:27.564246Z"
    },
    "papermill": {
     "duration": 0.179917,
     "end_time": "2022-01-29T00:02:17.688508",
     "exception": false,
     "start_time": "2022-01-29T00:02:17.508591",
     "status": "completed"
    },
    "tags": []
   },
   "outputs": [],
   "source": [
    "df_2_neg = df[df['label2'] == 2]\n",
    "df_6_pos = df[df['label2'] == 6]"
   ]
  },
  {
   "cell_type": "code",
   "execution_count": 92,
   "id": "74564df9",
   "metadata": {
    "execution": {
     "iopub.execute_input": "2022-01-29T00:02:18.038154Z",
     "iopub.status.busy": "2022-01-29T00:02:18.037394Z",
     "iopub.status.idle": "2022-01-29T00:02:18.046216Z",
     "shell.execute_reply": "2022-01-29T00:02:18.046848Z",
     "shell.execute_reply.started": "2022-01-28T23:48:27.582783Z"
    },
    "papermill": {
     "duration": 0.186627,
     "end_time": "2022-01-29T00:02:18.047030",
     "exception": false,
     "start_time": "2022-01-29T00:02:17.860403",
     "status": "completed"
    },
    "tags": []
   },
   "outputs": [
    {
     "data": {
      "text/plain": [
       "[('depth style guide', 8),\n",
       " ('personal projects share', 7),\n",
       " ('make proper documentation', 7),\n",
       " ('social love attention', 7),\n",
       " ('hadley wickham nope', 7),\n",
       " ('alex olteanu ’', 7),\n",
       " ('tidyverse style guide', 7),\n",
       " ('sql style guide', 7),\n",
       " ('project looks nice', 2),\n",
       " ('reduce r …', 2)]"
      ]
     },
     "execution_count": 92,
     "metadata": {},
     "output_type": "execute_result"
    }
   ],
   "source": [
    "rake_nums = []\n",
    "rake_words = []\n",
    "for cell in df_2_neg['rake_words']:\n",
    "    for el in cell:\n",
    "\n",
    "        rake_words.append(el)\n",
    "        \n",
    "rake_df = pd.DataFrame({'words':rake_words})\n",
    "Counter(rake_df['words']).most_common(10)"
   ]
  },
  {
   "cell_type": "code",
   "execution_count": 93,
   "id": "e9f04607",
   "metadata": {
    "execution": {
     "iopub.execute_input": "2022-01-29T00:02:18.396418Z",
     "iopub.status.busy": "2022-01-29T00:02:18.395751Z",
     "iopub.status.idle": "2022-01-29T00:02:18.401997Z",
     "shell.execute_reply": "2022-01-29T00:02:18.401322Z",
     "shell.execute_reply.started": "2022-01-28T23:48:27.606715Z"
    },
    "papermill": {
     "duration": 0.182009,
     "end_time": "2022-01-29T00:02:18.402142",
     "exception": false,
     "start_time": "2022-01-29T00:02:18.220133",
     "status": "completed"
    },
    "tags": []
   },
   "outputs": [
    {
     "data": {
      "text/plain": [
       "college visualizing    3\n",
       "news hacker            2\n",
       "cia factbook           2\n",
       "ebay car               1\n",
       "Name: short_title, dtype: int64"
      ]
     },
     "execution_count": 93,
     "metadata": {},
     "output_type": "execute_result"
    }
   ],
   "source": [
    "df_2_neg['short_title'].value_counts()"
   ]
  },
  {
   "cell_type": "code",
   "execution_count": 94,
   "id": "1fe3e02c",
   "metadata": {
    "execution": {
     "iopub.execute_input": "2022-01-29T00:02:18.754658Z",
     "iopub.status.busy": "2022-01-29T00:02:18.753913Z",
     "iopub.status.idle": "2022-01-29T00:02:18.763329Z",
     "shell.execute_reply": "2022-01-29T00:02:18.763976Z",
     "shell.execute_reply.started": "2022-01-28T23:48:27.631494Z"
    },
    "papermill": {
     "duration": 0.18882,
     "end_time": "2022-01-29T00:02:18.764155",
     "exception": false,
     "start_time": "2022-01-29T00:02:18.575335",
     "status": "completed"
    },
    "tags": []
   },
   "outputs": [
    {
     "data": {
      "text/plain": [
       "[('everything looks nice', 19),\n",
       " ('everything looks good', 10),\n",
       " ('print () function', 8),\n",
       " ('project looks good', 7),\n",
       " ('first guided project', 6),\n",
       " ('second guided project', 6),\n",
       " ('looks pretty good', 5),\n",
       " ('data cleaning process', 5),\n",
       " ('first code cell', 5),\n",
       " ('happy coding :)', 5)]"
      ]
     },
     "execution_count": 94,
     "metadata": {},
     "output_type": "execute_result"
    }
   ],
   "source": [
    "rake_nums = []\n",
    "rake_words = []\n",
    "for cell in df_6_pos['rake_words']:\n",
    "    for el in cell:\n",
    "\n",
    "        rake_words.append(el)\n",
    "        \n",
    "rake_df = pd.DataFrame({'words':rake_words})\n",
    "Counter(rake_df['words']).most_common(10)"
   ]
  },
  {
   "cell_type": "code",
   "execution_count": 95,
   "id": "88f7a6e7",
   "metadata": {
    "execution": {
     "iopub.execute_input": "2022-01-29T00:02:19.131923Z",
     "iopub.status.busy": "2022-01-29T00:02:19.131223Z",
     "iopub.status.idle": "2022-01-29T00:02:19.138240Z",
     "shell.execute_reply": "2022-01-29T00:02:19.138848Z",
     "shell.execute_reply.started": "2022-01-28T23:48:27.652995Z"
    },
    "papermill": {
     "duration": 0.196113,
     "end_time": "2022-01-29T00:02:19.139030",
     "exception": false,
     "start_time": "2022-01-29T00:02:18.942917",
     "status": "completed"
    },
    "tags": []
   },
   "outputs": [
    {
     "data": {
      "text/plain": [
       "news hacker            52\n",
       "ebay car               50\n",
       "app profitable         38\n",
       "cia factbook           15\n",
       "exit employee          14\n",
       "college visualizing    11\n",
       "nyc high                8\n",
       "gender gap              6\n",
       "traffic heavy           5\n",
       "wars star               5\n",
       "sql using               4\n",
       "fandango ratings        4\n",
       "car prices              4\n",
       "markets advertise       3\n",
       "jeopardy winning        2\n",
       "house prices            2\n",
       "exchange rates          2\n",
       "science popular         1\n",
       "lottery addiction       1\n",
       "spam filter             1\n",
       "Name: short_title, dtype: int64"
      ]
     },
     "execution_count": 95,
     "metadata": {},
     "output_type": "execute_result"
    }
   ],
   "source": [
    "df_6_pos['short_title'].value_counts()"
   ]
  },
  {
   "cell_type": "code",
   "execution_count": 96,
   "id": "ebc60315",
   "metadata": {
    "execution": {
     "iopub.execute_input": "2022-01-29T00:02:19.492028Z",
     "iopub.status.busy": "2022-01-29T00:02:19.491171Z",
     "iopub.status.idle": "2022-01-29T00:02:19.521346Z",
     "shell.execute_reply": "2022-01-29T00:02:19.520530Z",
     "shell.execute_reply.started": "2022-01-28T23:48:27.675282Z"
    },
    "papermill": {
     "duration": 0.209409,
     "end_time": "2022-01-29T00:02:19.521513",
     "exception": false,
     "start_time": "2022-01-29T00:02:19.312104",
     "status": "completed"
    },
    "tags": []
   },
   "outputs": [
    {
     "data": {
      "text/html": [
       "<div>\n",
       "<style scoped>\n",
       "    .dataframe tbody tr th:only-of-type {\n",
       "        vertical-align: middle;\n",
       "    }\n",
       "\n",
       "    .dataframe tbody tr th {\n",
       "        vertical-align: top;\n",
       "    }\n",
       "\n",
       "    .dataframe thead th {\n",
       "        text-align: right;\n",
       "    }\n",
       "</style>\n",
       "<table border=\"1\" class=\"dataframe\">\n",
       "  <thead>\n",
       "    <tr style=\"text-align: right;\">\n",
       "      <th></th>\n",
       "      <th>count</th>\n",
       "      <th>polarity</th>\n",
       "      <th>subjectivity</th>\n",
       "      <th>level</th>\n",
       "      <th>len</th>\n",
       "    </tr>\n",
       "    <tr>\n",
       "      <th>label2</th>\n",
       "      <th></th>\n",
       "      <th></th>\n",
       "      <th></th>\n",
       "      <th></th>\n",
       "      <th></th>\n",
       "    </tr>\n",
       "  </thead>\n",
       "  <tbody>\n",
       "    <tr>\n",
       "      <th>0</th>\n",
       "      <td>55</td>\n",
       "      <td>0.231958</td>\n",
       "      <td>0.517637</td>\n",
       "      <td>1.654545</td>\n",
       "      <td>1235.509091</td>\n",
       "    </tr>\n",
       "    <tr>\n",
       "      <th>1</th>\n",
       "      <td>24</td>\n",
       "      <td>0.174918</td>\n",
       "      <td>0.468899</td>\n",
       "      <td>1.333333</td>\n",
       "      <td>774.416667</td>\n",
       "    </tr>\n",
       "    <tr>\n",
       "      <th>2</th>\n",
       "      <td>8</td>\n",
       "      <td>0.285773</td>\n",
       "      <td>0.460041</td>\n",
       "      <td>1.625000</td>\n",
       "      <td>1713.125000</td>\n",
       "    </tr>\n",
       "    <tr>\n",
       "      <th>3</th>\n",
       "      <td>621</td>\n",
       "      <td>0.279172</td>\n",
       "      <td>0.499833</td>\n",
       "      <td>1.499195</td>\n",
       "      <td>391.563607</td>\n",
       "    </tr>\n",
       "    <tr>\n",
       "      <th>4</th>\n",
       "      <td>73</td>\n",
       "      <td>0.207528</td>\n",
       "      <td>0.506360</td>\n",
       "      <td>1.520548</td>\n",
       "      <td>1842.205479</td>\n",
       "    </tr>\n",
       "    <tr>\n",
       "      <th>5</th>\n",
       "      <td>1</td>\n",
       "      <td>0.117426</td>\n",
       "      <td>0.382325</td>\n",
       "      <td>2.000000</td>\n",
       "      <td>4675.000000</td>\n",
       "    </tr>\n",
       "    <tr>\n",
       "      <th>6</th>\n",
       "      <td>228</td>\n",
       "      <td>0.267744</td>\n",
       "      <td>0.537178</td>\n",
       "      <td>1.307018</td>\n",
       "      <td>1150.350877</td>\n",
       "    </tr>\n",
       "    <tr>\n",
       "      <th>7</th>\n",
       "      <td>1</td>\n",
       "      <td>0.361111</td>\n",
       "      <td>0.473771</td>\n",
       "      <td>2.000000</td>\n",
       "      <td>2350.000000</td>\n",
       "    </tr>\n",
       "  </tbody>\n",
       "</table>\n",
       "</div>"
      ],
      "text/plain": [
       "        count  polarity  subjectivity     level          len\n",
       "label2                                                      \n",
       "0          55  0.231958      0.517637  1.654545  1235.509091\n",
       "1          24  0.174918      0.468899  1.333333   774.416667\n",
       "2           8  0.285773      0.460041  1.625000  1713.125000\n",
       "3         621  0.279172      0.499833  1.499195   391.563607\n",
       "4          73  0.207528      0.506360  1.520548  1842.205479\n",
       "5           1  0.117426      0.382325  2.000000  4675.000000\n",
       "6         228  0.267744      0.537178  1.307018  1150.350877\n",
       "7           1  0.361111      0.473771  2.000000  2350.000000"
      ]
     },
     "execution_count": 96,
     "metadata": {},
     "output_type": "execute_result"
    }
   ],
   "source": [
    "# group data:\n",
    "polar = df.groupby('label2')['polarity'].mean()\n",
    "subj = df.groupby('label2')['subjectivity'].mean()\n",
    "level = df.groupby('label2')['level'].mean()\n",
    "val_cnt = df['label2'].value_counts()\n",
    "length = df.groupby('label2')['len'].mean()\n",
    "\n",
    "# create a df:\n",
    "cluster_df = pd.concat([val_cnt,polar,subj,level, length], axis=1)\n",
    "cluster_df = cluster_df.rename(columns={'label2':'count'})\n",
    "cluster_df.index.name = 'label2'\n",
    "cluster_df"
   ]
  },
  {
   "cell_type": "markdown",
   "id": "142d2d96",
   "metadata": {
    "papermill": {
     "duration": 0.174198,
     "end_time": "2022-01-29T00:02:19.874432",
     "exception": false,
     "start_time": "2022-01-29T00:02:19.700234",
     "status": "completed"
    },
    "tags": []
   },
   "source": [
    "# sentences "
   ]
  },
  {
   "cell_type": "code",
   "execution_count": 97,
   "id": "dd4f9faa",
   "metadata": {
    "execution": {
     "iopub.execute_input": "2022-01-29T00:02:20.327625Z",
     "iopub.status.busy": "2022-01-29T00:02:20.242079Z",
     "iopub.status.idle": "2022-01-29T00:02:30.640530Z",
     "shell.execute_reply": "2022-01-29T00:02:30.641140Z",
     "shell.execute_reply.started": "2022-01-28T23:48:27.724725Z"
    },
    "papermill": {
     "duration": 10.58437,
     "end_time": "2022-01-29T00:02:30.641351",
     "exception": false,
     "start_time": "2022-01-29T00:02:20.056981",
     "status": "completed"
    },
    "tags": []
   },
   "outputs": [],
   "source": [
    "from nltk.corpus import stopwords\n",
    "stop = set(stopwords.words('english'))\n",
    "from nltk import sent_tokenize\n",
    "from nltk import pos_tag\n",
    "import string\n",
    "from nltk.stem import WordNetLemmatizer\n",
    "lemmatizer = WordNetLemmatizer()\n",
    "\n",
    "# set up for cleaning and sentence tokenizing:\n",
    "exclude = set(string.punctuation)\n",
    "def clean(doc):\n",
    "    stop_free = \" \".join([i for i in doc.lower().split() if i not in stop])\n",
    "    punc_free = ''.join(ch for ch in stop_free if ch not in exclude)\n",
    "    return punc_free\n",
    "\n",
    "# remember this function from article no 2?\n",
    "def lemmatize_it(sent):\n",
    "    empty = []\n",
    "    for word, tag in pos_tag(word_tokenize(sent)):\n",
    "        wntag = tag[0].lower()\n",
    "        wntag = wntag if wntag in ['a', 'r', 'n', 'v'] else None\n",
    "        if not wntag:\n",
    "            lemma = word\n",
    "            empty.append(lemma)\n",
    "        else:\n",
    "            lemma = lemmatizer.lemmatize(word, wntag)\n",
    "            empty.append(lemma)\n",
    "    return ' '.join(empty)\n",
    "\n",
    "\n",
    "# tokenize sentences and clean them:\n",
    "doc_complete = sent_tokenize(df['feedback'].sum())\n",
    "doc_clean = [clean(doc) for doc in doc_complete] \n",
    "doc_clean_lemmed = [lemmatize_it(doc) for doc in doc_clean] \n",
    "\n",
    "# create and fill a dataframe with sentences:\n",
    "sentences = pd.DataFrame(doc_clean_lemmed)\n",
    "sentences.columns = ['sent']\n",
    "sentences['orig'] = doc_complete\n",
    "sentences['keywords'] = sentences['orig'].apply(lambda x: rake_it(x))"
   ]
  },
  {
   "cell_type": "code",
   "execution_count": 98,
   "id": "c06fd77f",
   "metadata": {
    "execution": {
     "iopub.execute_input": "2022-01-29T00:02:30.998717Z",
     "iopub.status.busy": "2022-01-29T00:02:30.997640Z",
     "iopub.status.idle": "2022-01-29T00:02:31.017463Z",
     "shell.execute_reply": "2022-01-29T00:02:31.016825Z",
     "shell.execute_reply.started": "2022-01-28T23:48:37.289173Z"
    },
    "papermill": {
     "duration": 0.200912,
     "end_time": "2022-01-29T00:02:31.017673",
     "exception": false,
     "start_time": "2022-01-29T00:02:30.816761",
     "status": "completed"
    },
    "tags": []
   },
   "outputs": [
    {
     "data": {
      "text/html": [
       "<div>\n",
       "<style scoped>\n",
       "    .dataframe tbody tr th:only-of-type {\n",
       "        vertical-align: middle;\n",
       "    }\n",
       "\n",
       "    .dataframe tbody tr th {\n",
       "        vertical-align: top;\n",
       "    }\n",
       "\n",
       "    .dataframe thead th {\n",
       "        text-align: right;\n",
       "    }\n",
       "</style>\n",
       "<table border=\"1\" class=\"dataframe\">\n",
       "  <thead>\n",
       "    <tr style=\"text-align: right;\">\n",
       "      <th></th>\n",
       "      <th>sent</th>\n",
       "      <th>orig</th>\n",
       "      <th>keywords</th>\n",
       "    </tr>\n",
       "  </thead>\n",
       "  <tbody>\n",
       "    <tr>\n",
       "      <th>0</th>\n",
       "      <td>process data inside function save memory the v...</td>\n",
       "      <td>processing data inside a function saves memor...</td>\n",
       "      <td>[https :// www1, create stay inside, processin...</td>\n",
       "    </tr>\n",
       "    <tr>\n",
       "      <th>1</th>\n",
       "      <td>clear put effort kink would help get top</td>\n",
       "      <td>it is clear that you have put in effort but so...</td>\n",
       "      <td>[kinks would help]</td>\n",
       "    </tr>\n",
       "    <tr>\n",
       "      <th>2</th>\n",
       "      <td>presentation would recommend section clearly m...</td>\n",
       "      <td>presentation  i would recommend having a secti...</td>\n",
       "      <td>[clearly marks introduction]</td>\n",
       "    </tr>\n",
       "    <tr>\n",
       "      <th>3</th>\n",
       "      <td>addition would include link viewer could downl...</td>\n",
       "      <td>in addition, i would include a link from where...</td>\n",
       "      <td>[viewers could download]</td>\n",
       "    </tr>\n",
       "    <tr>\n",
       "      <th>4</th>\n",
       "      <td>data exploration section apt</td>\n",
       "      <td>the data exploration section is apt.</td>\n",
       "      <td>[data exploration section]</td>\n",
       "    </tr>\n",
       "    <tr>\n",
       "      <th>...</th>\n",
       "      <td>...</td>\n",
       "      <td>...</td>\n",
       "      <td>...</td>\n",
       "    </tr>\n",
       "    <tr>\n",
       "      <th>7535</th>\n",
       "      <td>result last query remain though</td>\n",
       "      <td>the result of the last query remain the same t...</td>\n",
       "      <td>[last query remain]</td>\n",
       "    </tr>\n",
       "    <tr>\n",
       "      <th>7536</th>\n",
       "      <td>relevant exclude outlier</td>\n",
       "      <td>so is it relevant to exclude the outliers?</td>\n",
       "      <td>[]</td>\n",
       "    </tr>\n",
       "    <tr>\n",
       "      <th>7537</th>\n",
       "      <td>thank you</td>\n",
       "      <td>thank you.</td>\n",
       "      <td>[]</td>\n",
       "    </tr>\n",
       "    <tr>\n",
       "      <th>7538</th>\n",
       "      <td>hi rucha definitely take look finish explore e...</td>\n",
       "      <td>hi @rucha i will definitely take look once i f...</td>\n",
       "      <td>[definitely take look]</td>\n",
       "    </tr>\n",
       "    <tr>\n",
       "      <th>7539</th>\n",
       "      <td>tank share code</td>\n",
       "      <td>tanks for sharing your code</td>\n",
       "      <td>[]</td>\n",
       "    </tr>\n",
       "  </tbody>\n",
       "</table>\n",
       "<p>7540 rows × 3 columns</p>\n",
       "</div>"
      ],
      "text/plain": [
       "                                                   sent  \\\n",
       "0     process data inside function save memory the v...   \n",
       "1              clear put effort kink would help get top   \n",
       "2     presentation would recommend section clearly m...   \n",
       "3     addition would include link viewer could downl...   \n",
       "4                          data exploration section apt   \n",
       "...                                                 ...   \n",
       "7535                    result last query remain though   \n",
       "7536                           relevant exclude outlier   \n",
       "7537                                          thank you   \n",
       "7538  hi rucha definitely take look finish explore e...   \n",
       "7539                                    tank share code   \n",
       "\n",
       "                                                   orig  \\\n",
       "0      processing data inside a function saves memor...   \n",
       "1     it is clear that you have put in effort but so...   \n",
       "2     presentation  i would recommend having a secti...   \n",
       "3     in addition, i would include a link from where...   \n",
       "4                  the data exploration section is apt.   \n",
       "...                                                 ...   \n",
       "7535  the result of the last query remain the same t...   \n",
       "7536         so is it relevant to exclude the outliers?   \n",
       "7537                                         thank you.   \n",
       "7538  hi @rucha i will definitely take look once i f...   \n",
       "7539                        tanks for sharing your code   \n",
       "\n",
       "                                               keywords  \n",
       "0     [https :// www1, create stay inside, processin...  \n",
       "1                                    [kinks would help]  \n",
       "2                          [clearly marks introduction]  \n",
       "3                              [viewers could download]  \n",
       "4                            [data exploration section]  \n",
       "...                                                 ...  \n",
       "7535                                [last query remain]  \n",
       "7536                                                 []  \n",
       "7537                                                 []  \n",
       "7538                             [definitely take look]  \n",
       "7539                                                 []  \n",
       "\n",
       "[7540 rows x 3 columns]"
      ]
     },
     "execution_count": 98,
     "metadata": {},
     "output_type": "execute_result"
    }
   ],
   "source": [
    "sentences"
   ]
  },
  {
   "cell_type": "code",
   "execution_count": 99,
   "id": "ac26605a",
   "metadata": {
    "execution": {
     "iopub.execute_input": "2022-01-29T00:02:31.393742Z",
     "iopub.status.busy": "2022-01-29T00:02:31.378230Z",
     "iopub.status.idle": "2022-01-29T00:02:32.464254Z",
     "shell.execute_reply": "2022-01-29T00:02:32.465566Z",
     "shell.execute_reply.started": "2022-01-28T23:48:37.310046Z"
    },
    "papermill": {
     "duration": 1.269467,
     "end_time": "2022-01-29T00:02:32.465832",
     "exception": false,
     "start_time": "2022-01-29T00:02:31.196365",
     "status": "completed"
    },
    "tags": []
   },
   "outputs": [],
   "source": [
    "# vectorize text:\n",
    "tfidfconverter = TfidfVectorizer(max_features=10, min_df=0.1, max_df=0.9, stop_words=stopwords.words('english'))  \n",
    "X = tfidfconverter.fit_transform(sentences['sent']).toarray()\n",
    "\n",
    "# fit and label:\n",
    "Kmean = KMeans(n_clusters=8, random_state=1)\n",
    "Kmean.fit(X)\n",
    "sentences['label'] = Kmean.labels_"
   ]
  },
  {
   "cell_type": "code",
   "execution_count": 100,
   "id": "92c9fecb",
   "metadata": {
    "execution": {
     "iopub.execute_input": "2022-01-29T00:02:32.915319Z",
     "iopub.status.busy": "2022-01-29T00:02:32.914354Z",
     "iopub.status.idle": "2022-01-29T00:02:32.922468Z",
     "shell.execute_reply": "2022-01-29T00:02:32.923086Z",
     "shell.execute_reply.started": "2022-01-28T23:48:38.369615Z"
    },
    "papermill": {
     "duration": 0.201609,
     "end_time": "2022-01-29T00:02:32.923288",
     "exception": false,
     "start_time": "2022-01-29T00:02:32.721679",
     "status": "completed"
    },
    "tags": []
   },
   "outputs": [
    {
     "data": {
      "text/plain": [
       "0    138\n",
       "2     66\n",
       "1     46\n",
       "3     10\n",
       "4      5\n",
       "5      3\n",
       "7      2\n",
       "6      2\n",
       "Name: label, dtype: int64"
      ]
     },
     "execution_count": 100,
     "metadata": {},
     "output_type": "execute_result"
    }
   ],
   "source": [
    "sentences[sentences['sent'].str.contains('markdown')]['label'].value_counts()"
   ]
  },
  {
   "cell_type": "code",
   "execution_count": 101,
   "id": "ff71381f",
   "metadata": {
    "execution": {
     "iopub.execute_input": "2022-01-29T00:02:33.282471Z",
     "iopub.status.busy": "2022-01-29T00:02:33.281428Z",
     "iopub.status.idle": "2022-01-29T00:02:33.288748Z",
     "shell.execute_reply": "2022-01-29T00:02:33.289348Z",
     "shell.execute_reply.started": "2022-01-28T23:48:38.402813Z"
    },
    "papermill": {
     "duration": 0.188942,
     "end_time": "2022-01-29T00:02:33.289552",
     "exception": false,
     "start_time": "2022-01-29T00:02:33.100610",
     "status": "completed"
    },
    "tags": []
   },
   "outputs": [
    {
     "data": {
      "text/plain": [
       "0    4626\n",
       "1    1959\n",
       "2     737\n",
       "3     137\n",
       "4      35\n",
       "5      34\n",
       "6       7\n",
       "7       5\n",
       "Name: label, dtype: int64"
      ]
     },
     "execution_count": 101,
     "metadata": {},
     "output_type": "execute_result"
    }
   ],
   "source": [
    "sentences['label'].value_counts().sort_index()"
   ]
  },
  {
   "cell_type": "code",
   "execution_count": 102,
   "id": "e9144b85",
   "metadata": {
    "execution": {
     "iopub.execute_input": "2022-01-29T00:02:33.646340Z",
     "iopub.status.busy": "2022-01-29T00:02:33.645614Z",
     "iopub.status.idle": "2022-01-29T00:02:33.655833Z",
     "shell.execute_reply": "2022-01-29T00:02:33.656439Z",
     "shell.execute_reply.started": "2022-01-28T23:48:38.422060Z"
    },
    "papermill": {
     "duration": 0.192007,
     "end_time": "2022-01-29T00:02:33.656648",
     "exception": false,
     "start_time": "2022-01-29T00:02:33.464641",
     "status": "completed"
    },
    "tags": []
   },
   "outputs": [
    {
     "data": {
      "text/plain": [
       "everything looks nice     15\n",
       "everything looks good     13\n",
       "sql style guide           10\n",
       "print () function          8\n",
       "social love attention      7\n",
       "data cleaning process      7\n",
       "looks pretty good          6\n",
       "screen shot 2020           5\n",
       "everything looks great     5\n",
       "jupyter notebook file      5\n",
       "dtype: int64"
      ]
     },
     "execution_count": 102,
     "metadata": {},
     "output_type": "execute_result"
    }
   ],
   "source": [
    "to_1D(sentences[sentences['label'] == 0]['keywords']).value_counts()[:10]"
   ]
  },
  {
   "cell_type": "code",
   "execution_count": 103,
   "id": "2707f2c3",
   "metadata": {
    "execution": {
     "iopub.execute_input": "2022-01-29T00:02:34.032350Z",
     "iopub.status.busy": "2022-01-29T00:02:34.031585Z",
     "iopub.status.idle": "2022-01-29T00:02:34.035242Z",
     "shell.execute_reply": "2022-01-29T00:02:34.035845Z",
     "shell.execute_reply.started": "2022-01-28T23:48:38.446594Z"
    },
    "papermill": {
     "duration": 0.200219,
     "end_time": "2022-01-29T00:02:34.036074",
     "exception": false,
     "start_time": "2022-01-29T00:02:33.835855",
     "status": "completed"
    },
    "tags": []
   },
   "outputs": [
    {
     "data": {
      "text/plain": [
       "first code cell            8\n",
       "avoid code repetition      7\n",
       "items (): spine            4\n",
       "might appear complex       4\n",
       "may appear complex         4\n",
       "might consider creating    3\n",
       "1st code cell              3\n",
       "print () function          3\n",
       "little suggestion would    3\n",
       "one code cell              3\n",
       "dtype: int64"
      ]
     },
     "execution_count": 103,
     "metadata": {},
     "output_type": "execute_result"
    }
   ],
   "source": [
    "to_1D(sentences[sentences['label'] == 2]['keywords']).value_counts()[:10]"
   ]
  },
  {
   "cell_type": "code",
   "execution_count": 104,
   "id": "036b1170",
   "metadata": {
    "execution": {
     "iopub.execute_input": "2022-01-29T00:02:34.403050Z",
     "iopub.status.busy": "2022-01-29T00:02:34.402350Z",
     "iopub.status.idle": "2022-01-29T00:02:35.915052Z",
     "shell.execute_reply": "2022-01-29T00:02:35.914456Z",
     "shell.execute_reply.started": "2022-01-28T23:48:38.468519Z"
    },
    "papermill": {
     "duration": 1.695619,
     "end_time": "2022-01-29T00:02:35.915210",
     "exception": false,
     "start_time": "2022-01-29T00:02:34.219591",
     "status": "completed"
    },
    "tags": []
   },
   "outputs": [],
   "source": [
    "sentences['sentiment'] = sentences['sent'].apply(lambda x: sentiment(x))\n",
    "sentences['polarity'] = sentences['sentiment'].str[0]\n",
    "sentences['subjectivity'] = sentences['sentiment'].str[1]\n",
    "sentences = sentences.drop(columns='sentiment')"
   ]
  },
  {
   "cell_type": "code",
   "execution_count": 105,
   "id": "deec6561",
   "metadata": {
    "execution": {
     "iopub.execute_input": "2022-01-29T00:02:36.276241Z",
     "iopub.status.busy": "2022-01-29T00:02:36.275212Z",
     "iopub.status.idle": "2022-01-29T00:02:36.282950Z",
     "shell.execute_reply": "2022-01-29T00:02:36.283775Z",
     "shell.execute_reply.started": "2022-01-28T23:48:40.083313Z"
    },
    "papermill": {
     "duration": 0.191815,
     "end_time": "2022-01-29T00:02:36.283986",
     "exception": false,
     "start_time": "2022-01-29T00:02:36.092171",
     "status": "completed"
    },
    "tags": []
   },
   "outputs": [
    {
     "data": {
      "text/plain": [
       "6123    section densely populated country ‘ world ’ ro...\n",
       "6710    base conclusion part wherein add idea outlier ...\n",
       "2760    keen typo like check introduction word ‘ post ...\n",
       "5533    look before look difference opinion base educa...\n",
       "6359    would like add perhaps could shorten finaldata...\n",
       "4901    create another project base business model lik...\n",
       "138     take look notebook suggestion base saw lot opp...\n",
       "942     explain well section explore brand column base no\n",
       "1006                              strictly base data felt\n",
       "3454    thought base want hear markdown usage beginner...\n",
       "Name: sent, dtype: object"
      ]
     },
     "execution_count": 105,
     "metadata": {},
     "output_type": "execute_result"
    }
   ],
   "source": [
    "sentences.sort_values('polarity')['sent'][:10]"
   ]
  },
  {
   "cell_type": "code",
   "execution_count": 106,
   "id": "f1620510",
   "metadata": {
    "execution": {
     "iopub.execute_input": "2022-01-29T00:02:36.646122Z",
     "iopub.status.busy": "2022-01-29T00:02:36.645052Z",
     "iopub.status.idle": "2022-01-29T00:02:36.655232Z",
     "shell.execute_reply": "2022-01-29T00:02:36.655885Z",
     "shell.execute_reply.started": "2022-01-28T23:48:40.097919Z"
    },
    "papermill": {
     "duration": 0.194027,
     "end_time": "2022-01-29T00:02:36.656071",
     "exception": false,
     "start_time": "2022-01-29T00:02:36.462044",
     "status": "completed"
    },
    "tags": []
   },
   "outputs": [
    {
     "data": {
      "text/plain": [
       "6323                                 excellent work buddy\n",
       "851                        otherwise code comment perfect\n",
       "3916                                   everything awesome\n",
       "3872      would say candidate one best share project week\n",
       "4928                                     awesome job that\n",
       "6156                                 assure would perfect\n",
       "5871                                                 best\n",
       "1308    pltfigurefigsize 154 pltsubplot121 plthisthora...\n",
       "6211          best sahil hey taiwogoldayodeji mission yet\n",
       "719     story tell walkthrough introduction aim use co...\n",
       "Name: sent, dtype: object"
      ]
     },
     "execution_count": 106,
     "metadata": {},
     "output_type": "execute_result"
    }
   ],
   "source": [
    "sentences.sort_values('polarity',ascending=False)['sent'][:10]"
   ]
  },
  {
   "cell_type": "code",
   "execution_count": 107,
   "id": "f92b776f",
   "metadata": {
    "execution": {
     "iopub.execute_input": "2022-01-29T00:02:37.035337Z",
     "iopub.status.busy": "2022-01-29T00:02:37.034134Z",
     "iopub.status.idle": "2022-01-29T00:02:37.045883Z",
     "shell.execute_reply": "2022-01-29T00:02:37.045255Z",
     "shell.execute_reply.started": "2022-01-28T23:48:40.107939Z"
    },
    "papermill": {
     "duration": 0.211356,
     "end_time": "2022-01-29T00:02:37.046054",
     "exception": false,
     "start_time": "2022-01-29T00:02:36.834698",
     "status": "completed"
    },
    "tags": []
   },
   "outputs": [
    {
     "data": {
      "text/plain": [
       "label\n",
       "0    0.220683\n",
       "1    0.243046\n",
       "2    0.142642\n",
       "3    0.201327\n",
       "4    0.123184\n",
       "5    0.207571\n",
       "6    0.152551\n",
       "7    0.238077\n",
       "Name: polarity, dtype: float64"
      ]
     },
     "execution_count": 107,
     "metadata": {},
     "output_type": "execute_result"
    }
   ],
   "source": [
    "sentences.groupby('label')['polarity'].mean()"
   ]
  },
  {
   "cell_type": "code",
   "execution_count": 108,
   "id": "3d752768",
   "metadata": {
    "execution": {
     "iopub.execute_input": "2022-01-29T00:02:37.416944Z",
     "iopub.status.busy": "2022-01-29T00:02:37.415878Z",
     "iopub.status.idle": "2022-01-29T00:02:37.419972Z",
     "shell.execute_reply": "2022-01-29T00:02:37.420532Z",
     "shell.execute_reply.started": "2022-01-28T23:48:40.120620Z"
    },
    "papermill": {
     "duration": 0.192045,
     "end_time": "2022-01-29T00:02:37.420764",
     "exception": false,
     "start_time": "2022-01-29T00:02:37.228719",
     "status": "completed"
    },
    "tags": []
   },
   "outputs": [
    {
     "data": {
      "text/plain": [
       "everything looks great    6\n",
       "happy coding hello        4\n",
       "everything looks good     4\n",
       "project looks great       3\n",
       "happy learning !.         3\n",
       "sql style guide           2\n",
       "really great work         2\n",
       "happy coding hi           2\n",
       "great job indeed          2\n",
       "good work mate            2\n",
       "dtype: int64"
      ]
     },
     "execution_count": 108,
     "metadata": {},
     "output_type": "execute_result"
    }
   ],
   "source": [
    "to_1D(sentences[sentences['polarity'] > 0.7]['keywords']).value_counts()[:10]"
   ]
  },
  {
   "cell_type": "code",
   "execution_count": 109,
   "id": "1ecc716c",
   "metadata": {
    "execution": {
     "iopub.execute_input": "2022-01-29T00:02:37.812283Z",
     "iopub.status.busy": "2022-01-29T00:02:37.811219Z",
     "iopub.status.idle": "2022-01-29T00:02:37.820905Z",
     "shell.execute_reply": "2022-01-29T00:02:37.821564Z",
     "shell.execute_reply.started": "2022-01-28T23:48:40.134084Z"
    },
    "papermill": {
     "duration": 0.224962,
     "end_time": "2022-01-29T00:02:37.821747",
     "exception": false,
     "start_time": "2022-01-29T00:02:37.596785",
     "status": "completed"
    },
    "tags": []
   },
   "outputs": [
    {
     "data": {
      "text/plain": [
       "visualizing earnings based     5\n",
       "append ([ created_at           3\n",
       "might appear complex           3\n",
       "little suggestion would        3\n",
       "+= points else                 2\n",
       "markdown comments analyzing    2\n",
       "+= 1 points_show_posts         2\n",
       "may appear complex             2\n",
       "used another dataset           1\n",
       "dates [‘ 1950                  1\n",
       "dtype: int64"
      ]
     },
     "execution_count": 109,
     "metadata": {},
     "output_type": "execute_result"
    }
   ],
   "source": [
    "to_1D(sentences[sentences['polarity'] < -0.1]['keywords']).value_counts()[:10]"
   ]
  },
  {
   "cell_type": "code",
   "execution_count": 110,
   "id": "b4a1ecbe",
   "metadata": {
    "execution": {
     "iopub.execute_input": "2022-01-29T00:02:38.181939Z",
     "iopub.status.busy": "2022-01-29T00:02:38.180885Z",
     "iopub.status.idle": "2022-01-29T00:02:38.203010Z",
     "shell.execute_reply": "2022-01-29T00:02:38.203734Z",
     "shell.execute_reply.started": "2022-01-28T23:48:40.152077Z"
    },
    "papermill": {
     "duration": 0.204524,
     "end_time": "2022-01-29T00:02:38.203927",
     "exception": false,
     "start_time": "2022-01-29T00:02:37.999403",
     "status": "completed"
    },
    "tags": []
   },
   "outputs": [
    {
     "data": {
      "text/html": [
       "<div>\n",
       "<style scoped>\n",
       "    .dataframe tbody tr th:only-of-type {\n",
       "        vertical-align: middle;\n",
       "    }\n",
       "\n",
       "    .dataframe tbody tr th {\n",
       "        vertical-align: top;\n",
       "    }\n",
       "\n",
       "    .dataframe thead th {\n",
       "        text-align: right;\n",
       "    }\n",
       "</style>\n",
       "<table border=\"1\" class=\"dataframe\">\n",
       "  <thead>\n",
       "    <tr style=\"text-align: right;\">\n",
       "      <th></th>\n",
       "      <th>sent</th>\n",
       "      <th>orig</th>\n",
       "      <th>keywords</th>\n",
       "      <th>label</th>\n",
       "      <th>polarity</th>\n",
       "      <th>subjectivity</th>\n",
       "    </tr>\n",
       "  </thead>\n",
       "  <tbody>\n",
       "    <tr>\n",
       "      <th>18</th>\n",
       "      <td>run code able remove it</td>\n",
       "      <td>i did run your code and i was able to remove it.</td>\n",
       "      <td>[]</td>\n",
       "      <td>2</td>\n",
       "      <td>0.500000</td>\n",
       "      <td>0.625000</td>\n",
       "    </tr>\n",
       "    <tr>\n",
       "      <th>32</th>\n",
       "      <td>code also well formatted easy read</td>\n",
       "      <td>the code itself was also well formatted and ea...</td>\n",
       "      <td>[also well formatted]</td>\n",
       "      <td>2</td>\n",
       "      <td>0.433333</td>\n",
       "      <td>0.833333</td>\n",
       "    </tr>\n",
       "    <tr>\n",
       "      <th>52</th>\n",
       "      <td>would consider leave space comment comment cod...</td>\n",
       "      <td>i would consider leaving space above each comm...</td>\n",
       "      <td>[]</td>\n",
       "      <td>2</td>\n",
       "      <td>0.600000</td>\n",
       "      <td>1.000000</td>\n",
       "    </tr>\n",
       "    <tr>\n",
       "      <th>63</th>\n",
       "      <td>well remove obvious code comment read datafram...</td>\n",
       "      <td>it is better to remove some obvious code comme...</td>\n",
       "      <td>[]</td>\n",
       "      <td>2</td>\n",
       "      <td>0.000000</td>\n",
       "      <td>0.500000</td>\n",
       "    </tr>\n",
       "    <tr>\n",
       "      <th>65</th>\n",
       "      <td>code cell 15 19 20 22 29 consider round output...</td>\n",
       "      <td>in some code cells ([15], [19], [20], [22], [2...</td>\n",
       "      <td>[]</td>\n",
       "      <td>2</td>\n",
       "      <td>-0.225000</td>\n",
       "      <td>0.700000</td>\n",
       "    </tr>\n",
       "    <tr>\n",
       "      <th>...</th>\n",
       "      <td>...</td>\n",
       "      <td>...</td>\n",
       "      <td>...</td>\n",
       "      <td>...</td>\n",
       "      <td>...</td>\n",
       "      <td>...</td>\n",
       "    </tr>\n",
       "    <tr>\n",
       "      <th>7422</th>\n",
       "      <td>think would help could make apparent markdown ...</td>\n",
       "      <td>i think it would help if you could make it mor...</td>\n",
       "      <td>[]</td>\n",
       "      <td>2</td>\n",
       "      <td>0.025000</td>\n",
       "      <td>0.375000</td>\n",
       "    </tr>\n",
       "    <tr>\n",
       "      <th>7454</th>\n",
       "      <td>without jump code want suggest add documentati...</td>\n",
       "      <td>without jumping to the code i want to suggest ...</td>\n",
       "      <td>[]</td>\n",
       "      <td>2</td>\n",
       "      <td>0.000000</td>\n",
       "      <td>0.000000</td>\n",
       "    </tr>\n",
       "    <tr>\n",
       "      <th>7508</th>\n",
       "      <td>select castareawater floatarealand waterlandra...</td>\n",
       "      <td>select cast(area_water as float)/area_land as ...</td>\n",
       "      <td>[relative comparison )., float )/ area_land]</td>\n",
       "      <td>2</td>\n",
       "      <td>0.000000</td>\n",
       "      <td>0.100000</td>\n",
       "    </tr>\n",
       "    <tr>\n",
       "      <th>7522</th>\n",
       "      <td>like think markdown cell place get explain see...</td>\n",
       "      <td>i like to think of the markdown cells as place...</td>\n",
       "      <td>[]</td>\n",
       "      <td>2</td>\n",
       "      <td>0.000000</td>\n",
       "      <td>0.000000</td>\n",
       "    </tr>\n",
       "    <tr>\n",
       "      <th>7539</th>\n",
       "      <td>tank share code</td>\n",
       "      <td>tanks for sharing your code</td>\n",
       "      <td>[]</td>\n",
       "      <td>2</td>\n",
       "      <td>0.000000</td>\n",
       "      <td>0.000000</td>\n",
       "    </tr>\n",
       "  </tbody>\n",
       "</table>\n",
       "<p>737 rows × 6 columns</p>\n",
       "</div>"
      ],
      "text/plain": [
       "                                                   sent  \\\n",
       "18                              run code able remove it   \n",
       "32                   code also well formatted easy read   \n",
       "52    would consider leave space comment comment cod...   \n",
       "63    well remove obvious code comment read datafram...   \n",
       "65    code cell 15 19 20 22 29 consider round output...   \n",
       "...                                                 ...   \n",
       "7422  think would help could make apparent markdown ...   \n",
       "7454  without jump code want suggest add documentati...   \n",
       "7508  select castareawater floatarealand waterlandra...   \n",
       "7522  like think markdown cell place get explain see...   \n",
       "7539                                    tank share code   \n",
       "\n",
       "                                                   orig  \\\n",
       "18     i did run your code and i was able to remove it.   \n",
       "32    the code itself was also well formatted and ea...   \n",
       "52    i would consider leaving space above each comm...   \n",
       "63    it is better to remove some obvious code comme...   \n",
       "65    in some code cells ([15], [19], [20], [22], [2...   \n",
       "...                                                 ...   \n",
       "7422  i think it would help if you could make it mor...   \n",
       "7454  without jumping to the code i want to suggest ...   \n",
       "7508  select cast(area_water as float)/area_land as ...   \n",
       "7522  i like to think of the markdown cells as place...   \n",
       "7539                        tanks for sharing your code   \n",
       "\n",
       "                                          keywords  label  polarity  \\\n",
       "18                                              []      2  0.500000   \n",
       "32                           [also well formatted]      2  0.433333   \n",
       "52                                              []      2  0.600000   \n",
       "63                                              []      2  0.000000   \n",
       "65                                              []      2 -0.225000   \n",
       "...                                            ...    ...       ...   \n",
       "7422                                            []      2  0.025000   \n",
       "7454                                            []      2  0.000000   \n",
       "7508  [relative comparison )., float )/ area_land]      2  0.000000   \n",
       "7522                                            []      2  0.000000   \n",
       "7539                                            []      2  0.000000   \n",
       "\n",
       "      subjectivity  \n",
       "18        0.625000  \n",
       "32        0.833333  \n",
       "52        1.000000  \n",
       "63        0.500000  \n",
       "65        0.700000  \n",
       "...            ...  \n",
       "7422      0.375000  \n",
       "7454      0.000000  \n",
       "7508      0.100000  \n",
       "7522      0.000000  \n",
       "7539      0.000000  \n",
       "\n",
       "[737 rows x 6 columns]"
      ]
     },
     "execution_count": 110,
     "metadata": {},
     "output_type": "execute_result"
    }
   ],
   "source": [
    "sentences[sentences['label'] == 2]"
   ]
  },
  {
   "cell_type": "code",
   "execution_count": 111,
   "id": "9b3ccdde",
   "metadata": {
    "execution": {
     "iopub.execute_input": "2022-01-29T00:02:38.586442Z",
     "iopub.status.busy": "2022-01-29T00:02:38.585325Z",
     "iopub.status.idle": "2022-01-29T00:02:38.592472Z",
     "shell.execute_reply": "2022-01-29T00:02:38.593426Z",
     "shell.execute_reply.started": "2022-01-28T23:48:40.176638Z"
    },
    "papermill": {
     "duration": 0.191941,
     "end_time": "2022-01-29T00:02:38.593664",
     "exception": false,
     "start_time": "2022-01-29T00:02:38.401723",
     "status": "completed"
    },
    "tags": []
   },
   "outputs": [
    {
     "data": {
      "text/plain": [
       "4231"
      ]
     },
     "execution_count": 111,
     "metadata": {},
     "output_type": "execute_result"
    }
   ],
   "source": [
    "sentences['label'].sum()"
   ]
  },
  {
   "cell_type": "code",
   "execution_count": 112,
   "id": "be9408df",
   "metadata": {
    "execution": {
     "iopub.execute_input": "2022-01-29T00:02:38.964512Z",
     "iopub.status.busy": "2022-01-29T00:02:38.963496Z",
     "iopub.status.idle": "2022-01-29T00:02:38.970694Z",
     "shell.execute_reply": "2022-01-29T00:02:38.971241Z",
     "shell.execute_reply.started": "2022-01-28T23:48:40.182844Z"
    },
    "papermill": {
     "duration": 0.188767,
     "end_time": "2022-01-29T00:02:38.971412",
     "exception": false,
     "start_time": "2022-01-29T00:02:38.782645",
     "status": "completed"
    },
    "tags": []
   },
   "outputs": [
    {
     "data": {
      "text/plain": [
       "0       process data inside function save memory the v...\n",
       "1                clear put effort kink would help get top\n",
       "2       presentation would recommend section clearly m...\n",
       "3       addition would include link viewer could downl...\n",
       "4                            data exploration section apt\n",
       "                              ...                        \n",
       "7535                      result last query remain though\n",
       "7536                             relevant exclude outlier\n",
       "7537                                            thank you\n",
       "7538    hi rucha definitely take look finish explore e...\n",
       "7539                                      tank share code\n",
       "Name: sent, Length: 7540, dtype: object"
      ]
     },
     "execution_count": 112,
     "metadata": {},
     "output_type": "execute_result"
    }
   ],
   "source": [
    "sentences['sent']"
   ]
  },
  {
   "cell_type": "markdown",
   "id": "1bac5e6f",
   "metadata": {
    "papermill": {
     "duration": 0.183581,
     "end_time": "2022-01-29T00:02:39.334466",
     "exception": false,
     "start_time": "2022-01-29T00:02:39.150885",
     "status": "completed"
    },
    "tags": []
   },
   "source": [
    "# Similar sentences"
   ]
  },
  {
   "cell_type": "code",
   "execution_count": 113,
   "id": "f6e1146a",
   "metadata": {
    "execution": {
     "iopub.execute_input": "2022-01-29T00:02:39.697132Z",
     "iopub.status.busy": "2022-01-29T00:02:39.696401Z",
     "iopub.status.idle": "2022-01-29T00:02:39.698314Z",
     "shell.execute_reply": "2022-01-29T00:02:39.699003Z",
     "shell.execute_reply.started": "2022-01-28T23:48:40.202059Z"
    },
    "papermill": {
     "duration": 0.188339,
     "end_time": "2022-01-29T00:02:39.699194",
     "exception": false,
     "start_time": "2022-01-29T00:02:39.510855",
     "status": "completed"
    },
    "tags": []
   },
   "outputs": [],
   "source": [
    "# https://radimrehurek.com/gensim/auto_examples/core/run_similarity_queries.html\n",
    "import logging\n",
    "logging.basicConfig(format='%(asctime)s : %(levelname)s : %(message)s', level=logging.INFO)\n",
    "\n",
    "from collections import defaultdict\n",
    "from gensim import corpora\n",
    "from gensim import models\n",
    "from gensim import similarities"
   ]
  },
  {
   "cell_type": "code",
   "execution_count": 114,
   "id": "4eff6bc1",
   "metadata": {
    "execution": {
     "iopub.execute_input": "2022-01-29T00:02:40.105156Z",
     "iopub.status.busy": "2022-01-29T00:02:40.068497Z",
     "iopub.status.idle": "2022-01-29T00:02:41.914435Z",
     "shell.execute_reply": "2022-01-29T00:02:41.916145Z",
     "shell.execute_reply.started": "2022-01-28T23:48:40.212129Z"
    },
    "papermill": {
     "duration": 2.039016,
     "end_time": "2022-01-29T00:02:41.916487",
     "exception": false,
     "start_time": "2022-01-29T00:02:39.877471",
     "status": "completed"
    },
    "tags": []
   },
   "outputs": [
    {
     "name": "stdout",
     "output_type": "stream",
     "text": [
      "0.99994206 add comment why\n",
      "0.9914161 observationssuggestionsopportunities improvement add comment next result\n",
      "0.968227 happen child mortality decrease\n",
      "0.9678818 probably add markdown comment them\n",
      "0.95932376 so maybe talk question introduction add comment whenever discover something relevant exploration\n"
     ]
    }
   ],
   "source": [
    "# https://radimrehurek.com/gensim/auto_examples/core/run_similarity_queries.html\n",
    "from collections import defaultdict\n",
    "from gensim import corpora\n",
    "from gensim import similarities\n",
    "from gensim import models\n",
    "\n",
    "\n",
    "documents = sentences['sent']\n",
    "\n",
    "# remove common words and tokenize\n",
    "texts = [\n",
    "    [word for word in document.lower().split()]\n",
    "    for document in documents\n",
    "]\n",
    "\n",
    "# remove words that appear only once\n",
    "frequency = defaultdict(int)\n",
    "for text in texts:\n",
    "    for token in text:\n",
    "        frequency[token] += 1\n",
    "\n",
    "texts = [\n",
    "    [token for token in text if frequency[token] > 1]\n",
    "    for text in texts\n",
    "]\n",
    "\n",
    "dictionary = corpora.Dictionary(texts)\n",
    "corpus = [dictionary.doc2bow(text) for text in texts]\n",
    "\n",
    "lsi = models.LsiModel(corpus, id2word=dictionary, num_topics=10)\n",
    "\n",
    "doc = 'add comment'\n",
    "vec_bow = dictionary.doc2bow(doc.lower().split())\n",
    "vec_lsi = lsi[vec_bow]  # convert the query to LSI space\n",
    "\n",
    "index = similarities.MatrixSimilarity(lsi[corpus])  # transform corpus to LSI space and index it\n",
    "sims = index[vec_lsi]  \n",
    "\n",
    "# perform a similarity query against the corpus\n",
    "# print(list(enumerate(sims)))  # print (document_number, document_similarity) 2-tuples\n",
    "\n",
    "sims = sorted(enumerate(sims), key=lambda item: -item[1])\n",
    "for doc_position, doc_score in sims:\n",
    "    if doc_score > 0.95:\n",
    "        print(doc_score, documents[doc_position])"
   ]
  },
  {
   "cell_type": "markdown",
   "id": "42fcae42",
   "metadata": {
    "papermill": {
     "duration": 0.185288,
     "end_time": "2022-01-29T00:02:42.310488",
     "exception": false,
     "start_time": "2022-01-29T00:02:42.125200",
     "status": "completed"
    },
    "tags": []
   },
   "source": [
    "# n grams kmeans"
   ]
  },
  {
   "cell_type": "code",
   "execution_count": 115,
   "id": "7351e4b4",
   "metadata": {
    "execution": {
     "iopub.execute_input": "2022-01-29T00:02:42.682789Z",
     "iopub.status.busy": "2022-01-29T00:02:42.681685Z",
     "iopub.status.idle": "2022-01-29T00:02:42.684507Z",
     "shell.execute_reply": "2022-01-29T00:02:42.685071Z",
     "shell.execute_reply.started": "2022-01-28T23:48:41.625566Z"
    },
    "papermill": {
     "duration": 0.190544,
     "end_time": "2022-01-29T00:02:42.685278",
     "exception": false,
     "start_time": "2022-01-29T00:02:42.494734",
     "status": "completed"
    },
    "tags": []
   },
   "outputs": [],
   "source": [
    "# doc_complete = sent_tokenize(df['feedback_clean2_lem'].sum())\n",
    "# sents = pd.DataFrame(doc_complete)\n",
    "# sents.columns = ['sent']\n"
   ]
  },
  {
   "cell_type": "code",
   "execution_count": 116,
   "id": "489c88bc",
   "metadata": {
    "execution": {
     "iopub.execute_input": "2022-01-29T00:02:43.624295Z",
     "iopub.status.busy": "2022-01-29T00:02:43.403841Z",
     "iopub.status.idle": "2022-01-29T00:02:46.969236Z",
     "shell.execute_reply": "2022-01-29T00:02:46.970397Z",
     "shell.execute_reply.started": "2022-01-28T23:48:41.633789Z"
    },
    "papermill": {
     "duration": 4.094241,
     "end_time": "2022-01-29T00:02:46.970680",
     "exception": false,
     "start_time": "2022-01-29T00:02:42.876439",
     "status": "completed"
    },
    "tags": []
   },
   "outputs": [],
   "source": [
    "from nltk.util import ngrams \n",
    "import collections\n",
    "\n",
    "tokenized = word_tokenize(sentences['sent'].sum())\n",
    "trigrams = ngrams(tokenized, 3)\n",
    "trigrams_freq = collections.Counter(trigrams)\n",
    "trigram_df = pd.DataFrame(trigrams_freq.most_common())\n",
    "trigram_df.columns = ['trigram','count']\n",
    "trigram_df['tgram'] = trigram_df['trigram'].str[0]+' '+trigram_df['trigram'].str[1]+' '+trigram_df['trigram'].str[2]\n",
    "\n",
    "# vectorize text:\n",
    "tfidfconverter = TfidfVectorizer(max_features=100, min_df=0.01, max_df=0.9, stop_words=stopwords.words('english'))  \n",
    "X = tfidfconverter.fit_transform(trigram_df['tgram']).toarray()\n",
    "\n",
    "# fit and label:\n",
    "Kmean = KMeans(n_clusters=8, random_state=1)\n",
    "Kmean.fit(X)\n",
    "trigram_df['label'] = Kmean.labels_"
   ]
  },
  {
   "cell_type": "code",
   "execution_count": 117,
   "id": "2defe38d",
   "metadata": {
    "execution": {
     "iopub.execute_input": "2022-01-29T00:02:47.369468Z",
     "iopub.status.busy": "2022-01-29T00:02:47.368350Z",
     "iopub.status.idle": "2022-01-29T00:02:47.383334Z",
     "shell.execute_reply": "2022-01-29T00:02:47.383884Z",
     "shell.execute_reply.started": "2022-01-28T23:48:45.439612Z"
    },
    "papermill": {
     "duration": 0.204424,
     "end_time": "2022-01-29T00:02:47.384077",
     "exception": false,
     "start_time": "2022-01-29T00:02:47.179653",
     "status": "completed"
    },
    "tags": []
   },
   "outputs": [
    {
     "data": {
      "text/html": [
       "<div>\n",
       "<style scoped>\n",
       "    .dataframe tbody tr th:only-of-type {\n",
       "        vertical-align: middle;\n",
       "    }\n",
       "\n",
       "    .dataframe tbody tr th {\n",
       "        vertical-align: top;\n",
       "    }\n",
       "\n",
       "    .dataframe thead th {\n",
       "        text-align: right;\n",
       "    }\n",
       "</style>\n",
       "<table border=\"1\" class=\"dataframe\">\n",
       "  <thead>\n",
       "    <tr style=\"text-align: right;\">\n",
       "      <th></th>\n",
       "      <th>trigram</th>\n",
       "      <th>count</th>\n",
       "      <th>tgram</th>\n",
       "      <th>label</th>\n",
       "    </tr>\n",
       "  </thead>\n",
       "  <tbody>\n",
       "    <tr>\n",
       "      <th>0</th>\n",
       "      <td>(share, guide, project)</td>\n",
       "      <td>89</td>\n",
       "      <td>share guide project</td>\n",
       "      <td>1</td>\n",
       "    </tr>\n",
       "    <tr>\n",
       "      <th>1</th>\n",
       "      <td>(thanks, share, project)</td>\n",
       "      <td>70</td>\n",
       "      <td>thanks share project</td>\n",
       "      <td>1</td>\n",
       "    </tr>\n",
       "    <tr>\n",
       "      <th>2</th>\n",
       "      <td>(guide, project, community)</td>\n",
       "      <td>57</td>\n",
       "      <td>guide project community</td>\n",
       "      <td>1</td>\n",
       "    </tr>\n",
       "    <tr>\n",
       "      <th>3</th>\n",
       "      <td>(code, cell, order)</td>\n",
       "      <td>29</td>\n",
       "      <td>code cell order</td>\n",
       "      <td>5</td>\n",
       "    </tr>\n",
       "    <tr>\n",
       "      <th>4</th>\n",
       "      <td>(cell, order, start)</td>\n",
       "      <td>29</td>\n",
       "      <td>cell order start</td>\n",
       "      <td>2</td>\n",
       "    </tr>\n",
       "    <tr>\n",
       "      <th>...</th>\n",
       "      <td>...</td>\n",
       "      <td>...</td>\n",
       "      <td>...</td>\n",
       "      <td>...</td>\n",
       "    </tr>\n",
       "    <tr>\n",
       "      <th>53700</th>\n",
       "      <td>(look, finish, explore)</td>\n",
       "      <td>1</td>\n",
       "      <td>look finish explore</td>\n",
       "      <td>2</td>\n",
       "    </tr>\n",
       "    <tr>\n",
       "      <th>53701</th>\n",
       "      <td>(finish, explore, ebay)</td>\n",
       "      <td>1</td>\n",
       "      <td>finish explore ebay</td>\n",
       "      <td>2</td>\n",
       "    </tr>\n",
       "    <tr>\n",
       "      <th>53702</th>\n",
       "      <td>(car, sale, datatank)</td>\n",
       "      <td>1</td>\n",
       "      <td>car sale datatank</td>\n",
       "      <td>2</td>\n",
       "    </tr>\n",
       "    <tr>\n",
       "      <th>53703</th>\n",
       "      <td>(sale, datatank, share)</td>\n",
       "      <td>1</td>\n",
       "      <td>sale datatank share</td>\n",
       "      <td>2</td>\n",
       "    </tr>\n",
       "    <tr>\n",
       "      <th>53704</th>\n",
       "      <td>(datatank, share, code)</td>\n",
       "      <td>1</td>\n",
       "      <td>datatank share code</td>\n",
       "      <td>5</td>\n",
       "    </tr>\n",
       "  </tbody>\n",
       "</table>\n",
       "<p>53705 rows × 4 columns</p>\n",
       "</div>"
      ],
      "text/plain": [
       "                           trigram  count                    tgram  label\n",
       "0          (share, guide, project)     89      share guide project      1\n",
       "1         (thanks, share, project)     70     thanks share project      1\n",
       "2      (guide, project, community)     57  guide project community      1\n",
       "3              (code, cell, order)     29          code cell order      5\n",
       "4             (cell, order, start)     29         cell order start      2\n",
       "...                            ...    ...                      ...    ...\n",
       "53700      (look, finish, explore)      1      look finish explore      2\n",
       "53701      (finish, explore, ebay)      1      finish explore ebay      2\n",
       "53702        (car, sale, datatank)      1        car sale datatank      2\n",
       "53703      (sale, datatank, share)      1      sale datatank share      2\n",
       "53704      (datatank, share, code)      1      datatank share code      5\n",
       "\n",
       "[53705 rows x 4 columns]"
      ]
     },
     "execution_count": 117,
     "metadata": {},
     "output_type": "execute_result"
    }
   ],
   "source": [
    "trigram_df"
   ]
  },
  {
   "cell_type": "code",
   "execution_count": 118,
   "id": "b7a85611",
   "metadata": {
    "execution": {
     "iopub.execute_input": "2022-01-29T00:02:47.751270Z",
     "iopub.status.busy": "2022-01-29T00:02:47.750516Z",
     "iopub.status.idle": "2022-01-29T00:02:47.767145Z",
     "shell.execute_reply": "2022-01-29T00:02:47.767845Z",
     "shell.execute_reply.started": "2022-01-28T23:48:45.470099Z"
    },
    "papermill": {
     "duration": 0.203104,
     "end_time": "2022-01-29T00:02:47.768076",
     "exception": false,
     "start_time": "2022-01-29T00:02:47.564972",
     "status": "completed"
    },
    "tags": []
   },
   "outputs": [
    {
     "data": {
      "text/html": [
       "<div>\n",
       "<style scoped>\n",
       "    .dataframe tbody tr th:only-of-type {\n",
       "        vertical-align: middle;\n",
       "    }\n",
       "\n",
       "    .dataframe tbody tr th {\n",
       "        vertical-align: top;\n",
       "    }\n",
       "\n",
       "    .dataframe thead th {\n",
       "        text-align: right;\n",
       "    }\n",
       "</style>\n",
       "<table border=\"1\" class=\"dataframe\">\n",
       "  <thead>\n",
       "    <tr style=\"text-align: right;\">\n",
       "      <th></th>\n",
       "      <th>trigram</th>\n",
       "      <th>count</th>\n",
       "      <th>tgram</th>\n",
       "      <th>label</th>\n",
       "    </tr>\n",
       "  </thead>\n",
       "  <tbody>\n",
       "    <tr>\n",
       "      <th>9</th>\n",
       "      <td>(would, like, share)</td>\n",
       "      <td>26</td>\n",
       "      <td>would like share</td>\n",
       "      <td>0</td>\n",
       "    </tr>\n",
       "    <tr>\n",
       "      <th>17</th>\n",
       "      <td>(difficulty, would, like)</td>\n",
       "      <td>24</td>\n",
       "      <td>difficulty would like</td>\n",
       "      <td>0</td>\n",
       "    </tr>\n",
       "    <tr>\n",
       "      <th>18</th>\n",
       "      <td>(would, like, get)</td>\n",
       "      <td>24</td>\n",
       "      <td>would like get</td>\n",
       "      <td>0</td>\n",
       "    </tr>\n",
       "    <tr>\n",
       "      <th>19</th>\n",
       "      <td>(like, get, help)</td>\n",
       "      <td>24</td>\n",
       "      <td>like get help</td>\n",
       "      <td>0</td>\n",
       "    </tr>\n",
       "    <tr>\n",
       "      <th>21</th>\n",
       "      <td>(help, would, like)</td>\n",
       "      <td>24</td>\n",
       "      <td>help would like</td>\n",
       "      <td>0</td>\n",
       "    </tr>\n",
       "    <tr>\n",
       "      <th>22</th>\n",
       "      <td>(like, share, guide)</td>\n",
       "      <td>24</td>\n",
       "      <td>like share guide</td>\n",
       "      <td>0</td>\n",
       "    </tr>\n",
       "    <tr>\n",
       "      <th>194</th>\n",
       "      <td>(code, comment, like)</td>\n",
       "      <td>8</td>\n",
       "      <td>code comment like</td>\n",
       "      <td>0</td>\n",
       "    </tr>\n",
       "    <tr>\n",
       "      <th>271</th>\n",
       "      <td>(style, code, like)</td>\n",
       "      <td>7</td>\n",
       "      <td>style code like</td>\n",
       "      <td>0</td>\n",
       "    </tr>\n",
       "    <tr>\n",
       "      <th>272</th>\n",
       "      <td>(code, like, hitchhiker)</td>\n",
       "      <td>7</td>\n",
       "      <td>code like hitchhiker</td>\n",
       "      <td>0</td>\n",
       "    </tr>\n",
       "    <tr>\n",
       "      <th>273</th>\n",
       "      <td>(like, hitchhiker, ’)</td>\n",
       "      <td>7</td>\n",
       "      <td>like hitchhiker ’</td>\n",
       "      <td>0</td>\n",
       "    </tr>\n",
       "  </tbody>\n",
       "</table>\n",
       "</div>"
      ],
      "text/plain": [
       "                       trigram  count                  tgram  label\n",
       "9         (would, like, share)     26       would like share      0\n",
       "17   (difficulty, would, like)     24  difficulty would like      0\n",
       "18          (would, like, get)     24         would like get      0\n",
       "19           (like, get, help)     24          like get help      0\n",
       "21         (help, would, like)     24        help would like      0\n",
       "22        (like, share, guide)     24       like share guide      0\n",
       "194      (code, comment, like)      8      code comment like      0\n",
       "271        (style, code, like)      7        style code like      0\n",
       "272   (code, like, hitchhiker)      7   code like hitchhiker      0\n",
       "273      (like, hitchhiker, ’)      7      like hitchhiker ’      0"
      ]
     },
     "execution_count": 118,
     "metadata": {},
     "output_type": "execute_result"
    }
   ],
   "source": [
    "trigram_df[trigram_df['label']==0][:10]"
   ]
  },
  {
   "cell_type": "code",
   "execution_count": 119,
   "id": "e8f97fba",
   "metadata": {
    "execution": {
     "iopub.execute_input": "2022-01-29T00:02:48.138476Z",
     "iopub.status.busy": "2022-01-29T00:02:48.137674Z",
     "iopub.status.idle": "2022-01-29T00:02:48.155883Z",
     "shell.execute_reply": "2022-01-29T00:02:48.155231Z",
     "shell.execute_reply.started": "2022-01-28T23:48:45.504506Z"
    },
    "papermill": {
     "duration": 0.203476,
     "end_time": "2022-01-29T00:02:48.156046",
     "exception": false,
     "start_time": "2022-01-29T00:02:47.952570",
     "status": "completed"
    },
    "tags": []
   },
   "outputs": [
    {
     "data": {
      "text/html": [
       "<div>\n",
       "<style scoped>\n",
       "    .dataframe tbody tr th:only-of-type {\n",
       "        vertical-align: middle;\n",
       "    }\n",
       "\n",
       "    .dataframe tbody tr th {\n",
       "        vertical-align: top;\n",
       "    }\n",
       "\n",
       "    .dataframe thead th {\n",
       "        text-align: right;\n",
       "    }\n",
       "</style>\n",
       "<table border=\"1\" class=\"dataframe\">\n",
       "  <thead>\n",
       "    <tr style=\"text-align: right;\">\n",
       "      <th></th>\n",
       "      <th>trigram</th>\n",
       "      <th>count</th>\n",
       "      <th>tgram</th>\n",
       "      <th>label</th>\n",
       "    </tr>\n",
       "  </thead>\n",
       "  <tbody>\n",
       "    <tr>\n",
       "      <th>0</th>\n",
       "      <td>(share, guide, project)</td>\n",
       "      <td>89</td>\n",
       "      <td>share guide project</td>\n",
       "      <td>1</td>\n",
       "    </tr>\n",
       "    <tr>\n",
       "      <th>1</th>\n",
       "      <td>(thanks, share, project)</td>\n",
       "      <td>70</td>\n",
       "      <td>thanks share project</td>\n",
       "      <td>1</td>\n",
       "    </tr>\n",
       "    <tr>\n",
       "      <th>2</th>\n",
       "      <td>(guide, project, community)</td>\n",
       "      <td>57</td>\n",
       "      <td>guide project community</td>\n",
       "      <td>1</td>\n",
       "    </tr>\n",
       "    <tr>\n",
       "      <th>10</th>\n",
       "      <td>(project, ’, s)</td>\n",
       "      <td>25</td>\n",
       "      <td>project ’ s</td>\n",
       "      <td>1</td>\n",
       "    </tr>\n",
       "    <tr>\n",
       "      <th>12</th>\n",
       "      <td>(data, science, project)</td>\n",
       "      <td>24</td>\n",
       "      <td>data science project</td>\n",
       "      <td>1</td>\n",
       "    </tr>\n",
       "    <tr>\n",
       "      <th>13</th>\n",
       "      <td>(project, community, helpful)</td>\n",
       "      <td>24</td>\n",
       "      <td>project community helpful</td>\n",
       "      <td>1</td>\n",
       "    </tr>\n",
       "    <tr>\n",
       "      <th>23</th>\n",
       "      <td>(guide, project, get)</td>\n",
       "      <td>24</td>\n",
       "      <td>guide project get</td>\n",
       "      <td>1</td>\n",
       "    </tr>\n",
       "    <tr>\n",
       "      <th>24</th>\n",
       "      <td>(project, get, feedback)</td>\n",
       "      <td>24</td>\n",
       "      <td>project get feedback</td>\n",
       "      <td>1</td>\n",
       "    </tr>\n",
       "    <tr>\n",
       "      <th>42</th>\n",
       "      <td>(share, first, project)</td>\n",
       "      <td>17</td>\n",
       "      <td>share first project</td>\n",
       "      <td>1</td>\n",
       "    </tr>\n",
       "    <tr>\n",
       "      <th>43</th>\n",
       "      <td>(thank, share, project)</td>\n",
       "      <td>17</td>\n",
       "      <td>thank share project</td>\n",
       "      <td>1</td>\n",
       "    </tr>\n",
       "  </tbody>\n",
       "</table>\n",
       "</div>"
      ],
      "text/plain": [
       "                          trigram  count                      tgram  label\n",
       "0         (share, guide, project)     89        share guide project      1\n",
       "1        (thanks, share, project)     70       thanks share project      1\n",
       "2     (guide, project, community)     57    guide project community      1\n",
       "10                (project, ’, s)     25                project ’ s      1\n",
       "12       (data, science, project)     24       data science project      1\n",
       "13  (project, community, helpful)     24  project community helpful      1\n",
       "23          (guide, project, get)     24          guide project get      1\n",
       "24       (project, get, feedback)     24       project get feedback      1\n",
       "42        (share, first, project)     17        share first project      1\n",
       "43        (thank, share, project)     17        thank share project      1"
      ]
     },
     "execution_count": 119,
     "metadata": {},
     "output_type": "execute_result"
    }
   ],
   "source": [
    "trigram_df[trigram_df['label']==1][:10]"
   ]
  },
  {
   "cell_type": "code",
   "execution_count": 120,
   "id": "9878eceb",
   "metadata": {
    "execution": {
     "iopub.execute_input": "2022-01-29T00:02:48.525095Z",
     "iopub.status.busy": "2022-01-29T00:02:48.524416Z",
     "iopub.status.idle": "2022-01-29T00:02:48.541080Z",
     "shell.execute_reply": "2022-01-29T00:02:48.541742Z",
     "shell.execute_reply.started": "2022-01-28T23:48:45.535513Z"
    },
    "papermill": {
     "duration": 0.201844,
     "end_time": "2022-01-29T00:02:48.541926",
     "exception": false,
     "start_time": "2022-01-29T00:02:48.340082",
     "status": "completed"
    },
    "tags": []
   },
   "outputs": [
    {
     "data": {
      "text/html": [
       "<div>\n",
       "<style scoped>\n",
       "    .dataframe tbody tr th:only-of-type {\n",
       "        vertical-align: middle;\n",
       "    }\n",
       "\n",
       "    .dataframe tbody tr th {\n",
       "        vertical-align: top;\n",
       "    }\n",
       "\n",
       "    .dataframe thead th {\n",
       "        text-align: right;\n",
       "    }\n",
       "</style>\n",
       "<table border=\"1\" class=\"dataframe\">\n",
       "  <thead>\n",
       "    <tr style=\"text-align: right;\">\n",
       "      <th></th>\n",
       "      <th>trigram</th>\n",
       "      <th>count</th>\n",
       "      <th>tgram</th>\n",
       "      <th>label</th>\n",
       "    </tr>\n",
       "  </thead>\n",
       "  <tbody>\n",
       "    <tr>\n",
       "      <th>4</th>\n",
       "      <td>(cell, order, start)</td>\n",
       "      <td>29</td>\n",
       "      <td>cell order start</td>\n",
       "      <td>2</td>\n",
       "    </tr>\n",
       "    <tr>\n",
       "      <th>5</th>\n",
       "      <td>(order, start, 1)</td>\n",
       "      <td>29</td>\n",
       "      <td>order start 1</td>\n",
       "      <td>2</td>\n",
       "    </tr>\n",
       "    <tr>\n",
       "      <th>6</th>\n",
       "      <td>(me, everything, look)</td>\n",
       "      <td>28</td>\n",
       "      <td>me everything look</td>\n",
       "      <td>2</td>\n",
       "    </tr>\n",
       "    <tr>\n",
       "      <th>7</th>\n",
       "      <td>(upload, ipynb, file)</td>\n",
       "      <td>27</td>\n",
       "      <td>upload ipynb file</td>\n",
       "      <td>2</td>\n",
       "    </tr>\n",
       "    <tr>\n",
       "      <th>8</th>\n",
       "      <td>(community, thanks, share)</td>\n",
       "      <td>26</td>\n",
       "      <td>community thanks share</td>\n",
       "      <td>2</td>\n",
       "    </tr>\n",
       "    <tr>\n",
       "      <th>11</th>\n",
       "      <td>(everything, look, nice)</td>\n",
       "      <td>24</td>\n",
       "      <td>everything look nice</td>\n",
       "      <td>2</td>\n",
       "    </tr>\n",
       "    <tr>\n",
       "      <th>14</th>\n",
       "      <td>(community, helpful, if)</td>\n",
       "      <td>24</td>\n",
       "      <td>community helpful if</td>\n",
       "      <td>2</td>\n",
       "    </tr>\n",
       "    <tr>\n",
       "      <th>15</th>\n",
       "      <td>(helpful, if, difficulty)</td>\n",
       "      <td>24</td>\n",
       "      <td>helpful if difficulty</td>\n",
       "      <td>2</td>\n",
       "    </tr>\n",
       "    <tr>\n",
       "      <th>16</th>\n",
       "      <td>(if, difficulty, would)</td>\n",
       "      <td>24</td>\n",
       "      <td>if difficulty would</td>\n",
       "      <td>2</td>\n",
       "    </tr>\n",
       "    <tr>\n",
       "      <th>20</th>\n",
       "      <td>(get, help, would)</td>\n",
       "      <td>24</td>\n",
       "      <td>get help would</td>\n",
       "      <td>2</td>\n",
       "    </tr>\n",
       "  </tbody>\n",
       "</table>\n",
       "</div>"
      ],
      "text/plain": [
       "                       trigram  count                   tgram  label\n",
       "4         (cell, order, start)     29        cell order start      2\n",
       "5            (order, start, 1)     29           order start 1      2\n",
       "6       (me, everything, look)     28      me everything look      2\n",
       "7        (upload, ipynb, file)     27       upload ipynb file      2\n",
       "8   (community, thanks, share)     26  community thanks share      2\n",
       "11    (everything, look, nice)     24    everything look nice      2\n",
       "14    (community, helpful, if)     24    community helpful if      2\n",
       "15   (helpful, if, difficulty)     24   helpful if difficulty      2\n",
       "16     (if, difficulty, would)     24     if difficulty would      2\n",
       "20          (get, help, would)     24          get help would      2"
      ]
     },
     "execution_count": 120,
     "metadata": {},
     "output_type": "execute_result"
    }
   ],
   "source": [
    "trigram_df[trigram_df['label']==2][:10]"
   ]
  },
  {
   "cell_type": "code",
   "execution_count": 121,
   "id": "41e85e58",
   "metadata": {
    "execution": {
     "iopub.execute_input": "2022-01-29T00:02:48.951982Z",
     "iopub.status.busy": "2022-01-29T00:02:48.951197Z",
     "iopub.status.idle": "2022-01-29T00:02:48.967197Z",
     "shell.execute_reply": "2022-01-29T00:02:48.967924Z",
     "shell.execute_reply.started": "2022-01-28T23:48:45.567348Z"
    },
    "papermill": {
     "duration": 0.204107,
     "end_time": "2022-01-29T00:02:48.968128",
     "exception": false,
     "start_time": "2022-01-29T00:02:48.764021",
     "status": "completed"
    },
    "tags": []
   },
   "outputs": [
    {
     "data": {
      "text/html": [
       "<div>\n",
       "<style scoped>\n",
       "    .dataframe tbody tr th:only-of-type {\n",
       "        vertical-align: middle;\n",
       "    }\n",
       "\n",
       "    .dataframe tbody tr th {\n",
       "        vertical-align: top;\n",
       "    }\n",
       "\n",
       "    .dataframe thead th {\n",
       "        text-align: right;\n",
       "    }\n",
       "</style>\n",
       "<table border=\"1\" class=\"dataframe\">\n",
       "  <thead>\n",
       "    <tr style=\"text-align: right;\">\n",
       "      <th></th>\n",
       "      <th>trigram</th>\n",
       "      <th>count</th>\n",
       "      <th>tgram</th>\n",
       "      <th>label</th>\n",
       "    </tr>\n",
       "  </thead>\n",
       "  <tbody>\n",
       "    <tr>\n",
       "      <th>56</th>\n",
       "      <td>(mate, good, workget)</td>\n",
       "      <td>14</td>\n",
       "      <td>mate good workget</td>\n",
       "      <td>3</td>\n",
       "    </tr>\n",
       "    <tr>\n",
       "      <th>79</th>\n",
       "      <td>(good, luck, future)</td>\n",
       "      <td>12</td>\n",
       "      <td>good luck future</td>\n",
       "      <td>3</td>\n",
       "    </tr>\n",
       "    <tr>\n",
       "      <th>80</th>\n",
       "      <td>(thus, render, good)</td>\n",
       "      <td>12</td>\n",
       "      <td>thus render good</td>\n",
       "      <td>3</td>\n",
       "    </tr>\n",
       "    <tr>\n",
       "      <th>81</th>\n",
       "      <td>(good, workhappy, learninghi)</td>\n",
       "      <td>12</td>\n",
       "      <td>good workhappy learninghi</td>\n",
       "      <td>3</td>\n",
       "    </tr>\n",
       "    <tr>\n",
       "      <th>86</th>\n",
       "      <td>(everything, look, good)</td>\n",
       "      <td>12</td>\n",
       "      <td>everything look good</td>\n",
       "      <td>3</td>\n",
       "    </tr>\n",
       "    <tr>\n",
       "      <th>115</th>\n",
       "      <td>(good, work, wish)</td>\n",
       "      <td>10</td>\n",
       "      <td>good work wish</td>\n",
       "      <td>3</td>\n",
       "    </tr>\n",
       "    <tr>\n",
       "      <th>131</th>\n",
       "      <td>(congratulate, good, work)</td>\n",
       "      <td>9</td>\n",
       "      <td>congratulate good work</td>\n",
       "      <td>3</td>\n",
       "    </tr>\n",
       "    <tr>\n",
       "      <th>184</th>\n",
       "      <td>(thumb, buddy, good)</td>\n",
       "      <td>8</td>\n",
       "      <td>thumb buddy good</td>\n",
       "      <td>3</td>\n",
       "    </tr>\n",
       "    <tr>\n",
       "      <th>193</th>\n",
       "      <td>(good, workget, suggestion)</td>\n",
       "      <td>8</td>\n",
       "      <td>good workget suggestion</td>\n",
       "      <td>3</td>\n",
       "    </tr>\n",
       "    <tr>\n",
       "      <th>196</th>\n",
       "      <td>(look, good, well)</td>\n",
       "      <td>8</td>\n",
       "      <td>look good well</td>\n",
       "      <td>3</td>\n",
       "    </tr>\n",
       "  </tbody>\n",
       "</table>\n",
       "</div>"
      ],
      "text/plain": [
       "                           trigram  count                      tgram  label\n",
       "56           (mate, good, workget)     14          mate good workget      3\n",
       "79            (good, luck, future)     12           good luck future      3\n",
       "80            (thus, render, good)     12           thus render good      3\n",
       "81   (good, workhappy, learninghi)     12  good workhappy learninghi      3\n",
       "86        (everything, look, good)     12       everything look good      3\n",
       "115             (good, work, wish)     10             good work wish      3\n",
       "131     (congratulate, good, work)      9     congratulate good work      3\n",
       "184           (thumb, buddy, good)      8           thumb buddy good      3\n",
       "193    (good, workget, suggestion)      8    good workget suggestion      3\n",
       "196             (look, good, well)      8             look good well      3"
      ]
     },
     "execution_count": 121,
     "metadata": {},
     "output_type": "execute_result"
    }
   ],
   "source": [
    "trigram_df[trigram_df['label']==3][:10]"
   ]
  },
  {
   "cell_type": "code",
   "execution_count": 122,
   "id": "06e35bae",
   "metadata": {
    "execution": {
     "iopub.execute_input": "2022-01-29T00:02:49.342251Z",
     "iopub.status.busy": "2022-01-29T00:02:49.341506Z",
     "iopub.status.idle": "2022-01-29T00:02:49.355783Z",
     "shell.execute_reply": "2022-01-29T00:02:49.356391Z",
     "shell.execute_reply.started": "2022-01-28T23:48:45.596811Z"
    },
    "papermill": {
     "duration": 0.203906,
     "end_time": "2022-01-29T00:02:49.356594",
     "exception": false,
     "start_time": "2022-01-29T00:02:49.152688",
     "status": "completed"
    },
    "tags": []
   },
   "outputs": [
    {
     "data": {
      "text/html": [
       "<div>\n",
       "<style scoped>\n",
       "    .dataframe tbody tr th:only-of-type {\n",
       "        vertical-align: middle;\n",
       "    }\n",
       "\n",
       "    .dataframe tbody tr th {\n",
       "        vertical-align: top;\n",
       "    }\n",
       "\n",
       "    .dataframe thead th {\n",
       "        text-align: right;\n",
       "    }\n",
       "</style>\n",
       "<table border=\"1\" class=\"dataframe\">\n",
       "  <thead>\n",
       "    <tr style=\"text-align: right;\">\n",
       "      <th></th>\n",
       "      <th>trigram</th>\n",
       "      <th>count</th>\n",
       "      <th>tgram</th>\n",
       "      <th>label</th>\n",
       "    </tr>\n",
       "  </thead>\n",
       "  <tbody>\n",
       "    <tr>\n",
       "      <th>54</th>\n",
       "      <td>(well, work, on)</td>\n",
       "      <td>14</td>\n",
       "      <td>well work on</td>\n",
       "      <td>4</td>\n",
       "    </tr>\n",
       "    <tr>\n",
       "      <th>187</th>\n",
       "      <td>(look, nice, well)</td>\n",
       "      <td>8</td>\n",
       "      <td>look nice well</td>\n",
       "      <td>4</td>\n",
       "    </tr>\n",
       "    <tr>\n",
       "      <th>191</th>\n",
       "      <td>(well, work, thus)</td>\n",
       "      <td>8</td>\n",
       "      <td>well work thus</td>\n",
       "      <td>4</td>\n",
       "    </tr>\n",
       "    <tr>\n",
       "      <th>336</th>\n",
       "      <td>(line, well, readability)</td>\n",
       "      <td>6</td>\n",
       "      <td>line well readability</td>\n",
       "      <td>4</td>\n",
       "    </tr>\n",
       "    <tr>\n",
       "      <th>385</th>\n",
       "      <td>(several, line, well)</td>\n",
       "      <td>5</td>\n",
       "      <td>several line well</td>\n",
       "      <td>4</td>\n",
       "    </tr>\n",
       "    <tr>\n",
       "      <th>439</th>\n",
       "      <td>(line, well, work)</td>\n",
       "      <td>4</td>\n",
       "      <td>line well work</td>\n",
       "      <td>4</td>\n",
       "    </tr>\n",
       "    <tr>\n",
       "      <th>444</th>\n",
       "      <td>(code, line, well)</td>\n",
       "      <td>4</td>\n",
       "      <td>code line well</td>\n",
       "      <td>4</td>\n",
       "    </tr>\n",
       "    <tr>\n",
       "      <th>518</th>\n",
       "      <td>(nice, well, present)</td>\n",
       "      <td>4</td>\n",
       "      <td>nice well present</td>\n",
       "      <td>4</td>\n",
       "    </tr>\n",
       "    <tr>\n",
       "      <th>605</th>\n",
       "      <td>(markdown, cell, well)</td>\n",
       "      <td>3</td>\n",
       "      <td>markdown cell well</td>\n",
       "      <td>4</td>\n",
       "    </tr>\n",
       "    <tr>\n",
       "      <th>606</th>\n",
       "      <td>(well, work, well)</td>\n",
       "      <td>3</td>\n",
       "      <td>well work well</td>\n",
       "      <td>4</td>\n",
       "    </tr>\n",
       "  </tbody>\n",
       "</table>\n",
       "</div>"
      ],
      "text/plain": [
       "                       trigram  count                  tgram  label\n",
       "54            (well, work, on)     14           well work on      4\n",
       "187         (look, nice, well)      8         look nice well      4\n",
       "191         (well, work, thus)      8         well work thus      4\n",
       "336  (line, well, readability)      6  line well readability      4\n",
       "385      (several, line, well)      5      several line well      4\n",
       "439         (line, well, work)      4         line well work      4\n",
       "444         (code, line, well)      4         code line well      4\n",
       "518      (nice, well, present)      4      nice well present      4\n",
       "605     (markdown, cell, well)      3     markdown cell well      4\n",
       "606         (well, work, well)      3         well work well      4"
      ]
     },
     "execution_count": 122,
     "metadata": {},
     "output_type": "execute_result"
    }
   ],
   "source": [
    "trigram_df[trigram_df['label']==4][:10]"
   ]
  },
  {
   "cell_type": "code",
   "execution_count": 123,
   "id": "7492d8cd",
   "metadata": {
    "execution": {
     "iopub.execute_input": "2022-01-29T00:02:49.733810Z",
     "iopub.status.busy": "2022-01-29T00:02:49.733083Z",
     "iopub.status.idle": "2022-01-29T00:02:49.743906Z",
     "shell.execute_reply": "2022-01-29T00:02:49.743315Z",
     "shell.execute_reply.started": "2022-01-28T23:48:45.625448Z"
    },
    "papermill": {
     "duration": 0.196709,
     "end_time": "2022-01-29T00:02:49.744055",
     "exception": false,
     "start_time": "2022-01-29T00:02:49.547346",
     "status": "completed"
    },
    "tags": []
   },
   "outputs": [
    {
     "data": {
      "text/plain": [
       "well work on                     1\n",
       "well say style                   1\n",
       "even comment well                1\n",
       "projectotherwise well wish       1\n",
       "working projectotherwise well    1\n",
       "                                ..\n",
       "inform conclusion well           1\n",
       "postcode well work               1\n",
       "news postcode well               1\n",
       "well dooverall project           1\n",
       "well present coherent            1\n",
       "Name: tgram, Length: 1287, dtype: int64"
      ]
     },
     "execution_count": 123,
     "metadata": {},
     "output_type": "execute_result"
    }
   ],
   "source": [
    "trigram_df[trigram_df['label']==4]['tgram'].value_counts()"
   ]
  },
  {
   "cell_type": "code",
   "execution_count": 124,
   "id": "068491bd",
   "metadata": {
    "execution": {
     "iopub.execute_input": "2022-01-29T00:02:50.335173Z",
     "iopub.status.busy": "2022-01-29T00:02:50.155446Z",
     "iopub.status.idle": "2022-01-29T00:02:51.101707Z",
     "shell.execute_reply": "2022-01-29T00:02:51.100988Z",
     "shell.execute_reply.started": "2022-01-28T23:48:45.641656Z"
    },
    "papermill": {
     "duration": 1.175795,
     "end_time": "2022-01-29T00:02:51.101858",
     "exception": false,
     "start_time": "2022-01-29T00:02:49.926063",
     "status": "completed"
    },
    "tags": []
   },
   "outputs": [
    {
     "data": {
      "text/plain": [
       "[(('otherwise', 'everything', 'look'), 45),\n",
       " (('cell', 'order', 'start'), 29),\n",
       " (('upcoming', 'project', 'happy'), 28),\n",
       " (('upload', 'ipynb', 'file'), 28),\n",
       " (('best', 'upcoming', 'project'), 27),\n",
       " (('everything', 'look', 'nice'), 25),\n",
       " (('welcome', 'community', 'thanks'), 24),\n",
       " (('guide', 'community', 'helpful'), 24),\n",
       " (('community', 'helpful', 'difficulty'), 24),\n",
       " (('helpful', 'difficulty', 'get'), 24)]"
      ]
     },
     "execution_count": 124,
     "metadata": {},
     "output_type": "execute_result"
    }
   ],
   "source": [
    "words = [w for w in word_tokenize(df['feedback_clean2_lem'].sum()) if w.isalpha()]\n",
    "finder = nltk.collocations.TrigramCollocationFinder.from_words(words)\n",
    "finder.ngram_fd.most_common(10)"
   ]
  },
  {
   "cell_type": "markdown",
   "id": "a331be87",
   "metadata": {
    "papermill": {
     "duration": 0.186243,
     "end_time": "2022-01-29T00:02:51.474069",
     "exception": false,
     "start_time": "2022-01-29T00:02:51.287826",
     "status": "completed"
    },
    "tags": []
   },
   "source": [
    "# collocation"
   ]
  },
  {
   "cell_type": "code",
   "execution_count": 125,
   "id": "497e4dae",
   "metadata": {
    "execution": {
     "iopub.execute_input": "2022-01-29T00:02:51.868522Z",
     "iopub.status.busy": "2022-01-29T00:02:51.867111Z",
     "iopub.status.idle": "2022-01-29T00:02:52.461038Z",
     "shell.execute_reply": "2022-01-29T00:02:52.461628Z",
     "shell.execute_reply.started": "2022-01-28T23:48:46.963370Z"
    },
    "papermill": {
     "duration": 0.786531,
     "end_time": "2022-01-29T00:02:52.461839",
     "exception": false,
     "start_time": "2022-01-29T00:02:51.675308",
     "status": "completed"
    },
    "tags": []
   },
   "outputs": [],
   "source": [
    "text1 = nltk.Text(word_tokenize(df['feedback_clean2_lem'].sum()))"
   ]
  },
  {
   "cell_type": "code",
   "execution_count": 126,
   "id": "9bd0b6ff",
   "metadata": {
    "execution": {
     "iopub.execute_input": "2022-01-29T00:02:52.839361Z",
     "iopub.status.busy": "2022-01-29T00:02:52.838221Z",
     "iopub.status.idle": "2022-01-29T00:02:53.449479Z",
     "shell.execute_reply": "2022-01-29T00:02:53.448748Z",
     "shell.execute_reply.started": "2022-01-28T23:48:47.639304Z"
    },
    "papermill": {
     "duration": 0.802638,
     "end_time": "2022-01-29T00:02:53.449687",
     "exception": false,
     "start_time": "2022-01-29T00:02:52.647049",
     "status": "completed"
    },
    "tags": []
   },
   "outputs": [
    {
     "name": "stdout",
     "output_type": "stream",
     "text": [
      "right_greatly unnecessary_graph remove_tick right_remove\n",
      "unnecessary_plot remove_bar unnecessary_tick key_axspinesitems\n",
      "right_figure right_congratulation right_together remove_key\n",
      "use_axspinesvalues remove_axis change_axspinesvalues 4_plot\n",
      "select_apply remove_legend know_axspinesvalues\n",
      "belowmentioned_axspinesvalues\n"
     ]
    }
   ],
   "source": [
    "text1.common_contexts(['spine'])"
   ]
  },
  {
   "cell_type": "code",
   "execution_count": 127,
   "id": "bc55de18",
   "metadata": {
    "execution": {
     "iopub.execute_input": "2022-01-29T00:02:53.823849Z",
     "iopub.status.busy": "2022-01-29T00:02:53.823117Z",
     "iopub.status.idle": "2022-01-29T00:02:53.826703Z",
     "shell.execute_reply": "2022-01-29T00:02:53.827259Z",
     "shell.execute_reply.started": "2022-01-28T23:48:48.586899Z"
    },
    "papermill": {
     "duration": 0.193246,
     "end_time": "2022-01-29T00:02:53.827435",
     "exception": false,
     "start_time": "2022-01-29T00:02:53.634189",
     "status": "completed"
    },
    "tags": []
   },
   "outputs": [
    {
     "name": "stdout",
     "output_type": "stream",
     "text": [
      "consistent_place could_miscellaneous space_associate\n",
      "associate_segregate space_comment comment_associate obvious_read\n",
      "symbol_avoid use_remember remember_reader use_explanation liked_useful\n",
      "stop_time add_function perfectly_used line_different line_death\n",
      "try_great put_mean remember_ease\n"
     ]
    }
   ],
   "source": [
    "text1.common_contexts(['comment'])"
   ]
  },
  {
   "cell_type": "code",
   "execution_count": 128,
   "id": "5927567b",
   "metadata": {
    "execution": {
     "iopub.execute_input": "2022-01-29T00:02:54.201718Z",
     "iopub.status.busy": "2022-01-29T00:02:54.200993Z",
     "iopub.status.idle": "2022-01-29T00:02:54.222786Z",
     "shell.execute_reply": "2022-01-29T00:02:54.223473Z",
     "shell.execute_reply.started": "2022-01-28T23:48:48.595070Z"
    },
    "papermill": {
     "duration": 0.210975,
     "end_time": "2022-01-29T00:02:54.223692",
     "exception": false,
     "start_time": "2022-01-29T00:02:54.012717",
     "status": "completed"
    },
    "tags": []
   },
   "outputs": [
    {
     "name": "stdout",
     "output_type": "stream",
     "text": [
      "title graph ” way result visualization mean ax axis letter function\n",
      "try could provide make better section introduction include give\n"
     ]
    }
   ],
   "source": [
    "text1.similar('plot')"
   ]
  },
  {
   "cell_type": "code",
   "execution_count": 129,
   "id": "15c4e6b0",
   "metadata": {
    "execution": {
     "iopub.execute_input": "2022-01-29T00:02:54.653793Z",
     "iopub.status.busy": "2022-01-29T00:02:54.653092Z",
     "iopub.status.idle": "2022-01-29T00:02:54.673296Z",
     "shell.execute_reply": "2022-01-29T00:02:54.673850Z",
     "shell.execute_reply.started": "2022-01-28T23:48:48.624605Z"
    },
    "papermill": {
     "duration": 0.261779,
     "end_time": "2022-01-29T00:02:54.674041",
     "exception": false,
     "start_time": "2022-01-29T00:02:54.412262",
     "status": "completed"
    },
    "tags": []
   },
   "outputs": [
    {
     "name": "stdout",
     "output_type": "stream",
     "text": [
      "conclusion cell explanation suggestion markdown aim one create look\n",
      "provide link idea feel post 2 way output title observation like\n"
     ]
    }
   ],
   "source": [
    "text1.similar('comment')"
   ]
  },
  {
   "cell_type": "code",
   "execution_count": 130,
   "id": "f790e33c",
   "metadata": {
    "execution": {
     "iopub.execute_input": "2022-01-29T00:02:55.064655Z",
     "iopub.status.busy": "2022-01-29T00:02:55.058716Z",
     "iopub.status.idle": "2022-01-29T00:02:55.084037Z",
     "shell.execute_reply": "2022-01-29T00:02:55.084640Z",
     "shell.execute_reply.started": "2022-01-28T23:48:48.658958Z"
    },
    "papermill": {
     "duration": 0.219206,
     "end_time": "2022-01-29T00:02:55.084852",
     "exception": false,
     "start_time": "2022-01-29T00:02:54.865646",
     "status": "completed"
    },
    "tags": []
   },
   "outputs": [
    {
     "name": "stdout",
     "output_type": "stream",
     "text": [
      "follow add work give helpful define do go put include link one keep\n",
      "always result say used avoid useful explanation\n"
     ]
    }
   ],
   "source": [
    "text1.similar('use')"
   ]
  }
 ],
 "metadata": {
  "kernelspec": {
   "display_name": "Python 3",
   "language": "python",
   "name": "python3"
  },
  "language_info": {
   "codemirror_mode": {
    "name": "ipython",
    "version": 3
   },
   "file_extension": ".py",
   "mimetype": "text/x-python",
   "name": "python",
   "nbconvert_exporter": "python",
   "pygments_lexer": "ipython3",
   "version": "3.7.12"
  },
  "papermill": {
   "default_parameters": {},
   "duration": 545.999212,
   "end_time": "2022-01-29T00:02:56.588726",
   "environment_variables": {},
   "exception": null,
   "input_path": "__notebook__.ipynb",
   "output_path": "__notebook__.ipynb",
   "parameters": {},
   "start_time": "2022-01-28T23:53:50.589514",
   "version": "2.3.3"
  }
 },
 "nbformat": 4,
 "nbformat_minor": 5
}
