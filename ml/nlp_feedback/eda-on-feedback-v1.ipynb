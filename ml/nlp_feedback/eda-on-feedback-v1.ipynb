{
 "cells": [
  {
   "cell_type": "code",
   "execution_count": 1,
   "id": "5f9eba96",
   "metadata": {
    "_cell_guid": "b1076dfc-b9ad-4769-8c92-a6c4dae69d19",
    "_uuid": "8f2839f25d086af736a60e9eeb907d3b93b6e0e5",
    "execution": {
     "iopub.execute_input": "2022-01-01T06:01:57.040715Z",
     "iopub.status.busy": "2022-01-01T06:01:57.039517Z",
     "iopub.status.idle": "2022-01-01T06:01:57.057927Z",
     "shell.execute_reply": "2022-01-01T06:01:57.058418Z",
     "shell.execute_reply.started": "2022-01-01T05:59:25.458238Z"
    },
    "papermill": {
     "duration": 0.070609,
     "end_time": "2022-01-01T06:01:57.058684",
     "exception": false,
     "start_time": "2022-01-01T06:01:56.988075",
     "status": "completed"
    },
    "tags": []
   },
   "outputs": [],
   "source": [
    "import pandas as pd\n",
    "import numpy as np\n",
    "from collections import Counter\n",
    "# https://www.kaggle.com/rtatman/import-functions-from-kaggle-script\n",
    "from shutil import copyfile\n",
    "copyfile(src = \"../input/testing-spines/test_f.py\", dst = \"../working/test_f.py\")\n",
    "from test_f import spines"
   ]
  },
  {
   "cell_type": "markdown",
   "id": "cdf19b2c",
   "metadata": {
    "papermill": {
     "duration": 0.045743,
     "end_time": "2022-01-01T06:01:57.152316",
     "exception": false,
     "start_time": "2022-01-01T06:01:57.106573",
     "status": "completed"
    },
    "tags": []
   },
   "source": [
    "# Intro\n",
    "In our previous post we've learned how to perform web scraping using BeautifoulSoup. We've gathered the data from Dataquests forum pages and organized it in a pandas dataframe:\n",
    "* we've extracted the title, link to the post, number of replies and number of views of each post\n",
    "* we've also scrapped the posts website - specifically we've targeted the first reply to the post\n",
    "\n",
    "This is where we'll continue our work. In this post we'll clean and analyse the text data, we've obtained previously. We'll start small: cleaning and organising the title data, then we'll move on to data analysis for each title. After that little warm up session we'll move on to deeper waters: processing the actual feedback posts"
   ]
  },
  {
   "cell_type": "code",
   "execution_count": 2,
   "id": "5fa98db0",
   "metadata": {
    "execution": {
     "iopub.execute_input": "2022-01-01T06:01:57.248513Z",
     "iopub.status.busy": "2022-01-01T06:01:57.247900Z",
     "iopub.status.idle": "2022-01-01T06:01:57.388208Z",
     "shell.execute_reply": "2022-01-01T06:01:57.388670Z",
     "shell.execute_reply.started": "2022-01-01T05:59:25.470794Z"
    },
    "papermill": {
     "duration": 0.188905,
     "end_time": "2022-01-01T06:01:57.388848",
     "exception": false,
     "start_time": "2022-01-01T06:01:57.199943",
     "status": "completed"
    },
    "tags": []
   },
   "outputs": [
    {
     "data": {
      "text/html": [
       "<div>\n",
       "<style scoped>\n",
       "    .dataframe tbody tr th:only-of-type {\n",
       "        vertical-align: middle;\n",
       "    }\n",
       "\n",
       "    .dataframe tbody tr th {\n",
       "        vertical-align: top;\n",
       "    }\n",
       "\n",
       "    .dataframe thead th {\n",
       "        text-align: right;\n",
       "    }\n",
       "</style>\n",
       "<table border=\"1\" class=\"dataframe\">\n",
       "  <thead>\n",
       "    <tr style=\"text-align: right;\">\n",
       "      <th></th>\n",
       "      <th>content</th>\n",
       "      <th>title</th>\n",
       "      <th>link</th>\n",
       "      <th>replies</th>\n",
       "      <th>views</th>\n",
       "      <th>feedback</th>\n",
       "    </tr>\n",
       "  </thead>\n",
       "  <tbody>\n",
       "    <tr>\n",
       "      <th>0</th>\n",
       "      <td>&lt;tr class=\"topic-list-item category-share-guid...</td>\n",
       "      <td>Predicting house prices</td>\n",
       "      <td>https://community.dataquest.io/t/predicting-ho...</td>\n",
       "      <td>1</td>\n",
       "      <td>26</td>\n",
       "      <td>\\nprocessing data inside a function saves memo...</td>\n",
       "    </tr>\n",
       "    <tr>\n",
       "      <th>1</th>\n",
       "      <td>&lt;tr class=\"topic-list-item category-share-guid...</td>\n",
       "      <td>[Re-upload]Project Feedback - Popular Data Sci...</td>\n",
       "      <td>https://community.dataquest.io/t/re-upload-pro...</td>\n",
       "      <td>3</td>\n",
       "      <td>47</td>\n",
       "      <td>\\nHi,\\nI’ve been going through your project an...</td>\n",
       "    </tr>\n",
       "    <tr>\n",
       "      <th>2</th>\n",
       "      <td>&lt;tr class=\"topic-list-item category-share-guid...</td>\n",
       "      <td>GP: Clean and Analyze Employee Exit Surveys ++</td>\n",
       "      <td>https://community.dataquest.io/t/gp-clean-and-...</td>\n",
       "      <td>2</td>\n",
       "      <td>53</td>\n",
       "      <td>\\n\\n\\nnoticed that you’re deleting objects, af...</td>\n",
       "    </tr>\n",
       "    <tr>\n",
       "      <th>3</th>\n",
       "      <td>&lt;tr class=\"topic-list-item category-share-guid...</td>\n",
       "      <td>Project Feedback - Popular Data Science Questions</td>\n",
       "      <td>https://community.dataquest.io/t/project-feedb...</td>\n",
       "      <td>5</td>\n",
       "      <td>71</td>\n",
       "      <td>\\nthink you forgot to attach your file…\\n</td>\n",
       "    </tr>\n",
       "    <tr>\n",
       "      <th>4</th>\n",
       "      <td>&lt;tr class=\"topic-list-item category-share-guid...</td>\n",
       "      <td>Guided Project: Answer to Albums vs. Singles w...</td>\n",
       "      <td>https://community.dataquest.io/t/guided-projec...</td>\n",
       "      <td>5</td>\n",
       "      <td>370</td>\n",
       "      <td>\\n@gdelaserre: recategorized your topic. The E...</td>\n",
       "    </tr>\n",
       "  </tbody>\n",
       "</table>\n",
       "</div>"
      ],
      "text/plain": [
       "                                             content  \\\n",
       "0  <tr class=\"topic-list-item category-share-guid...   \n",
       "1  <tr class=\"topic-list-item category-share-guid...   \n",
       "2  <tr class=\"topic-list-item category-share-guid...   \n",
       "3  <tr class=\"topic-list-item category-share-guid...   \n",
       "4  <tr class=\"topic-list-item category-share-guid...   \n",
       "\n",
       "                                               title  \\\n",
       "0                            Predicting house prices   \n",
       "1  [Re-upload]Project Feedback - Popular Data Sci...   \n",
       "2     GP: Clean and Analyze Employee Exit Surveys ++   \n",
       "3  Project Feedback - Popular Data Science Questions   \n",
       "4  Guided Project: Answer to Albums vs. Singles w...   \n",
       "\n",
       "                                                link  replies  views  \\\n",
       "0  https://community.dataquest.io/t/predicting-ho...        1     26   \n",
       "1  https://community.dataquest.io/t/re-upload-pro...        3     47   \n",
       "2  https://community.dataquest.io/t/gp-clean-and-...        2     53   \n",
       "3  https://community.dataquest.io/t/project-feedb...        5     71   \n",
       "4  https://community.dataquest.io/t/guided-projec...        5    370   \n",
       "\n",
       "                                            feedback  \n",
       "0  \\nprocessing data inside a function saves memo...  \n",
       "1  \\nHi,\\nI’ve been going through your project an...  \n",
       "2  \\n\\n\\nnoticed that you’re deleting objects, af...  \n",
       "3          \\nthink you forgot to attach your file…\\n  \n",
       "4  \\n@gdelaserre: recategorized your topic. The E...  "
      ]
     },
     "execution_count": 2,
     "metadata": {},
     "output_type": "execute_result"
    }
   ],
   "source": [
    "df=pd.read_csv('../input/dq-scraping/dq.csv')\n",
    "# df=pd.read_csv('../input/dq-feedback/dq.csv')\n",
    "df.head()"
   ]
  },
  {
   "cell_type": "markdown",
   "id": "2586a52b",
   "metadata": {
    "papermill": {
     "duration": 0.045956,
     "end_time": "2022-01-01T06:01:57.481743",
     "exception": false,
     "start_time": "2022-01-01T06:01:57.435787",
     "status": "completed"
    },
    "tags": []
   },
   "source": [
    "# Part 1: The title problem: everybody wants a different title\n",
    "We're all guilty: we want to publish our project and gain attention. What's the easiest way to get at least some amount of attention? Think of an interesting and original title, great! So now when someone actually wants to group all the posts by their titles... "
   ]
  },
  {
   "cell_type": "code",
   "execution_count": 3,
   "id": "6cc6362c",
   "metadata": {
    "execution": {
     "iopub.execute_input": "2022-01-01T06:01:57.580755Z",
     "iopub.status.busy": "2022-01-01T06:01:57.580102Z",
     "iopub.status.idle": "2022-01-01T06:01:57.582483Z",
     "shell.execute_reply": "2022-01-01T06:01:57.582942Z",
     "shell.execute_reply.started": "2022-01-01T05:59:25.558641Z"
    },
    "papermill": {
     "duration": 0.05402,
     "end_time": "2022-01-01T06:01:57.583094",
     "exception": false,
     "start_time": "2022-01-01T06:01:57.529074",
     "status": "completed"
    },
    "tags": []
   },
   "outputs": [
    {
     "data": {
      "text/plain": [
       "False"
      ]
     },
     "execution_count": 3,
     "metadata": {},
     "output_type": "execute_result"
    }
   ],
   "source": [
    "# Simple reminder:\n",
    "'ebay' == 'Ebay'"
   ]
  },
  {
   "cell_type": "code",
   "execution_count": 4,
   "id": "3b44de3b",
   "metadata": {
    "execution": {
     "iopub.execute_input": "2022-01-01T06:01:57.678395Z",
     "iopub.status.busy": "2022-01-01T06:01:57.677796Z",
     "iopub.status.idle": "2022-01-01T06:01:57.692585Z",
     "shell.execute_reply": "2022-01-01T06:01:57.693186Z",
     "shell.execute_reply.started": "2022-01-01T05:59:25.565266Z"
    },
    "papermill": {
     "duration": 0.064566,
     "end_time": "2022-01-01T06:01:57.693368",
     "exception": false,
     "start_time": "2022-01-01T06:01:57.628802",
     "status": "completed"
    },
    "tags": []
   },
   "outputs": [
    {
     "data": {
      "text/plain": [
       "predicting house prices                                                          1\n",
       "guided project 3:analysing car sales from ebay                                   1\n",
       "sql cia_fact_book project review                                                 1\n",
       "community champions of this week - dilara and mahouessimi                        1\n",
       "guided project_answering business questions using sql                            1\n",
       "                                                                                ..\n",
       "my fifth guided project! visualizing the gender gap in college degrees           1\n",
       "guided project: visualizing the gender gap in college degrees - need feedback    1\n",
       "guided project: visualizing earnings based on college majors - need feedback     1\n",
       "answering business questions using sql - asking for community review/comments    1\n",
       "gp:exploringebaycarsalesdata with additional questions                           1\n",
       "Name: title, Length: 1102, dtype: int64"
      ]
     },
     "execution_count": 4,
     "metadata": {},
     "output_type": "execute_result"
    }
   ],
   "source": [
    "df['title'] = df['title'].str.lower()\n",
    "df['title'].value_counts()"
   ]
  },
  {
   "cell_type": "code",
   "execution_count": null,
   "id": "91d06a5b",
   "metadata": {
    "papermill": {
     "duration": 0.046536,
     "end_time": "2022-01-01T06:01:57.786914",
     "exception": false,
     "start_time": "2022-01-01T06:01:57.740378",
     "status": "completed"
    },
    "tags": []
   },
   "outputs": [],
   "source": []
  },
  {
   "cell_type": "markdown",
   "id": "f37e00bc",
   "metadata": {
    "papermill": {
     "duration": 0.046434,
     "end_time": "2022-01-01T06:01:57.879356",
     "exception": false,
     "start_time": "2022-01-01T06:01:57.832922",
     "status": "completed"
    },
    "tags": []
   },
   "source": [
    "1102 different titles... fortunately buried within the html code we've scrapped there's a unique lesson number"
   ]
  },
  {
   "cell_type": "code",
   "execution_count": 5,
   "id": "595ca7e0",
   "metadata": {
    "execution": {
     "iopub.execute_input": "2022-01-01T06:01:57.977057Z",
     "iopub.status.busy": "2022-01-01T06:01:57.976451Z",
     "iopub.status.idle": "2022-01-01T06:01:57.993495Z",
     "shell.execute_reply": "2022-01-01T06:01:57.994008Z",
     "shell.execute_reply.started": "2022-01-01T05:59:25.587522Z"
    },
    "papermill": {
     "duration": 0.067669,
     "end_time": "2022-01-01T06:01:57.994177",
     "exception": false,
     "start_time": "2022-01-01T06:01:57.926508",
     "status": "completed"
    },
    "tags": []
   },
   "outputs": [
    {
     "data": {
      "text/plain": [
       "guided project visualizing the gender gap in college degrees                                 5\n",
       "guided project  exploring ebay car sales data                                                3\n",
       "guided project clean and analyze employee exit surveys                                       3\n",
       "guided project popular data science questions                                                2\n",
       "feedback guided project profitable app profiles for the app store and google play markets    2\n",
       "                                                                                            ..\n",
       "guided project visualizing the gender gap in college degrees  need feedback                  1\n",
       "guided project visualizing earnings based on college majors  need feedback                   1\n",
       "answering business questions using sql  asking for community reviewcomments                  1\n",
       "my second guided project explore hacker news posts                                           1\n",
       "gpexploringebaycarsalesdata with additional questions                                        1\n",
       "Name: title, Length: 1073, dtype: int64"
      ]
     },
     "execution_count": 5,
     "metadata": {},
     "output_type": "execute_result"
    }
   ],
   "source": [
    "import string\n",
    "\n",
    "# remove punctuations:\n",
    "def remove_punctuations(text):\n",
    "    for char in string.punctuation:\n",
    "        text = text.replace(char, '')\n",
    "    return text\n",
    "df['title'] = df['title'].apply(remove_punctuations)\n",
    "\n",
    "df['title'].value_counts()"
   ]
  },
  {
   "cell_type": "code",
   "execution_count": 6,
   "id": "76b15e8a",
   "metadata": {
    "execution": {
     "iopub.execute_input": "2022-01-01T06:01:58.094601Z",
     "iopub.status.busy": "2022-01-01T06:01:58.093694Z",
     "iopub.status.idle": "2022-01-01T06:01:59.698821Z",
     "shell.execute_reply": "2022-01-01T06:01:59.698298Z",
     "shell.execute_reply.started": "2022-01-01T05:59:25.613809Z"
    },
    "papermill": {
     "duration": 1.657705,
     "end_time": "2022-01-01T06:01:59.698956",
     "exception": false,
     "start_time": "2022-01-01T06:01:58.041251",
     "status": "completed"
    },
    "tags": []
   },
   "outputs": [
    {
     "data": {
      "text/plain": [
       "'guided project visualizing gender gap college degrees'"
      ]
     },
     "execution_count": 6,
     "metadata": {},
     "output_type": "execute_result"
    }
   ],
   "source": [
    "# import list of stopwords:\n",
    "from nltk.corpus import stopwords\n",
    "\n",
    "stop = stopwords.words('english')\n",
    "\n",
    "# remove stopwords from the below example:\n",
    "example1 = 'guided project visualizing the gender gap in college degrees'\n",
    "' '.join([word for word in example1.split() if word not in stop])"
   ]
  },
  {
   "cell_type": "code",
   "execution_count": 7,
   "id": "2b2236a1",
   "metadata": {
    "execution": {
     "iopub.execute_input": "2022-01-01T06:01:59.797864Z",
     "iopub.status.busy": "2022-01-01T06:01:59.797200Z",
     "iopub.status.idle": "2022-01-01T06:01:59.839236Z",
     "shell.execute_reply": "2022-01-01T06:01:59.838526Z",
     "shell.execute_reply.started": "2022-01-01T05:59:25.640503Z"
    },
    "papermill": {
     "duration": 0.092666,
     "end_time": "2022-01-01T06:01:59.839397",
     "exception": false,
     "start_time": "2022-01-01T06:01:59.746731",
     "status": "completed"
    },
    "tags": []
   },
   "outputs": [
    {
     "data": {
      "text/plain": [
       "927"
      ]
     },
     "execution_count": 7,
     "metadata": {},
     "output_type": "execute_result"
    }
   ],
   "source": [
    "# remove punctuations:\n",
    "def remove_punctuations(text):\n",
    "    for char in string.punctuation:\n",
    "        text = text.replace(char, '')\n",
    "    return text\n",
    "df['title'] = df['title'].apply(remove_punctuations)\n",
    "\n",
    "# remove stopwords and a few extra words from guided_list:\n",
    "stop = stopwords.words('english')\n",
    "guided_list = ['guided', 'project', 'feedback']\n",
    "stop_extended = stop + guided_list\n",
    "\n",
    "df['title_nostop'] = df['title'].apply(lambda x: ' '.join([word for word in x.split() if word not in stop_extended]))\n",
    "# df['title_nostop'] = df['title_nostop'].apply(lambda x: ' '.join([word for word in x.split() if word not in guided_list]))\n",
    "\n",
    "len(df['title_nostop'].unique())"
   ]
  },
  {
   "cell_type": "code",
   "execution_count": 8,
   "id": "fd238f10",
   "metadata": {
    "execution": {
     "iopub.execute_input": "2022-01-01T06:01:59.943592Z",
     "iopub.status.busy": "2022-01-01T06:01:59.942518Z",
     "iopub.status.idle": "2022-01-01T06:01:59.946077Z",
     "shell.execute_reply": "2022-01-01T06:01:59.946630Z",
     "shell.execute_reply.started": "2022-01-01T05:59:25.682274Z"
    },
    "papermill": {
     "duration": 0.058812,
     "end_time": "2022-01-01T06:01:59.946807",
     "exception": false,
     "start_time": "2022-01-01T06:01:59.887995",
     "status": "completed"
    },
    "tags": []
   },
   "outputs": [
    {
     "data": {
      "text/plain": [
       "'<tr class=\"topic-list-item category-share-guided-project tag-python tag-pandas tag-469 tag-data-analysis-business tag-469-11 has-excerpt ember-view\" data-topic-id=\"558226\" id=\"ember77\">\\n<td class=\"main-link clearfix\" colspan=\"\">\\n<div class=\"topic-details\">\\n<div class=\"topic-title\">\\n<span class=\"link-top-line\">\\n<a class=\"title raw-link raw-topic-link\" data-topic-id=\"558226\" href=\"https://community.dataquest.io/t/re-upload-project-feedback-popular-data-science-questions/558226/2\" level=\"2\" role=\"heading\"><span dir=\"ltr\">[Re-upload]Project Feedback - Popular Data Science Questions</span></a>\\n<span class=\"topic-post-badges\"></span>\\n</span>\\n</div>\\n<div class=\"discourse-tags\"><a class=\"discourse-tag bullet\" data-tag-name=\"python\" href=\"https://community.dataquest.io/tag/python\">python</a> <a class=\"discourse-tag bullet\" data-tag-name=\"pandas\" href=\"https://community.dataquest.io/tag/pandas\">pandas</a> <a class=\"discourse-tag bullet\" data-tag-name=\"469\" href=\"https://community.dataquest.io/tag/469\">469</a> <a class=\"discourse-tag bullet\" data-tag-name=\"data-analysis-business\" href=\"https://community.dataquest.io/tag/data-analysis-business\">data-analysis-business</a> <a class=\"discourse-tag bullet\" data-tag-name=\"469-11\" href=\"https://community.dataquest.io/tag/469-11\">469-11</a> </div>\\n<div class=\"actions-and-meta-data\">\\n</div>\\n</div></td>\\n<td class=\"posters\">\\n<a class=\"\" data-user-card=\"kevindarley2024\" href=\"https://community.dataquest.io/u/kevindarley2024\"><img alt=\"\" aria-label=\"kevindarley2024 - Original Poster\" class=\"avatar\" height=\"25\" src=\"./Latest Share_Guided Project topics - Dataquest Community_files/50(1).png\" title=\"kevindarley2024 - Original Poster\" width=\"25\"/></a>\\n<a class=\"latest\" data-user-card=\"jesmaxavier\" href=\"https://community.dataquest.io/u/jesmaxavier\"><img alt=\"\" aria-label=\"jesmaxavier - Most Recent Poster\" class=\"avatar latest\" height=\"25\" src=\"./Latest Share_Guided Project topics - Dataquest Community_files/50(2).png\" title=\"jesmaxavier - Most Recent Poster\" width=\"25\"/></a>\\n</td>\\n<td class=\"num posts-map posts\" title=\"This topic has 3 replies\">\\n<button class=\"btn-link posts-map badge-posts\">\\n<span aria-label=\"This topic has 3 replies\" class=\"number\">3</span>\\n</button>\\n</td>\\n<td class=\"num likes\">\\n</td>\\n<td class=\"num views\"><span class=\"number\" title=\"this topic has been viewed 47 times\">47</span></td>\\n<td class=\"num age activity\" title=\"First post: Nov 14, 2021 2:57 am\\nPosted: Nov 18, 2021 6:38 pm\">\\n<a class=\"post-activity\" href=\"https://community.dataquest.io/t/re-upload-project-feedback-popular-data-science-questions/558226/4\"><span class=\"relative-date\" data-format=\"tiny\" data-time=\"1637221085326\">3d</span></a>\\n</td>\\n</tr>'"
      ]
     },
     "execution_count": 8,
     "metadata": {},
     "output_type": "execute_result"
    }
   ],
   "source": [
    "df['content'][1]"
   ]
  },
  {
   "cell_type": "code",
   "execution_count": 9,
   "id": "9501b66e",
   "metadata": {
    "execution": {
     "iopub.execute_input": "2022-01-01T06:02:00.062443Z",
     "iopub.status.busy": "2022-01-01T06:02:00.061564Z",
     "iopub.status.idle": "2022-01-01T06:02:00.064766Z",
     "shell.execute_reply": "2022-01-01T06:02:00.065232Z",
     "shell.execute_reply.started": "2022-01-01T05:59:25.690402Z"
    },
    "papermill": {
     "duration": 0.068611,
     "end_time": "2022-01-01T06:02:00.065427",
     "exception": false,
     "start_time": "2022-01-01T06:01:59.996816",
     "status": "completed"
    },
    "tags": []
   },
   "outputs": [
    {
     "data": {
      "text/plain": [
       "294    104\n",
       "356     95\n",
       "350     78\n",
       "257     58\n",
       "146     52\n",
       "348     47\n",
       "149     40\n",
       "201     37\n",
       "217     29\n",
       "191     23\n",
       "524     18\n",
       "469     15\n",
       "155     15\n",
       "310     13\n",
       "288     11\n",
       "529      7\n",
       "65       5\n",
       "213      5\n",
       "240      5\n",
       "210      5\n",
       "382      4\n",
       "544      3\n",
       "244      3\n",
       "505      3\n",
       "433      3\n",
       "404      3\n",
       "498      2\n",
       "277      2\n",
       "280      2\n",
       "283      1\n",
       "459      1\n",
       "501      1\n",
       "267      1\n",
       "251      1\n",
       "428      1\n",
       "475      1\n",
       "409      1\n",
       "188      1\n",
       "177      1\n",
       "410      1\n",
       "569      1\n",
       "443      1\n",
       "Name: tag, dtype: int64"
      ]
     },
     "execution_count": 9,
     "metadata": {},
     "output_type": "execute_result"
    }
   ],
   "source": [
    "df['tag'] = df['content'].str.extract('data-tag-name=\"(\\d+)\" href')\n",
    "df['tag'].value_counts()"
   ]
  },
  {
   "cell_type": "code",
   "execution_count": 10,
   "id": "0b01e353",
   "metadata": {
    "execution": {
     "iopub.execute_input": "2022-01-01T06:02:00.172097Z",
     "iopub.status.busy": "2022-01-01T06:02:00.171200Z",
     "iopub.status.idle": "2022-01-01T06:02:00.177486Z",
     "shell.execute_reply": "2022-01-01T06:02:00.178033Z",
     "shell.execute_reply.started": "2022-01-01T05:59:25.710930Z"
    },
    "papermill": {
     "duration": 0.061274,
     "end_time": "2022-01-01T06:02:00.178215",
     "exception": false,
     "start_time": "2022-01-01T06:02:00.116941",
     "status": "completed"
    },
    "tags": []
   },
   "outputs": [
    {
     "data": {
      "text/plain": [
       "700"
      ]
     },
     "execution_count": 10,
     "metadata": {},
     "output_type": "execute_result"
    }
   ],
   "source": [
    "df['tag'].value_counts().sum()"
   ]
  },
  {
   "cell_type": "code",
   "execution_count": 11,
   "id": "493ef7ee",
   "metadata": {
    "execution": {
     "iopub.execute_input": "2022-01-01T06:02:00.288351Z",
     "iopub.status.busy": "2022-01-01T06:02:00.283457Z",
     "iopub.status.idle": "2022-01-01T06:02:00.313972Z",
     "shell.execute_reply": "2022-01-01T06:02:00.314621Z",
     "shell.execute_reply.started": "2022-01-01T05:59:25.728684Z"
    },
    "papermill": {
     "duration": 0.086969,
     "end_time": "2022-01-01T06:02:00.314808",
     "exception": false,
     "start_time": "2022-01-01T06:02:00.227839",
     "status": "completed"
    },
    "tags": []
   },
   "outputs": [
    {
     "name": "stdout",
     "output_type": "stream",
     "text": [
      "294 ebay\n",
      "356 hacker\n",
      "350 app\n",
      "257 cia\n",
      "146 college\n",
      "348 exit\n",
      "149 gender\n",
      "201 wars\n",
      "217 nyc\n",
      "191 sql\n",
      "524 traffic\n",
      "469 data\n",
      "155 car\n",
      "310 best\n",
      "288 fandango\n",
      "529 exchange\n",
      "65 stock\n",
      "213 predicting\n",
      "240 predicting\n",
      "210 jeopardy\n",
      "382 lottery\n",
      "544 sql\n",
      "244 building\n",
      "505 covid19\n",
      "433 spam\n"
     ]
    }
   ],
   "source": [
    "from collections import Counter\n",
    "for a_tag in df['tag'].value_counts()[:25].index:\n",
    "    top_word = Counter(\" \".join(df[df['tag']==a_tag]['title_nostop']).split()).most_common(1)[0][0]\n",
    "    print(a_tag,top_word)"
   ]
  },
  {
   "cell_type": "code",
   "execution_count": 12,
   "id": "0600f7a9",
   "metadata": {
    "execution": {
     "iopub.execute_input": "2022-01-01T06:02:00.415900Z",
     "iopub.status.busy": "2022-01-01T06:02:00.415252Z",
     "iopub.status.idle": "2022-01-01T06:02:00.455907Z",
     "shell.execute_reply": "2022-01-01T06:02:00.455081Z",
     "shell.execute_reply.started": "2022-01-01T05:59:25.774406Z"
    },
    "papermill": {
     "duration": 0.092645,
     "end_time": "2022-01-01T06:02:00.456177",
     "exception": false,
     "start_time": "2022-01-01T06:02:00.363532",
     "status": "completed"
    },
    "tags": []
   },
   "outputs": [
    {
     "name": "stdout",
     "output_type": "stream",
     "text": [
      "294 ebay\n",
      "356 hacker\n",
      "350 app\n",
      "257 cia\n",
      "146 college\n",
      "348 exit\n",
      "149 gender\n",
      "201 wars\n",
      "217 nyc\n",
      "191 sql\n",
      "524 traffic\n",
      "469 science\n",
      "155 car\n",
      "310 markets\n",
      "288 fandango\n",
      "529 exchange\n",
      "65 stock\n",
      "213 bike\n",
      "240 house\n",
      "210 jeopardy\n",
      "382 lottery\n",
      "544 sql\n",
      "244 building\n",
      "505 covid19\n",
      "433 spam\n"
     ]
    }
   ],
   "source": [
    "\n",
    "more_stop = ['predicting','best','analyzing','data','exploring']\n",
    "df['title_nostop'] = df['title_nostop'].apply(lambda x: ' '.join([word for word in x.split() if word not in (more_stop)]))\n",
    "\n",
    "for a_tag in df['tag'].value_counts()[:25].index:\n",
    "    top_word = Counter(\" \".join(df[df['tag']==a_tag]['title_nostop']).split()).most_common(1)[0][0]\n",
    "    print(a_tag,top_word)"
   ]
  },
  {
   "cell_type": "code",
   "execution_count": 13,
   "id": "db658f95",
   "metadata": {
    "execution": {
     "iopub.execute_input": "2022-01-01T06:02:00.567754Z",
     "iopub.status.busy": "2022-01-01T06:02:00.567066Z",
     "iopub.status.idle": "2022-01-01T06:02:00.569648Z",
     "shell.execute_reply": "2022-01-01T06:02:00.570139Z",
     "shell.execute_reply.started": "2022-01-01T05:59:25.809441Z"
    },
    "papermill": {
     "duration": 0.06197,
     "end_time": "2022-01-01T06:02:00.570342",
     "exception": false,
     "start_time": "2022-01-01T06:02:00.508372",
     "status": "completed"
    },
    "tags": []
   },
   "outputs": [
    {
     "data": {
      "text/plain": [
       "[('car', 14),\n",
       " ('prices', 14),\n",
       " ('knn', 3),\n",
       " ('projectpredicting', 2),\n",
       " ('model', 1)]"
      ]
     },
     "execution_count": 13,
     "metadata": {},
     "output_type": "execute_result"
    }
   ],
   "source": [
    "\n",
    "Counter(\" \".join(df[df['tag']=='155']['title_nostop']).split()).most_common(5)"
   ]
  },
  {
   "cell_type": "code",
   "execution_count": 14,
   "id": "3242d6e1",
   "metadata": {
    "execution": {
     "iopub.execute_input": "2022-01-01T06:02:00.677346Z",
     "iopub.status.busy": "2022-01-01T06:02:00.676668Z",
     "iopub.status.idle": "2022-01-01T06:02:00.679166Z",
     "shell.execute_reply": "2022-01-01T06:02:00.679652Z",
     "shell.execute_reply.started": "2022-01-01T05:59:25.819843Z"
    },
    "papermill": {
     "duration": 0.059515,
     "end_time": "2022-01-01T06:02:00.679827",
     "exception": false,
     "start_time": "2022-01-01T06:02:00.620312",
     "status": "completed"
    },
    "tags": []
   },
   "outputs": [
    {
     "data": {
      "text/plain": [
       "'ebay'"
      ]
     },
     "execution_count": 14,
     "metadata": {},
     "output_type": "execute_result"
    }
   ],
   "source": [
    "top_word = Counter(\" \".join(df[df['tag']=='294']['title_nostop']).split()).most_common(5)[0][0]\n",
    "top_word"
   ]
  },
  {
   "cell_type": "code",
   "execution_count": 15,
   "id": "4edf073a",
   "metadata": {
    "execution": {
     "iopub.execute_input": "2022-01-01T06:02:00.796395Z",
     "iopub.status.busy": "2022-01-01T06:02:00.795673Z",
     "iopub.status.idle": "2022-01-01T06:02:00.798489Z",
     "shell.execute_reply": "2022-01-01T06:02:00.798964Z",
     "shell.execute_reply.started": "2022-01-01T05:59:25.835198Z"
    },
    "papermill": {
     "duration": 0.069026,
     "end_time": "2022-01-01T06:02:00.799128",
     "exception": false,
     "start_time": "2022-01-01T06:02:00.730102",
     "status": "completed"
    },
    "tags": []
   },
   "outputs": [
    {
     "data": {
      "text/html": [
       "<div>\n",
       "<style scoped>\n",
       "    .dataframe tbody tr th:only-of-type {\n",
       "        vertical-align: middle;\n",
       "    }\n",
       "\n",
       "    .dataframe tbody tr th {\n",
       "        vertical-align: top;\n",
       "    }\n",
       "\n",
       "    .dataframe thead th {\n",
       "        text-align: right;\n",
       "    }\n",
       "</style>\n",
       "<table border=\"1\" class=\"dataframe\">\n",
       "  <thead>\n",
       "    <tr style=\"text-align: right;\">\n",
       "      <th></th>\n",
       "      <th>content</th>\n",
       "      <th>title</th>\n",
       "      <th>link</th>\n",
       "      <th>replies</th>\n",
       "      <th>views</th>\n",
       "      <th>feedback</th>\n",
       "      <th>title_nostop</th>\n",
       "      <th>tag</th>\n",
       "    </tr>\n",
       "  </thead>\n",
       "  <tbody>\n",
       "    <tr>\n",
       "      <th>28</th>\n",
       "      <td>&lt;tr class=\"topic-list-item category-share-guid...</td>\n",
       "      <td>gp exploring ebay car sales data with pandas</td>\n",
       "      <td>https://community.dataquest.io/t/gp-exploring-...</td>\n",
       "      <td>4</td>\n",
       "      <td>109</td>\n",
       "      <td>\\nHello @daryaholodova! Thanks for sharing you...</td>\n",
       "      <td>gp ebay car sales pandas</td>\n",
       "      <td>NaN</td>\n",
       "    </tr>\n",
       "    <tr>\n",
       "      <th>38</th>\n",
       "      <td>&lt;tr class=\"topic-list-item category-share-guid...</td>\n",
       "      <td>exploring ebay car sales data  any feedback ad...</td>\n",
       "      <td>https://community.dataquest.io/t/exploring-eba...</td>\n",
       "      <td>3</td>\n",
       "      <td>267</td>\n",
       "      <td>\\nHello @adam.kubalica! Thanks for sharing you...</td>\n",
       "      <td>ebay car sales advice welcome</td>\n",
       "      <td>NaN</td>\n",
       "    </tr>\n",
       "    <tr>\n",
       "      <th>65</th>\n",
       "      <td>&lt;tr class=\"topic-list-item category-share-guid...</td>\n",
       "      <td>exploring ebay car sales  lekane styve</td>\n",
       "      <td>https://community.dataquest.io/t/exploring-eba...</td>\n",
       "      <td>1</td>\n",
       "      <td>71</td>\n",
       "      <td>\\nHi @lekanestyve! Thanks for sharing your pro...</td>\n",
       "      <td>ebay car sales lekane styve</td>\n",
       "      <td>NaN</td>\n",
       "    </tr>\n",
       "    <tr>\n",
       "      <th>82</th>\n",
       "      <td>&lt;tr class=\"topic-list-item category-share-guid...</td>\n",
       "      <td>3rd project exploringebaycarsales datapyipynb</td>\n",
       "      <td>https://community.dataquest.io/t/3rd-project-e...</td>\n",
       "      <td>2</td>\n",
       "      <td>80</td>\n",
       "      <td>\\nHi @rudythealchemist\\nThanks for sharing you...</td>\n",
       "      <td>3rd exploringebaycarsales datapyipynb</td>\n",
       "      <td>NaN</td>\n",
       "    </tr>\n",
       "    <tr>\n",
       "      <th>93</th>\n",
       "      <td>&lt;tr class=\"topic-list-item category-share-guid...</td>\n",
       "      <td>feedback requested guided project exploring eb...</td>\n",
       "      <td>https://community.dataquest.io/t/feedback-requ...</td>\n",
       "      <td>3</td>\n",
       "      <td>75</td>\n",
       "      <td>\\nHi @rizvey.ma! Thanks for sharing your proje...</td>\n",
       "      <td>requested ebay car sales</td>\n",
       "      <td>NaN</td>\n",
       "    </tr>\n",
       "  </tbody>\n",
       "</table>\n",
       "</div>"
      ],
      "text/plain": [
       "                                              content  \\\n",
       "28  <tr class=\"topic-list-item category-share-guid...   \n",
       "38  <tr class=\"topic-list-item category-share-guid...   \n",
       "65  <tr class=\"topic-list-item category-share-guid...   \n",
       "82  <tr class=\"topic-list-item category-share-guid...   \n",
       "93  <tr class=\"topic-list-item category-share-guid...   \n",
       "\n",
       "                                                title  \\\n",
       "28       gp exploring ebay car sales data with pandas   \n",
       "38  exploring ebay car sales data  any feedback ad...   \n",
       "65             exploring ebay car sales  lekane styve   \n",
       "82      3rd project exploringebaycarsales datapyipynb   \n",
       "93  feedback requested guided project exploring eb...   \n",
       "\n",
       "                                                 link  replies  views  \\\n",
       "28  https://community.dataquest.io/t/gp-exploring-...        4    109   \n",
       "38  https://community.dataquest.io/t/exploring-eba...        3    267   \n",
       "65  https://community.dataquest.io/t/exploring-eba...        1     71   \n",
       "82  https://community.dataquest.io/t/3rd-project-e...        2     80   \n",
       "93  https://community.dataquest.io/t/feedback-requ...        3     75   \n",
       "\n",
       "                                             feedback  \\\n",
       "28  \\nHello @daryaholodova! Thanks for sharing you...   \n",
       "38  \\nHello @adam.kubalica! Thanks for sharing you...   \n",
       "65  \\nHi @lekanestyve! Thanks for sharing your pro...   \n",
       "82  \\nHi @rudythealchemist\\nThanks for sharing you...   \n",
       "93  \\nHi @rizvey.ma! Thanks for sharing your proje...   \n",
       "\n",
       "                             title_nostop  tag  \n",
       "28               gp ebay car sales pandas  NaN  \n",
       "38          ebay car sales advice welcome  NaN  \n",
       "65            ebay car sales lekane styve  NaN  \n",
       "82  3rd exploringebaycarsales datapyipynb  NaN  \n",
       "93               requested ebay car sales  NaN  "
      ]
     },
     "execution_count": 15,
     "metadata": {},
     "output_type": "execute_result"
    }
   ],
   "source": [
    "df[(df['title_nostop'].str.contains(top_word)) & df['tag'].isnull()].head()"
   ]
  },
  {
   "cell_type": "markdown",
   "id": "a210d1f7",
   "metadata": {
    "papermill": {
     "duration": 0.050707,
     "end_time": "2022-01-01T06:02:00.900933",
     "exception": false,
     "start_time": "2022-01-01T06:02:00.850226",
     "status": "completed"
    },
    "tags": []
   },
   "source": []
  },
  {
   "cell_type": "code",
   "execution_count": 16,
   "id": "3d78f7c2",
   "metadata": {
    "execution": {
     "iopub.execute_input": "2022-01-01T06:02:01.073633Z",
     "iopub.status.busy": "2022-01-01T06:02:01.064943Z",
     "iopub.status.idle": "2022-01-01T06:02:01.086463Z",
     "shell.execute_reply": "2022-01-01T06:02:01.086946Z",
     "shell.execute_reply.started": "2022-01-01T05:59:25.859109Z"
    },
    "papermill": {
     "duration": 0.135472,
     "end_time": "2022-01-01T06:02:01.087150",
     "exception": false,
     "start_time": "2022-01-01T06:02:00.951678",
     "status": "completed"
    },
    "tags": []
   },
   "outputs": [
    {
     "data": {
      "text/plain": [
       "(59, 8)"
      ]
     },
     "execution_count": 16,
     "metadata": {},
     "output_type": "execute_result"
    }
   ],
   "source": [
    "for a_tag in df['tag'].value_counts()[:25].index:\n",
    "    top_word = Counter(\" \".join(df[df['tag']==a_tag]['title_nostop']).split()).most_common(1)[0][0]\n",
    "    df.loc[(df['title_nostop'].str.contains(top_word)) & df['tag'].isnull(), 'tag'] = a_tag\n",
    "    \n",
    "df[df['tag'].isnull()].shape"
   ]
  },
  {
   "cell_type": "code",
   "execution_count": 17,
   "id": "dce1f53e",
   "metadata": {
    "execution": {
     "iopub.execute_input": "2022-01-01T06:02:01.199202Z",
     "iopub.status.busy": "2022-01-01T06:02:01.198320Z",
     "iopub.status.idle": "2022-01-01T06:02:01.200707Z",
     "shell.execute_reply": "2022-01-01T06:02:01.201142Z",
     "shell.execute_reply.started": "2022-01-01T05:59:25.936246Z"
    },
    "papermill": {
     "duration": 0.062274,
     "end_time": "2022-01-01T06:02:01.201352",
     "exception": false,
     "start_time": "2022-01-01T06:02:01.139078",
     "status": "completed"
    },
    "tags": []
   },
   "outputs": [],
   "source": [
    "# the word 'car' issue:\n",
    "df.loc[(df['title_nostop'].str.contains('german')) & (df['tag']=='155'),'tag'] = '294'"
   ]
  },
  {
   "cell_type": "markdown",
   "id": "171644c5",
   "metadata": {
    "papermill": {
     "duration": 0.052447,
     "end_time": "2022-01-01T06:02:01.306439",
     "exception": false,
     "start_time": "2022-01-01T06:02:01.253992",
     "status": "completed"
    },
    "tags": []
   },
   "source": [
    "Solved"
   ]
  },
  {
   "cell_type": "code",
   "execution_count": 18,
   "id": "786d7d7b",
   "metadata": {
    "execution": {
     "iopub.execute_input": "2022-01-01T06:02:01.419185Z",
     "iopub.status.busy": "2022-01-01T06:02:01.418504Z",
     "iopub.status.idle": "2022-01-01T06:02:01.421133Z",
     "shell.execute_reply": "2022-01-01T06:02:01.421590Z",
     "shell.execute_reply.started": "2022-01-01T05:59:25.944563Z"
    },
    "papermill": {
     "duration": 0.06313,
     "end_time": "2022-01-01T06:02:01.421751",
     "exception": false,
     "start_time": "2022-01-01T06:02:01.358621",
     "status": "completed"
    },
    "tags": []
   },
   "outputs": [
    {
     "data": {
      "text/plain": [
       "[('community', 16),\n",
       " ('champions', 15),\n",
       " ('week', 15),\n",
       " ('review', 6),\n",
       " ('first', 6),\n",
       " ('sharing', 4),\n",
       " ('analysis', 3),\n",
       " ('2', 3),\n",
       " ('projects', 3),\n",
       " ('requesting', 3)]"
      ]
     },
     "execution_count": 18,
     "metadata": {},
     "output_type": "execute_result"
    }
   ],
   "source": [
    "Counter(\" \".join(df[df['tag'].isnull()]['title_nostop']).split()).most_common(10)"
   ]
  },
  {
   "cell_type": "code",
   "execution_count": 19,
   "id": "43d648e7",
   "metadata": {
    "execution": {
     "iopub.execute_input": "2022-01-01T06:02:01.537311Z",
     "iopub.status.busy": "2022-01-01T06:02:01.531017Z",
     "iopub.status.idle": "2022-01-01T06:02:01.540781Z",
     "shell.execute_reply": "2022-01-01T06:02:01.540138Z",
     "shell.execute_reply.started": "2022-01-01T05:59:25.965047Z"
    },
    "papermill": {
     "duration": 0.067119,
     "end_time": "2022-01-01T06:02:01.540912",
     "exception": false,
     "start_time": "2022-01-01T06:02:01.473793",
     "status": "completed"
    },
    "tags": []
   },
   "outputs": [
    {
     "data": {
      "text/plain": [
       "356    163\n",
       "294    155\n",
       "350    138\n",
       "146     87\n",
       "257     81\n",
       "348     68\n",
       "201     48\n",
       "149     43\n",
       "217     42\n",
       "191     38\n",
       "524     21\n",
       "155     21\n",
       "469     19\n",
       "288     18\n",
       "310     16\n",
       "240     10\n",
       "213     10\n",
       "210      9\n",
       "65       7\n",
       "529      7\n",
       "244      6\n",
       "433      4\n",
       "382      4\n",
       "544      3\n",
       "404      3\n",
       "505      3\n",
       "498      2\n",
       "277      2\n",
       "280      2\n",
       "Name: tag, dtype: int64"
      ]
     },
     "execution_count": 19,
     "metadata": {},
     "output_type": "execute_result"
    }
   ],
   "source": [
    "df = df[~(df['tag'].isnull())].copy()\n",
    "df = df.drop(columns='title')\n",
    "\n",
    "df['tag'].value_counts()[:29]"
   ]
  },
  {
   "cell_type": "code",
   "execution_count": 20,
   "id": "678d6668",
   "metadata": {
    "execution": {
     "iopub.execute_input": "2022-01-01T06:02:01.720161Z",
     "iopub.status.busy": "2022-01-01T06:02:01.653565Z",
     "iopub.status.idle": "2022-01-01T06:02:01.722990Z",
     "shell.execute_reply": "2022-01-01T06:02:01.722453Z",
     "shell.execute_reply.started": "2022-01-01T05:59:25.987106Z"
    },
    "papermill": {
     "duration": 0.130069,
     "end_time": "2022-01-01T06:02:01.723126",
     "exception": false,
     "start_time": "2022-01-01T06:02:01.593057",
     "status": "completed"
    },
    "tags": []
   },
   "outputs": [],
   "source": [
    "# create empty dictionary and a column filled with '0's\n",
    "pop_tags = {}\n",
    "df['short_title'] = None\n",
    "\n",
    "# loop trough first 29 tags and extract 2 most common words, merge them into 1 string and \n",
    "# store it in a dictionary:\n",
    "for a_tag in df['tag'].value_counts()[:29].index:\n",
    "    top_word = Counter(\" \".join(df[df['tag']==a_tag]['title_nostop']).split()).most_common(2)[0][0]\n",
    "    top_word2 = Counter(\" \".join(df[df['tag']==a_tag]['title_nostop']).split()).most_common(2)[1][0]\n",
    "    pop_tags[a_tag] = top_word+' '+top_word2\n",
    "\n",
    "    \n",
    "for a_tag in df['tag'].value_counts()[:29].index:\n",
    "    df.loc[df['tag']==a_tag, 'short_title'] = pop_tags[a_tag]   "
   ]
  },
  {
   "cell_type": "markdown",
   "id": "e5f6241a",
   "metadata": {
    "papermill": {
     "duration": 0.051992,
     "end_time": "2022-01-01T06:02:01.827150",
     "exception": false,
     "start_time": "2022-01-01T06:02:01.775158",
     "status": "completed"
    },
    "tags": []
   },
   "source": [
    "# Part 2: Basic EDA"
   ]
  },
  {
   "cell_type": "code",
   "execution_count": 21,
   "id": "ef991796",
   "metadata": {
    "execution": {
     "iopub.execute_input": "2022-01-01T06:02:01.938953Z",
     "iopub.status.busy": "2022-01-01T06:02:01.938060Z",
     "iopub.status.idle": "2022-01-01T06:02:01.942021Z",
     "shell.execute_reply": "2022-01-01T06:02:01.941530Z",
     "shell.execute_reply.started": "2022-01-01T05:59:26.053083Z"
    },
    "papermill": {
     "duration": 0.063114,
     "end_time": "2022-01-01T06:02:01.942178",
     "exception": false,
     "start_time": "2022-01-01T06:02:01.879064",
     "status": "completed"
    },
    "tags": []
   },
   "outputs": [
    {
     "data": {
      "text/plain": [
       "news hacker            163\n",
       "ebay car               155\n",
       "app profitable         138\n",
       "college visualizing     87\n",
       "cia factbook            81\n",
       "exit employee           68\n",
       "wars star               48\n",
       "gender gap              43\n",
       "nyc high                42\n",
       "sql using               38\n",
       "Name: short_title, dtype: int64"
      ]
     },
     "execution_count": 21,
     "metadata": {},
     "output_type": "execute_result"
    }
   ],
   "source": [
    "df['short_title'].value_counts()[:10]"
   ]
  },
  {
   "cell_type": "code",
   "execution_count": 22,
   "id": "a69a552a",
   "metadata": {
    "execution": {
     "iopub.execute_input": "2022-01-01T06:02:02.054664Z",
     "iopub.status.busy": "2022-01-01T06:02:02.053991Z",
     "iopub.status.idle": "2022-01-01T06:02:02.059411Z",
     "shell.execute_reply": "2022-01-01T06:02:02.058867Z",
     "shell.execute_reply.started": "2022-01-01T05:59:26.062849Z"
    },
    "papermill": {
     "duration": 0.065099,
     "end_time": "2022-01-01T06:02:02.059547",
     "exception": false,
     "start_time": "2022-01-01T06:02:01.994448",
     "status": "completed"
    },
    "tags": []
   },
   "outputs": [
    {
     "data": {
      "text/plain": [
       "short_title\n",
       "bike rentals              10\n",
       "book performance           2\n",
       "building classifier        6\n",
       "business solution          2\n",
       "car prices                21\n",
       "cia factbook              81\n",
       "college visualizing       87\n",
       "covid19 investigating      3\n",
       "ebay car                 155\n",
       "exchange rates             7\n",
       "exit employee             68\n",
       "fandango ratings          18\n",
       "forest fire                2\n",
       "gender gap                43\n",
       "hacker news                3\n",
       "house prices              10\n",
       "jeopardy winning           9\n",
       "lottery addiction          4\n",
       "markets advertise         16\n",
       "news hacker              163\n",
       "nyc high                  42\n",
       "science popular           19\n",
       "spam filter                4\n",
       "sql cia                    3\n",
       "sql using                 38\n",
       "stock market               7\n",
       "traffic heavy             21\n",
       "wars star                 48\n",
       "Name: views, dtype: int64"
      ]
     },
     "execution_count": 22,
     "metadata": {},
     "output_type": "execute_result"
    }
   ],
   "source": [
    "df.groupby('short_title')['views'].count()[1:]"
   ]
  },
  {
   "cell_type": "code",
   "execution_count": 23,
   "id": "a70ae5d9",
   "metadata": {
    "execution": {
     "iopub.execute_input": "2022-01-01T06:02:02.174587Z",
     "iopub.status.busy": "2022-01-01T06:02:02.173866Z",
     "iopub.status.idle": "2022-01-01T06:02:02.503347Z",
     "shell.execute_reply": "2022-01-01T06:02:02.502820Z",
     "shell.execute_reply.started": "2022-01-01T05:59:26.080646Z"
    },
    "papermill": {
     "duration": 0.390298,
     "end_time": "2022-01-01T06:02:02.503482",
     "exception": false,
     "start_time": "2022-01-01T06:02:02.113184",
     "status": "completed"
    },
    "tags": []
   },
   "outputs": [
    {
     "data": {
      "image/png": "[encoded data removed]",
      "text/plain": [
       "<Figure size 1152x864 with 1 Axes>"
      ]
     },
     "metadata": {
      "needs_background": "light"
     },
     "output_type": "display_data"
    }
   ],
   "source": [
    "plot_index = df.groupby('short_title')['views'].sum().sort_values()[-15:].index\n",
    "plot_values = df.groupby('short_title')['views'].sum().sort_values()[-15:].values\n",
    "plot_counts = df.groupby('short_title')['views'].count().sort_values()[-15:].values\n",
    "\n",
    "import matplotlib.pyplot as plt\n",
    "\n",
    "# group the dataset by project title:\n",
    "plot_index = df.groupby('short_title')['views'].sum().sort_values()[-15:].index\n",
    "plot_counts = df.groupby('short_title')['views'].count().sort_values()[-15:].values\n",
    "\n",
    "# create a plot:\n",
    "fig, ax = plt.subplots(figsize=(16,12))\n",
    "plt.barh(plot_index,plot_counts, label='number of posts')\n",
    "ax.spines['right'].set_visible(False)\n",
    "ax.spines['top'].set_visible(False)\n",
    "ax.set_xlabel('Number of posts')\n",
    "plt.title('Number of posts for each project',fontsize=22,pad=24)\n",
    "plt.show()"
   ]
  },
  {
   "cell_type": "code",
   "execution_count": 24,
   "id": "63fdf752",
   "metadata": {
    "execution": {
     "iopub.execute_input": "2022-01-01T06:02:02.619894Z",
     "iopub.status.busy": "2022-01-01T06:02:02.619279Z",
     "iopub.status.idle": "2022-01-01T06:02:03.350884Z",
     "shell.execute_reply": "2022-01-01T06:02:03.351378Z",
     "shell.execute_reply.started": "2022-01-01T05:59:26.412068Z"
    },
    "papermill": {
     "duration": 0.793552,
     "end_time": "2022-01-01T06:02:03.351544",
     "exception": false,
     "start_time": "2022-01-01T06:02:02.557992",
     "status": "completed"
    },
    "tags": []
   },
   "outputs": [
    {
     "data": {
      "image/png": "[encoded data removed]",
      "text/plain": [
       "<Figure size 1152x864 with 2 Axes>"
      ]
     },
     "metadata": {
      "needs_background": "light"
     },
     "output_type": "display_data"
    }
   ],
   "source": [
    "import matplotlib.pyplot as plt\n",
    "fig, ax = plt.subplots(figsize=(16,12))\n",
    "plt.barh(plot_index,plot_values)\n",
    "ax.spines['right'].set_visible(False)\n",
    "ax.set_xlabel('Number of views')\n",
    "ax=ax.twiny()\n",
    "plt.scatter(plot_counts,plot_index, color='r', s=200, alpha=0.5, label='number of posts')\n",
    "ax.spines['right'].set_visible(False)\n",
    "ax.set_xlabel('Number of posts')\n",
    "plt.legend(loc=4)\n",
    "plt.title('Number of posts and views for each project',fontsize=22,pad=24)\n",
    "plt.show()"
   ]
  },
  {
   "cell_type": "code",
   "execution_count": 25,
   "id": "d3c4d0fc",
   "metadata": {
    "execution": {
     "iopub.execute_input": "2022-01-01T06:02:03.472987Z",
     "iopub.status.busy": "2022-01-01T06:02:03.472336Z",
     "iopub.status.idle": "2022-01-01T06:02:03.745755Z",
     "shell.execute_reply": "2022-01-01T06:02:03.745087Z",
     "shell.execute_reply.started": "2022-01-01T05:59:27.125509Z"
    },
    "papermill": {
     "duration": 0.337329,
     "end_time": "2022-01-01T06:02:03.745895",
     "exception": false,
     "start_time": "2022-01-01T06:02:03.408566",
     "status": "completed"
    },
    "tags": []
   },
   "outputs": [
    {
     "data": {
      "image/png": "[encoded data removed]",
      "text/plain": [
       "<Figure size 1152x576 with 1 Axes>"
      ]
     },
     "metadata": {
      "needs_background": "light"
     },
     "output_type": "display_data"
    }
   ],
   "source": [
    "df_top20 = df[df['short_title'].isin(plot_index)]\n",
    "\n",
    "plot_index = df_top20.groupby('short_title')['views'].median().sort_values()[-15:].index\n",
    "plot_values = df_top20.groupby('short_title')['views'].median().sort_values()[-15:].values\n",
    "fig, ax = plt.subplots(figsize=(16,8))\n",
    "plt.barh(plot_index,plot_values)\n",
    "spines(ax, xl='number of views', title='Median of views for each project')\n",
    "plt.show()"
   ]
  },
  {
   "cell_type": "code",
   "execution_count": 26,
   "id": "5143957d",
   "metadata": {
    "execution": {
     "iopub.execute_input": "2022-01-01T06:02:03.867796Z",
     "iopub.status.busy": "2022-01-01T06:02:03.867082Z",
     "iopub.status.idle": "2022-01-01T06:02:04.269751Z",
     "shell.execute_reply": "2022-01-01T06:02:04.270246Z",
     "shell.execute_reply.started": "2022-01-01T05:59:27.519247Z"
    },
    "papermill": {
     "duration": 0.467298,
     "end_time": "2022-01-01T06:02:04.270429",
     "exception": false,
     "start_time": "2022-01-01T06:02:03.803131",
     "status": "completed"
    },
    "tags": []
   },
   "outputs": [
    {
     "data": {
      "image/png": "[encoded data removed]",
      "text/plain": [
       "<Figure size 1152x576 with 1 Axes>"
      ]
     },
     "metadata": {
      "needs_background": "light"
     },
     "output_type": "display_data"
    }
   ],
   "source": [
    "plot_index = df_top20.groupby('short_title')['replies'].median().sort_values()[-15:].index\n",
    "plot_values = df_top20.groupby('short_title')['replies'].median().sort_values()[-15:].values\n",
    "fig, ax = plt.subplots(figsize=(16,8))\n",
    "plt.barh(plot_index,plot_values)\n",
    "spines(ax, xl='number of replies', title='Median of replies for each project')\n",
    "plt.show()"
   ]
  },
  {
   "cell_type": "markdown",
   "id": "8aaae4aa",
   "metadata": {
    "papermill": {
     "duration": 0.057632,
     "end_time": "2022-01-01T06:02:04.386033",
     "exception": false,
     "start_time": "2022-01-01T06:02:04.328401",
     "status": "completed"
    },
    "tags": []
   },
   "source": [
    "# Part 3: NLP Analysis \n",
    "### Feedback cleaning"
   ]
  },
  {
   "cell_type": "code",
   "execution_count": 27,
   "id": "b14d5333",
   "metadata": {
    "execution": {
     "iopub.execute_input": "2022-01-01T06:02:04.507515Z",
     "iopub.status.busy": "2022-01-01T06:02:04.506563Z",
     "iopub.status.idle": "2022-01-01T06:02:19.802825Z",
     "shell.execute_reply": "2022-01-01T06:02:19.803355Z",
     "shell.execute_reply.started": "2022-01-01T06:00:59.475443Z"
    },
    "papermill": {
     "duration": 15.359405,
     "end_time": "2022-01-01T06:02:19.803542",
     "exception": false,
     "start_time": "2022-01-01T06:02:04.444137",
     "status": "completed"
    },
    "tags": []
   },
   "outputs": [
    {
     "name": "stdout",
     "output_type": "stream",
     "text": [
      "Collecting contractions\r\n",
      "  Downloading contractions-0.0.58-py2.py3-none-any.whl (8.0 kB)\r\n",
      "Collecting textsearch>=0.0.21\r\n",
      "  Downloading textsearch-0.0.21-py2.py3-none-any.whl (7.5 kB)\r\n",
      "Collecting anyascii\r\n",
      "  Downloading anyascii-0.3.0-py3-none-any.whl (284 kB)\r\n",
      "     |████████████████████████████████| 284 kB 883 kB/s            \r\n",
      "\u001b[?25hCollecting pyahocorasick\r\n",
      "  Downloading pyahocorasick-1.4.2.tar.gz (321 kB)\r\n",
      "     |████████████████████████████████| 321 kB 12.4 MB/s            \r\n",
      "\u001b[?25h  Preparing metadata (setup.py) ... \u001b[?25l-\b \b\\\b \bdone\r\n",
      "\u001b[?25hBuilding wheels for collected packages: pyahocorasick\r\n",
      "  Building wheel for pyahocorasick (setup.py) ... \u001b[?25l-\b \b\\\b \b|\b \b/\b \bdone\r\n",
      "\u001b[?25h  Created wheel for pyahocorasick: filename=pyahocorasick-1.4.2-cp37-cp37m-linux_x86_64.whl size=106882 sha256=9f92495352fef78bc5ad1ab6d1f42bd5d0797aeb14e940bce59b43d43fc29659\r\n",
      "  Stored in directory: /root/.cache/pip/wheels/25/19/a6/8f363d9939162782bb8439d886469756271abc01f76fbd790f\r\n",
      "Successfully built pyahocorasick\r\n",
      "Installing collected packages: pyahocorasick, anyascii, textsearch, contractions\r\n",
      "Successfully installed anyascii-0.3.0 contractions-0.0.58 pyahocorasick-1.4.2 textsearch-0.0.21\r\n",
      "\u001b[33mWARNING: Running pip as the 'root' user can result in broken permissions and conflicting behaviour with the system package manager. It is recommended to use a virtual environment instead: https://pip.pypa.io/warnings/venv\u001b[0m\r\n"
     ]
    }
   ],
   "source": [
    "!pip install contractions\n",
    "import contractions"
   ]
  },
  {
   "cell_type": "markdown",
   "id": "29a6a36f",
   "metadata": {
    "papermill": {
     "duration": 0.064824,
     "end_time": "2022-01-01T06:02:19.934398",
     "exception": false,
     "start_time": "2022-01-01T06:02:19.869574",
     "status": "completed"
    },
    "tags": []
   },
   "source": [
    "### Text cleaning"
   ]
  },
  {
   "cell_type": "code",
   "execution_count": 28,
   "id": "010191e0",
   "metadata": {
    "execution": {
     "iopub.execute_input": "2022-01-01T06:02:20.067961Z",
     "iopub.status.busy": "2022-01-01T06:02:20.066920Z",
     "iopub.status.idle": "2022-01-01T06:02:20.530441Z",
     "shell.execute_reply": "2022-01-01T06:02:20.530992Z",
     "shell.execute_reply.started": "2022-01-01T06:01:12.152844Z"
    },
    "papermill": {
     "duration": 0.532168,
     "end_time": "2022-01-01T06:02:20.531170",
     "exception": false,
     "start_time": "2022-01-01T06:02:19.999002",
     "status": "completed"
    },
    "tags": []
   },
   "outputs": [],
   "source": [
    "# remove '\\n' and punctuation, lowercase all letters, expand contractions:\n",
    "df['feedback'] = df['feedback'].str.replace('\\n',' ').str.lower()\n",
    "df['feedback'] = df['feedback'].apply(lambda x: contractions.fix(x))\n",
    "\n",
    "# remove punctuations and stopwords, store results in a new column:\n",
    "df['feedback_clean'] = df['feedback'].apply(remove_punctuations)\n",
    "df['feedback_clean'] = df['feedback_clean'].apply(lambda x: ' '.join([word for word in x.split() if word not in (stop)]))\n",
    "\n",
    "# check 10 most common words and remove them, store results in a new column:\n",
    "freq10 = pd.Series(' '.join(df['feedback_clean']).split()).value_counts()[:10]\n",
    "df['feedback_clean2'] = df['feedback_clean'].apply(lambda x: ' '.join([word for word in x.split() if word not in (freq10)]))"
   ]
  },
  {
   "cell_type": "markdown",
   "id": "77c4202f",
   "metadata": {
    "papermill": {
     "duration": 0.064467,
     "end_time": "2022-01-01T06:02:20.660124",
     "exception": false,
     "start_time": "2022-01-01T06:02:20.595657",
     "status": "completed"
    },
    "tags": []
   },
   "source": [
    "# Popular words"
   ]
  },
  {
   "cell_type": "code",
   "execution_count": 29,
   "id": "76cac449",
   "metadata": {
    "execution": {
     "iopub.execute_input": "2022-01-01T06:02:20.794208Z",
     "iopub.status.busy": "2022-01-01T06:02:20.793307Z",
     "iopub.status.idle": "2022-01-01T06:02:20.826953Z",
     "shell.execute_reply": "2022-01-01T06:02:20.827503Z",
     "shell.execute_reply.started": "2022-01-01T05:59:27.798793Z"
    },
    "papermill": {
     "duration": 0.102471,
     "end_time": "2022-01-01T06:02:20.827681",
     "exception": false,
     "start_time": "2022-01-01T06:02:20.725210",
     "status": "completed"
    },
    "tags": []
   },
   "outputs": [
    {
     "data": {
      "text/html": [
       "<div>\n",
       "<style scoped>\n",
       "    .dataframe tbody tr th:only-of-type {\n",
       "        vertical-align: middle;\n",
       "    }\n",
       "\n",
       "    .dataframe tbody tr th {\n",
       "        vertical-align: top;\n",
       "    }\n",
       "\n",
       "    .dataframe thead th {\n",
       "        text-align: right;\n",
       "    }\n",
       "</style>\n",
       "<table border=\"1\" class=\"dataframe\">\n",
       "  <thead>\n",
       "    <tr style=\"text-align: right;\">\n",
       "      <th></th>\n",
       "      <th>Common_words</th>\n",
       "      <th>count</th>\n",
       "    </tr>\n",
       "  </thead>\n",
       "  <tbody>\n",
       "    <tr>\n",
       "      <th>0</th>\n",
       "      <td>project</td>\n",
       "      <td>2239</td>\n",
       "    </tr>\n",
       "    <tr>\n",
       "      <th>1</th>\n",
       "      <td>code</td>\n",
       "      <td>1140</td>\n",
       "    </tr>\n",
       "    <tr>\n",
       "      <th>2</th>\n",
       "      <td>good</td>\n",
       "      <td>721</td>\n",
       "    </tr>\n",
       "    <tr>\n",
       "      <th>3</th>\n",
       "      <td>like</td>\n",
       "      <td>551</td>\n",
       "    </tr>\n",
       "    <tr>\n",
       "      <th>4</th>\n",
       "      <td>would</td>\n",
       "      <td>544</td>\n",
       "    </tr>\n",
       "    <tr>\n",
       "      <th>5</th>\n",
       "      <td>sharing</td>\n",
       "      <td>525</td>\n",
       "    </tr>\n",
       "    <tr>\n",
       "      <th>6</th>\n",
       "      <td>hi</td>\n",
       "      <td>522</td>\n",
       "    </tr>\n",
       "    <tr>\n",
       "      <th>7</th>\n",
       "      <td>also</td>\n",
       "      <td>521</td>\n",
       "    </tr>\n",
       "    <tr>\n",
       "      <th>8</th>\n",
       "      <td>well</td>\n",
       "      <td>494</td>\n",
       "    </tr>\n",
       "    <tr>\n",
       "      <th>9</th>\n",
       "      <td>work</td>\n",
       "      <td>435</td>\n",
       "    </tr>\n",
       "  </tbody>\n",
       "</table>\n",
       "</div>"
      ],
      "text/plain": [
       "  Common_words  count\n",
       "0      project   2239\n",
       "1         code   1140\n",
       "2         good    721\n",
       "3         like    551\n",
       "4        would    544\n",
       "5      sharing    525\n",
       "6           hi    522\n",
       "7         also    521\n",
       "8         well    494\n",
       "9         work    435"
      ]
     },
     "execution_count": 29,
     "metadata": {},
     "output_type": "execute_result"
    }
   ],
   "source": [
    "def popular_words(series):\n",
    "    df['temp_list'] = series.apply(lambda x:str(x).split())\n",
    "    top = Counter([item for sublist in df['temp_list'] for item in sublist])\n",
    "    temp = pd.DataFrame(top.most_common(10))\n",
    "    temp.columns = ['Common_words','count']\n",
    "    return temp\n",
    "\n",
    "popular_words(df['feedback_clean'])"
   ]
  },
  {
   "cell_type": "code",
   "execution_count": 30,
   "id": "fa2fa2bc",
   "metadata": {
    "execution": {
     "iopub.execute_input": "2022-01-01T06:02:20.963111Z",
     "iopub.status.busy": "2022-01-01T06:02:20.962076Z",
     "iopub.status.idle": "2022-01-01T06:02:20.992434Z",
     "shell.execute_reply": "2022-01-01T06:02:20.992967Z",
     "shell.execute_reply.started": "2022-01-01T05:59:27.801074Z"
    },
    "papermill": {
     "duration": 0.099393,
     "end_time": "2022-01-01T06:02:20.993131",
     "exception": false,
     "start_time": "2022-01-01T06:02:20.893738",
     "status": "completed"
    },
    "tags": []
   },
   "outputs": [
    {
     "data": {
      "text/html": [
       "<div>\n",
       "<style scoped>\n",
       "    .dataframe tbody tr th:only-of-type {\n",
       "        vertical-align: middle;\n",
       "    }\n",
       "\n",
       "    .dataframe tbody tr th {\n",
       "        vertical-align: top;\n",
       "    }\n",
       "\n",
       "    .dataframe thead th {\n",
       "        text-align: right;\n",
       "    }\n",
       "</style>\n",
       "<table border=\"1\" class=\"dataframe\">\n",
       "  <thead>\n",
       "    <tr style=\"text-align: right;\">\n",
       "      <th></th>\n",
       "      <th>Common_words</th>\n",
       "      <th>count</th>\n",
       "    </tr>\n",
       "  </thead>\n",
       "  <tbody>\n",
       "    <tr>\n",
       "      <th>0</th>\n",
       "      <td>data</td>\n",
       "      <td>434</td>\n",
       "    </tr>\n",
       "    <tr>\n",
       "      <th>1</th>\n",
       "      <td>thanks</td>\n",
       "      <td>421</td>\n",
       "    </tr>\n",
       "    <tr>\n",
       "      <th>2</th>\n",
       "      <td>great</td>\n",
       "      <td>394</td>\n",
       "    </tr>\n",
       "    <tr>\n",
       "      <th>3</th>\n",
       "      <td>use</td>\n",
       "      <td>389</td>\n",
       "    </tr>\n",
       "    <tr>\n",
       "      <th>4</th>\n",
       "      <td>better</td>\n",
       "      <td>385</td>\n",
       "    </tr>\n",
       "    <tr>\n",
       "      <th>5</th>\n",
       "      <td>cell</td>\n",
       "      <td>368</td>\n",
       "    </tr>\n",
       "    <tr>\n",
       "      <th>6</th>\n",
       "      <td>happy</td>\n",
       "      <td>361</td>\n",
       "    </tr>\n",
       "    <tr>\n",
       "      <th>7</th>\n",
       "      <td>community</td>\n",
       "      <td>353</td>\n",
       "    </tr>\n",
       "    <tr>\n",
       "      <th>8</th>\n",
       "      <td>comments</td>\n",
       "      <td>347</td>\n",
       "    </tr>\n",
       "    <tr>\n",
       "      <th>9</th>\n",
       "      <td>conclusion</td>\n",
       "      <td>343</td>\n",
       "    </tr>\n",
       "  </tbody>\n",
       "</table>\n",
       "</div>"
      ],
      "text/plain": [
       "  Common_words  count\n",
       "0         data    434\n",
       "1       thanks    421\n",
       "2        great    394\n",
       "3          use    389\n",
       "4       better    385\n",
       "5         cell    368\n",
       "6        happy    361\n",
       "7    community    353\n",
       "8     comments    347\n",
       "9   conclusion    343"
      ]
     },
     "execution_count": 30,
     "metadata": {},
     "output_type": "execute_result"
    }
   ],
   "source": [
    "popular_words(df['feedback_clean2'])"
   ]
  },
  {
   "cell_type": "markdown",
   "id": "5bb9ce2e",
   "metadata": {
    "papermill": {
     "duration": 0.06733,
     "end_time": "2022-01-01T06:02:21.127118",
     "exception": false,
     "start_time": "2022-01-01T06:02:21.059788",
     "status": "completed"
    },
    "tags": []
   },
   "source": [
    "# Tokenize"
   ]
  },
  {
   "cell_type": "code",
   "execution_count": 31,
   "id": "97cc46c1",
   "metadata": {
    "execution": {
     "iopub.execute_input": "2022-01-01T06:02:21.263841Z",
     "iopub.status.busy": "2022-01-01T06:02:21.262881Z",
     "iopub.status.idle": "2022-01-01T06:02:21.280910Z",
     "shell.execute_reply": "2022-01-01T06:02:21.281454Z",
     "shell.execute_reply.started": "2022-01-01T05:59:27.803123Z"
    },
    "papermill": {
     "duration": 0.087893,
     "end_time": "2022-01-01T06:02:21.281632",
     "exception": false,
     "start_time": "2022-01-01T06:02:21.193739",
     "status": "completed"
    },
    "tags": []
   },
   "outputs": [
    {
     "data": {
      "text/plain": [
       "['The', 'most', 'common', 'method', 'is', 'word', 'tokenizing', '.']"
      ]
     },
     "execution_count": 31,
     "metadata": {},
     "output_type": "execute_result"
    }
   ],
   "source": [
    "from nltk.tokenize import word_tokenize\n",
    "from nltk.tokenize import sent_tokenize\n",
    "word_tokenize('The most common method is word tokenizing.')"
   ]
  },
  {
   "cell_type": "code",
   "execution_count": 32,
   "id": "bec159d5",
   "metadata": {
    "execution": {
     "iopub.execute_input": "2022-01-01T06:02:21.419918Z",
     "iopub.status.busy": "2022-01-01T06:02:21.418968Z",
     "iopub.status.idle": "2022-01-01T06:02:21.425578Z",
     "shell.execute_reply": "2022-01-01T06:02:21.426148Z",
     "shell.execute_reply.started": "2022-01-01T05:59:27.804962Z"
    },
    "papermill": {
     "duration": 0.077857,
     "end_time": "2022-01-01T06:02:21.426351",
     "exception": false,
     "start_time": "2022-01-01T06:02:21.348494",
     "status": "completed"
    },
    "tags": []
   },
   "outputs": [
    {
     "data": {
      "text/plain": [
       "['You can also come across sentence tokenizing.', 'This is a simple example.']"
      ]
     },
     "execution_count": 32,
     "metadata": {},
     "output_type": "execute_result"
    }
   ],
   "source": [
    "sent_tokenize(\"You can also come across sentence tokenizing. This is a simple example.\")"
   ]
  },
  {
   "cell_type": "code",
   "execution_count": 33,
   "id": "a287be6a",
   "metadata": {
    "execution": {
     "iopub.execute_input": "2022-01-01T06:02:21.564860Z",
     "iopub.status.busy": "2022-01-01T06:02:21.563894Z",
     "iopub.status.idle": "2022-01-01T06:02:22.240445Z",
     "shell.execute_reply": "2022-01-01T06:02:22.241027Z",
     "shell.execute_reply.started": "2022-01-01T05:59:27.806833Z"
    },
    "papermill": {
     "duration": 0.747403,
     "end_time": "2022-01-01T06:02:22.241214",
     "exception": false,
     "start_time": "2022-01-01T06:02:21.493811",
     "status": "completed"
    },
    "tags": []
   },
   "outputs": [],
   "source": [
    "fc2_tokenized = word_tokenize(df['feedback_clean2'].sum())"
   ]
  },
  {
   "cell_type": "markdown",
   "id": "f111d219",
   "metadata": {
    "papermill": {
     "duration": 0.067232,
     "end_time": "2022-01-01T06:02:22.376406",
     "exception": false,
     "start_time": "2022-01-01T06:02:22.309174",
     "status": "completed"
    },
    "tags": []
   },
   "source": [
    "# N-grams"
   ]
  },
  {
   "cell_type": "code",
   "execution_count": 34,
   "id": "d19d3708",
   "metadata": {
    "execution": {
     "iopub.execute_input": "2022-01-01T06:02:22.514911Z",
     "iopub.status.busy": "2022-01-01T06:02:22.513999Z",
     "iopub.status.idle": "2022-01-01T06:02:22.568227Z",
     "shell.execute_reply": "2022-01-01T06:02:22.568828Z",
     "shell.execute_reply.started": "2022-01-01T05:59:27.808495Z"
    },
    "papermill": {
     "duration": 0.124688,
     "end_time": "2022-01-01T06:02:22.568998",
     "exception": false,
     "start_time": "2022-01-01T06:02:22.444310",
     "status": "completed"
    },
    "tags": []
   },
   "outputs": [
    {
     "data": {
      "text/plain": [
       "[(('great', 'job'), 93),\n",
       " (('welcome', 'community'), 77),\n",
       " (('’', 's'), 74),\n",
       " (('everything', 'looks'), 61),\n",
       " (('guided', 'community'), 61),\n",
       " (('markdown', 'cell'), 59),\n",
       " (('ipynb', 'file'), 59),\n",
       " (('markdown', 'cells'), 56),\n",
       " (('share', 'guided'), 55),\n",
       " (('otherwise', 'everything'), 54)]"
      ]
     },
     "execution_count": 34,
     "metadata": {},
     "output_type": "execute_result"
    }
   ],
   "source": [
    "from nltk.util import ngrams \n",
    "import collections\n",
    "\n",
    "bigrams = ngrams(fc2_tokenized, 2)\n",
    "bigrams_freq = collections.Counter(bigrams)\n",
    "bigrams_freq.most_common(10)"
   ]
  },
  {
   "cell_type": "code",
   "execution_count": 35,
   "id": "ce8191b2",
   "metadata": {
    "execution": {
     "iopub.execute_input": "2022-01-01T06:02:22.706223Z",
     "iopub.status.busy": "2022-01-01T06:02:22.705638Z",
     "iopub.status.idle": "2022-01-01T06:02:22.756282Z",
     "shell.execute_reply": "2022-01-01T06:02:22.755768Z",
     "shell.execute_reply.started": "2022-01-01T05:59:27.810538Z"
    },
    "papermill": {
     "duration": 0.120164,
     "end_time": "2022-01-01T06:02:22.756425",
     "exception": false,
     "start_time": "2022-01-01T06:02:22.636261",
     "status": "completed"
    },
    "tags": []
   },
   "outputs": [
    {
     "data": {
      "text/plain": [
       "[(('otherwise', 'everything', 'looks'), 44),\n",
       " (('upload', 'ipynb', 'file'), 29),\n",
       " (('upcoming', 'projects', 'happy'), 28),\n",
       " (('best', 'upcoming', 'projects'), 27),\n",
       " (('cells', 'order', 'starting'), 27),\n",
       " (('order', 'starting', '1'), 27),\n",
       " (('project', '’', 's'), 25),\n",
       " (('guided', 'community', 'helpful'), 25),\n",
       " (('community', 'helpful', 'difficulty'), 25),\n",
       " (('helpful', 'difficulty', 'get'), 25)]"
      ]
     },
     "execution_count": 35,
     "metadata": {},
     "output_type": "execute_result"
    }
   ],
   "source": [
    "trigrams = ngrams(fc2_tokenized, 3)\n",
    "trigrams_freq = collections.Counter(trigrams)\n",
    "trigrams_freq.most_common(10)"
   ]
  },
  {
   "cell_type": "code",
   "execution_count": 36,
   "id": "a838bd89",
   "metadata": {
    "execution": {
     "iopub.execute_input": "2022-01-01T06:02:22.952447Z",
     "iopub.status.busy": "2022-01-01T06:02:22.907953Z",
     "iopub.status.idle": "2022-01-01T06:02:22.986619Z",
     "shell.execute_reply": "2022-01-01T06:02:22.986062Z",
     "shell.execute_reply.started": "2022-01-01T05:59:27.813225Z"
    },
    "papermill": {
     "duration": 0.161951,
     "end_time": "2022-01-01T06:02:22.986760",
     "exception": false,
     "start_time": "2022-01-01T06:02:22.824809",
     "status": "completed"
    },
    "tags": []
   },
   "outputs": [
    {
     "data": {
      "text/html": [
       "<div>\n",
       "<style scoped>\n",
       "    .dataframe tbody tr th:only-of-type {\n",
       "        vertical-align: middle;\n",
       "    }\n",
       "\n",
       "    .dataframe tbody tr th {\n",
       "        vertical-align: top;\n",
       "    }\n",
       "\n",
       "    .dataframe thead th {\n",
       "        text-align: right;\n",
       "    }\n",
       "</style>\n",
       "<table border=\"1\" class=\"dataframe\">\n",
       "  <thead>\n",
       "    <tr style=\"text-align: right;\">\n",
       "      <th></th>\n",
       "      <th>0</th>\n",
       "      <th>1</th>\n",
       "    </tr>\n",
       "  </thead>\n",
       "  <tbody>\n",
       "    <tr>\n",
       "      <th>0</th>\n",
       "      <td>(cells, order, starting, 1)</td>\n",
       "      <td>27</td>\n",
       "    </tr>\n",
       "    <tr>\n",
       "      <th>1</th>\n",
       "      <td>(best, upcoming, projects, happy)</td>\n",
       "      <td>26</td>\n",
       "    </tr>\n",
       "    <tr>\n",
       "      <th>2</th>\n",
       "      <td>(guided, community, helpful, difficulty)</td>\n",
       "      <td>25</td>\n",
       "    </tr>\n",
       "    <tr>\n",
       "      <th>3</th>\n",
       "      <td>(community, helpful, difficulty, get)</td>\n",
       "      <td>25</td>\n",
       "    </tr>\n",
       "    <tr>\n",
       "      <th>4</th>\n",
       "      <td>(helpful, difficulty, get, help)</td>\n",
       "      <td>25</td>\n",
       "    </tr>\n",
       "  </tbody>\n",
       "</table>\n",
       "</div>"
      ],
      "text/plain": [
       "                                          0   1\n",
       "0               (cells, order, starting, 1)  27\n",
       "1         (best, upcoming, projects, happy)  26\n",
       "2  (guided, community, helpful, difficulty)  25\n",
       "3     (community, helpful, difficulty, get)  25\n",
       "4          (helpful, difficulty, get, help)  25"
      ]
     },
     "execution_count": 36,
     "metadata": {},
     "output_type": "execute_result"
    }
   ],
   "source": [
    "f4grams = ngrams(fc2_tokenized, 4)\n",
    "f4grams_freq = collections.Counter(f4grams)\n",
    "df_4grams = pd.DataFrame(f4grams_freq.most_common())\n",
    "df_4grams.head()"
   ]
  },
  {
   "cell_type": "code",
   "execution_count": 37,
   "id": "98c407b3",
   "metadata": {
    "execution": {
     "iopub.execute_input": "2022-01-01T06:02:23.139983Z",
     "iopub.status.busy": "2022-01-01T06:02:23.138957Z",
     "iopub.status.idle": "2022-01-01T06:02:23.390240Z",
     "shell.execute_reply": "2022-01-01T06:02:23.390738Z",
     "shell.execute_reply.started": "2022-01-01T05:59:27.814347Z"
    },
    "papermill": {
     "duration": 0.335998,
     "end_time": "2022-01-01T06:02:23.390907",
     "exception": false,
     "start_time": "2022-01-01T06:02:23.054909",
     "status": "completed"
    },
    "tags": []
   },
   "outputs": [
    {
     "data": {
      "text/html": [
       "<div>\n",
       "<style scoped>\n",
       "    .dataframe tbody tr th:only-of-type {\n",
       "        vertical-align: middle;\n",
       "    }\n",
       "\n",
       "    .dataframe tbody tr th {\n",
       "        vertical-align: top;\n",
       "    }\n",
       "\n",
       "    .dataframe thead th {\n",
       "        text-align: right;\n",
       "    }\n",
       "</style>\n",
       "<table border=\"1\" class=\"dataframe\">\n",
       "  <thead>\n",
       "    <tr style=\"text-align: right;\">\n",
       "      <th></th>\n",
       "      <th>n_gram</th>\n",
       "      <th>count</th>\n",
       "    </tr>\n",
       "  </thead>\n",
       "  <tbody>\n",
       "    <tr>\n",
       "      <th>42</th>\n",
       "      <td>(consider, rerunning, sequential, ordering)</td>\n",
       "      <td>12</td>\n",
       "    </tr>\n",
       "    <tr>\n",
       "      <th>80</th>\n",
       "      <td>(make, proper, documentation, beginning)</td>\n",
       "      <td>9</td>\n",
       "    </tr>\n",
       "    <tr>\n",
       "      <th>89</th>\n",
       "      <td>(use, technical, word, documentation)</td>\n",
       "      <td>9</td>\n",
       "    </tr>\n",
       "    <tr>\n",
       "      <th>125</th>\n",
       "      <td>(use, uniform, style, quote)</td>\n",
       "      <td>7</td>\n",
       "    </tr>\n",
       "    <tr>\n",
       "      <th>129</th>\n",
       "      <td>(make, projects, professional, social)</td>\n",
       "      <td>7</td>\n",
       "    </tr>\n",
       "    <tr>\n",
       "      <th>225</th>\n",
       "      <td>(use, “, we, ”)</td>\n",
       "      <td>5</td>\n",
       "    </tr>\n",
       "    <tr>\n",
       "      <th>248</th>\n",
       "      <td>(make, always, consider, rerunning)</td>\n",
       "      <td>4</td>\n",
       "    </tr>\n",
       "    <tr>\n",
       "      <th>278</th>\n",
       "      <td>(use, type, successful, data)</td>\n",
       "      <td>4</td>\n",
       "    </tr>\n",
       "    <tr>\n",
       "      <th>290</th>\n",
       "      <td>(better, use, uniform, quote)</td>\n",
       "      <td>4</td>\n",
       "    </tr>\n",
       "    <tr>\n",
       "      <th>291</th>\n",
       "      <td>(use, uniform, quote, mark)</td>\n",
       "      <td>4</td>\n",
       "    </tr>\n",
       "  </tbody>\n",
       "</table>\n",
       "</div>"
      ],
      "text/plain": [
       "                                          n_gram  count\n",
       "42   (consider, rerunning, sequential, ordering)     12\n",
       "80      (make, proper, documentation, beginning)      9\n",
       "89         (use, technical, word, documentation)      9\n",
       "125                 (use, uniform, style, quote)      7\n",
       "129       (make, projects, professional, social)      7\n",
       "225                              (use, “, we, ”)      5\n",
       "248          (make, always, consider, rerunning)      4\n",
       "278                (use, type, successful, data)      4\n",
       "290                (better, use, uniform, quote)      4\n",
       "291                  (use, uniform, quote, mark)      4"
      ]
     },
     "execution_count": 37,
     "metadata": {},
     "output_type": "execute_result"
    }
   ],
   "source": [
    "# lists of words to exclude and include:\n",
    "exclude = ['best','help', 'happy', 'congratulation', 'learning', 'community', 'feedback', 'project', 'guided','guide', 'job', 'great', 'example', \n",
    "           'sharing', 'suggestion', 'share', 'download', 'topic', 'everything', 'nice', 'well', 'done', 'look', 'file', 'might']\n",
    "\n",
    "include = ['use', 'consider', 'should', 'make', 'get', 'give', 'should', 'better', \"would\", 'code', 'markdown','cell']\n",
    "\n",
    "# change the name of the columns:\n",
    "df_4grams.columns = ['n_gram','count']\n",
    "\n",
    "# filter out the n-grams:\n",
    "df_4grams = df_4grams[(~df_4grams['n_gram'].str[0].isin(exclude))&(~df_4grams['n_gram'].str[1].isin(exclude))&(~df_4grams['n_gram'].str[2].isin(exclude))&(~df_4grams['n_gram'].str[3].isin(exclude))]\n",
    "df_4grams = df_4grams[df_4grams['n_gram'].str[0].isin(include)]\n",
    "df_4grams[:10]"
   ]
  },
  {
   "cell_type": "markdown",
   "id": "5c0f2900",
   "metadata": {
    "papermill": {
     "duration": 0.068402,
     "end_time": "2022-01-01T06:02:23.527857",
     "exception": false,
     "start_time": "2022-01-01T06:02:23.459455",
     "status": "completed"
    },
    "tags": []
   },
   "source": [
    "# POS tagging"
   ]
  },
  {
   "cell_type": "code",
   "execution_count": 38,
   "id": "074ae205",
   "metadata": {
    "execution": {
     "iopub.execute_input": "2022-01-01T06:02:23.671076Z",
     "iopub.status.busy": "2022-01-01T06:02:23.670319Z",
     "iopub.status.idle": "2022-01-01T06:02:23.805738Z",
     "shell.execute_reply": "2022-01-01T06:02:23.805197Z",
     "shell.execute_reply.started": "2022-01-01T05:59:27.816570Z"
    },
    "papermill": {
     "duration": 0.20929,
     "end_time": "2022-01-01T06:02:23.805881",
     "exception": false,
     "start_time": "2022-01-01T06:02:23.596591",
     "status": "completed"
    },
    "tags": []
   },
   "outputs": [
    {
     "name": "stdout",
     "output_type": "stream",
     "text": [
      "[('The', 'DT'), ('most', 'RBS'), ('common', 'JJ'), ('method', 'NN'), ('is', 'VBZ'), ('word', 'NN'), ('tokenizing', 'NN'), ('.', '.')]\n"
     ]
    }
   ],
   "source": [
    "from nltk import pos_tag\n",
    "\n",
    "# 1. our sentence:\n",
    "sentence = 'The most common method is word tokenizing.'\n",
    "\n",
    "# 2. tokenize the paragraph:\n",
    "sentence_tokenized = word_tokenize(sentence)\n",
    "\n",
    "# 3.use POS tagging:\n",
    "sentence_tagged = pos_tag(sentence_tokenized)\n",
    "\n",
    "print(sentence_tagged)"
   ]
  },
  {
   "cell_type": "code",
   "execution_count": 39,
   "id": "b25a78d6",
   "metadata": {
    "execution": {
     "iopub.execute_input": "2022-01-01T06:02:23.948602Z",
     "iopub.status.busy": "2022-01-01T06:02:23.948012Z",
     "iopub.status.idle": "2022-01-01T06:02:34.980340Z",
     "shell.execute_reply": "2022-01-01T06:02:34.979825Z",
     "shell.execute_reply.started": "2022-01-01T05:59:27.818197Z"
    },
    "papermill": {
     "duration": 11.104403,
     "end_time": "2022-01-01T06:02:34.980484",
     "exception": false,
     "start_time": "2022-01-01T06:02:23.876081",
     "status": "completed"
    },
    "tags": []
   },
   "outputs": [
    {
     "data": {
      "text/plain": [
       "[((('add', 'VB'), ('more', 'JJR'), ('information', 'NN')), 3),\n",
       " ((('add', 'VB'), ('more', 'JJR'), ('weight', 'NN')), 3),\n",
       " ((('see', 'VB'), ('more', 'JJR'), ('projects', 'NNS')), 2),\n",
       " ((('add', 'VB'), ('more', 'JJR'), ('explanations', 'NNS')), 2),\n",
       " ((('add', 'VB'), ('more', 'JJR'), ('comments', 'NNS')), 2),\n",
       " ((('add', 'VB'), ('more', 'JJR'), ('info', 'NNS')), 2),\n",
       " ((('add', 'VB'), ('more', 'JJR'), ('readability', 'NN')), 2),\n",
       " ((('find', 'VB'), ('more', 'JJR'), ('tips', 'NNS')), 1),\n",
       " ((('add', 'VB'), ('more', 'JJR'), ('detail', 'NN')), 1),\n",
       " ((('attract', 'NN'), ('more', 'JJR'), ('users', 'NNS')), 1)]"
      ]
     },
     "execution_count": 39,
     "metadata": {},
     "output_type": "execute_result"
    }
   ],
   "source": [
    "from nltk import RegexpParser\n",
    "\n",
    "# https://medium.com/@gianpaul.r/tokenization-and-parts-of-speech-pos-tagging-in-pythons-nltk-library-2d30f70af13b\n",
    "\n",
    "# function for preparing the text - tokenizing and POS tagging:\n",
    "def prep_text(text):\n",
    "    # tokenize sentences:\n",
    "    sent_tokenized = sent_tokenize(text)\n",
    "    # tokenize words:\n",
    "    word_tokens = []\n",
    "    for sent in sent_tokenized:\n",
    "        word_tokens.append(word_tokenize(sent))\n",
    "    # POS tagging:\n",
    "    pos_tagged = []\n",
    "    for sent in word_tokens:\n",
    "        pos_tagged.append(pos_tag(sent))\n",
    "    return pos_tagged\n",
    "    \n",
    "# function that parses chunks out of chunked sentence and finds sentences with grammar structure we've provided\n",
    "def parser(regex_pattern, pos_tagged):\n",
    "    np_chunk_grammar = regex_pattern\n",
    "    np_chunk_parser = RegexpParser(np_chunk_grammar)\n",
    "    np_chunked_text = []\n",
    "    for pos_tagged_sentence in pos_tagged:\n",
    "        np_chunked_text.append(np_chunk_parser.parse(pos_tagged_sentence))\n",
    "    return np_chunked_text\n",
    "\n",
    "# count how many occurances of our target POS combination:\n",
    "def chunk_counter(chunked_sentences):\n",
    "    chunks = []\n",
    "    # loop through each chunked sentence to extract phrase chunks of our desired sequence:\n",
    "    for chunked_sentence in chunked_sentences:\n",
    "        for subtree in chunked_sentence.subtrees(filter=lambda t: t.label() == 'bingo'):\n",
    "            chunks.append(tuple(subtree))\n",
    "    # create a Counter object and loop through the list of chunks\n",
    "    chunk_counter = Counter()\n",
    "    for chunk in chunks:\n",
    "        chunk_counter[chunk] += 1\n",
    "    # return 10 most frequent chunks\n",
    "    return chunk_counter.most_common(10)\n",
    "\n",
    "all_feedback = df['feedback'].sum()\n",
    "all_feedback_tagged = prep_text(all_feedback)\n",
    "chunked_text = parser(\"bingo: {<VB|NN|NNP><JJR><NN|NNS>}\",all_feedback_tagged)\n",
    "chunk_counter(chunked_text)"
   ]
  },
  {
   "cell_type": "code",
   "execution_count": 40,
   "id": "21b6bf4f",
   "metadata": {
    "execution": {
     "iopub.execute_input": "2022-01-01T06:02:35.125374Z",
     "iopub.status.busy": "2022-01-01T06:02:35.124403Z",
     "iopub.status.idle": "2022-01-01T06:02:35.652290Z",
     "shell.execute_reply": "2022-01-01T06:02:35.652764Z",
     "shell.execute_reply.started": "2022-01-01T05:59:27.819687Z"
    },
    "papermill": {
     "duration": 0.601464,
     "end_time": "2022-01-01T06:02:35.652937",
     "exception": false,
     "start_time": "2022-01-01T06:02:35.051473",
     "status": "completed"
    },
    "tags": []
   },
   "outputs": [
    {
     "data": {
      "text/plain": [
       "[((('have', 'VB'), ('a', 'DT'), ('look', 'NN')), 19),\n",
       " ((('take', 'VB'), ('a', 'DT'), ('look', 'NN')), 14),\n",
       " ((('improve', 'VB'), ('the', 'DT'), ('readability', 'NN')), 13),\n",
       " ((('view', 'VB'), ('the', 'DT'), ('jupyter', 'NN')), 12),\n",
       " ((('re-run', 'VB'), ('the', 'DT'), ('project', 'NN')), 12),\n",
       " ((('add', 'VB'), ('a', 'DT'), ('title', 'NN')), 11),\n",
       " ((('create', 'VB'), ('a', 'DT'), ('function', 'NN')), 11),\n",
       " ((('add', 'VB'), ('a', 'DT'), ('conclusion', 'NN')), 11),\n",
       " ((('follow', 'VB'), ('the', 'DT'), ('guideline', 'NN')), 9),\n",
       " ((('add', 'VB'), ('some', 'DT'), ('information', 'NN')), 9)]"
      ]
     },
     "execution_count": 40,
     "metadata": {},
     "output_type": "execute_result"
    }
   ],
   "source": [
    "chunked_text = parser(\"bingo: {<VB><DT><NN|NNS>}\",all_feedback_tagged)\n",
    "chunk_counter(chunked_text)"
   ]
  },
  {
   "cell_type": "code",
   "execution_count": 41,
   "id": "ce430a2f",
   "metadata": {
    "execution": {
     "iopub.execute_input": "2022-01-01T06:02:35.796273Z",
     "iopub.status.busy": "2022-01-01T06:02:35.795330Z",
     "iopub.status.idle": "2022-01-01T06:02:36.307097Z",
     "shell.execute_reply": "2022-01-01T06:02:36.306570Z",
     "shell.execute_reply.started": "2022-01-01T05:59:27.821186Z"
    },
    "papermill": {
     "duration": 0.584395,
     "end_time": "2022-01-01T06:02:36.307231",
     "exception": false,
     "start_time": "2022-01-01T06:02:35.722836",
     "status": "completed"
    },
    "tags": []
   },
   "outputs": [
    {
     "data": {
      "text/plain": [
       "[((('better', 'JJR'), ('readability', 'NN')), 15),\n",
       " ((('more', 'JJR'), ('information', 'NN')), 12),\n",
       " ((('more', 'JJR'), ('comments', 'NNS')), 11),\n",
       " ((('better', 'JJR'), ('understanding', 'NN')), 10),\n",
       " ((('more', 'JJR'), ('projects', 'NNS')), 7),\n",
       " ((('more', 'JJR'), ('explanations', 'NNS')), 6),\n",
       " ((('more', 'JJR'), ('clarification', 'NN')), 5),\n",
       " ((('more', 'JJR'), ('details', 'NNS')), 5),\n",
       " ((('more', 'JJR'), ('detail', 'NN')), 4),\n",
       " ((('more', 'JJR'), ('users', 'NNS')), 4)]"
      ]
     },
     "execution_count": 41,
     "metadata": {},
     "output_type": "execute_result"
    }
   ],
   "source": [
    "chunked_text = parser(\"bingo: {<JJR><NN|NNS>}\",all_feedback_tagged)\n",
    "chunk_counter(chunked_text)"
   ]
  },
  {
   "cell_type": "code",
   "execution_count": 42,
   "id": "5e404e61",
   "metadata": {
    "execution": {
     "iopub.execute_input": "2022-01-01T06:02:36.492888Z",
     "iopub.status.busy": "2022-01-01T06:02:36.487758Z",
     "iopub.status.idle": "2022-01-01T06:02:37.004456Z",
     "shell.execute_reply": "2022-01-01T06:02:37.003922Z",
     "shell.execute_reply.started": "2022-01-01T05:59:27.822280Z"
    },
    "papermill": {
     "duration": 0.627133,
     "end_time": "2022-01-01T06:02:37.004598",
     "exception": false,
     "start_time": "2022-01-01T06:02:36.377465",
     "status": "completed"
    },
    "tags": []
   },
   "outputs": [
    {
     "data": {
      "text/plain": [
       "[((('make', 'VB'), ('proper', 'JJ'), ('documentation', 'NN')), 9),\n",
       " ((('have', 'VB'), ('sequential', 'JJ'), ('ordering', 'NN')), 6),\n",
       " ((('combine', 'VB'), ('adjacent', 'JJ'), ('code', 'NN'), ('cells', 'NNS')),\n",
       "  4),\n",
       " ((('vs', 'NN'), ('shallow', 'JJ'), ('copy', 'NN'), ('vs', 'NN')), 4),\n",
       " ((('avoid', 'VB'),\n",
       "   ('too', 'RB'),\n",
       "   ('obvious', 'JJ'),\n",
       "   ('code', 'NN'),\n",
       "   ('comments', 'NNS')),\n",
       "  3),\n",
       " ((('combine', 'VB'), ('subsequent', 'JJ'), ('code', 'NN'), ('cells', 'NNS')),\n",
       "  3),\n",
       " ((('rotate', 'VB'), ('x-tick', 'JJ'), ('labels', 'NNS')), 3),\n",
       " ((('remove', 'VB'), ('unnecessary', 'JJ'), ('spines', 'NNS')), 3),\n",
       " ((('remove', 'VB'), ('empty', 'JJ'), ('lines', 'NNS')), 2),\n",
       " ((('show', 'NN'), ('original', 'JJ'), ('hi', 'NN')), 2)]"
      ]
     },
     "execution_count": 42,
     "metadata": {},
     "output_type": "execute_result"
    }
   ],
   "source": [
    "chunked_text = parser(\"bingo: {<VB|NN><RB|VBG>?<JJ><NN|NNS><NN|NNS>?}\",all_feedback_tagged)\n",
    "chunk_counter(chunked_text)"
   ]
  },
  {
   "cell_type": "markdown",
   "id": "59ae30cc",
   "metadata": {
    "papermill": {
     "duration": 0.070765,
     "end_time": "2022-01-01T06:02:37.147514",
     "exception": false,
     "start_time": "2022-01-01T06:02:37.076749",
     "status": "completed"
    },
    "tags": []
   },
   "source": [
    "### Lemmatization"
   ]
  },
  {
   "cell_type": "code",
   "execution_count": 43,
   "id": "42ad7009",
   "metadata": {
    "execution": {
     "iopub.execute_input": "2022-01-01T06:02:37.291898Z",
     "iopub.status.busy": "2022-01-01T06:02:37.291304Z",
     "iopub.status.idle": "2022-01-01T06:02:37.296814Z",
     "shell.execute_reply": "2022-01-01T06:02:37.297373Z",
     "shell.execute_reply.started": "2022-01-01T05:59:27.823510Z"
    },
    "papermill": {
     "duration": 0.079871,
     "end_time": "2022-01-01T06:02:37.297531",
     "exception": false,
     "start_time": "2022-01-01T06:02:37.217660",
     "status": "completed"
    },
    "tags": []
   },
   "outputs": [],
   "source": [
    "from nltk.stem import WordNetLemmatizer\n",
    "lemmatizer = WordNetLemmatizer()\n",
    "\n",
    "# function for lemmatizing:\n",
    "def lemmatize_it(sent):\n",
    "    empty = []\n",
    "    for word, tag in pos_tag(word_tokenize(sent)):\n",
    "        wntag = tag[0].lower()\n",
    "        wntag = wntag if wntag in ['a', 'r', 'n', 'v'] else None\n",
    "        if not wntag:\n",
    "            lemma = word\n",
    "            empty.append(lemma)\n",
    "        else:\n",
    "            lemma = lemmatizer.lemmatize(word, wntag)\n",
    "            empty.append(lemma)\n",
    "    return ' '.join(empty)"
   ]
  },
  {
   "cell_type": "code",
   "execution_count": 44,
   "id": "6f8496a1",
   "metadata": {
    "execution": {
     "iopub.execute_input": "2022-01-01T06:02:37.440941Z",
     "iopub.status.busy": "2022-01-01T06:02:37.440346Z",
     "iopub.status.idle": "2022-01-01T06:02:39.652414Z",
     "shell.execute_reply": "2022-01-01T06:02:39.651855Z",
     "shell.execute_reply.started": "2022-01-01T05:59:27.825050Z"
    },
    "papermill": {
     "duration": 2.28451,
     "end_time": "2022-01-01T06:02:39.652550",
     "exception": false,
     "start_time": "2022-01-01T06:02:37.368040",
     "status": "completed"
    },
    "tags": []
   },
   "outputs": [
    {
     "data": {
      "text/plain": [
       "'Adam write this great article , spend many hour on his computer . He be truly amazing'"
      ]
     },
     "execution_count": 44,
     "metadata": {},
     "output_type": "execute_result"
    }
   ],
   "source": [
    "# example:\n",
    "string1 = 'Adam wrote this great article, spending many hours on his computer. He is truly amazing'\n",
    "lemmatize_it(string1)"
   ]
  },
  {
   "cell_type": "code",
   "execution_count": 45,
   "id": "3a87d288",
   "metadata": {
    "execution": {
     "iopub.execute_input": "2022-01-01T06:02:39.864323Z",
     "iopub.status.busy": "2022-01-01T06:02:39.863034Z",
     "iopub.status.idle": "2022-01-01T06:03:00.234089Z",
     "shell.execute_reply": "2022-01-01T06:03:00.233545Z",
     "shell.execute_reply.started": "2022-01-01T05:59:27.826997Z"
    },
    "papermill": {
     "duration": 20.511123,
     "end_time": "2022-01-01T06:03:00.234231",
     "exception": false,
     "start_time": "2022-01-01T06:02:39.723108",
     "status": "completed"
    },
    "tags": []
   },
   "outputs": [
    {
     "data": {
      "text/plain": [
       "[((('see', 'VB'), ('more', 'JJR'), ('project', 'NN')), 4),\n",
       " ((('add', 'VB'), ('more', 'JJR'), ('explanation', 'NN')), 4),\n",
       " ((('add', 'VB'), ('more', 'JJR'), ('information', 'NN')), 3),\n",
       " ((('add', 'VB'), ('more', 'JJR'), ('weight', 'NN')), 3),\n",
       " ((('make', 'VB'), ('more', 'JJR'), ('money', 'NN')), 3),\n",
       " ((('be', 'VB'), ('more', 'JJR'), ('batter', 'NN')), 2),\n",
       " ((('make', 'VB'), ('more', 'JJR'), ('sense', 'NN')), 2),\n",
       " ((('add', 'VB'), ('more', 'JJR'), ('info', 'NNS')), 2),\n",
       " ((('add', 'VB'), ('more', 'JJR'), ('readability', 'NN')), 2),\n",
       " ((('use', 'NN'), ('more', 'JJR'), ('color', 'NN')), 1)]"
      ]
     },
     "execution_count": 45,
     "metadata": {},
     "output_type": "execute_result"
    }
   ],
   "source": [
    "# lemmatize, then POS:\n",
    "lemmatized = lemmatize_it(df['feedback'].sum())\n",
    "feedback_lemmed_tagged = prep_text(lemmatized)\n",
    "chunked_text = parser(\"bingo: {<VB|NN|NNP><JJR><NN|NNS>}\", feedback_lemmed_tagged)    \n",
    "chunk_counter(chunked_text)"
   ]
  },
  {
   "cell_type": "code",
   "execution_count": 46,
   "id": "0c5902a2",
   "metadata": {
    "execution": {
     "iopub.execute_input": "2022-01-01T06:03:00.383231Z",
     "iopub.status.busy": "2022-01-01T06:03:00.382300Z",
     "iopub.status.idle": "2022-01-01T06:03:00.895325Z",
     "shell.execute_reply": "2022-01-01T06:03:00.895797Z",
     "shell.execute_reply.started": "2022-01-01T05:59:27.830057Z"
    },
    "papermill": {
     "duration": 0.589877,
     "end_time": "2022-01-01T06:03:00.895960",
     "exception": false,
     "start_time": "2022-01-01T06:03:00.306083",
     "status": "completed"
    },
    "tags": []
   },
   "outputs": [
    {
     "data": {
      "text/plain": [
       "[((('better', 'JJR'), ('readability', 'NN')), 15),\n",
       " ((('more', 'JJR'), ('information', 'NN')), 12),\n",
       " ((('better', 'JJR'), ('understanding', 'NN')), 10),\n",
       " ((('more', 'JJR'), ('explanation', 'NN')), 10),\n",
       " ((('more', 'JJR'), ('detail', 'NN')), 9),\n",
       " ((('more', 'JJR'), ('project', 'NN')), 8),\n",
       " ((('more', 'JJR'), ('clarification', 'NN')), 6),\n",
       " ((('better', 'JJR'), ('approach', 'NN')), 3),\n",
       " ((('more', 'JJR'), ('comment', 'NN')), 3),\n",
       " ((('more', 'JJR'), ('line', 'NN')), 3)]"
      ]
     },
     "execution_count": 46,
     "metadata": {},
     "output_type": "execute_result"
    }
   ],
   "source": [
    "chunked_text = parser(\"bingo: {<JJR><NN|NNS>}\",feedback_lemmed_tagged)\n",
    "chunk_counter(chunked_text)"
   ]
  },
  {
   "cell_type": "code",
   "execution_count": 47,
   "id": "ba70ceb9",
   "metadata": {
    "execution": {
     "iopub.execute_input": "2022-01-01T06:03:01.043233Z",
     "iopub.status.busy": "2022-01-01T06:03:01.042322Z",
     "iopub.status.idle": "2022-01-01T06:03:21.688169Z",
     "shell.execute_reply": "2022-01-01T06:03:21.688759Z",
     "shell.execute_reply.started": "2022-01-01T05:59:27.832281Z"
    },
    "papermill": {
     "duration": 20.721149,
     "end_time": "2022-01-01T06:03:21.688941",
     "exception": false,
     "start_time": "2022-01-01T06:03:00.967792",
     "status": "completed"
    },
    "tags": []
   },
   "outputs": [
    {
     "data": {
      "text/plain": [
       "[((('render', 'VB'), ('good', 'JJ'), ('output', 'NN')), 11),\n",
       " ((('make', 'VB'), ('proper', 'JJ'), ('documentation', 'NN')), 9),\n",
       " ((('be', 'VB'), ('not', 'RB'), ('skip', 'JJ'), ('sql', 'NN')), 7),\n",
       " ((('have', 'VB'), ('sequential', 'JJ'), ('ordering', 'NN')), 6),\n",
       " ((('combine', 'VB'), ('adjacent', 'JJ'), ('code', 'NN'), ('cell', 'NN')), 4),\n",
       " ((('v', 'NN'), ('shallow', 'JJ'), ('copy', 'NN'), ('v', 'NN')), 4),\n",
       " ((('add', 'VB'), ('empty', 'JJ'), ('line', 'NN')), 3),\n",
       " ((('combine', 'VB'), ('subsequent', 'JJ'), ('code', 'NN'), ('cell', 'NN')),\n",
       "  3),\n",
       " ((('rotate', 'VB'), ('x-tick', 'JJ'), ('label', 'NN')), 3),\n",
       " ((('remove', 'VB'), ('unnecessary', 'JJ'), ('spine', 'NN')), 3)]"
      ]
     },
     "execution_count": 47,
     "metadata": {},
     "output_type": "execute_result"
    }
   ],
   "source": [
    "lemmatized = lemmatize_it(df['feedback'].sum())\n",
    "feedback_lemmed_tagged = prep_text(lemmatized)\n",
    "chunked_text = parser(\"bingo: {<VB|NN><RB|VBG>?<JJ><NN|NNS><NN|NNS>?}\",feedback_lemmed_tagged)\n",
    "chunk_counter(chunked_text)"
   ]
  },
  {
   "cell_type": "code",
   "execution_count": 48,
   "id": "9025db04",
   "metadata": {
    "execution": {
     "iopub.execute_input": "2022-01-01T06:03:21.836641Z",
     "iopub.status.busy": "2022-01-01T06:03:21.835689Z",
     "iopub.status.idle": "2022-01-01T06:03:27.776915Z",
     "shell.execute_reply": "2022-01-01T06:03:27.776380Z",
     "shell.execute_reply.started": "2022-01-01T05:59:27.834316Z"
    },
    "papermill": {
     "duration": 6.015707,
     "end_time": "2022-01-01T06:03:27.777039",
     "exception": false,
     "start_time": "2022-01-01T06:03:21.761332",
     "status": "completed"
    },
    "tags": []
   },
   "outputs": [
    {
     "data": {
      "text/html": [
       "<style type=\"text/css\">\n",
       "#T_f5c5c_row0_col1 {\n",
       "  background-color: #08306b;\n",
       "  color: #f1f1f1;\n",
       "}\n",
       "#T_f5c5c_row1_col1 {\n",
       "  background-color: #9dcae1;\n",
       "  color: #000000;\n",
       "}\n",
       "#T_f5c5c_row2_col1 {\n",
       "  background-color: #d5e5f4;\n",
       "  color: #000000;\n",
       "}\n",
       "#T_f5c5c_row3_col1 {\n",
       "  background-color: #d8e7f5;\n",
       "  color: #000000;\n",
       "}\n",
       "#T_f5c5c_row4_col1 {\n",
       "  background-color: #d9e8f5;\n",
       "  color: #000000;\n",
       "}\n",
       "#T_f5c5c_row5_col1 {\n",
       "  background-color: #dceaf6;\n",
       "  color: #000000;\n",
       "}\n",
       "#T_f5c5c_row6_col1 {\n",
       "  background-color: #deebf7;\n",
       "  color: #000000;\n",
       "}\n",
       "#T_f5c5c_row7_col1 {\n",
       "  background-color: #e0ecf8;\n",
       "  color: #000000;\n",
       "}\n",
       "#T_f5c5c_row8_col1 {\n",
       "  background-color: #e7f1fa;\n",
       "  color: #000000;\n",
       "}\n",
       "#T_f5c5c_row9_col1 {\n",
       "  background-color: #e8f1fa;\n",
       "  color: #000000;\n",
       "}\n",
       "#T_f5c5c_row10_col1 {\n",
       "  background-color: #eaf2fb;\n",
       "  color: #000000;\n",
       "}\n",
       "#T_f5c5c_row11_col1 {\n",
       "  background-color: #ecf4fb;\n",
       "  color: #000000;\n",
       "}\n",
       "#T_f5c5c_row12_col1 {\n",
       "  background-color: #edf4fc;\n",
       "  color: #000000;\n",
       "}\n",
       "#T_f5c5c_row13_col1, #T_f5c5c_row14_col1 {\n",
       "  background-color: #f1f7fd;\n",
       "  color: #000000;\n",
       "}\n",
       "#T_f5c5c_row15_col1 {\n",
       "  background-color: #f2f7fd;\n",
       "  color: #000000;\n",
       "}\n",
       "#T_f5c5c_row16_col1 {\n",
       "  background-color: #f2f8fd;\n",
       "  color: #000000;\n",
       "}\n",
       "#T_f5c5c_row17_col1, #T_f5c5c_row18_col1, #T_f5c5c_row19_col1 {\n",
       "  background-color: #f7fbff;\n",
       "  color: #000000;\n",
       "}\n",
       "</style>\n",
       "<table id=\"T_f5c5c_\">\n",
       "  <thead>\n",
       "    <tr>\n",
       "      <th class=\"blank level0\" >&nbsp;</th>\n",
       "      <th class=\"col_heading level0 col0\" >Common_words</th>\n",
       "      <th class=\"col_heading level0 col1\" >count</th>\n",
       "    </tr>\n",
       "  </thead>\n",
       "  <tbody>\n",
       "    <tr>\n",
       "      <th id=\"T_f5c5c_level0_row0\" class=\"row_heading level0 row0\" >0</th>\n",
       "      <td id=\"T_f5c5c_row0_col0\" class=\"data row0 col0\" >project</td>\n",
       "      <td id=\"T_f5c5c_row0_col1\" class=\"data row0 col1\" >2518</td>\n",
       "    </tr>\n",
       "    <tr>\n",
       "      <th id=\"T_f5c5c_level0_row1\" class=\"row_heading level0 row1\" >1</th>\n",
       "      <td id=\"T_f5c5c_row1_col0\" class=\"data row1 col0\" >code</td>\n",
       "      <td id=\"T_f5c5c_row1_col1\" class=\"data row1 col1\" >1181</td>\n",
       "    </tr>\n",
       "    <tr>\n",
       "      <th id=\"T_f5c5c_level0_row2\" class=\"row_heading level0 row2\" >2</th>\n",
       "      <td id=\"T_f5c5c_row2_col0\" class=\"data row2 col0\" >use</td>\n",
       "      <td id=\"T_f5c5c_row2_col1\" class=\"data row2 col1\" >747</td>\n",
       "    </tr>\n",
       "    <tr>\n",
       "      <th id=\"T_f5c5c_level0_row3\" class=\"row_heading level0 row3\" >3</th>\n",
       "      <td id=\"T_f5c5c_row3_col0\" class=\"data row3 col0\" >good</td>\n",
       "      <td id=\"T_f5c5c_row3_col1\" class=\"data row3 col1\" >712</td>\n",
       "    </tr>\n",
       "    <tr>\n",
       "      <th id=\"T_f5c5c_level0_row4\" class=\"row_heading level0 row4\" >4</th>\n",
       "      <td id=\"T_f5c5c_row4_col0\" class=\"data row4 col0\" >well</td>\n",
       "      <td id=\"T_f5c5c_row4_col1\" class=\"data row4 col1\" >697</td>\n",
       "    </tr>\n",
       "    <tr>\n",
       "      <th id=\"T_f5c5c_level0_row5\" class=\"row_heading level0 row5\" >5</th>\n",
       "      <td id=\"T_f5c5c_row5_col0\" class=\"data row5 col0\" >cell</td>\n",
       "      <td id=\"T_f5c5c_row5_col1\" class=\"data row5 col1\" >664</td>\n",
       "    </tr>\n",
       "    <tr>\n",
       "      <th id=\"T_f5c5c_level0_row6\" class=\"row_heading level0 row6\" >6</th>\n",
       "      <td id=\"T_f5c5c_row6_col0\" class=\"data row6 col0\" >like</td>\n",
       "      <td id=\"T_f5c5c_row6_col1\" class=\"data row6 col1\" >648</td>\n",
       "    </tr>\n",
       "    <tr>\n",
       "      <th id=\"T_f5c5c_level0_row7\" class=\"row_heading level0 row7\" >7</th>\n",
       "      <td id=\"T_f5c5c_row7_col0\" class=\"data row7 col0\" >share</td>\n",
       "      <td id=\"T_f5c5c_row7_col1\" class=\"data row7 col1\" >627</td>\n",
       "    </tr>\n",
       "    <tr>\n",
       "      <th id=\"T_f5c5c_level0_row8\" class=\"row_heading level0 row8\" >8</th>\n",
       "      <td id=\"T_f5c5c_row8_col0\" class=\"data row8 col0\" >would</td>\n",
       "      <td id=\"T_f5c5c_row8_col1\" class=\"data row8 col1\" >544</td>\n",
       "    </tr>\n",
       "    <tr>\n",
       "      <th id=\"T_f5c5c_level0_row9\" class=\"row_heading level0 row9\" >9</th>\n",
       "      <td id=\"T_f5c5c_row9_col0\" class=\"data row9 col0\" >work</td>\n",
       "      <td id=\"T_f5c5c_row9_col1\" class=\"data row9 col1\" >543</td>\n",
       "    </tr>\n",
       "    <tr>\n",
       "      <th id=\"T_f5c5c_level0_row10\" class=\"row_heading level0 row10\" >10</th>\n",
       "      <td id=\"T_f5c5c_row10_col0\" class=\"data row10 col0\" >also</td>\n",
       "      <td id=\"T_f5c5c_row10_col1\" class=\"data row10 col1\" >521</td>\n",
       "    </tr>\n",
       "    <tr>\n",
       "      <th id=\"T_f5c5c_level0_row11\" class=\"row_heading level0 row11\" >11</th>\n",
       "      <td id=\"T_f5c5c_row11_col0\" class=\"data row11 col0\" >look</td>\n",
       "      <td id=\"T_f5c5c_row11_col1\" class=\"data row11 col1\" >496</td>\n",
       "    </tr>\n",
       "    <tr>\n",
       "      <th id=\"T_f5c5c_level0_row12\" class=\"row_heading level0 row12\" >12</th>\n",
       "      <td id=\"T_f5c5c_row12_col0\" class=\"data row12 col0\" >comment</td>\n",
       "      <td id=\"T_f5c5c_row12_col1\" class=\"data row12 col1\" >485</td>\n",
       "    </tr>\n",
       "    <tr>\n",
       "      <th id=\"T_f5c5c_level0_row13\" class=\"row_heading level0 row13\" >13</th>\n",
       "      <td id=\"T_f5c5c_row13_col0\" class=\"data row13 col0\" >conclusion</td>\n",
       "      <td id=\"T_f5c5c_row13_col1\" class=\"data row13 col1\" >449</td>\n",
       "    </tr>\n",
       "    <tr>\n",
       "      <th id=\"T_f5c5c_level0_row14\" class=\"row_heading level0 row14\" >14</th>\n",
       "      <td id=\"T_f5c5c_row14_col0\" class=\"data row14 col0\" >data</td>\n",
       "      <td id=\"T_f5c5c_row14_col1\" class=\"data row14 col1\" >445</td>\n",
       "    </tr>\n",
       "    <tr>\n",
       "      <th id=\"T_f5c5c_level0_row15\" class=\"row_heading level0 row15\" >15</th>\n",
       "      <td id=\"T_f5c5c_row15_col0\" class=\"data row15 col0\" >make</td>\n",
       "      <td id=\"T_f5c5c_row15_col1\" class=\"data row15 col1\" >437</td>\n",
       "    </tr>\n",
       "    <tr>\n",
       "      <th id=\"T_f5c5c_level0_row16\" class=\"row_heading level0 row16\" >16</th>\n",
       "      <td id=\"T_f5c5c_row16_col0\" class=\"data row16 col0\" >add</td>\n",
       "      <td id=\"T_f5c5c_row16_col1\" class=\"data row16 col1\" >432</td>\n",
       "    </tr>\n",
       "    <tr>\n",
       "      <th id=\"T_f5c5c_level0_row17\" class=\"row_heading level0 row17\" >17</th>\n",
       "      <td id=\"T_f5c5c_row17_col0\" class=\"data row17 col0\" >great</td>\n",
       "      <td id=\"T_f5c5c_row17_col1\" class=\"data row17 col1\" >384</td>\n",
       "    </tr>\n",
       "    <tr>\n",
       "      <th id=\"T_f5c5c_level0_row18\" class=\"row_heading level0 row18\" >18</th>\n",
       "      <td id=\"T_f5c5c_row18_col0\" class=\"data row18 col0\" >plot</td>\n",
       "      <td id=\"T_f5c5c_row18_col1\" class=\"data row18 col1\" >383</td>\n",
       "    </tr>\n",
       "    <tr>\n",
       "      <th id=\"T_f5c5c_level0_row19\" class=\"row_heading level0 row19\" >19</th>\n",
       "      <td id=\"T_f5c5c_row19_col0\" class=\"data row19 col0\" >thanks</td>\n",
       "      <td id=\"T_f5c5c_row19_col1\" class=\"data row19 col1\" >376</td>\n",
       "    </tr>\n",
       "  </tbody>\n",
       "</table>\n"
      ],
      "text/plain": [
       "<pandas.io.formats.style.Styler at 0x7f0ebe5ca9d0>"
      ]
     },
     "execution_count": 48,
     "metadata": {},
     "output_type": "execute_result"
    }
   ],
   "source": [
    "lemed = lemmatize_it(df['feedback_clean'].sum())\n",
    "lemed_split = lemed.split()\n",
    "top = Counter([item for item in lemed_split])\n",
    "temp = pd.DataFrame(top.most_common(20))\n",
    "temp.columns = ['Common_words','count']\n",
    "temp.style.background_gradient(cmap='Blues')"
   ]
  },
  {
   "cell_type": "code",
   "execution_count": 49,
   "id": "35dd68ec",
   "metadata": {
    "execution": {
     "iopub.execute_input": "2022-01-01T06:03:27.930405Z",
     "iopub.status.busy": "2022-01-01T06:03:27.929725Z",
     "iopub.status.idle": "2022-01-01T06:03:33.574181Z",
     "shell.execute_reply": "2022-01-01T06:03:33.574734Z",
     "shell.execute_reply.started": "2022-01-01T05:59:27.836301Z"
    },
    "papermill": {
     "duration": 5.724287,
     "end_time": "2022-01-01T06:03:33.574923",
     "exception": false,
     "start_time": "2022-01-01T06:03:27.850636",
     "status": "completed"
    },
    "tags": []
   },
   "outputs": [],
   "source": [
    "df['feedback_clean2_lem'] = df['feedback_clean2'].apply(lemmatize_it)"
   ]
  },
  {
   "cell_type": "code",
   "execution_count": 50,
   "id": "b7b39d39",
   "metadata": {
    "execution": {
     "iopub.execute_input": "2022-01-01T06:03:33.724519Z",
     "iopub.status.busy": "2022-01-01T06:03:33.723597Z",
     "iopub.status.idle": "2022-01-01T06:03:34.689537Z",
     "shell.execute_reply": "2022-01-01T06:03:34.689000Z",
     "shell.execute_reply.started": "2022-01-01T05:59:27.838512Z"
    },
    "papermill": {
     "duration": 1.041677,
     "end_time": "2022-01-01T06:03:34.689683",
     "exception": false,
     "start_time": "2022-01-01T06:03:33.648006",
     "status": "completed"
    },
    "tags": []
   },
   "outputs": [
    {
     "data": {
      "text/html": [
       "<div>\n",
       "<style scoped>\n",
       "    .dataframe tbody tr th:only-of-type {\n",
       "        vertical-align: middle;\n",
       "    }\n",
       "\n",
       "    .dataframe tbody tr th {\n",
       "        vertical-align: top;\n",
       "    }\n",
       "\n",
       "    .dataframe thead th {\n",
       "        text-align: right;\n",
       "    }\n",
       "</style>\n",
       "<table border=\"1\" class=\"dataframe\">\n",
       "  <thead>\n",
       "    <tr style=\"text-align: right;\">\n",
       "      <th></th>\n",
       "      <th>n_gram</th>\n",
       "      <th>count</th>\n",
       "    </tr>\n",
       "  </thead>\n",
       "  <tbody>\n",
       "    <tr>\n",
       "      <th>0</th>\n",
       "      <td>(cell, order, start, 1)</td>\n",
       "      <td>30</td>\n",
       "    </tr>\n",
       "    <tr>\n",
       "      <th>41</th>\n",
       "      <td>(consider, rerun, sequential, order)</td>\n",
       "      <td>12</td>\n",
       "    </tr>\n",
       "    <tr>\n",
       "      <th>67</th>\n",
       "      <td>(use, easy, access, reader)</td>\n",
       "      <td>9</td>\n",
       "    </tr>\n",
       "    <tr>\n",
       "      <th>84</th>\n",
       "      <td>(make, proper, documentation, begin)</td>\n",
       "      <td>9</td>\n",
       "    </tr>\n",
       "    <tr>\n",
       "      <th>93</th>\n",
       "      <td>(use, technical, word, documentation)</td>\n",
       "      <td>9</td>\n",
       "    </tr>\n",
       "    <tr>\n",
       "      <th>117</th>\n",
       "      <td>(use, comment, remember, comment)</td>\n",
       "      <td>8</td>\n",
       "    </tr>\n",
       "    <tr>\n",
       "      <th>126</th>\n",
       "      <td>(give, markdown, cell, conclusion)</td>\n",
       "      <td>7</td>\n",
       "    </tr>\n",
       "    <tr>\n",
       "      <th>127</th>\n",
       "      <td>(cell, without, output, markdown)</td>\n",
       "      <td>7</td>\n",
       "    </tr>\n",
       "    <tr>\n",
       "      <th>133</th>\n",
       "      <td>(use, uniform, style, quote)</td>\n",
       "      <td>7</td>\n",
       "    </tr>\n",
       "    <tr>\n",
       "      <th>136</th>\n",
       "      <td>(use, uniform, quote, mark)</td>\n",
       "      <td>7</td>\n",
       "    </tr>\n",
       "  </tbody>\n",
       "</table>\n",
       "</div>"
      ],
      "text/plain": [
       "                                    n_gram  count\n",
       "0                  (cell, order, start, 1)     30\n",
       "41    (consider, rerun, sequential, order)     12\n",
       "67             (use, easy, access, reader)      9\n",
       "84    (make, proper, documentation, begin)      9\n",
       "93   (use, technical, word, documentation)      9\n",
       "117      (use, comment, remember, comment)      8\n",
       "126     (give, markdown, cell, conclusion)      7\n",
       "127      (cell, without, output, markdown)      7\n",
       "133           (use, uniform, style, quote)      7\n",
       "136            (use, uniform, quote, mark)      7"
      ]
     },
     "execution_count": 50,
     "metadata": {},
     "output_type": "execute_result"
    }
   ],
   "source": [
    "f4grams = ngrams(word_tokenize(df['feedback_clean2_lem'].sum()), 4)\n",
    "f4grams_freq = collections.Counter(f4grams)\n",
    "df_4grams = pd.DataFrame(f4grams_freq.most_common())\n",
    "df_4grams.columns = ['n_gram','count']\n",
    "\n",
    "# filter out the n-grams:\n",
    "df_4grams = df_4grams[(~df_4grams['n_gram'].str[0].isin(exclude))&(~df_4grams['n_gram'].str[1].isin(exclude))&(~df_4grams['n_gram'].str[2].isin(exclude))&(~df_4grams['n_gram'].str[3].isin(exclude))]\n",
    "df_4grams = df_4grams[df_4grams['n_gram'].str[0].isin(include)]\n",
    "df_4grams[:10]"
   ]
  }
 ],
 "metadata": {
  "kernelspec": {
   "display_name": "Python 3",
   "language": "python",
   "name": "python3"
  },
  "language_info": {
   "codemirror_mode": {
    "name": "ipython",
    "version": 3
   },
   "file_extension": ".py",
   "mimetype": "text/x-python",
   "name": "python",
   "nbconvert_exporter": "python",
   "pygments_lexer": "ipython3",
   "version": "3.7.12"
  },
  "papermill": {
   "default_parameters": {},
   "duration": 108.695114,
   "end_time": "2022-01-01T06:03:35.774683",
   "environment_variables": {},
   "exception": null,
   "input_path": "__notebook__.ipynb",
   "output_path": "__notebook__.ipynb",
   "parameters": {},
   "start_time": "2022-01-01T06:01:47.079569",
   "version": "2.3.3"
  }
 },
 "nbformat": 4,
 "nbformat_minor": 5
}
